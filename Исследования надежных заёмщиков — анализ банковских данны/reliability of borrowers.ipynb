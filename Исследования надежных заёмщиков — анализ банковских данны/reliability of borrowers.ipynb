{
 "cells": [
  {
   "cell_type": "markdown",
   "id": "180fd993",
   "metadata": {},
   "source": [
    "# Исследование надежности заемщиков."
   ]
  },
  {
   "cell_type": "markdown",
   "id": "e4775b29",
   "metadata": {
    "id": "VUC88oWjTJw2"
   },
   "source": [
    "Заказчик — кредитный отдел банка. Нужно разобраться, влияет ли семейное положение и количество детей клиента на факт погашения кредита в срок. Входные данные от банка — статистика о платёжеспособности клиентов.\n",
    "\n",
    "**Цель исследования** — проверим гипотезы:\n",
    "* Количество детей влияет на возврат кредита в срок.\n",
    "* Семейное положение влияет на возврат кредита в срок.\n",
    "* Уровень дохода влияет на возврат кредита в срок.\n",
    "* Разные цели кредита влияют на его возврат в срок.\n",
    "\n",
    "Исследование пройдёт в три этапа:\n",
    " 1. Обзор данных.\n",
    " 2. Предобработка данных.\n",
    " 3. Проверка гипотез.\n",
    "\n",
    "Результаты исследования будут учтены при построении модели кредитного скоринга — специальной системы, которая оценивает способность потенциального заёмщика вернуть кредит банку."
   ]
  },
  {
   "cell_type": "markdown",
   "id": "9804c0b8",
   "metadata": {},
   "source": [
    "## Шаг 1. Обзор данных"
   ]
  },
  {
   "cell_type": "code",
   "execution_count": 1,
   "id": "f72dbed5",
   "metadata": {},
   "outputs": [],
   "source": [
    "import pandas as pd"
   ]
  },
  {
   "cell_type": "code",
   "execution_count": 2,
   "id": "6dcc63e3",
   "metadata": {
    "scrolled": true
   },
   "outputs": [],
   "source": [
    "df = pd.read_csv(r'C:\\Users\\Olga\\Desktop\\prog\\data.csv')# чтение файла с данными и сохранение в df"
   ]
  },
  {
   "cell_type": "code",
   "execution_count": 3,
   "id": "bd7243f3",
   "metadata": {
    "scrolled": true
   },
   "outputs": [
    {
     "data": {
      "text/html": [
       "<div>\n",
       "<style scoped>\n",
       "    .dataframe tbody tr th:only-of-type {\n",
       "        vertical-align: middle;\n",
       "    }\n",
       "\n",
       "    .dataframe tbody tr th {\n",
       "        vertical-align: top;\n",
       "    }\n",
       "\n",
       "    .dataframe thead th {\n",
       "        text-align: right;\n",
       "    }\n",
       "</style>\n",
       "<table border=\"1\" class=\"dataframe\">\n",
       "  <thead>\n",
       "    <tr style=\"text-align: right;\">\n",
       "      <th></th>\n",
       "      <th>children</th>\n",
       "      <th>days_employed</th>\n",
       "      <th>dob_years</th>\n",
       "      <th>education</th>\n",
       "      <th>education_id</th>\n",
       "      <th>family_status</th>\n",
       "      <th>family_status_id</th>\n",
       "      <th>gender</th>\n",
       "      <th>income_type</th>\n",
       "      <th>debt</th>\n",
       "      <th>total_income</th>\n",
       "      <th>purpose</th>\n",
       "    </tr>\n",
       "  </thead>\n",
       "  <tbody>\n",
       "    <tr>\n",
       "      <th>0</th>\n",
       "      <td>1</td>\n",
       "      <td>-8437.673028</td>\n",
       "      <td>42</td>\n",
       "      <td>высшее</td>\n",
       "      <td>0</td>\n",
       "      <td>женат / замужем</td>\n",
       "      <td>0</td>\n",
       "      <td>F</td>\n",
       "      <td>сотрудник</td>\n",
       "      <td>0</td>\n",
       "      <td>253875.639453</td>\n",
       "      <td>покупка жилья</td>\n",
       "    </tr>\n",
       "    <tr>\n",
       "      <th>1</th>\n",
       "      <td>1</td>\n",
       "      <td>-4024.803754</td>\n",
       "      <td>36</td>\n",
       "      <td>среднее</td>\n",
       "      <td>1</td>\n",
       "      <td>женат / замужем</td>\n",
       "      <td>0</td>\n",
       "      <td>F</td>\n",
       "      <td>сотрудник</td>\n",
       "      <td>0</td>\n",
       "      <td>112080.014102</td>\n",
       "      <td>приобретение автомобиля</td>\n",
       "    </tr>\n",
       "    <tr>\n",
       "      <th>2</th>\n",
       "      <td>0</td>\n",
       "      <td>-5623.422610</td>\n",
       "      <td>33</td>\n",
       "      <td>Среднее</td>\n",
       "      <td>1</td>\n",
       "      <td>женат / замужем</td>\n",
       "      <td>0</td>\n",
       "      <td>M</td>\n",
       "      <td>сотрудник</td>\n",
       "      <td>0</td>\n",
       "      <td>145885.952297</td>\n",
       "      <td>покупка жилья</td>\n",
       "    </tr>\n",
       "    <tr>\n",
       "      <th>3</th>\n",
       "      <td>3</td>\n",
       "      <td>-4124.747207</td>\n",
       "      <td>32</td>\n",
       "      <td>среднее</td>\n",
       "      <td>1</td>\n",
       "      <td>женат / замужем</td>\n",
       "      <td>0</td>\n",
       "      <td>M</td>\n",
       "      <td>сотрудник</td>\n",
       "      <td>0</td>\n",
       "      <td>267628.550329</td>\n",
       "      <td>дополнительное образование</td>\n",
       "    </tr>\n",
       "    <tr>\n",
       "      <th>4</th>\n",
       "      <td>0</td>\n",
       "      <td>340266.072047</td>\n",
       "      <td>53</td>\n",
       "      <td>среднее</td>\n",
       "      <td>1</td>\n",
       "      <td>гражданский брак</td>\n",
       "      <td>1</td>\n",
       "      <td>F</td>\n",
       "      <td>пенсионер</td>\n",
       "      <td>0</td>\n",
       "      <td>158616.077870</td>\n",
       "      <td>сыграть свадьбу</td>\n",
       "    </tr>\n",
       "    <tr>\n",
       "      <th>5</th>\n",
       "      <td>0</td>\n",
       "      <td>-926.185831</td>\n",
       "      <td>27</td>\n",
       "      <td>высшее</td>\n",
       "      <td>0</td>\n",
       "      <td>гражданский брак</td>\n",
       "      <td>1</td>\n",
       "      <td>M</td>\n",
       "      <td>компаньон</td>\n",
       "      <td>0</td>\n",
       "      <td>255763.565419</td>\n",
       "      <td>покупка жилья</td>\n",
       "    </tr>\n",
       "    <tr>\n",
       "      <th>6</th>\n",
       "      <td>0</td>\n",
       "      <td>-2879.202052</td>\n",
       "      <td>43</td>\n",
       "      <td>высшее</td>\n",
       "      <td>0</td>\n",
       "      <td>женат / замужем</td>\n",
       "      <td>0</td>\n",
       "      <td>F</td>\n",
       "      <td>компаньон</td>\n",
       "      <td>0</td>\n",
       "      <td>240525.971920</td>\n",
       "      <td>операции с жильем</td>\n",
       "    </tr>\n",
       "    <tr>\n",
       "      <th>7</th>\n",
       "      <td>0</td>\n",
       "      <td>-152.779569</td>\n",
       "      <td>50</td>\n",
       "      <td>СРЕДНЕЕ</td>\n",
       "      <td>1</td>\n",
       "      <td>женат / замужем</td>\n",
       "      <td>0</td>\n",
       "      <td>M</td>\n",
       "      <td>сотрудник</td>\n",
       "      <td>0</td>\n",
       "      <td>135823.934197</td>\n",
       "      <td>образование</td>\n",
       "    </tr>\n",
       "    <tr>\n",
       "      <th>8</th>\n",
       "      <td>2</td>\n",
       "      <td>-6929.865299</td>\n",
       "      <td>35</td>\n",
       "      <td>ВЫСШЕЕ</td>\n",
       "      <td>0</td>\n",
       "      <td>гражданский брак</td>\n",
       "      <td>1</td>\n",
       "      <td>F</td>\n",
       "      <td>сотрудник</td>\n",
       "      <td>0</td>\n",
       "      <td>95856.832424</td>\n",
       "      <td>на проведение свадьбы</td>\n",
       "    </tr>\n",
       "    <tr>\n",
       "      <th>9</th>\n",
       "      <td>0</td>\n",
       "      <td>-2188.756445</td>\n",
       "      <td>41</td>\n",
       "      <td>среднее</td>\n",
       "      <td>1</td>\n",
       "      <td>женат / замужем</td>\n",
       "      <td>0</td>\n",
       "      <td>M</td>\n",
       "      <td>сотрудник</td>\n",
       "      <td>0</td>\n",
       "      <td>144425.938277</td>\n",
       "      <td>покупка жилья для семьи</td>\n",
       "    </tr>\n",
       "  </tbody>\n",
       "</table>\n",
       "</div>"
      ],
      "text/plain": [
       "   children  days_employed  dob_years education  education_id  \\\n",
       "0         1   -8437.673028         42    высшее             0   \n",
       "1         1   -4024.803754         36   среднее             1   \n",
       "2         0   -5623.422610         33   Среднее             1   \n",
       "3         3   -4124.747207         32   среднее             1   \n",
       "4         0  340266.072047         53   среднее             1   \n",
       "5         0    -926.185831         27    высшее             0   \n",
       "6         0   -2879.202052         43    высшее             0   \n",
       "7         0    -152.779569         50   СРЕДНЕЕ             1   \n",
       "8         2   -6929.865299         35    ВЫСШЕЕ             0   \n",
       "9         0   -2188.756445         41   среднее             1   \n",
       "\n",
       "      family_status  family_status_id gender income_type  debt   total_income  \\\n",
       "0   женат / замужем                 0      F   сотрудник     0  253875.639453   \n",
       "1   женат / замужем                 0      F   сотрудник     0  112080.014102   \n",
       "2   женат / замужем                 0      M   сотрудник     0  145885.952297   \n",
       "3   женат / замужем                 0      M   сотрудник     0  267628.550329   \n",
       "4  гражданский брак                 1      F   пенсионер     0  158616.077870   \n",
       "5  гражданский брак                 1      M   компаньон     0  255763.565419   \n",
       "6   женат / замужем                 0      F   компаньон     0  240525.971920   \n",
       "7   женат / замужем                 0      M   сотрудник     0  135823.934197   \n",
       "8  гражданский брак                 1      F   сотрудник     0   95856.832424   \n",
       "9   женат / замужем                 0      M   сотрудник     0  144425.938277   \n",
       "\n",
       "                      purpose  \n",
       "0               покупка жилья  \n",
       "1     приобретение автомобиля  \n",
       "2               покупка жилья  \n",
       "3  дополнительное образование  \n",
       "4             сыграть свадьбу  \n",
       "5               покупка жилья  \n",
       "6           операции с жильем  \n",
       "7                 образование  \n",
       "8       на проведение свадьбы  \n",
       "9     покупка жилья для семьи  "
      ]
     },
     "metadata": {},
     "output_type": "display_data"
    }
   ],
   "source": [
    "display(df.head(10))# получение первых 10 строк таблицы df"
   ]
  },
  {
   "cell_type": "code",
   "execution_count": 4,
   "id": "28e44bfe",
   "metadata": {
    "scrolled": true
   },
   "outputs": [
    {
     "name": "stdout",
     "output_type": "stream",
     "text": [
      "<class 'pandas.core.frame.DataFrame'>\n",
      "RangeIndex: 21525 entries, 0 to 21524\n",
      "Data columns (total 12 columns):\n",
      " #   Column            Non-Null Count  Dtype  \n",
      "---  ------            --------------  -----  \n",
      " 0   children          21525 non-null  int64  \n",
      " 1   days_employed     19351 non-null  float64\n",
      " 2   dob_years         21525 non-null  int64  \n",
      " 3   education         21525 non-null  object \n",
      " 4   education_id      21525 non-null  int64  \n",
      " 5   family_status     21525 non-null  object \n",
      " 6   family_status_id  21525 non-null  int64  \n",
      " 7   gender            21525 non-null  object \n",
      " 8   income_type       21525 non-null  object \n",
      " 9   debt              21525 non-null  int64  \n",
      " 10  total_income      19351 non-null  float64\n",
      " 11  purpose           21525 non-null  object \n",
      "dtypes: float64(2), int64(5), object(5)\n",
      "memory usage: 2.0+ MB\n"
     ]
    }
   ],
   "source": [
    "df.info()# получение общей информации о данных в таблице df"
   ]
  },
  {
   "cell_type": "markdown",
   "id": "197b15fc",
   "metadata": {},
   "source": [
    "Итак, в таблице 12 столбцов. Тип данных во всех столбцах — float, int64, object.\n",
    "\n",
    "Согласно документации к данным:\n",
    "* children — количество детей в семье\n",
    "* days_employed — общий трудовой стаж в днях\n",
    "* dob_years — возраст клиента в годах\n",
    "* education — уровень образования клиента\n",
    "* education_id — идентификатор уровня образования\n",
    "* family_status — семейное положение\n",
    "* family_status_id — идентификатор семейного положения\n",
    "* gender — пол клиента\n",
    "* income_type — тип занятости\n",
    "* debt — имел ли задолженность по возврату кредитов\n",
    "* total_income — ежемесячный доход\n",
    "* purpose — цель получения кредита\n",
    "\n",
    "Количество значений в столбцах различается. Значит, в данных есть пропущенные значения.\n"
   ]
  },
  {
   "cell_type": "markdown",
   "id": "1c565c44",
   "metadata": {},
   "source": [
    "## Шаг 2 Предобработка данных\n",
    "Исключение пропусков. Затем проверка данных на дубликаты."
   ]
  },
  {
   "cell_type": "code",
   "execution_count": 5,
   "id": "a4a009cb",
   "metadata": {
    "scrolled": true
   },
   "outputs": [
    {
     "name": "stdout",
     "output_type": "stream",
     "text": [
      "children               0\n",
      "days_employed       2174\n",
      "dob_years              0\n",
      "education              0\n",
      "education_id           0\n",
      "family_status          0\n",
      "family_status_id       0\n",
      "gender                 0\n",
      "income_type            0\n",
      "debt                   0\n",
      "total_income        2174\n",
      "purpose                0\n",
      "dtype: int64\n"
     ]
    },
    {
     "data": {
      "text/plain": [
       "children             0.0\n",
       "days_employed       10.1\n",
       "dob_years            0.0\n",
       "education            0.0\n",
       "education_id         0.0\n",
       "family_status        0.0\n",
       "family_status_id     0.0\n",
       "gender               0.0\n",
       "income_type          0.0\n",
       "debt                 0.0\n",
       "total_income        10.1\n",
       "purpose              0.0\n",
       "dtype: float64"
      ]
     },
     "execution_count": 5,
     "metadata": {},
     "output_type": "execute_result"
    }
   ],
   "source": [
    "print(df.isna().sum())# подсчёт пропусков\n",
    "round(df.isna().sum() * 100 / len(df), 2) #Подсчет доли отсутствующих значений с округлением"
   ]
  },
  {
   "cell_type": "code",
   "execution_count": 6,
   "id": "7d952111",
   "metadata": {},
   "outputs": [
    {
     "data": {
      "text/html": [
       "<div>\n",
       "<style scoped>\n",
       "    .dataframe tbody tr th:only-of-type {\n",
       "        vertical-align: middle;\n",
       "    }\n",
       "\n",
       "    .dataframe tbody tr th {\n",
       "        vertical-align: top;\n",
       "    }\n",
       "\n",
       "    .dataframe thead th {\n",
       "        text-align: right;\n",
       "    }\n",
       "</style>\n",
       "<table border=\"1\" class=\"dataframe\">\n",
       "  <thead>\n",
       "    <tr style=\"text-align: right;\">\n",
       "      <th></th>\n",
       "      <th>children</th>\n",
       "      <th>days_employed</th>\n",
       "      <th>dob_years</th>\n",
       "      <th>education</th>\n",
       "      <th>education_id</th>\n",
       "      <th>family_status</th>\n",
       "      <th>family_status_id</th>\n",
       "      <th>gender</th>\n",
       "      <th>income_type</th>\n",
       "      <th>debt</th>\n",
       "      <th>total_income</th>\n",
       "      <th>purpose</th>\n",
       "    </tr>\n",
       "  </thead>\n",
       "  <tbody>\n",
       "    <tr>\n",
       "      <th>2849</th>\n",
       "      <td>0</td>\n",
       "      <td>NaN</td>\n",
       "      <td>41</td>\n",
       "      <td>среднее</td>\n",
       "      <td>1</td>\n",
       "      <td>женат / замужем</td>\n",
       "      <td>0</td>\n",
       "      <td>F</td>\n",
       "      <td>сотрудник</td>\n",
       "      <td>0</td>\n",
       "      <td>NaN</td>\n",
       "      <td>покупка жилья для семьи</td>\n",
       "    </tr>\n",
       "    <tr>\n",
       "      <th>4182</th>\n",
       "      <td>1</td>\n",
       "      <td>NaN</td>\n",
       "      <td>34</td>\n",
       "      <td>ВЫСШЕЕ</td>\n",
       "      <td>0</td>\n",
       "      <td>гражданский брак</td>\n",
       "      <td>1</td>\n",
       "      <td>F</td>\n",
       "      <td>сотрудник</td>\n",
       "      <td>0</td>\n",
       "      <td>NaN</td>\n",
       "      <td>свадьба</td>\n",
       "    </tr>\n",
       "    <tr>\n",
       "      <th>4851</th>\n",
       "      <td>0</td>\n",
       "      <td>NaN</td>\n",
       "      <td>60</td>\n",
       "      <td>среднее</td>\n",
       "      <td>1</td>\n",
       "      <td>гражданский брак</td>\n",
       "      <td>1</td>\n",
       "      <td>F</td>\n",
       "      <td>пенсионер</td>\n",
       "      <td>0</td>\n",
       "      <td>NaN</td>\n",
       "      <td>свадьба</td>\n",
       "    </tr>\n",
       "    <tr>\n",
       "      <th>5557</th>\n",
       "      <td>0</td>\n",
       "      <td>NaN</td>\n",
       "      <td>58</td>\n",
       "      <td>среднее</td>\n",
       "      <td>1</td>\n",
       "      <td>гражданский брак</td>\n",
       "      <td>1</td>\n",
       "      <td>F</td>\n",
       "      <td>пенсионер</td>\n",
       "      <td>0</td>\n",
       "      <td>NaN</td>\n",
       "      <td>сыграть свадьбу</td>\n",
       "    </tr>\n",
       "    <tr>\n",
       "      <th>7808</th>\n",
       "      <td>0</td>\n",
       "      <td>NaN</td>\n",
       "      <td>57</td>\n",
       "      <td>среднее</td>\n",
       "      <td>1</td>\n",
       "      <td>гражданский брак</td>\n",
       "      <td>1</td>\n",
       "      <td>F</td>\n",
       "      <td>пенсионер</td>\n",
       "      <td>0</td>\n",
       "      <td>NaN</td>\n",
       "      <td>на проведение свадьбы</td>\n",
       "    </tr>\n",
       "    <tr>\n",
       "      <th>8583</th>\n",
       "      <td>0</td>\n",
       "      <td>NaN</td>\n",
       "      <td>58</td>\n",
       "      <td>высшее</td>\n",
       "      <td>0</td>\n",
       "      <td>Не женат / не замужем</td>\n",
       "      <td>4</td>\n",
       "      <td>F</td>\n",
       "      <td>пенсионер</td>\n",
       "      <td>0</td>\n",
       "      <td>NaN</td>\n",
       "      <td>дополнительное образование</td>\n",
       "    </tr>\n",
       "    <tr>\n",
       "      <th>9238</th>\n",
       "      <td>2</td>\n",
       "      <td>NaN</td>\n",
       "      <td>34</td>\n",
       "      <td>среднее</td>\n",
       "      <td>1</td>\n",
       "      <td>женат / замужем</td>\n",
       "      <td>0</td>\n",
       "      <td>F</td>\n",
       "      <td>сотрудник</td>\n",
       "      <td>0</td>\n",
       "      <td>NaN</td>\n",
       "      <td>покупка жилья для сдачи</td>\n",
       "    </tr>\n",
       "    <tr>\n",
       "      <th>9528</th>\n",
       "      <td>0</td>\n",
       "      <td>NaN</td>\n",
       "      <td>66</td>\n",
       "      <td>среднее</td>\n",
       "      <td>1</td>\n",
       "      <td>вдовец / вдова</td>\n",
       "      <td>2</td>\n",
       "      <td>F</td>\n",
       "      <td>пенсионер</td>\n",
       "      <td>0</td>\n",
       "      <td>NaN</td>\n",
       "      <td>операции со своей недвижимостью</td>\n",
       "    </tr>\n",
       "    <tr>\n",
       "      <th>9627</th>\n",
       "      <td>0</td>\n",
       "      <td>NaN</td>\n",
       "      <td>56</td>\n",
       "      <td>среднее</td>\n",
       "      <td>1</td>\n",
       "      <td>женат / замужем</td>\n",
       "      <td>0</td>\n",
       "      <td>F</td>\n",
       "      <td>пенсионер</td>\n",
       "      <td>0</td>\n",
       "      <td>NaN</td>\n",
       "      <td>операции со своей недвижимостью</td>\n",
       "    </tr>\n",
       "    <tr>\n",
       "      <th>10462</th>\n",
       "      <td>0</td>\n",
       "      <td>NaN</td>\n",
       "      <td>62</td>\n",
       "      <td>среднее</td>\n",
       "      <td>1</td>\n",
       "      <td>женат / замужем</td>\n",
       "      <td>0</td>\n",
       "      <td>F</td>\n",
       "      <td>пенсионер</td>\n",
       "      <td>0</td>\n",
       "      <td>NaN</td>\n",
       "      <td>покупка коммерческой недвижимости</td>\n",
       "    </tr>\n",
       "    <tr>\n",
       "      <th>10697</th>\n",
       "      <td>0</td>\n",
       "      <td>NaN</td>\n",
       "      <td>40</td>\n",
       "      <td>среднее</td>\n",
       "      <td>1</td>\n",
       "      <td>гражданский брак</td>\n",
       "      <td>1</td>\n",
       "      <td>F</td>\n",
       "      <td>компаньон</td>\n",
       "      <td>0</td>\n",
       "      <td>NaN</td>\n",
       "      <td>сыграть свадьбу</td>\n",
       "    </tr>\n",
       "    <tr>\n",
       "      <th>10864</th>\n",
       "      <td>0</td>\n",
       "      <td>NaN</td>\n",
       "      <td>62</td>\n",
       "      <td>среднее</td>\n",
       "      <td>1</td>\n",
       "      <td>женат / замужем</td>\n",
       "      <td>0</td>\n",
       "      <td>F</td>\n",
       "      <td>пенсионер</td>\n",
       "      <td>0</td>\n",
       "      <td>NaN</td>\n",
       "      <td>ремонт жилью</td>\n",
       "    </tr>\n",
       "    <tr>\n",
       "      <th>10994</th>\n",
       "      <td>0</td>\n",
       "      <td>NaN</td>\n",
       "      <td>62</td>\n",
       "      <td>среднее</td>\n",
       "      <td>1</td>\n",
       "      <td>женат / замужем</td>\n",
       "      <td>0</td>\n",
       "      <td>F</td>\n",
       "      <td>пенсионер</td>\n",
       "      <td>0</td>\n",
       "      <td>NaN</td>\n",
       "      <td>ремонт жилью</td>\n",
       "    </tr>\n",
       "    <tr>\n",
       "      <th>11791</th>\n",
       "      <td>0</td>\n",
       "      <td>NaN</td>\n",
       "      <td>47</td>\n",
       "      <td>среднее</td>\n",
       "      <td>1</td>\n",
       "      <td>женат / замужем</td>\n",
       "      <td>0</td>\n",
       "      <td>F</td>\n",
       "      <td>сотрудник</td>\n",
       "      <td>0</td>\n",
       "      <td>NaN</td>\n",
       "      <td>строительство недвижимости</td>\n",
       "    </tr>\n",
       "    <tr>\n",
       "      <th>12373</th>\n",
       "      <td>0</td>\n",
       "      <td>NaN</td>\n",
       "      <td>58</td>\n",
       "      <td>среднее</td>\n",
       "      <td>1</td>\n",
       "      <td>женат / замужем</td>\n",
       "      <td>0</td>\n",
       "      <td>M</td>\n",
       "      <td>сотрудник</td>\n",
       "      <td>0</td>\n",
       "      <td>NaN</td>\n",
       "      <td>покупка недвижимости</td>\n",
       "    </tr>\n",
       "    <tr>\n",
       "      <th>12375</th>\n",
       "      <td>1</td>\n",
       "      <td>NaN</td>\n",
       "      <td>37</td>\n",
       "      <td>среднее</td>\n",
       "      <td>1</td>\n",
       "      <td>женат / замужем</td>\n",
       "      <td>0</td>\n",
       "      <td>F</td>\n",
       "      <td>сотрудник</td>\n",
       "      <td>0</td>\n",
       "      <td>NaN</td>\n",
       "      <td>покупка недвижимости</td>\n",
       "    </tr>\n",
       "    <tr>\n",
       "      <th>12736</th>\n",
       "      <td>0</td>\n",
       "      <td>NaN</td>\n",
       "      <td>59</td>\n",
       "      <td>среднее</td>\n",
       "      <td>1</td>\n",
       "      <td>женат / замужем</td>\n",
       "      <td>0</td>\n",
       "      <td>F</td>\n",
       "      <td>пенсионер</td>\n",
       "      <td>0</td>\n",
       "      <td>NaN</td>\n",
       "      <td>заняться образованием</td>\n",
       "    </tr>\n",
       "    <tr>\n",
       "      <th>13025</th>\n",
       "      <td>1</td>\n",
       "      <td>NaN</td>\n",
       "      <td>44</td>\n",
       "      <td>среднее</td>\n",
       "      <td>1</td>\n",
       "      <td>женат / замужем</td>\n",
       "      <td>0</td>\n",
       "      <td>F</td>\n",
       "      <td>сотрудник</td>\n",
       "      <td>0</td>\n",
       "      <td>NaN</td>\n",
       "      <td>сделка с подержанным автомобилем</td>\n",
       "    </tr>\n",
       "    <tr>\n",
       "      <th>13639</th>\n",
       "      <td>0</td>\n",
       "      <td>NaN</td>\n",
       "      <td>64</td>\n",
       "      <td>среднее</td>\n",
       "      <td>1</td>\n",
       "      <td>женат / замужем</td>\n",
       "      <td>0</td>\n",
       "      <td>F</td>\n",
       "      <td>пенсионер</td>\n",
       "      <td>0</td>\n",
       "      <td>NaN</td>\n",
       "      <td>автомобиль</td>\n",
       "    </tr>\n",
       "    <tr>\n",
       "      <th>13773</th>\n",
       "      <td>0</td>\n",
       "      <td>NaN</td>\n",
       "      <td>35</td>\n",
       "      <td>среднее</td>\n",
       "      <td>1</td>\n",
       "      <td>гражданский брак</td>\n",
       "      <td>1</td>\n",
       "      <td>F</td>\n",
       "      <td>сотрудник</td>\n",
       "      <td>0</td>\n",
       "      <td>NaN</td>\n",
       "      <td>сыграть свадьбу</td>\n",
       "    </tr>\n",
       "    <tr>\n",
       "      <th>13878</th>\n",
       "      <td>1</td>\n",
       "      <td>NaN</td>\n",
       "      <td>31</td>\n",
       "      <td>среднее</td>\n",
       "      <td>1</td>\n",
       "      <td>женат / замужем</td>\n",
       "      <td>0</td>\n",
       "      <td>F</td>\n",
       "      <td>компаньон</td>\n",
       "      <td>0</td>\n",
       "      <td>NaN</td>\n",
       "      <td>покупка жилья</td>\n",
       "    </tr>\n",
       "    <tr>\n",
       "      <th>13942</th>\n",
       "      <td>0</td>\n",
       "      <td>NaN</td>\n",
       "      <td>44</td>\n",
       "      <td>среднее</td>\n",
       "      <td>1</td>\n",
       "      <td>женат / замужем</td>\n",
       "      <td>0</td>\n",
       "      <td>F</td>\n",
       "      <td>сотрудник</td>\n",
       "      <td>0</td>\n",
       "      <td>NaN</td>\n",
       "      <td>приобретение автомобиля</td>\n",
       "    </tr>\n",
       "    <tr>\n",
       "      <th>14432</th>\n",
       "      <td>2</td>\n",
       "      <td>NaN</td>\n",
       "      <td>36</td>\n",
       "      <td>высшее</td>\n",
       "      <td>0</td>\n",
       "      <td>женат / замужем</td>\n",
       "      <td>0</td>\n",
       "      <td>F</td>\n",
       "      <td>госслужащий</td>\n",
       "      <td>0</td>\n",
       "      <td>NaN</td>\n",
       "      <td>получение образования</td>\n",
       "    </tr>\n",
       "    <tr>\n",
       "      <th>14832</th>\n",
       "      <td>0</td>\n",
       "      <td>NaN</td>\n",
       "      <td>50</td>\n",
       "      <td>среднее</td>\n",
       "      <td>1</td>\n",
       "      <td>Не женат / не замужем</td>\n",
       "      <td>4</td>\n",
       "      <td>F</td>\n",
       "      <td>сотрудник</td>\n",
       "      <td>0</td>\n",
       "      <td>NaN</td>\n",
       "      <td>недвижимость</td>\n",
       "    </tr>\n",
       "    <tr>\n",
       "      <th>15091</th>\n",
       "      <td>0</td>\n",
       "      <td>NaN</td>\n",
       "      <td>58</td>\n",
       "      <td>среднее</td>\n",
       "      <td>1</td>\n",
       "      <td>гражданский брак</td>\n",
       "      <td>1</td>\n",
       "      <td>M</td>\n",
       "      <td>сотрудник</td>\n",
       "      <td>0</td>\n",
       "      <td>NaN</td>\n",
       "      <td>на проведение свадьбы</td>\n",
       "    </tr>\n",
       "    <tr>\n",
       "      <th>15188</th>\n",
       "      <td>0</td>\n",
       "      <td>NaN</td>\n",
       "      <td>60</td>\n",
       "      <td>среднее</td>\n",
       "      <td>1</td>\n",
       "      <td>женат / замужем</td>\n",
       "      <td>0</td>\n",
       "      <td>M</td>\n",
       "      <td>сотрудник</td>\n",
       "      <td>0</td>\n",
       "      <td>NaN</td>\n",
       "      <td>покупка недвижимости</td>\n",
       "    </tr>\n",
       "    <tr>\n",
       "      <th>15273</th>\n",
       "      <td>0</td>\n",
       "      <td>NaN</td>\n",
       "      <td>57</td>\n",
       "      <td>среднее</td>\n",
       "      <td>1</td>\n",
       "      <td>гражданский брак</td>\n",
       "      <td>1</td>\n",
       "      <td>F</td>\n",
       "      <td>пенсионер</td>\n",
       "      <td>0</td>\n",
       "      <td>NaN</td>\n",
       "      <td>свадьба</td>\n",
       "    </tr>\n",
       "    <tr>\n",
       "      <th>16176</th>\n",
       "      <td>0</td>\n",
       "      <td>NaN</td>\n",
       "      <td>47</td>\n",
       "      <td>среднее</td>\n",
       "      <td>1</td>\n",
       "      <td>женат / замужем</td>\n",
       "      <td>0</td>\n",
       "      <td>F</td>\n",
       "      <td>сотрудник</td>\n",
       "      <td>0</td>\n",
       "      <td>NaN</td>\n",
       "      <td>ремонт жилью</td>\n",
       "    </tr>\n",
       "    <tr>\n",
       "      <th>16378</th>\n",
       "      <td>0</td>\n",
       "      <td>NaN</td>\n",
       "      <td>46</td>\n",
       "      <td>среднее</td>\n",
       "      <td>1</td>\n",
       "      <td>женат / замужем</td>\n",
       "      <td>0</td>\n",
       "      <td>F</td>\n",
       "      <td>сотрудник</td>\n",
       "      <td>0</td>\n",
       "      <td>NaN</td>\n",
       "      <td>высшее образование</td>\n",
       "    </tr>\n",
       "    <tr>\n",
       "      <th>16902</th>\n",
       "      <td>2</td>\n",
       "      <td>NaN</td>\n",
       "      <td>39</td>\n",
       "      <td>среднее</td>\n",
       "      <td>1</td>\n",
       "      <td>гражданский брак</td>\n",
       "      <td>1</td>\n",
       "      <td>F</td>\n",
       "      <td>сотрудник</td>\n",
       "      <td>0</td>\n",
       "      <td>NaN</td>\n",
       "      <td>сыграть свадьбу</td>\n",
       "    </tr>\n",
       "    <tr>\n",
       "      <th>16904</th>\n",
       "      <td>1</td>\n",
       "      <td>NaN</td>\n",
       "      <td>32</td>\n",
       "      <td>высшее</td>\n",
       "      <td>0</td>\n",
       "      <td>женат / замужем</td>\n",
       "      <td>0</td>\n",
       "      <td>F</td>\n",
       "      <td>сотрудник</td>\n",
       "      <td>0</td>\n",
       "      <td>NaN</td>\n",
       "      <td>на покупку подержанного автомобиля</td>\n",
       "    </tr>\n",
       "    <tr>\n",
       "      <th>17379</th>\n",
       "      <td>0</td>\n",
       "      <td>NaN</td>\n",
       "      <td>54</td>\n",
       "      <td>высшее</td>\n",
       "      <td>0</td>\n",
       "      <td>женат / замужем</td>\n",
       "      <td>0</td>\n",
       "      <td>M</td>\n",
       "      <td>компаньон</td>\n",
       "      <td>0</td>\n",
       "      <td>NaN</td>\n",
       "      <td>операции с коммерческой недвижимостью</td>\n",
       "    </tr>\n",
       "    <tr>\n",
       "      <th>17755</th>\n",
       "      <td>1</td>\n",
       "      <td>NaN</td>\n",
       "      <td>43</td>\n",
       "      <td>среднее</td>\n",
       "      <td>1</td>\n",
       "      <td>женат / замужем</td>\n",
       "      <td>0</td>\n",
       "      <td>M</td>\n",
       "      <td>сотрудник</td>\n",
       "      <td>0</td>\n",
       "      <td>NaN</td>\n",
       "      <td>заняться образованием</td>\n",
       "    </tr>\n",
       "    <tr>\n",
       "      <th>17774</th>\n",
       "      <td>1</td>\n",
       "      <td>NaN</td>\n",
       "      <td>40</td>\n",
       "      <td>среднее</td>\n",
       "      <td>1</td>\n",
       "      <td>гражданский брак</td>\n",
       "      <td>1</td>\n",
       "      <td>F</td>\n",
       "      <td>компаньон</td>\n",
       "      <td>0</td>\n",
       "      <td>NaN</td>\n",
       "      <td>строительство жилой недвижимости</td>\n",
       "    </tr>\n",
       "    <tr>\n",
       "      <th>18328</th>\n",
       "      <td>0</td>\n",
       "      <td>NaN</td>\n",
       "      <td>29</td>\n",
       "      <td>высшее</td>\n",
       "      <td>0</td>\n",
       "      <td>женат / замужем</td>\n",
       "      <td>0</td>\n",
       "      <td>M</td>\n",
       "      <td>сотрудник</td>\n",
       "      <td>0</td>\n",
       "      <td>NaN</td>\n",
       "      <td>покупка жилой недвижимости</td>\n",
       "    </tr>\n",
       "    <tr>\n",
       "      <th>18349</th>\n",
       "      <td>1</td>\n",
       "      <td>NaN</td>\n",
       "      <td>30</td>\n",
       "      <td>высшее</td>\n",
       "      <td>0</td>\n",
       "      <td>женат / замужем</td>\n",
       "      <td>0</td>\n",
       "      <td>F</td>\n",
       "      <td>госслужащий</td>\n",
       "      <td>0</td>\n",
       "      <td>NaN</td>\n",
       "      <td>покупка жилья для семьи</td>\n",
       "    </tr>\n",
       "    <tr>\n",
       "      <th>18428</th>\n",
       "      <td>0</td>\n",
       "      <td>NaN</td>\n",
       "      <td>64</td>\n",
       "      <td>среднее</td>\n",
       "      <td>1</td>\n",
       "      <td>женат / замужем</td>\n",
       "      <td>0</td>\n",
       "      <td>F</td>\n",
       "      <td>пенсионер</td>\n",
       "      <td>0</td>\n",
       "      <td>NaN</td>\n",
       "      <td>жилье</td>\n",
       "    </tr>\n",
       "    <tr>\n",
       "      <th>18521</th>\n",
       "      <td>0</td>\n",
       "      <td>NaN</td>\n",
       "      <td>56</td>\n",
       "      <td>среднее</td>\n",
       "      <td>1</td>\n",
       "      <td>гражданский брак</td>\n",
       "      <td>1</td>\n",
       "      <td>F</td>\n",
       "      <td>сотрудник</td>\n",
       "      <td>0</td>\n",
       "      <td>NaN</td>\n",
       "      <td>сыграть свадьбу</td>\n",
       "    </tr>\n",
       "    <tr>\n",
       "      <th>18563</th>\n",
       "      <td>0</td>\n",
       "      <td>NaN</td>\n",
       "      <td>54</td>\n",
       "      <td>среднее</td>\n",
       "      <td>1</td>\n",
       "      <td>женат / замужем</td>\n",
       "      <td>0</td>\n",
       "      <td>F</td>\n",
       "      <td>сотрудник</td>\n",
       "      <td>0</td>\n",
       "      <td>NaN</td>\n",
       "      <td>операции со своей недвижимостью</td>\n",
       "    </tr>\n",
       "    <tr>\n",
       "      <th>18755</th>\n",
       "      <td>0</td>\n",
       "      <td>NaN</td>\n",
       "      <td>58</td>\n",
       "      <td>среднее</td>\n",
       "      <td>1</td>\n",
       "      <td>женат / замужем</td>\n",
       "      <td>0</td>\n",
       "      <td>F</td>\n",
       "      <td>пенсионер</td>\n",
       "      <td>0</td>\n",
       "      <td>NaN</td>\n",
       "      <td>заняться образованием</td>\n",
       "    </tr>\n",
       "    <tr>\n",
       "      <th>19041</th>\n",
       "      <td>0</td>\n",
       "      <td>NaN</td>\n",
       "      <td>56</td>\n",
       "      <td>среднее</td>\n",
       "      <td>1</td>\n",
       "      <td>гражданский брак</td>\n",
       "      <td>1</td>\n",
       "      <td>F</td>\n",
       "      <td>сотрудник</td>\n",
       "      <td>0</td>\n",
       "      <td>NaN</td>\n",
       "      <td>на проведение свадьбы</td>\n",
       "    </tr>\n",
       "    <tr>\n",
       "      <th>19184</th>\n",
       "      <td>0</td>\n",
       "      <td>NaN</td>\n",
       "      <td>46</td>\n",
       "      <td>среднее</td>\n",
       "      <td>1</td>\n",
       "      <td>женат / замужем</td>\n",
       "      <td>0</td>\n",
       "      <td>F</td>\n",
       "      <td>сотрудник</td>\n",
       "      <td>0</td>\n",
       "      <td>NaN</td>\n",
       "      <td>свой автомобиль</td>\n",
       "    </tr>\n",
       "    <tr>\n",
       "      <th>19321</th>\n",
       "      <td>0</td>\n",
       "      <td>NaN</td>\n",
       "      <td>23</td>\n",
       "      <td>среднее</td>\n",
       "      <td>1</td>\n",
       "      <td>Не женат / не замужем</td>\n",
       "      <td>4</td>\n",
       "      <td>F</td>\n",
       "      <td>сотрудник</td>\n",
       "      <td>0</td>\n",
       "      <td>NaN</td>\n",
       "      <td>сделка с подержанным автомобилем</td>\n",
       "    </tr>\n",
       "    <tr>\n",
       "      <th>19387</th>\n",
       "      <td>0</td>\n",
       "      <td>NaN</td>\n",
       "      <td>38</td>\n",
       "      <td>высшее</td>\n",
       "      <td>0</td>\n",
       "      <td>гражданский брак</td>\n",
       "      <td>1</td>\n",
       "      <td>F</td>\n",
       "      <td>компаньон</td>\n",
       "      <td>0</td>\n",
       "      <td>NaN</td>\n",
       "      <td>на проведение свадьбы</td>\n",
       "    </tr>\n",
       "    <tr>\n",
       "      <th>19688</th>\n",
       "      <td>0</td>\n",
       "      <td>NaN</td>\n",
       "      <td>61</td>\n",
       "      <td>среднее</td>\n",
       "      <td>1</td>\n",
       "      <td>женат / замужем</td>\n",
       "      <td>0</td>\n",
       "      <td>F</td>\n",
       "      <td>пенсионер</td>\n",
       "      <td>0</td>\n",
       "      <td>NaN</td>\n",
       "      <td>операции с недвижимостью</td>\n",
       "    </tr>\n",
       "    <tr>\n",
       "      <th>19832</th>\n",
       "      <td>0</td>\n",
       "      <td>NaN</td>\n",
       "      <td>48</td>\n",
       "      <td>среднее</td>\n",
       "      <td>1</td>\n",
       "      <td>женат / замужем</td>\n",
       "      <td>0</td>\n",
       "      <td>F</td>\n",
       "      <td>сотрудник</td>\n",
       "      <td>0</td>\n",
       "      <td>NaN</td>\n",
       "      <td>ремонт жилью</td>\n",
       "    </tr>\n",
       "    <tr>\n",
       "      <th>19946</th>\n",
       "      <td>0</td>\n",
       "      <td>NaN</td>\n",
       "      <td>57</td>\n",
       "      <td>среднее</td>\n",
       "      <td>1</td>\n",
       "      <td>женат / замужем</td>\n",
       "      <td>0</td>\n",
       "      <td>F</td>\n",
       "      <td>сотрудник</td>\n",
       "      <td>0</td>\n",
       "      <td>NaN</td>\n",
       "      <td>сделка с подержанным автомобилем</td>\n",
       "    </tr>\n",
       "    <tr>\n",
       "      <th>20116</th>\n",
       "      <td>0</td>\n",
       "      <td>NaN</td>\n",
       "      <td>57</td>\n",
       "      <td>среднее</td>\n",
       "      <td>1</td>\n",
       "      <td>гражданский брак</td>\n",
       "      <td>1</td>\n",
       "      <td>M</td>\n",
       "      <td>пенсионер</td>\n",
       "      <td>0</td>\n",
       "      <td>NaN</td>\n",
       "      <td>свадьба</td>\n",
       "    </tr>\n",
       "    <tr>\n",
       "      <th>20165</th>\n",
       "      <td>0</td>\n",
       "      <td>NaN</td>\n",
       "      <td>42</td>\n",
       "      <td>среднее</td>\n",
       "      <td>1</td>\n",
       "      <td>женат / замужем</td>\n",
       "      <td>0</td>\n",
       "      <td>F</td>\n",
       "      <td>сотрудник</td>\n",
       "      <td>0</td>\n",
       "      <td>NaN</td>\n",
       "      <td>покупка жилья для семьи</td>\n",
       "    </tr>\n",
       "    <tr>\n",
       "      <th>20702</th>\n",
       "      <td>0</td>\n",
       "      <td>NaN</td>\n",
       "      <td>64</td>\n",
       "      <td>среднее</td>\n",
       "      <td>1</td>\n",
       "      <td>женат / замужем</td>\n",
       "      <td>0</td>\n",
       "      <td>F</td>\n",
       "      <td>пенсионер</td>\n",
       "      <td>0</td>\n",
       "      <td>NaN</td>\n",
       "      <td>дополнительное образование</td>\n",
       "    </tr>\n",
       "    <tr>\n",
       "      <th>21032</th>\n",
       "      <td>0</td>\n",
       "      <td>NaN</td>\n",
       "      <td>60</td>\n",
       "      <td>среднее</td>\n",
       "      <td>1</td>\n",
       "      <td>женат / замужем</td>\n",
       "      <td>0</td>\n",
       "      <td>F</td>\n",
       "      <td>пенсионер</td>\n",
       "      <td>0</td>\n",
       "      <td>NaN</td>\n",
       "      <td>заняться образованием</td>\n",
       "    </tr>\n",
       "    <tr>\n",
       "      <th>21132</th>\n",
       "      <td>0</td>\n",
       "      <td>NaN</td>\n",
       "      <td>47</td>\n",
       "      <td>среднее</td>\n",
       "      <td>1</td>\n",
       "      <td>женат / замужем</td>\n",
       "      <td>0</td>\n",
       "      <td>F</td>\n",
       "      <td>сотрудник</td>\n",
       "      <td>0</td>\n",
       "      <td>NaN</td>\n",
       "      <td>ремонт жилью</td>\n",
       "    </tr>\n",
       "    <tr>\n",
       "      <th>21281</th>\n",
       "      <td>1</td>\n",
       "      <td>NaN</td>\n",
       "      <td>30</td>\n",
       "      <td>высшее</td>\n",
       "      <td>0</td>\n",
       "      <td>женат / замужем</td>\n",
       "      <td>0</td>\n",
       "      <td>F</td>\n",
       "      <td>сотрудник</td>\n",
       "      <td>0</td>\n",
       "      <td>NaN</td>\n",
       "      <td>покупка коммерческой недвижимости</td>\n",
       "    </tr>\n",
       "    <tr>\n",
       "      <th>21415</th>\n",
       "      <td>0</td>\n",
       "      <td>NaN</td>\n",
       "      <td>54</td>\n",
       "      <td>среднее</td>\n",
       "      <td>1</td>\n",
       "      <td>женат / замужем</td>\n",
       "      <td>0</td>\n",
       "      <td>F</td>\n",
       "      <td>пенсионер</td>\n",
       "      <td>0</td>\n",
       "      <td>NaN</td>\n",
       "      <td>операции с жильем</td>\n",
       "    </tr>\n",
       "  </tbody>\n",
       "</table>\n",
       "</div>"
      ],
      "text/plain": [
       "       children  days_employed  dob_years education  education_id  \\\n",
       "2849          0            NaN         41   среднее             1   \n",
       "4182          1            NaN         34    ВЫСШЕЕ             0   \n",
       "4851          0            NaN         60   среднее             1   \n",
       "5557          0            NaN         58   среднее             1   \n",
       "7808          0            NaN         57   среднее             1   \n",
       "8583          0            NaN         58    высшее             0   \n",
       "9238          2            NaN         34   среднее             1   \n",
       "9528          0            NaN         66   среднее             1   \n",
       "9627          0            NaN         56   среднее             1   \n",
       "10462         0            NaN         62   среднее             1   \n",
       "10697         0            NaN         40   среднее             1   \n",
       "10864         0            NaN         62   среднее             1   \n",
       "10994         0            NaN         62   среднее             1   \n",
       "11791         0            NaN         47   среднее             1   \n",
       "12373         0            NaN         58   среднее             1   \n",
       "12375         1            NaN         37   среднее             1   \n",
       "12736         0            NaN         59   среднее             1   \n",
       "13025         1            NaN         44   среднее             1   \n",
       "13639         0            NaN         64   среднее             1   \n",
       "13773         0            NaN         35   среднее             1   \n",
       "13878         1            NaN         31   среднее             1   \n",
       "13942         0            NaN         44   среднее             1   \n",
       "14432         2            NaN         36    высшее             0   \n",
       "14832         0            NaN         50   среднее             1   \n",
       "15091         0            NaN         58   среднее             1   \n",
       "15188         0            NaN         60   среднее             1   \n",
       "15273         0            NaN         57   среднее             1   \n",
       "16176         0            NaN         47   среднее             1   \n",
       "16378         0            NaN         46   среднее             1   \n",
       "16902         2            NaN         39   среднее             1   \n",
       "16904         1            NaN         32    высшее             0   \n",
       "17379         0            NaN         54    высшее             0   \n",
       "17755         1            NaN         43   среднее             1   \n",
       "17774         1            NaN         40   среднее             1   \n",
       "18328         0            NaN         29    высшее             0   \n",
       "18349         1            NaN         30    высшее             0   \n",
       "18428         0            NaN         64   среднее             1   \n",
       "18521         0            NaN         56   среднее             1   \n",
       "18563         0            NaN         54   среднее             1   \n",
       "18755         0            NaN         58   среднее             1   \n",
       "19041         0            NaN         56   среднее             1   \n",
       "19184         0            NaN         46   среднее             1   \n",
       "19321         0            NaN         23   среднее             1   \n",
       "19387         0            NaN         38    высшее             0   \n",
       "19688         0            NaN         61   среднее             1   \n",
       "19832         0            NaN         48   среднее             1   \n",
       "19946         0            NaN         57   среднее             1   \n",
       "20116         0            NaN         57   среднее             1   \n",
       "20165         0            NaN         42   среднее             1   \n",
       "20702         0            NaN         64   среднее             1   \n",
       "21032         0            NaN         60   среднее             1   \n",
       "21132         0            NaN         47   среднее             1   \n",
       "21281         1            NaN         30    высшее             0   \n",
       "21415         0            NaN         54   среднее             1   \n",
       "\n",
       "               family_status  family_status_id gender  income_type  debt  \\\n",
       "2849         женат / замужем                 0      F    сотрудник     0   \n",
       "4182        гражданский брак                 1      F    сотрудник     0   \n",
       "4851        гражданский брак                 1      F    пенсионер     0   \n",
       "5557        гражданский брак                 1      F    пенсионер     0   \n",
       "7808        гражданский брак                 1      F    пенсионер     0   \n",
       "8583   Не женат / не замужем                 4      F    пенсионер     0   \n",
       "9238         женат / замужем                 0      F    сотрудник     0   \n",
       "9528          вдовец / вдова                 2      F    пенсионер     0   \n",
       "9627         женат / замужем                 0      F    пенсионер     0   \n",
       "10462        женат / замужем                 0      F    пенсионер     0   \n",
       "10697       гражданский брак                 1      F    компаньон     0   \n",
       "10864        женат / замужем                 0      F    пенсионер     0   \n",
       "10994        женат / замужем                 0      F    пенсионер     0   \n",
       "11791        женат / замужем                 0      F    сотрудник     0   \n",
       "12373        женат / замужем                 0      M    сотрудник     0   \n",
       "12375        женат / замужем                 0      F    сотрудник     0   \n",
       "12736        женат / замужем                 0      F    пенсионер     0   \n",
       "13025        женат / замужем                 0      F    сотрудник     0   \n",
       "13639        женат / замужем                 0      F    пенсионер     0   \n",
       "13773       гражданский брак                 1      F    сотрудник     0   \n",
       "13878        женат / замужем                 0      F    компаньон     0   \n",
       "13942        женат / замужем                 0      F    сотрудник     0   \n",
       "14432        женат / замужем                 0      F  госслужащий     0   \n",
       "14832  Не женат / не замужем                 4      F    сотрудник     0   \n",
       "15091       гражданский брак                 1      M    сотрудник     0   \n",
       "15188        женат / замужем                 0      M    сотрудник     0   \n",
       "15273       гражданский брак                 1      F    пенсионер     0   \n",
       "16176        женат / замужем                 0      F    сотрудник     0   \n",
       "16378        женат / замужем                 0      F    сотрудник     0   \n",
       "16902       гражданский брак                 1      F    сотрудник     0   \n",
       "16904        женат / замужем                 0      F    сотрудник     0   \n",
       "17379        женат / замужем                 0      M    компаньон     0   \n",
       "17755        женат / замужем                 0      M    сотрудник     0   \n",
       "17774       гражданский брак                 1      F    компаньон     0   \n",
       "18328        женат / замужем                 0      M    сотрудник     0   \n",
       "18349        женат / замужем                 0      F  госслужащий     0   \n",
       "18428        женат / замужем                 0      F    пенсионер     0   \n",
       "18521       гражданский брак                 1      F    сотрудник     0   \n",
       "18563        женат / замужем                 0      F    сотрудник     0   \n",
       "18755        женат / замужем                 0      F    пенсионер     0   \n",
       "19041       гражданский брак                 1      F    сотрудник     0   \n",
       "19184        женат / замужем                 0      F    сотрудник     0   \n",
       "19321  Не женат / не замужем                 4      F    сотрудник     0   \n",
       "19387       гражданский брак                 1      F    компаньон     0   \n",
       "19688        женат / замужем                 0      F    пенсионер     0   \n",
       "19832        женат / замужем                 0      F    сотрудник     0   \n",
       "19946        женат / замужем                 0      F    сотрудник     0   \n",
       "20116       гражданский брак                 1      M    пенсионер     0   \n",
       "20165        женат / замужем                 0      F    сотрудник     0   \n",
       "20702        женат / замужем                 0      F    пенсионер     0   \n",
       "21032        женат / замужем                 0      F    пенсионер     0   \n",
       "21132        женат / замужем                 0      F    сотрудник     0   \n",
       "21281        женат / замужем                 0      F    сотрудник     0   \n",
       "21415        женат / замужем                 0      F    пенсионер     0   \n",
       "\n",
       "       total_income                                purpose  \n",
       "2849            NaN                покупка жилья для семьи  \n",
       "4182            NaN                                свадьба  \n",
       "4851            NaN                                свадьба  \n",
       "5557            NaN                        сыграть свадьбу  \n",
       "7808            NaN                  на проведение свадьбы  \n",
       "8583            NaN             дополнительное образование  \n",
       "9238            NaN                покупка жилья для сдачи  \n",
       "9528            NaN        операции со своей недвижимостью  \n",
       "9627            NaN        операции со своей недвижимостью  \n",
       "10462           NaN      покупка коммерческой недвижимости  \n",
       "10697           NaN                        сыграть свадьбу  \n",
       "10864           NaN                           ремонт жилью  \n",
       "10994           NaN                           ремонт жилью  \n",
       "11791           NaN             строительство недвижимости  \n",
       "12373           NaN                   покупка недвижимости  \n",
       "12375           NaN                   покупка недвижимости  \n",
       "12736           NaN                  заняться образованием  \n",
       "13025           NaN       сделка с подержанным автомобилем  \n",
       "13639           NaN                             автомобиль  \n",
       "13773           NaN                        сыграть свадьбу  \n",
       "13878           NaN                          покупка жилья  \n",
       "13942           NaN                приобретение автомобиля  \n",
       "14432           NaN                  получение образования  \n",
       "14832           NaN                           недвижимость  \n",
       "15091           NaN                  на проведение свадьбы  \n",
       "15188           NaN                   покупка недвижимости  \n",
       "15273           NaN                                свадьба  \n",
       "16176           NaN                           ремонт жилью  \n",
       "16378           NaN                     высшее образование  \n",
       "16902           NaN                        сыграть свадьбу  \n",
       "16904           NaN     на покупку подержанного автомобиля  \n",
       "17379           NaN  операции с коммерческой недвижимостью  \n",
       "17755           NaN                  заняться образованием  \n",
       "17774           NaN       строительство жилой недвижимости  \n",
       "18328           NaN             покупка жилой недвижимости  \n",
       "18349           NaN                покупка жилья для семьи  \n",
       "18428           NaN                                  жилье  \n",
       "18521           NaN                        сыграть свадьбу  \n",
       "18563           NaN        операции со своей недвижимостью  \n",
       "18755           NaN                  заняться образованием  \n",
       "19041           NaN                  на проведение свадьбы  \n",
       "19184           NaN                        свой автомобиль  \n",
       "19321           NaN       сделка с подержанным автомобилем  \n",
       "19387           NaN                  на проведение свадьбы  \n",
       "19688           NaN               операции с недвижимостью  \n",
       "19832           NaN                           ремонт жилью  \n",
       "19946           NaN       сделка с подержанным автомобилем  \n",
       "20116           NaN                                свадьба  \n",
       "20165           NaN                покупка жилья для семьи  \n",
       "20702           NaN             дополнительное образование  \n",
       "21032           NaN                  заняться образованием  \n",
       "21132           NaN                           ремонт жилью  \n",
       "21281           NaN      покупка коммерческой недвижимости  \n",
       "21415           NaN                      операции с жильем  "
      ]
     },
     "metadata": {},
     "output_type": "display_data"
    }
   ],
   "source": [
    "df.duplicated().sum()# используем стандартный метод \"duplicated()\", выводим суммарное количество дубликатов по датафрейму:\n",
    "display(df[df.duplicated()])#таблица явных дубликатов"
   ]
  },
  {
   "cell_type": "code",
   "execution_count": 7,
   "id": "2d24aaba",
   "metadata": {},
   "outputs": [
    {
     "data": {
      "text/plain": [
       "array(['ВЫСШЕЕ', 'Высшее', 'НАЧАЛЬНОЕ', 'НЕОКОНЧЕННОЕ ВЫСШЕЕ',\n",
       "       'Начальное', 'Неоконченное высшее', 'СРЕДНЕЕ', 'Среднее',\n",
       "       'УЧЕНАЯ СТЕПЕНЬ', 'Ученая степень', 'высшее', 'начальное',\n",
       "       'неоконченное высшее', 'среднее', 'ученая степень'], dtype=object)"
      ]
     },
     "execution_count": 7,
     "metadata": {},
     "output_type": "execute_result"
    }
   ],
   "source": [
    "df['education'].sort_values().unique()# Просмотр уникальных названий уровня образования клиента"
   ]
  },
  {
   "cell_type": "markdown",
   "id": "ecab1b8c",
   "metadata": {},
   "source": [
    "**Выводы**\n",
    "\n",
    "В каждой строке таблицы — данные о клиенте: его семейное положение,состав семьи,пол и возраст,данные об образовании и работе. \n",
    "\n",
    "Мы видим в столбцах days_employed и total_income пропущенные значения, причём они находятся в одних и тех же строках. Также в столбце education встречается ошибочное написание одного и того же значения."
   ]
  },
  {
   "cell_type": "markdown",
   "id": "3b1895b0",
   "metadata": {},
   "source": [
    "### Шаг 2.1 Заполнение пропусков"
   ]
  },
  {
   "cell_type": "code",
   "execution_count": 8,
   "id": "1db9519a",
   "metadata": {},
   "outputs": [
    {
     "data": {
      "text/plain": [
       "children            0\n",
       "days_employed       0\n",
       "dob_years           0\n",
       "education           0\n",
       "education_id        0\n",
       "family_status       0\n",
       "family_status_id    0\n",
       "gender              0\n",
       "income_type         0\n",
       "debt                0\n",
       "total_income        0\n",
       "purpose             0\n",
       "dtype: int64"
      ]
     },
     "execution_count": 8,
     "metadata": {},
     "output_type": "execute_result"
    }
   ],
   "source": [
    "#найдем ср. знач и медиану дохода и стажа соотв. и заполним соответственно значения NaN \n",
    "total_income_median = df['total_income'].median()\n",
    "days_employed_mean = df['days_employed'].mean()\n",
    "df['days_employed'] = df['days_employed'].fillna(days_employed_mean)\n",
    "df['total_income'] = df['total_income'].fillna(total_income_median)\n",
    "df.isna().sum()# подсчёт пропусков"
   ]
  },
  {
   "cell_type": "markdown",
   "id": "dd8cd161",
   "metadata": {},
   "source": [
    "Пропуски в столбце \"ежемесячный доход\" могли появиться из-за нежелание респондента при проведении статистического опроса отвечать на вопросы о своих доходах.Данные в колонке \"трудовой стаж\" скорее всего являются случайным пропуском, т.к. пропущены значение о доходе.\n",
    "Если удалить все строки, где есть пропущенные значения, можно потерять важные данные,поэтому заполнить пропуски медианным значением — лучшее решение для количественных переменных.Также нам нужно оценить значения,для этого подходят среднее арифметическое или медиана."
   ]
  },
  {
   "cell_type": "markdown",
   "id": "18a72658",
   "metadata": {},
   "source": [
    "### Шаг 2.2 Проверка данных на аномалии и исправления."
   ]
  },
  {
   "cell_type": "code",
   "execution_count": 9,
   "id": "6c28bbae",
   "metadata": {},
   "outputs": [
    {
     "data": {
      "text/html": [
       "<div>\n",
       "<style scoped>\n",
       "    .dataframe tbody tr th:only-of-type {\n",
       "        vertical-align: middle;\n",
       "    }\n",
       "\n",
       "    .dataframe tbody tr th {\n",
       "        vertical-align: top;\n",
       "    }\n",
       "\n",
       "    .dataframe thead th {\n",
       "        text-align: right;\n",
       "    }\n",
       "</style>\n",
       "<table border=\"1\" class=\"dataframe\">\n",
       "  <thead>\n",
       "    <tr style=\"text-align: right;\">\n",
       "      <th></th>\n",
       "      <th>children</th>\n",
       "      <th>days_employed</th>\n",
       "      <th>dob_years</th>\n",
       "      <th>education_id</th>\n",
       "      <th>family_status_id</th>\n",
       "      <th>debt</th>\n",
       "      <th>total_income</th>\n",
       "    </tr>\n",
       "  </thead>\n",
       "  <tbody>\n",
       "    <tr>\n",
       "      <th>count</th>\n",
       "      <td>21525.000000</td>\n",
       "      <td>21525.000000</td>\n",
       "      <td>21525.000000</td>\n",
       "      <td>21525.000000</td>\n",
       "      <td>21525.000000</td>\n",
       "      <td>21525.000000</td>\n",
       "      <td>2.152500e+04</td>\n",
       "    </tr>\n",
       "    <tr>\n",
       "      <th>mean</th>\n",
       "      <td>0.538908</td>\n",
       "      <td>63046.497661</td>\n",
       "      <td>43.293380</td>\n",
       "      <td>0.817236</td>\n",
       "      <td>0.972544</td>\n",
       "      <td>0.080883</td>\n",
       "      <td>1.651595e+05</td>\n",
       "    </tr>\n",
       "    <tr>\n",
       "      <th>std</th>\n",
       "      <td>1.381587</td>\n",
       "      <td>133526.013419</td>\n",
       "      <td>12.574584</td>\n",
       "      <td>0.548138</td>\n",
       "      <td>1.420324</td>\n",
       "      <td>0.272661</td>\n",
       "      <td>9.786607e+04</td>\n",
       "    </tr>\n",
       "    <tr>\n",
       "      <th>min</th>\n",
       "      <td>-1.000000</td>\n",
       "      <td>-18388.949901</td>\n",
       "      <td>0.000000</td>\n",
       "      <td>0.000000</td>\n",
       "      <td>0.000000</td>\n",
       "      <td>0.000000</td>\n",
       "      <td>2.066726e+04</td>\n",
       "    </tr>\n",
       "    <tr>\n",
       "      <th>25%</th>\n",
       "      <td>0.000000</td>\n",
       "      <td>-2518.168900</td>\n",
       "      <td>33.000000</td>\n",
       "      <td>1.000000</td>\n",
       "      <td>0.000000</td>\n",
       "      <td>0.000000</td>\n",
       "      <td>1.077982e+05</td>\n",
       "    </tr>\n",
       "    <tr>\n",
       "      <th>50%</th>\n",
       "      <td>0.000000</td>\n",
       "      <td>-982.531720</td>\n",
       "      <td>42.000000</td>\n",
       "      <td>1.000000</td>\n",
       "      <td>0.000000</td>\n",
       "      <td>0.000000</td>\n",
       "      <td>1.450179e+05</td>\n",
       "    </tr>\n",
       "    <tr>\n",
       "      <th>75%</th>\n",
       "      <td>1.000000</td>\n",
       "      <td>63046.497661</td>\n",
       "      <td>53.000000</td>\n",
       "      <td>1.000000</td>\n",
       "      <td>1.000000</td>\n",
       "      <td>0.000000</td>\n",
       "      <td>1.955436e+05</td>\n",
       "    </tr>\n",
       "    <tr>\n",
       "      <th>max</th>\n",
       "      <td>20.000000</td>\n",
       "      <td>401755.400475</td>\n",
       "      <td>75.000000</td>\n",
       "      <td>4.000000</td>\n",
       "      <td>4.000000</td>\n",
       "      <td>1.000000</td>\n",
       "      <td>2.265604e+06</td>\n",
       "    </tr>\n",
       "  </tbody>\n",
       "</table>\n",
       "</div>"
      ],
      "text/plain": [
       "           children  days_employed     dob_years  education_id  \\\n",
       "count  21525.000000   21525.000000  21525.000000  21525.000000   \n",
       "mean       0.538908   63046.497661     43.293380      0.817236   \n",
       "std        1.381587  133526.013419     12.574584      0.548138   \n",
       "min       -1.000000  -18388.949901      0.000000      0.000000   \n",
       "25%        0.000000   -2518.168900     33.000000      1.000000   \n",
       "50%        0.000000    -982.531720     42.000000      1.000000   \n",
       "75%        1.000000   63046.497661     53.000000      1.000000   \n",
       "max       20.000000  401755.400475     75.000000      4.000000   \n",
       "\n",
       "       family_status_id          debt  total_income  \n",
       "count      21525.000000  21525.000000  2.152500e+04  \n",
       "mean           0.972544      0.080883  1.651595e+05  \n",
       "std            1.420324      0.272661  9.786607e+04  \n",
       "min            0.000000      0.000000  2.066726e+04  \n",
       "25%            0.000000      0.000000  1.077982e+05  \n",
       "50%            0.000000      0.000000  1.450179e+05  \n",
       "75%            1.000000      0.000000  1.955436e+05  \n",
       "max            4.000000      1.000000  2.265604e+06  "
      ]
     },
     "metadata": {},
     "output_type": "display_data"
    }
   ],
   "source": [
    "display(df.describe())"
   ]
  },
  {
   "cell_type": "markdown",
   "id": "31ee526a",
   "metadata": {},
   "source": [
    "Значение по 'children' - -1. Вероятно,что это отсутствующие значение, значит детей нет.\n",
    "Максимальное значение по 'children' - 20. Возможно, что это ошибка,при внесении данных был добавлен 0.\n",
    "Отрицательные значения по количеству отработанных дней 'days_employed'."
   ]
  },
  {
   "cell_type": "code",
   "execution_count": 10,
   "id": "ad27e517",
   "metadata": {},
   "outputs": [],
   "source": [
    "#заменим отрицательные числа на положительные в стаже\n",
    "def negative_to_pozitive(value):\n",
    "    if value < 0:\n",
    "        value *= -1\n",
    "        return value\n",
    "    else:\n",
    "        return value\n",
    "df['days_employed'] = df['days_employed'].apply(negative_to_pozitive)\n",
    "#заменим отрицательные числа в графе дети на о\n",
    "df['children'] = df['children'].replace(-1, 0)\n",
    "# в столбце количества детей 20 заменим медианным значением, так как \n",
    "#мы не знаем как возникла ошибка: случайно ввели лишний ноль при вводе 2 или же вместо 0 случайно поставили 20\n",
    "children_median = df.loc[df.loc[:, 'children'] != 20]['children'].median()\n",
    "df['children'] = df['children'].replace(20, children_median)"
   ]
  },
  {
   "cell_type": "markdown",
   "id": "5aa94030",
   "metadata": {},
   "source": [
    "В данных есть аномалии, стоит об этом сообщить тем, кто делал выгрузку. Их количество не отразится на статических результатах исследования. Тем не менее, для большей точности, основные моменты исправлены."
   ]
  },
  {
   "cell_type": "code",
   "execution_count": 11,
   "id": "5d7cb827",
   "metadata": {},
   "outputs": [
    {
     "data": {
      "text/plain": [
       "0          8437.673028\n",
       "1          4024.803754\n",
       "2          5623.422610\n",
       "3          4124.747207\n",
       "4        340266.072047\n",
       "             ...      \n",
       "21520      4529.316663\n",
       "21521    343937.404131\n",
       "21522      2113.346888\n",
       "21523      3112.481705\n",
       "21524      1984.507589\n",
       "Name: days_employed, Length: 21525, dtype: float64"
      ]
     },
     "execution_count": 11,
     "metadata": {},
     "output_type": "execute_result"
    }
   ],
   "source": [
    "df['days_employed'].abs()"
   ]
  },
  {
   "cell_type": "markdown",
   "id": "b0dd32be",
   "metadata": {},
   "source": [
    "### Шаг 2.3. Изменение типов данных."
   ]
  },
  {
   "cell_type": "code",
   "execution_count": 12,
   "id": "b9529599",
   "metadata": {},
   "outputs": [
    {
     "data": {
      "text/plain": [
       "children             int32\n",
       "days_employed        int32\n",
       "dob_years            int64\n",
       "education           object\n",
       "education_id         int64\n",
       "family_status       object\n",
       "family_status_id     int64\n",
       "gender              object\n",
       "income_type         object\n",
       "debt                 int64\n",
       "total_income         int32\n",
       "purpose             object\n",
       "dtype: object"
      ]
     },
     "execution_count": 12,
     "metadata": {},
     "output_type": "execute_result"
    }
   ],
   "source": [
    "df.dtypes\n",
    "df['days_employed'] = df['days_employed'].astype('int')\n",
    "df['total_income'] = df['total_income'].astype('int')\n",
    "df['children'] = df['children'].astype('int')\n",
    "df.dtypes"
   ]
  },
  {
   "cell_type": "markdown",
   "id": "5780bee1",
   "metadata": {},
   "source": [
    "В стаже,доходе и количестве детей стояли значения типа float - заменили их на int.Остальные типы данных в удобном формате."
   ]
  },
  {
   "cell_type": "markdown",
   "id": "92a4773c",
   "metadata": {},
   "source": [
    "### Шаг 2.4. Удаление дубликатов."
   ]
  },
  {
   "cell_type": "code",
   "execution_count": 13,
   "id": "8aa3d582",
   "metadata": {},
   "outputs": [
    {
     "name": "stdout",
     "output_type": "stream",
     "text": [
      "['F' 'M' 'XNA']\n",
      "['Не женат / не замужем' 'в разводе' 'вдовец / вдова' 'гражданский брак'\n",
      " 'женат / замужем']\n",
      "['безработный' 'в декрете' 'госслужащий' 'компаньон' 'пенсионер'\n",
      " 'предприниматель' 'сотрудник' 'студент']\n",
      "[0 1]\n",
      "['автомобили' 'автомобиль' 'высшее образование'\n",
      " 'дополнительное образование' 'жилье' 'заняться высшим образованием'\n",
      " 'заняться образованием' 'на покупку автомобиля'\n",
      " 'на покупку подержанного автомобиля' 'на покупку своего автомобиля'\n",
      " 'на проведение свадьбы' 'недвижимость' 'образование' 'операции с жильем'\n",
      " 'операции с коммерческой недвижимостью' 'операции с недвижимостью'\n",
      " 'операции со своей недвижимостью' 'покупка жилой недвижимости'\n",
      " 'покупка жилья' 'покупка жилья для сдачи' 'покупка жилья для семьи'\n",
      " 'покупка коммерческой недвижимости' 'покупка недвижимости'\n",
      " 'покупка своего жилья' 'получение высшего образования'\n",
      " 'получение дополнительного образования' 'получение образования'\n",
      " 'приобретение автомобиля' 'профильное образование' 'ремонт жилью'\n",
      " 'свадьба' 'свой автомобиль' 'сделка с автомобилем'\n",
      " 'сделка с подержанным автомобилем' 'строительство жилой недвижимости'\n",
      " 'строительство недвижимости' 'строительство собственной недвижимости'\n",
      " 'сыграть свадьбу']\n",
      "[0 1 2 3 4]\n"
     ]
    },
    {
     "data": {
      "text/html": [
       "<div>\n",
       "<style scoped>\n",
       "    .dataframe tbody tr th:only-of-type {\n",
       "        vertical-align: middle;\n",
       "    }\n",
       "\n",
       "    .dataframe tbody tr th {\n",
       "        vertical-align: top;\n",
       "    }\n",
       "\n",
       "    .dataframe thead th {\n",
       "        text-align: right;\n",
       "    }\n",
       "</style>\n",
       "<table border=\"1\" class=\"dataframe\">\n",
       "  <thead>\n",
       "    <tr style=\"text-align: right;\">\n",
       "      <th></th>\n",
       "      <th>children</th>\n",
       "      <th>days_employed</th>\n",
       "      <th>dob_years</th>\n",
       "      <th>education</th>\n",
       "      <th>education_id</th>\n",
       "      <th>family_status</th>\n",
       "      <th>family_status_id</th>\n",
       "      <th>gender</th>\n",
       "      <th>income_type</th>\n",
       "      <th>debt</th>\n",
       "      <th>total_income</th>\n",
       "      <th>purpose</th>\n",
       "    </tr>\n",
       "  </thead>\n",
       "  <tbody>\n",
       "    <tr>\n",
       "      <th>10701</th>\n",
       "      <td>0</td>\n",
       "      <td>2358</td>\n",
       "      <td>24</td>\n",
       "      <td>неоконченное высшее</td>\n",
       "      <td>2</td>\n",
       "      <td>гражданский брак</td>\n",
       "      <td>1</td>\n",
       "      <td>XNA</td>\n",
       "      <td>компаньон</td>\n",
       "      <td>0</td>\n",
       "      <td>203905</td>\n",
       "      <td>покупка недвижимости</td>\n",
       "    </tr>\n",
       "  </tbody>\n",
       "</table>\n",
       "</div>"
      ],
      "text/plain": [
       "       children  days_employed  dob_years            education  education_id  \\\n",
       "10701         0           2358         24  неоконченное высшее             2   \n",
       "\n",
       "          family_status  family_status_id gender income_type  debt  \\\n",
       "10701  гражданский брак                 1    XNA   компаньон     0   \n",
       "\n",
       "       total_income               purpose  \n",
       "10701        203905  покупка недвижимости  "
      ]
     },
     "execution_count": 13,
     "metadata": {},
     "output_type": "execute_result"
    }
   ],
   "source": [
    "df['education'] = df['education'].str.lower()#приведем в единый формат столбец образование (уберем дубликаты, полученные из-за разного регистра букв)\n",
    "df = df.drop_duplicates()#удаление дубликатов\n",
    "#проверка уникальных значений категориальных столбцов\n",
    "print(df['gender'].sort_values().unique())# проверка уникальных значений пола\n",
    "print(df['family_status'].sort_values().unique())# проверка уникальных значений уровня образования клиента\n",
    "print(df['income_type'].sort_values().unique())#проверка уникальных значений типа занятости\n",
    "print(df['debt'].sort_values().unique())#проверка уникальных значений типа занятости\n",
    "print(df['purpose'].sort_values().unique())#проверка уникальных значений типа занятости\n",
    "print(df['education_id'].sort_values().unique())#проверка уникальных значений идентификатор уровня образования\n",
    "df.loc[df.loc[:, 'gender'] == 'XNA']# нахождение строк, где вместо пола пропущенное значение"
   ]
  },
  {
   "cell_type": "markdown",
   "id": "82bdeb61",
   "metadata": {},
   "source": [
    "Привели значения образования в единый формат, проверили остальные столбцы.Нашлась 1 строка со значением пола - 'XNA' - скорее всего пропуск, но так как мы не знаем пол человека,поэтому оставляем значение как есть. Также были отрицательные значения в количестве детей и неадекватное значение 20 детей. Все их обработали.Уникальные значения цели кредита названы похожим образом, но имеют одинаковый смысл.Тогда цели кредита можно разделить на:'операции с автомобилем','операции с недвижимостью','проведение свадьбы','получение образования'."
   ]
  },
  {
   "cell_type": "markdown",
   "id": "9c4463f7",
   "metadata": {},
   "source": [
    "### Шаг 2.5. Формирование дополнительных датафреймов словарей, декомпозиция исходного датафрейма."
   ]
  },
  {
   "cell_type": "markdown",
   "id": "86b39431",
   "metadata": {},
   "source": [
    "Создадим два новых датафрейма, в которых:\n",
    "каждому уникальному значению из education соответствует уникальное значение education_id — в первом;\n",
    "каждому уникальному значению из family_status соответствует уникальное значение family_status_id — во втором.\n",
    "Удалим из исходного датафрейма столбцы education и family_status, оставив только их идентификаторы: education_id и family_status_id. "
   ]
  },
  {
   "cell_type": "code",
   "execution_count": 14,
   "id": "ed68a670",
   "metadata": {},
   "outputs": [
    {
     "data": {
      "text/html": [
       "<div>\n",
       "<style scoped>\n",
       "    .dataframe tbody tr th:only-of-type {\n",
       "        vertical-align: middle;\n",
       "    }\n",
       "\n",
       "    .dataframe tbody tr th {\n",
       "        vertical-align: top;\n",
       "    }\n",
       "\n",
       "    .dataframe thead th {\n",
       "        text-align: right;\n",
       "    }\n",
       "</style>\n",
       "<table border=\"1\" class=\"dataframe\">\n",
       "  <thead>\n",
       "    <tr style=\"text-align: right;\">\n",
       "      <th></th>\n",
       "      <th>education</th>\n",
       "      <th>education_id</th>\n",
       "    </tr>\n",
       "  </thead>\n",
       "  <tbody>\n",
       "    <tr>\n",
       "      <th>0</th>\n",
       "      <td>высшее</td>\n",
       "      <td>0</td>\n",
       "    </tr>\n",
       "    <tr>\n",
       "      <th>1</th>\n",
       "      <td>среднее</td>\n",
       "      <td>1</td>\n",
       "    </tr>\n",
       "    <tr>\n",
       "      <th>2</th>\n",
       "      <td>неоконченное высшее</td>\n",
       "      <td>2</td>\n",
       "    </tr>\n",
       "    <tr>\n",
       "      <th>3</th>\n",
       "      <td>начальное</td>\n",
       "      <td>3</td>\n",
       "    </tr>\n",
       "    <tr>\n",
       "      <th>4</th>\n",
       "      <td>ученая степень</td>\n",
       "      <td>4</td>\n",
       "    </tr>\n",
       "  </tbody>\n",
       "</table>\n",
       "</div>"
      ],
      "text/plain": [
       "             education  education_id\n",
       "0               высшее             0\n",
       "1              среднее             1\n",
       "2  неоконченное высшее             2\n",
       "3            начальное             3\n",
       "4       ученая степень             4"
      ]
     },
     "metadata": {},
     "output_type": "display_data"
    },
    {
     "data": {
      "text/html": [
       "<div>\n",
       "<style scoped>\n",
       "    .dataframe tbody tr th:only-of-type {\n",
       "        vertical-align: middle;\n",
       "    }\n",
       "\n",
       "    .dataframe tbody tr th {\n",
       "        vertical-align: top;\n",
       "    }\n",
       "\n",
       "    .dataframe thead th {\n",
       "        text-align: right;\n",
       "    }\n",
       "</style>\n",
       "<table border=\"1\" class=\"dataframe\">\n",
       "  <thead>\n",
       "    <tr style=\"text-align: right;\">\n",
       "      <th></th>\n",
       "      <th>family_status</th>\n",
       "      <th>family_status_id</th>\n",
       "    </tr>\n",
       "  </thead>\n",
       "  <tbody>\n",
       "    <tr>\n",
       "      <th>0</th>\n",
       "      <td>женат / замужем</td>\n",
       "      <td>0</td>\n",
       "    </tr>\n",
       "    <tr>\n",
       "      <th>1</th>\n",
       "      <td>гражданский брак</td>\n",
       "      <td>1</td>\n",
       "    </tr>\n",
       "    <tr>\n",
       "      <th>2</th>\n",
       "      <td>вдовец / вдова</td>\n",
       "      <td>2</td>\n",
       "    </tr>\n",
       "    <tr>\n",
       "      <th>3</th>\n",
       "      <td>в разводе</td>\n",
       "      <td>3</td>\n",
       "    </tr>\n",
       "    <tr>\n",
       "      <th>4</th>\n",
       "      <td>Не женат / не замужем</td>\n",
       "      <td>4</td>\n",
       "    </tr>\n",
       "  </tbody>\n",
       "</table>\n",
       "</div>"
      ],
      "text/plain": [
       "           family_status  family_status_id\n",
       "0        женат / замужем                 0\n",
       "1       гражданский брак                 1\n",
       "2         вдовец / вдова                 2\n",
       "3              в разводе                 3\n",
       "4  Не женат / не замужем                 4"
      ]
     },
     "metadata": {},
     "output_type": "display_data"
    },
    {
     "data": {
      "text/html": [
       "<div>\n",
       "<style scoped>\n",
       "    .dataframe tbody tr th:only-of-type {\n",
       "        vertical-align: middle;\n",
       "    }\n",
       "\n",
       "    .dataframe tbody tr th {\n",
       "        vertical-align: top;\n",
       "    }\n",
       "\n",
       "    .dataframe thead th {\n",
       "        text-align: right;\n",
       "    }\n",
       "</style>\n",
       "<table border=\"1\" class=\"dataframe\">\n",
       "  <thead>\n",
       "    <tr style=\"text-align: right;\">\n",
       "      <th></th>\n",
       "      <th>children</th>\n",
       "      <th>days_employed</th>\n",
       "      <th>dob_years</th>\n",
       "      <th>education_id</th>\n",
       "      <th>family_status_id</th>\n",
       "      <th>gender</th>\n",
       "      <th>income_type</th>\n",
       "      <th>debt</th>\n",
       "      <th>total_income</th>\n",
       "      <th>purpose</th>\n",
       "    </tr>\n",
       "  </thead>\n",
       "  <tbody>\n",
       "    <tr>\n",
       "      <th>0</th>\n",
       "      <td>1</td>\n",
       "      <td>8437</td>\n",
       "      <td>42</td>\n",
       "      <td>0</td>\n",
       "      <td>0</td>\n",
       "      <td>F</td>\n",
       "      <td>сотрудник</td>\n",
       "      <td>0</td>\n",
       "      <td>253875</td>\n",
       "      <td>покупка жилья</td>\n",
       "    </tr>\n",
       "    <tr>\n",
       "      <th>1</th>\n",
       "      <td>1</td>\n",
       "      <td>4024</td>\n",
       "      <td>36</td>\n",
       "      <td>1</td>\n",
       "      <td>0</td>\n",
       "      <td>F</td>\n",
       "      <td>сотрудник</td>\n",
       "      <td>0</td>\n",
       "      <td>112080</td>\n",
       "      <td>приобретение автомобиля</td>\n",
       "    </tr>\n",
       "    <tr>\n",
       "      <th>2</th>\n",
       "      <td>0</td>\n",
       "      <td>5623</td>\n",
       "      <td>33</td>\n",
       "      <td>1</td>\n",
       "      <td>0</td>\n",
       "      <td>M</td>\n",
       "      <td>сотрудник</td>\n",
       "      <td>0</td>\n",
       "      <td>145885</td>\n",
       "      <td>покупка жилья</td>\n",
       "    </tr>\n",
       "    <tr>\n",
       "      <th>3</th>\n",
       "      <td>3</td>\n",
       "      <td>4124</td>\n",
       "      <td>32</td>\n",
       "      <td>1</td>\n",
       "      <td>0</td>\n",
       "      <td>M</td>\n",
       "      <td>сотрудник</td>\n",
       "      <td>0</td>\n",
       "      <td>267628</td>\n",
       "      <td>дополнительное образование</td>\n",
       "    </tr>\n",
       "    <tr>\n",
       "      <th>4</th>\n",
       "      <td>0</td>\n",
       "      <td>340266</td>\n",
       "      <td>53</td>\n",
       "      <td>1</td>\n",
       "      <td>1</td>\n",
       "      <td>F</td>\n",
       "      <td>пенсионер</td>\n",
       "      <td>0</td>\n",
       "      <td>158616</td>\n",
       "      <td>сыграть свадьбу</td>\n",
       "    </tr>\n",
       "    <tr>\n",
       "      <th>5</th>\n",
       "      <td>0</td>\n",
       "      <td>926</td>\n",
       "      <td>27</td>\n",
       "      <td>0</td>\n",
       "      <td>1</td>\n",
       "      <td>M</td>\n",
       "      <td>компаньон</td>\n",
       "      <td>0</td>\n",
       "      <td>255763</td>\n",
       "      <td>покупка жилья</td>\n",
       "    </tr>\n",
       "    <tr>\n",
       "      <th>6</th>\n",
       "      <td>0</td>\n",
       "      <td>2879</td>\n",
       "      <td>43</td>\n",
       "      <td>0</td>\n",
       "      <td>0</td>\n",
       "      <td>F</td>\n",
       "      <td>компаньон</td>\n",
       "      <td>0</td>\n",
       "      <td>240525</td>\n",
       "      <td>операции с жильем</td>\n",
       "    </tr>\n",
       "    <tr>\n",
       "      <th>7</th>\n",
       "      <td>0</td>\n",
       "      <td>152</td>\n",
       "      <td>50</td>\n",
       "      <td>1</td>\n",
       "      <td>0</td>\n",
       "      <td>M</td>\n",
       "      <td>сотрудник</td>\n",
       "      <td>0</td>\n",
       "      <td>135823</td>\n",
       "      <td>образование</td>\n",
       "    </tr>\n",
       "    <tr>\n",
       "      <th>8</th>\n",
       "      <td>2</td>\n",
       "      <td>6929</td>\n",
       "      <td>35</td>\n",
       "      <td>0</td>\n",
       "      <td>1</td>\n",
       "      <td>F</td>\n",
       "      <td>сотрудник</td>\n",
       "      <td>0</td>\n",
       "      <td>95856</td>\n",
       "      <td>на проведение свадьбы</td>\n",
       "    </tr>\n",
       "    <tr>\n",
       "      <th>9</th>\n",
       "      <td>0</td>\n",
       "      <td>2188</td>\n",
       "      <td>41</td>\n",
       "      <td>1</td>\n",
       "      <td>0</td>\n",
       "      <td>M</td>\n",
       "      <td>сотрудник</td>\n",
       "      <td>0</td>\n",
       "      <td>144425</td>\n",
       "      <td>покупка жилья для семьи</td>\n",
       "    </tr>\n",
       "  </tbody>\n",
       "</table>\n",
       "</div>"
      ],
      "text/plain": [
       "   children  days_employed  dob_years  education_id  family_status_id gender  \\\n",
       "0         1           8437         42             0                 0      F   \n",
       "1         1           4024         36             1                 0      F   \n",
       "2         0           5623         33             1                 0      M   \n",
       "3         3           4124         32             1                 0      M   \n",
       "4         0         340266         53             1                 1      F   \n",
       "5         0            926         27             0                 1      M   \n",
       "6         0           2879         43             0                 0      F   \n",
       "7         0            152         50             1                 0      M   \n",
       "8         2           6929         35             0                 1      F   \n",
       "9         0           2188         41             1                 0      M   \n",
       "\n",
       "  income_type  debt  total_income                     purpose  \n",
       "0   сотрудник     0        253875               покупка жилья  \n",
       "1   сотрудник     0        112080     приобретение автомобиля  \n",
       "2   сотрудник     0        145885               покупка жилья  \n",
       "3   сотрудник     0        267628  дополнительное образование  \n",
       "4   пенсионер     0        158616             сыграть свадьбу  \n",
       "5   компаньон     0        255763               покупка жилья  \n",
       "6   компаньон     0        240525           операции с жильем  \n",
       "7   сотрудник     0        135823                 образование  \n",
       "8   сотрудник     0         95856       на проведение свадьбы  \n",
       "9   сотрудник     0        144425     покупка жилья для семьи  "
      ]
     },
     "metadata": {},
     "output_type": "display_data"
    }
   ],
   "source": [
    "\n",
    "dataframe1 = df[['education','education_id']]\n",
    "dataframe1 = dataframe1.drop_duplicates().reset_index(drop=True)\n",
    "display(dataframe1)\n",
    "dataframe2 = df[['family_status','family_status_id']]\n",
    "dataframe2 = dataframe2.drop_duplicates().reset_index(drop=True)\n",
    "display(dataframe2)\n",
    "df=df.drop(columns=['education','family_status'])\n",
    "display(df.head(10))#проверка результата\n"
   ]
  },
  {
   "cell_type": "markdown",
   "id": "5021db5a",
   "metadata": {},
   "source": [
    "### Шаг 2.6. Категоризация дохода."
   ]
  },
  {
   "cell_type": "markdown",
   "id": "60d1efaa",
   "metadata": {},
   "source": [
    "На основании диапазонов, указанных ниже, создадим столбец total_income_category с категориями:\n",
    "0–30000 — 'E';\n",
    "30001–50000 — 'D';\n",
    "50001–200000 — 'C';\n",
    "200001–1000000 — 'B';\n",
    "1000001 и выше — 'A'."
   ]
  },
  {
   "cell_type": "code",
   "execution_count": 15,
   "id": "8ea4d11c",
   "metadata": {},
   "outputs": [
    {
     "data": {
      "text/plain": [
       "C    16016\n",
       "B     5041\n",
       "D      350\n",
       "A       25\n",
       "E       22\n",
       "Name: income_category, dtype: int64"
      ]
     },
     "execution_count": 15,
     "metadata": {},
     "output_type": "execute_result"
    }
   ],
   "source": [
    "def make_income_category(total_income):\n",
    "    if total_income < 30000:\n",
    "        return 'E'\n",
    "    if 30001 <= total_income < 50000:\n",
    "        return 'D'\n",
    "    if 50001 <= total_income < 200000:\n",
    "        return 'C'\n",
    "    if 200001 <= total_income < 1000000:\n",
    "        return 'B'\n",
    "    if total_income >= 1000001:\n",
    "        return 'A'\n",
    "    return ' '\n",
    "#создадим столбец с категориями\n",
    "df['income_category'] = df['total_income'].apply(make_income_category)\n",
    "# проверка результата\n",
    "df['income_category'].value_counts()"
   ]
  },
  {
   "cell_type": "markdown",
   "id": "428938b9",
   "metadata": {},
   "source": [
    "### Шаг 2.7. Категоризация количества детей."
   ]
  },
  {
   "cell_type": "markdown",
   "id": "03e59b30",
   "metadata": {},
   "source": [
    "Создадим категории по количеству детей ('children'):\n",
    "-'нет детей' (0 детей);\n",
    "-'один ребенок';\n",
    "-'два ребенка'\n",
    "-'многодетные'(>= 3 детей)."
   ]
  },
  {
   "cell_type": "code",
   "execution_count": 16,
   "id": "9ca50735",
   "metadata": {},
   "outputs": [
    {
     "data": {
      "text/plain": [
       "нет детей       14214\n",
       "один ребенок     4808\n",
       "два ребенка      2052\n",
       "многодетные       380\n",
       "Name: children_category, dtype: int64"
      ]
     },
     "execution_count": 16,
     "metadata": {},
     "output_type": "execute_result"
    }
   ],
   "source": [
    "def make_children_category(children):\n",
    "    if children ==1:\n",
    "        return 'один ребенок'\n",
    "    if children ==2:\n",
    "        return 'два ребенка'\n",
    "    if children >=3:\n",
    "        return 'многодетные'\n",
    "    if children <= 1:\n",
    "        return 'нет детей'\n",
    "    return ' '\n",
    "#создадим столбец с категориями\n",
    "df['children_category'] = df['children'].apply(make_children_category)\n",
    "\n",
    "# проверка результата\n",
    "df['children_category'].value_counts()\n"
   ]
  },
  {
   "cell_type": "markdown",
   "id": "0bc0813b",
   "metadata": {},
   "source": [
    "### Шаг 2.8. Категоризация целей кредита."
   ]
  },
  {
   "cell_type": "markdown",
   "id": "9d3ea357",
   "metadata": {},
   "source": [
    "Создадим функцию, которая на основании данных из столбца purpose сформирует новый столбец purpose_category, в который войдут следующие категории:\n",
    "'операции с автомобилем',\n",
    "'операции с недвижимостью',\n",
    "'проведение свадьбы',\n",
    "'получение образования'."
   ]
  },
  {
   "cell_type": "code",
   "execution_count": 17,
   "id": "a1021508",
   "metadata": {},
   "outputs": [
    {
     "data": {
      "text/plain": [
       "операции с недвижимостью    10811\n",
       "операция с автомобилем       4306\n",
       "получение образования        4013\n",
       "проведение свадьбы           2324\n",
       "Name: purpose_category, dtype: int64"
      ]
     },
     "execution_count": 17,
     "metadata": {},
     "output_type": "execute_result"
    }
   ],
   "source": [
    "def make_purpose_category(purpose):\n",
    "    if 'автомоб'in purpose:\n",
    "        return 'операция с автомобилем'\n",
    "    if 'свадьб'in purpose:\n",
    "        return 'проведение свадьбы'\n",
    "    if 'образован'in purpose:\n",
    "        return 'получение образования'\n",
    "    return 'операции с недвижимостью'\n",
    "#создадим столбец с категориями\n",
    "df['purpose_category'] = df['purpose'].apply(make_purpose_category)\n",
    "\n",
    "# проверка результата\n",
    "df['purpose_category'].value_counts()"
   ]
  },
  {
   "cell_type": "code",
   "execution_count": 18,
   "id": "5baa46d8",
   "metadata": {},
   "outputs": [
    {
     "data": {
      "text/html": [
       "<div>\n",
       "<style scoped>\n",
       "    .dataframe tbody tr th:only-of-type {\n",
       "        vertical-align: middle;\n",
       "    }\n",
       "\n",
       "    .dataframe tbody tr th {\n",
       "        vertical-align: top;\n",
       "    }\n",
       "\n",
       "    .dataframe thead th {\n",
       "        text-align: right;\n",
       "    }\n",
       "</style>\n",
       "<table border=\"1\" class=\"dataframe\">\n",
       "  <thead>\n",
       "    <tr style=\"text-align: right;\">\n",
       "      <th></th>\n",
       "      <th>children</th>\n",
       "      <th>days_employed</th>\n",
       "      <th>dob_years</th>\n",
       "      <th>education_id</th>\n",
       "      <th>family_status_id</th>\n",
       "      <th>gender</th>\n",
       "      <th>income_type</th>\n",
       "      <th>debt</th>\n",
       "      <th>total_income</th>\n",
       "      <th>purpose</th>\n",
       "      <th>income_category</th>\n",
       "      <th>children_category</th>\n",
       "      <th>purpose_category</th>\n",
       "    </tr>\n",
       "  </thead>\n",
       "  <tbody>\n",
       "    <tr>\n",
       "      <th>0</th>\n",
       "      <td>1</td>\n",
       "      <td>8437</td>\n",
       "      <td>42</td>\n",
       "      <td>0</td>\n",
       "      <td>0</td>\n",
       "      <td>F</td>\n",
       "      <td>сотрудник</td>\n",
       "      <td>0</td>\n",
       "      <td>253875</td>\n",
       "      <td>покупка жилья</td>\n",
       "      <td>B</td>\n",
       "      <td>один ребенок</td>\n",
       "      <td>операции с недвижимостью</td>\n",
       "    </tr>\n",
       "    <tr>\n",
       "      <th>1</th>\n",
       "      <td>1</td>\n",
       "      <td>4024</td>\n",
       "      <td>36</td>\n",
       "      <td>1</td>\n",
       "      <td>0</td>\n",
       "      <td>F</td>\n",
       "      <td>сотрудник</td>\n",
       "      <td>0</td>\n",
       "      <td>112080</td>\n",
       "      <td>приобретение автомобиля</td>\n",
       "      <td>C</td>\n",
       "      <td>один ребенок</td>\n",
       "      <td>операция с автомобилем</td>\n",
       "    </tr>\n",
       "    <tr>\n",
       "      <th>2</th>\n",
       "      <td>0</td>\n",
       "      <td>5623</td>\n",
       "      <td>33</td>\n",
       "      <td>1</td>\n",
       "      <td>0</td>\n",
       "      <td>M</td>\n",
       "      <td>сотрудник</td>\n",
       "      <td>0</td>\n",
       "      <td>145885</td>\n",
       "      <td>покупка жилья</td>\n",
       "      <td>C</td>\n",
       "      <td>нет детей</td>\n",
       "      <td>операции с недвижимостью</td>\n",
       "    </tr>\n",
       "    <tr>\n",
       "      <th>3</th>\n",
       "      <td>3</td>\n",
       "      <td>4124</td>\n",
       "      <td>32</td>\n",
       "      <td>1</td>\n",
       "      <td>0</td>\n",
       "      <td>M</td>\n",
       "      <td>сотрудник</td>\n",
       "      <td>0</td>\n",
       "      <td>267628</td>\n",
       "      <td>дополнительное образование</td>\n",
       "      <td>B</td>\n",
       "      <td>многодетные</td>\n",
       "      <td>получение образования</td>\n",
       "    </tr>\n",
       "    <tr>\n",
       "      <th>4</th>\n",
       "      <td>0</td>\n",
       "      <td>340266</td>\n",
       "      <td>53</td>\n",
       "      <td>1</td>\n",
       "      <td>1</td>\n",
       "      <td>F</td>\n",
       "      <td>пенсионер</td>\n",
       "      <td>0</td>\n",
       "      <td>158616</td>\n",
       "      <td>сыграть свадьбу</td>\n",
       "      <td>C</td>\n",
       "      <td>нет детей</td>\n",
       "      <td>проведение свадьбы</td>\n",
       "    </tr>\n",
       "    <tr>\n",
       "      <th>5</th>\n",
       "      <td>0</td>\n",
       "      <td>926</td>\n",
       "      <td>27</td>\n",
       "      <td>0</td>\n",
       "      <td>1</td>\n",
       "      <td>M</td>\n",
       "      <td>компаньон</td>\n",
       "      <td>0</td>\n",
       "      <td>255763</td>\n",
       "      <td>покупка жилья</td>\n",
       "      <td>B</td>\n",
       "      <td>нет детей</td>\n",
       "      <td>операции с недвижимостью</td>\n",
       "    </tr>\n",
       "    <tr>\n",
       "      <th>6</th>\n",
       "      <td>0</td>\n",
       "      <td>2879</td>\n",
       "      <td>43</td>\n",
       "      <td>0</td>\n",
       "      <td>0</td>\n",
       "      <td>F</td>\n",
       "      <td>компаньон</td>\n",
       "      <td>0</td>\n",
       "      <td>240525</td>\n",
       "      <td>операции с жильем</td>\n",
       "      <td>B</td>\n",
       "      <td>нет детей</td>\n",
       "      <td>операции с недвижимостью</td>\n",
       "    </tr>\n",
       "    <tr>\n",
       "      <th>7</th>\n",
       "      <td>0</td>\n",
       "      <td>152</td>\n",
       "      <td>50</td>\n",
       "      <td>1</td>\n",
       "      <td>0</td>\n",
       "      <td>M</td>\n",
       "      <td>сотрудник</td>\n",
       "      <td>0</td>\n",
       "      <td>135823</td>\n",
       "      <td>образование</td>\n",
       "      <td>C</td>\n",
       "      <td>нет детей</td>\n",
       "      <td>получение образования</td>\n",
       "    </tr>\n",
       "    <tr>\n",
       "      <th>8</th>\n",
       "      <td>2</td>\n",
       "      <td>6929</td>\n",
       "      <td>35</td>\n",
       "      <td>0</td>\n",
       "      <td>1</td>\n",
       "      <td>F</td>\n",
       "      <td>сотрудник</td>\n",
       "      <td>0</td>\n",
       "      <td>95856</td>\n",
       "      <td>на проведение свадьбы</td>\n",
       "      <td>C</td>\n",
       "      <td>два ребенка</td>\n",
       "      <td>проведение свадьбы</td>\n",
       "    </tr>\n",
       "    <tr>\n",
       "      <th>9</th>\n",
       "      <td>0</td>\n",
       "      <td>2188</td>\n",
       "      <td>41</td>\n",
       "      <td>1</td>\n",
       "      <td>0</td>\n",
       "      <td>M</td>\n",
       "      <td>сотрудник</td>\n",
       "      <td>0</td>\n",
       "      <td>144425</td>\n",
       "      <td>покупка жилья для семьи</td>\n",
       "      <td>C</td>\n",
       "      <td>нет детей</td>\n",
       "      <td>операции с недвижимостью</td>\n",
       "    </tr>\n",
       "    <tr>\n",
       "      <th>10</th>\n",
       "      <td>2</td>\n",
       "      <td>4171</td>\n",
       "      <td>36</td>\n",
       "      <td>0</td>\n",
       "      <td>0</td>\n",
       "      <td>M</td>\n",
       "      <td>компаньон</td>\n",
       "      <td>0</td>\n",
       "      <td>113943</td>\n",
       "      <td>покупка недвижимости</td>\n",
       "      <td>C</td>\n",
       "      <td>два ребенка</td>\n",
       "      <td>операции с недвижимостью</td>\n",
       "    </tr>\n",
       "    <tr>\n",
       "      <th>11</th>\n",
       "      <td>0</td>\n",
       "      <td>792</td>\n",
       "      <td>40</td>\n",
       "      <td>1</td>\n",
       "      <td>0</td>\n",
       "      <td>F</td>\n",
       "      <td>сотрудник</td>\n",
       "      <td>0</td>\n",
       "      <td>77069</td>\n",
       "      <td>покупка коммерческой недвижимости</td>\n",
       "      <td>C</td>\n",
       "      <td>нет детей</td>\n",
       "      <td>операции с недвижимостью</td>\n",
       "    </tr>\n",
       "    <tr>\n",
       "      <th>12</th>\n",
       "      <td>0</td>\n",
       "      <td>63046</td>\n",
       "      <td>65</td>\n",
       "      <td>1</td>\n",
       "      <td>1</td>\n",
       "      <td>M</td>\n",
       "      <td>пенсионер</td>\n",
       "      <td>0</td>\n",
       "      <td>145017</td>\n",
       "      <td>сыграть свадьбу</td>\n",
       "      <td>C</td>\n",
       "      <td>нет детей</td>\n",
       "      <td>проведение свадьбы</td>\n",
       "    </tr>\n",
       "    <tr>\n",
       "      <th>13</th>\n",
       "      <td>0</td>\n",
       "      <td>1846</td>\n",
       "      <td>54</td>\n",
       "      <td>2</td>\n",
       "      <td>0</td>\n",
       "      <td>F</td>\n",
       "      <td>сотрудник</td>\n",
       "      <td>0</td>\n",
       "      <td>130458</td>\n",
       "      <td>приобретение автомобиля</td>\n",
       "      <td>C</td>\n",
       "      <td>нет детей</td>\n",
       "      <td>операция с автомобилем</td>\n",
       "    </tr>\n",
       "    <tr>\n",
       "      <th>14</th>\n",
       "      <td>0</td>\n",
       "      <td>1844</td>\n",
       "      <td>56</td>\n",
       "      <td>0</td>\n",
       "      <td>1</td>\n",
       "      <td>F</td>\n",
       "      <td>компаньон</td>\n",
       "      <td>1</td>\n",
       "      <td>165127</td>\n",
       "      <td>покупка жилой недвижимости</td>\n",
       "      <td>C</td>\n",
       "      <td>нет детей</td>\n",
       "      <td>операции с недвижимостью</td>\n",
       "    </tr>\n",
       "  </tbody>\n",
       "</table>\n",
       "</div>"
      ],
      "text/plain": [
       "    children  days_employed  dob_years  education_id  family_status_id gender  \\\n",
       "0          1           8437         42             0                 0      F   \n",
       "1          1           4024         36             1                 0      F   \n",
       "2          0           5623         33             1                 0      M   \n",
       "3          3           4124         32             1                 0      M   \n",
       "4          0         340266         53             1                 1      F   \n",
       "5          0            926         27             0                 1      M   \n",
       "6          0           2879         43             0                 0      F   \n",
       "7          0            152         50             1                 0      M   \n",
       "8          2           6929         35             0                 1      F   \n",
       "9          0           2188         41             1                 0      M   \n",
       "10         2           4171         36             0                 0      M   \n",
       "11         0            792         40             1                 0      F   \n",
       "12         0          63046         65             1                 1      M   \n",
       "13         0           1846         54             2                 0      F   \n",
       "14         0           1844         56             0                 1      F   \n",
       "\n",
       "   income_type  debt  total_income                            purpose  \\\n",
       "0    сотрудник     0        253875                      покупка жилья   \n",
       "1    сотрудник     0        112080            приобретение автомобиля   \n",
       "2    сотрудник     0        145885                      покупка жилья   \n",
       "3    сотрудник     0        267628         дополнительное образование   \n",
       "4    пенсионер     0        158616                    сыграть свадьбу   \n",
       "5    компаньон     0        255763                      покупка жилья   \n",
       "6    компаньон     0        240525                  операции с жильем   \n",
       "7    сотрудник     0        135823                        образование   \n",
       "8    сотрудник     0         95856              на проведение свадьбы   \n",
       "9    сотрудник     0        144425            покупка жилья для семьи   \n",
       "10   компаньон     0        113943               покупка недвижимости   \n",
       "11   сотрудник     0         77069  покупка коммерческой недвижимости   \n",
       "12   пенсионер     0        145017                    сыграть свадьбу   \n",
       "13   сотрудник     0        130458            приобретение автомобиля   \n",
       "14   компаньон     1        165127         покупка жилой недвижимости   \n",
       "\n",
       "   income_category children_category          purpose_category  \n",
       "0                B      один ребенок  операции с недвижимостью  \n",
       "1                C      один ребенок    операция с автомобилем  \n",
       "2                C         нет детей  операции с недвижимостью  \n",
       "3                B       многодетные     получение образования  \n",
       "4                C         нет детей        проведение свадьбы  \n",
       "5                B         нет детей  операции с недвижимостью  \n",
       "6                B         нет детей  операции с недвижимостью  \n",
       "7                C         нет детей     получение образования  \n",
       "8                C       два ребенка        проведение свадьбы  \n",
       "9                C         нет детей  операции с недвижимостью  \n",
       "10               C       два ребенка  операции с недвижимостью  \n",
       "11               C         нет детей  операции с недвижимостью  \n",
       "12               C         нет детей        проведение свадьбы  \n",
       "13               C         нет детей    операция с автомобилем  \n",
       "14               C         нет детей  операции с недвижимостью  "
      ]
     },
     "metadata": {},
     "output_type": "display_data"
    }
   ],
   "source": [
    "display(df.head(15))#просмотр овых столбцов"
   ]
  },
  {
   "cell_type": "markdown",
   "id": "6fdc2e8c",
   "metadata": {},
   "source": [
    "**Выводы**\n",
    "В данных были удалены дубликаты и заполнены все пропуски, т.к. они мешали провести финальную оценку.Найдены и скорректированы ошибочные значения.\n",
    "Категоризировали датафрейм для проверки гипотез, по следующим данным:\n",
    "-'education' и 'family_status_id' (изначально уже была категоризация по ним);\n",
    "-по уровню зарплаты ('total_income');\n",
    "-по количеству детей ('children');\n",
    "-по целям кредита ('purpose');\n",
    "\n",
    "Переходим к анализу полученных данных."
   ]
  },
  {
   "cell_type": "markdown",
   "id": "c638ba25",
   "metadata": {},
   "source": [
    "### Шаг 3.Ответы на вопросы."
   ]
  },
  {
   "cell_type": "markdown",
   "id": "e5e7246f",
   "metadata": {},
   "source": [
    "#### Вопрос 1: Есть ли зависимость между количеством детей и возвратом кредита в срок?"
   ]
  },
  {
   "cell_type": "code",
   "execution_count": 19,
   "id": "38a0370f",
   "metadata": {
    "scrolled": false
   },
   "outputs": [
    {
     "data": {
      "text/html": [
       "<div>\n",
       "<style scoped>\n",
       "    .dataframe tbody tr th:only-of-type {\n",
       "        vertical-align: middle;\n",
       "    }\n",
       "\n",
       "    .dataframe tbody tr th {\n",
       "        vertical-align: top;\n",
       "    }\n",
       "\n",
       "    .dataframe thead tr th {\n",
       "        text-align: left;\n",
       "    }\n",
       "\n",
       "    .dataframe thead tr:last-of-type th {\n",
       "        text-align: right;\n",
       "    }\n",
       "</style>\n",
       "<table border=\"1\" class=\"dataframe\">\n",
       "  <thead>\n",
       "    <tr>\n",
       "      <th></th>\n",
       "      <th>sum</th>\n",
       "      <th>count</th>\n",
       "      <th>ratio</th>\n",
       "    </tr>\n",
       "    <tr>\n",
       "      <th></th>\n",
       "      <th>debt</th>\n",
       "      <th>debt</th>\n",
       "      <th></th>\n",
       "    </tr>\n",
       "    <tr>\n",
       "      <th>children_category</th>\n",
       "      <th></th>\n",
       "      <th></th>\n",
       "      <th></th>\n",
       "    </tr>\n",
       "  </thead>\n",
       "  <tbody>\n",
       "    <tr>\n",
       "      <th>нет детей</th>\n",
       "      <td>1072</td>\n",
       "      <td>14214</td>\n",
       "      <td>7.541860</td>\n",
       "    </tr>\n",
       "    <tr>\n",
       "      <th>многодетные</th>\n",
       "      <td>31</td>\n",
       "      <td>380</td>\n",
       "      <td>8.157895</td>\n",
       "    </tr>\n",
       "    <tr>\n",
       "      <th>один ребенок</th>\n",
       "      <td>444</td>\n",
       "      <td>4808</td>\n",
       "      <td>9.234609</td>\n",
       "    </tr>\n",
       "    <tr>\n",
       "      <th>два ребенка</th>\n",
       "      <td>194</td>\n",
       "      <td>2052</td>\n",
       "      <td>9.454191</td>\n",
       "    </tr>\n",
       "  </tbody>\n",
       "</table>\n",
       "</div>"
      ],
      "text/plain": [
       "                    sum  count     ratio\n",
       "                   debt   debt          \n",
       "children_category                       \n",
       "нет детей          1072  14214  7.541860\n",
       "многодетные          31    380  8.157895\n",
       "один ребенок        444   4808  9.234609\n",
       "два ребенка         194   2052  9.454191"
      ]
     },
     "metadata": {},
     "output_type": "display_data"
    }
   ],
   "source": [
    "df_pivot_children = df.pivot_table(index=['children_category'], values='debt', aggfunc=['sum','count'])#сводная таблица\n",
    "df_pivot_children['ratio']=df_pivot_children['sum']/df_pivot_children['count']*100#подсчет отношения\n",
    "display(df_pivot_children.head(10).sort_values(by='ratio'))"
   ]
  },
  {
   "cell_type": "markdown",
   "id": "d50f1f78",
   "metadata": {},
   "source": [
    "#### Вывод 1:"
   ]
  },
  {
   "cell_type": "markdown",
   "id": "b8da5456",
   "metadata": {},
   "source": [
    "Когда детей нет, вероятность возникновения задолженности чуть ниже, чем если дети есть(1-2%). Если семьи многодетные задолженность по возврату кредитов возникает примерно на том же уровне,что и в случае отсутсвия детей. В случаях,когда в семье 1 или 2 ребенка, вероятность просрочки выше(примерно на 2%).\n",
    "Разница среди всех значений минимальна. В целом,можно сказать,что клиенты без детей реже просрачивают оплату по кредиту, чем люди с детьми."
   ]
  },
  {
   "cell_type": "markdown",
   "id": "600b24f3",
   "metadata": {},
   "source": [
    "#### Вопрос 2: Есть ли зависимость между семейным положением и возвратом кредита в срок?"
   ]
  },
  {
   "cell_type": "code",
   "execution_count": 20,
   "id": "fbe008eb",
   "metadata": {
    "scrolled": true
   },
   "outputs": [
    {
     "data": {
      "text/html": [
       "<div>\n",
       "<style scoped>\n",
       "    .dataframe tbody tr th:only-of-type {\n",
       "        vertical-align: middle;\n",
       "    }\n",
       "\n",
       "    .dataframe tbody tr th {\n",
       "        vertical-align: top;\n",
       "    }\n",
       "\n",
       "    .dataframe thead tr th {\n",
       "        text-align: left;\n",
       "    }\n",
       "\n",
       "    .dataframe thead tr:last-of-type th {\n",
       "        text-align: right;\n",
       "    }\n",
       "</style>\n",
       "<table border=\"1\" class=\"dataframe\">\n",
       "  <thead>\n",
       "    <tr>\n",
       "      <th></th>\n",
       "      <th>sum</th>\n",
       "      <th>count</th>\n",
       "      <th>ratio</th>\n",
       "    </tr>\n",
       "    <tr>\n",
       "      <th></th>\n",
       "      <th>debt</th>\n",
       "      <th>debt</th>\n",
       "      <th></th>\n",
       "    </tr>\n",
       "    <tr>\n",
       "      <th>family_status_id</th>\n",
       "      <th></th>\n",
       "      <th></th>\n",
       "      <th></th>\n",
       "    </tr>\n",
       "  </thead>\n",
       "  <tbody>\n",
       "    <tr>\n",
       "      <th>0</th>\n",
       "      <td>931</td>\n",
       "      <td>12339</td>\n",
       "      <td>7.545182</td>\n",
       "    </tr>\n",
       "    <tr>\n",
       "      <th>1</th>\n",
       "      <td>388</td>\n",
       "      <td>4151</td>\n",
       "      <td>9.347145</td>\n",
       "    </tr>\n",
       "    <tr>\n",
       "      <th>2</th>\n",
       "      <td>63</td>\n",
       "      <td>959</td>\n",
       "      <td>6.569343</td>\n",
       "    </tr>\n",
       "    <tr>\n",
       "      <th>3</th>\n",
       "      <td>85</td>\n",
       "      <td>1195</td>\n",
       "      <td>7.112971</td>\n",
       "    </tr>\n",
       "    <tr>\n",
       "      <th>4</th>\n",
       "      <td>274</td>\n",
       "      <td>2810</td>\n",
       "      <td>9.750890</td>\n",
       "    </tr>\n",
       "  </tbody>\n",
       "</table>\n",
       "</div>"
      ],
      "text/plain": [
       "                  sum  count     ratio\n",
       "                 debt   debt          \n",
       "family_status_id                      \n",
       "0                 931  12339  7.545182\n",
       "1                 388   4151  9.347145\n",
       "2                  63    959  6.569343\n",
       "3                  85   1195  7.112971\n",
       "4                 274   2810  9.750890"
      ]
     },
     "metadata": {},
     "output_type": "display_data"
    }
   ],
   "source": [
    "df_pivot_family_status = df.pivot_table(index=['family_status_id'], values='debt', aggfunc=['sum','count'])\n",
    "df_pivot_family_status['ratio']=df_pivot_family_status['sum']/df_pivot_family_status['count']*100\n",
    "display(df_pivot_family_status.head(10).sort_values(by='family_status_id'))"
   ]
  },
  {
   "cell_type": "markdown",
   "id": "2da51d1e",
   "metadata": {},
   "source": [
    "#### Вывод 2: \n",
    "У клиентов без семьи (вдовец/вдова и люди в разводе) уровень просрочки более низкий. Самый высокий уровень задолженности у одиноких клиентов и состоящих в гражданском браке.\n",
    "В целом можно сказать,что зависимость от семейного положения есть. Не женатые/незамужние клиенты имеют больший процент невозвратов кредита в срок. Разведенные или овдовевшие клиенты чаще платят в срок, чем люди находящиеся в браке."
   ]
  },
  {
   "cell_type": "markdown",
   "id": "58230fb8",
   "metadata": {},
   "source": [
    "#### Вопрос 3: Есть ли зависимость между уровнем дохода и возвратом кредита в срок?"
   ]
  },
  {
   "cell_type": "code",
   "execution_count": 21,
   "id": "dee9fbe9",
   "metadata": {},
   "outputs": [
    {
     "data": {
      "text/html": [
       "<div>\n",
       "<style scoped>\n",
       "    .dataframe tbody tr th:only-of-type {\n",
       "        vertical-align: middle;\n",
       "    }\n",
       "\n",
       "    .dataframe tbody tr th {\n",
       "        vertical-align: top;\n",
       "    }\n",
       "\n",
       "    .dataframe thead tr th {\n",
       "        text-align: left;\n",
       "    }\n",
       "\n",
       "    .dataframe thead tr:last-of-type th {\n",
       "        text-align: right;\n",
       "    }\n",
       "</style>\n",
       "<table border=\"1\" class=\"dataframe\">\n",
       "  <thead>\n",
       "    <tr>\n",
       "      <th></th>\n",
       "      <th>sum</th>\n",
       "      <th>count</th>\n",
       "      <th>ratio</th>\n",
       "    </tr>\n",
       "    <tr>\n",
       "      <th></th>\n",
       "      <th>debt</th>\n",
       "      <th>debt</th>\n",
       "      <th></th>\n",
       "    </tr>\n",
       "    <tr>\n",
       "      <th>income_category</th>\n",
       "      <th></th>\n",
       "      <th></th>\n",
       "      <th></th>\n",
       "    </tr>\n",
       "  </thead>\n",
       "  <tbody>\n",
       "    <tr>\n",
       "      <th>A</th>\n",
       "      <td>2</td>\n",
       "      <td>25</td>\n",
       "      <td>8.000000</td>\n",
       "    </tr>\n",
       "    <tr>\n",
       "      <th>B</th>\n",
       "      <td>356</td>\n",
       "      <td>5041</td>\n",
       "      <td>7.062091</td>\n",
       "    </tr>\n",
       "    <tr>\n",
       "      <th>C</th>\n",
       "      <td>1360</td>\n",
       "      <td>16016</td>\n",
       "      <td>8.491508</td>\n",
       "    </tr>\n",
       "    <tr>\n",
       "      <th>D</th>\n",
       "      <td>21</td>\n",
       "      <td>350</td>\n",
       "      <td>6.000000</td>\n",
       "    </tr>\n",
       "    <tr>\n",
       "      <th>E</th>\n",
       "      <td>2</td>\n",
       "      <td>22</td>\n",
       "      <td>9.090909</td>\n",
       "    </tr>\n",
       "  </tbody>\n",
       "</table>\n",
       "</div>"
      ],
      "text/plain": [
       "                  sum  count     ratio\n",
       "                 debt   debt          \n",
       "income_category                       \n",
       "A                   2     25  8.000000\n",
       "B                 356   5041  7.062091\n",
       "C                1360  16016  8.491508\n",
       "D                  21    350  6.000000\n",
       "E                   2     22  9.090909"
      ]
     },
     "metadata": {},
     "output_type": "display_data"
    }
   ],
   "source": [
    "df_pivot_income_category = df.pivot_table(index=['income_category'], values='debt', aggfunc=['sum','count'])\n",
    "df_pivot_income_category['ratio']=df_pivot_income_category['sum']/df_pivot_income_category['count']*100\n",
    "display(df_pivot_income_category.head(10).sort_values(by='income_category'))"
   ]
  },
  {
   "cell_type": "markdown",
   "id": "17c5d0a5",
   "metadata": {},
   "source": [
    "#### Вывод 3: \n",
    "По данным сводной таблицы, можно сказать, что реже всего задолженность возникает у клиентов с более высоким и среднем доходом. У клиентов с самыми низкими доходами просрочки случаются чаще.Количество заявок, при самом высоком, так и при самом низком доходе, минимальны, клиенты данных категорий редко подают заявки на кредит."
   ]
  },
  {
   "cell_type": "markdown",
   "id": "85fe994a",
   "metadata": {},
   "source": [
    "#### Вопрос 4: Как разные цели кредита влияют на его возврат в срок?"
   ]
  },
  {
   "cell_type": "code",
   "execution_count": 22,
   "id": "eb89efdf",
   "metadata": {},
   "outputs": [
    {
     "data": {
      "text/html": [
       "<div>\n",
       "<style scoped>\n",
       "    .dataframe tbody tr th:only-of-type {\n",
       "        vertical-align: middle;\n",
       "    }\n",
       "\n",
       "    .dataframe tbody tr th {\n",
       "        vertical-align: top;\n",
       "    }\n",
       "\n",
       "    .dataframe thead tr th {\n",
       "        text-align: left;\n",
       "    }\n",
       "\n",
       "    .dataframe thead tr:last-of-type th {\n",
       "        text-align: right;\n",
       "    }\n",
       "</style>\n",
       "<table border=\"1\" class=\"dataframe\">\n",
       "  <thead>\n",
       "    <tr>\n",
       "      <th></th>\n",
       "      <th>sum</th>\n",
       "      <th>count</th>\n",
       "      <th>ratio</th>\n",
       "    </tr>\n",
       "    <tr>\n",
       "      <th></th>\n",
       "      <th>debt</th>\n",
       "      <th>debt</th>\n",
       "      <th></th>\n",
       "    </tr>\n",
       "    <tr>\n",
       "      <th>purpose_category</th>\n",
       "      <th></th>\n",
       "      <th></th>\n",
       "      <th></th>\n",
       "    </tr>\n",
       "  </thead>\n",
       "  <tbody>\n",
       "    <tr>\n",
       "      <th>операции с недвижимостью</th>\n",
       "      <td>782</td>\n",
       "      <td>10811</td>\n",
       "      <td>7.233373</td>\n",
       "    </tr>\n",
       "    <tr>\n",
       "      <th>проведение свадьбы</th>\n",
       "      <td>186</td>\n",
       "      <td>2324</td>\n",
       "      <td>8.003442</td>\n",
       "    </tr>\n",
       "    <tr>\n",
       "      <th>получение образования</th>\n",
       "      <td>370</td>\n",
       "      <td>4013</td>\n",
       "      <td>9.220035</td>\n",
       "    </tr>\n",
       "    <tr>\n",
       "      <th>операция с автомобилем</th>\n",
       "      <td>403</td>\n",
       "      <td>4306</td>\n",
       "      <td>9.359034</td>\n",
       "    </tr>\n",
       "  </tbody>\n",
       "</table>\n",
       "</div>"
      ],
      "text/plain": [
       "                          sum  count     ratio\n",
       "                         debt   debt          \n",
       "purpose_category                              \n",
       "операции с недвижимостью  782  10811  7.233373\n",
       "проведение свадьбы        186   2324  8.003442\n",
       "получение образования     370   4013  9.220035\n",
       "операция с автомобилем    403   4306  9.359034"
      ]
     },
     "metadata": {},
     "output_type": "display_data"
    }
   ],
   "source": [
    "df_pivot_purpose_category = df.pivot_table(index=['purpose_category'], values='debt', aggfunc=['sum','count'])\n",
    "df_pivot_purpose_category['ratio']=df_pivot_purpose_category['sum']/df_pivot_purpose_category['count']*100\n",
    "display(df_pivot_purpose_category.head(10).sort_values(by='ratio'))"
   ]
  },
  {
   "cell_type": "markdown",
   "id": "c93b8c88",
   "metadata": {},
   "source": [
    "#### Вывод 4: \n",
    "Заемщики, цель которых операции с недвижимостью, наиболее ответственны и менее склонны нарушать обязательства по выплатам кредита в срок.Задолженность, с целью операций с авто и получением образования, возникает чаще. Задолженности по кредиту на проведение свадьбы бывают реже - примерно как и в случае операций с недвижимостью."
   ]
  },
  {
   "cell_type": "markdown",
   "id": "4e8314e5",
   "metadata": {},
   "source": [
    "## Общий вывод:"
   ]
  },
  {
   "cell_type": "markdown",
   "id": "d84d4918",
   "metadata": {},
   "source": [
    "Клиент с наименьшим риском возникновения просрочки - это одинокий человек без детей,с более высоким доходом, цель займа которго операции с недвижимостью.Отклонение просроченных выплат в каждой категории примерно одинаков и составляет 1-3%.\n",
    "Таким образом, несмотря на схожее процентное отклонение, наибольшее влияние на задолженность оказывает семейное положение и уровень дохода. Наименьшее влияние оказывают цели кредита и количество детей."
   ]
  }
 ],
 "metadata": {
  "ExecuteTimeLog": [
   {
    "duration": 67,
    "start_time": "2022-04-03T11:18:48.518Z"
   },
   {
    "duration": 482,
    "start_time": "2022-04-03T11:19:39.744Z"
   },
   {
    "duration": 66,
    "start_time": "2022-04-03T11:19:40.367Z"
   },
   {
    "duration": 29,
    "start_time": "2022-04-03T11:19:41.113Z"
   },
   {
    "duration": 20,
    "start_time": "2022-04-03T11:20:06.240Z"
   },
   {
    "duration": 8,
    "start_time": "2022-04-03T11:21:25.016Z"
   },
   {
    "duration": 4,
    "start_time": "2022-04-03T11:24:47.751Z"
   },
   {
    "duration": 70,
    "start_time": "2022-04-03T11:24:48.199Z"
   },
   {
    "duration": 19,
    "start_time": "2022-04-03T11:24:49.528Z"
   },
   {
    "duration": 20,
    "start_time": "2022-04-03T11:24:51.071Z"
   },
   {
    "duration": 170,
    "start_time": "2022-04-03T11:25:39.927Z"
   },
   {
    "duration": 144,
    "start_time": "2022-04-03T11:33:26.030Z"
   },
   {
    "duration": 13,
    "start_time": "2022-04-03T11:36:07.740Z"
   },
   {
    "duration": 26,
    "start_time": "2022-04-03T11:37:37.251Z"
   },
   {
    "duration": 52,
    "start_time": "2022-04-03T11:39:32.621Z"
   },
   {
    "duration": 57,
    "start_time": "2022-04-03T11:39:38.828Z"
   },
   {
    "duration": 54,
    "start_time": "2022-04-03T11:40:02.019Z"
   },
   {
    "duration": 70,
    "start_time": "2022-04-03T11:40:14.260Z"
   },
   {
    "duration": 67,
    "start_time": "2022-04-03T11:43:23.044Z"
   },
   {
    "duration": 28,
    "start_time": "2022-04-03T11:45:57.924Z"
   },
   {
    "duration": 26,
    "start_time": "2022-04-03T12:08:53.621Z"
   },
   {
    "duration": 24,
    "start_time": "2022-04-03T12:09:10.059Z"
   },
   {
    "duration": 22,
    "start_time": "2022-04-03T12:09:41.628Z"
   },
   {
    "duration": 56,
    "start_time": "2022-04-03T12:10:31.682Z"
   },
   {
    "duration": 22,
    "start_time": "2022-04-03T12:11:25.380Z"
   },
   {
    "duration": 85,
    "start_time": "2022-04-04T10:49:33.619Z"
   },
   {
    "duration": 550,
    "start_time": "2022-04-04T10:49:49.647Z"
   },
   {
    "duration": 69,
    "start_time": "2022-04-04T10:49:50.200Z"
   },
   {
    "duration": 29,
    "start_time": "2022-04-04T10:49:51.088Z"
   },
   {
    "duration": 21,
    "start_time": "2022-04-04T10:49:51.878Z"
   },
   {
    "duration": 29,
    "start_time": "2022-04-04T10:49:54.334Z"
   },
   {
    "duration": 99,
    "start_time": "2022-04-04T10:49:58.026Z"
   },
   {
    "duration": 29,
    "start_time": "2022-04-04T10:50:00.535Z"
   },
   {
    "duration": 10,
    "start_time": "2022-04-04T10:50:05.282Z"
   },
   {
    "duration": 19,
    "start_time": "2022-04-04T10:51:10.646Z"
   },
   {
    "duration": 30,
    "start_time": "2022-04-04T10:51:44.206Z"
   },
   {
    "duration": 88,
    "start_time": "2022-04-04T10:52:35.414Z"
   },
   {
    "duration": 39,
    "start_time": "2022-04-04T10:53:02.039Z"
   },
   {
    "duration": 24,
    "start_time": "2022-04-04T10:54:26.759Z"
   },
   {
    "duration": 24,
    "start_time": "2022-04-04T10:54:40.526Z"
   },
   {
    "duration": 143,
    "start_time": "2022-04-04T10:56:49.669Z"
   },
   {
    "duration": 149,
    "start_time": "2022-04-04T10:58:08.190Z"
   },
   {
    "duration": 20,
    "start_time": "2022-04-04T11:50:07.726Z"
   },
   {
    "duration": 43,
    "start_time": "2022-04-04T12:05:35.119Z"
   },
   {
    "duration": 27,
    "start_time": "2022-04-04T12:05:38.589Z"
   },
   {
    "duration": 4,
    "start_time": "2022-04-04T12:05:46.131Z"
   },
   {
    "duration": 60,
    "start_time": "2022-04-04T12:05:46.504Z"
   },
   {
    "duration": 19,
    "start_time": "2022-04-04T12:05:47.204Z"
   },
   {
    "duration": 22,
    "start_time": "2022-04-04T12:05:47.659Z"
   },
   {
    "duration": 22,
    "start_time": "2022-04-04T12:05:49.459Z"
   },
   {
    "duration": 87,
    "start_time": "2022-04-04T12:05:50.118Z"
   },
   {
    "duration": 24,
    "start_time": "2022-04-04T12:05:50.799Z"
   },
   {
    "duration": 16,
    "start_time": "2022-04-04T12:05:55.332Z"
   },
   {
    "duration": 10,
    "start_time": "2022-04-04T12:05:59.258Z"
   },
   {
    "duration": 10,
    "start_time": "2022-04-04T12:06:11.955Z"
   },
   {
    "duration": 36,
    "start_time": "2022-04-04T12:06:18.295Z"
   },
   {
    "duration": 40,
    "start_time": "2022-04-04T12:06:31.932Z"
   },
   {
    "duration": 21,
    "start_time": "2022-04-04T12:18:02.360Z"
   },
   {
    "duration": 41,
    "start_time": "2022-04-04T12:18:07.412Z"
   },
   {
    "duration": 17,
    "start_time": "2022-04-04T12:18:07.461Z"
   },
   {
    "duration": 13,
    "start_time": "2022-04-04T12:19:36.246Z"
   },
   {
    "duration": 10,
    "start_time": "2022-04-04T12:20:18.270Z"
   },
   {
    "duration": 16,
    "start_time": "2022-04-04T12:28:50.670Z"
   },
   {
    "duration": 12,
    "start_time": "2022-04-04T12:31:58.915Z"
   },
   {
    "duration": 10,
    "start_time": "2022-04-04T12:32:07.634Z"
   },
   {
    "duration": 10,
    "start_time": "2022-04-04T12:32:08.964Z"
   },
   {
    "duration": 74,
    "start_time": "2022-04-04T12:32:25.379Z"
   },
   {
    "duration": 56,
    "start_time": "2022-04-04T12:32:48.519Z"
   },
   {
    "duration": 84,
    "start_time": "2022-04-04T12:33:10.963Z"
   },
   {
    "duration": 98,
    "start_time": "2022-04-04T12:33:55.866Z"
   },
   {
    "duration": 120,
    "start_time": "2022-04-04T12:34:40.427Z"
   },
   {
    "duration": 107,
    "start_time": "2022-04-04T12:35:06.930Z"
   },
   {
    "duration": 162,
    "start_time": "2022-04-04T12:45:19.200Z"
   },
   {
    "duration": 174,
    "start_time": "2022-04-04T13:03:52.015Z"
   },
   {
    "duration": 8,
    "start_time": "2022-04-04T13:24:05.540Z"
   },
   {
    "duration": 13,
    "start_time": "2022-04-04T13:25:30.833Z"
   },
   {
    "duration": 116,
    "start_time": "2022-04-04T13:26:31.001Z"
   },
   {
    "duration": 11,
    "start_time": "2022-04-04T13:27:22.605Z"
   },
   {
    "duration": 15,
    "start_time": "2022-04-04T13:28:48.595Z"
   },
   {
    "duration": 17,
    "start_time": "2022-04-04T14:00:33.104Z"
   },
   {
    "duration": 16,
    "start_time": "2022-04-04T14:02:16.671Z"
   },
   {
    "duration": 32,
    "start_time": "2022-04-04T14:02:51.078Z"
   },
   {
    "duration": 9,
    "start_time": "2022-04-04T14:03:43.926Z"
   },
   {
    "duration": 16,
    "start_time": "2022-04-04T14:03:56.230Z"
   },
   {
    "duration": 15,
    "start_time": "2022-04-04T14:04:02.253Z"
   },
   {
    "duration": 15,
    "start_time": "2022-04-04T14:04:06.461Z"
   },
   {
    "duration": 16,
    "start_time": "2022-04-04T14:04:22.621Z"
   },
   {
    "duration": 13,
    "start_time": "2022-04-04T14:04:23.701Z"
   },
   {
    "duration": 16,
    "start_time": "2022-04-04T14:05:44.845Z"
   },
   {
    "duration": 3,
    "start_time": "2022-04-04T14:05:48.784Z"
   },
   {
    "duration": 97,
    "start_time": "2022-04-04T14:05:48.790Z"
   },
   {
    "duration": 19,
    "start_time": "2022-04-04T14:05:48.890Z"
   },
   {
    "duration": 27,
    "start_time": "2022-04-04T14:05:48.911Z"
   },
   {
    "duration": 44,
    "start_time": "2022-04-04T14:05:48.941Z"
   },
   {
    "duration": 72,
    "start_time": "2022-04-04T14:05:48.987Z"
   },
   {
    "duration": 36,
    "start_time": "2022-04-04T14:05:49.062Z"
   },
   {
    "duration": 18,
    "start_time": "2022-04-04T14:05:49.101Z"
   },
   {
    "duration": 76,
    "start_time": "2022-04-04T14:05:49.121Z"
   },
   {
    "duration": 28,
    "start_time": "2022-04-04T14:05:49.199Z"
   },
   {
    "duration": 10,
    "start_time": "2022-04-04T14:05:49.230Z"
   },
   {
    "duration": 150,
    "start_time": "2022-04-04T14:05:49.242Z"
   },
   {
    "duration": 18,
    "start_time": "2022-04-04T14:05:49.395Z"
   },
   {
    "duration": 13,
    "start_time": "2022-04-04T14:05:49.415Z"
   },
   {
    "duration": 146,
    "start_time": "2022-04-04T14:05:49.431Z"
   },
   {
    "duration": 0,
    "start_time": "2022-04-04T14:05:49.580Z"
   },
   {
    "duration": 0,
    "start_time": "2022-04-04T14:05:49.582Z"
   },
   {
    "duration": 0,
    "start_time": "2022-04-04T14:05:49.585Z"
   },
   {
    "duration": 0,
    "start_time": "2022-04-04T14:05:49.587Z"
   },
   {
    "duration": 0,
    "start_time": "2022-04-04T14:05:49.589Z"
   },
   {
    "duration": 0,
    "start_time": "2022-04-04T14:05:49.591Z"
   },
   {
    "duration": 14,
    "start_time": "2022-04-04T14:09:20.627Z"
   },
   {
    "duration": 16,
    "start_time": "2022-04-04T14:09:48.867Z"
   },
   {
    "duration": 15,
    "start_time": "2022-04-04T14:09:53.443Z"
   },
   {
    "duration": 4,
    "start_time": "2022-04-04T14:09:56.222Z"
   },
   {
    "duration": 75,
    "start_time": "2022-04-04T14:09:56.229Z"
   },
   {
    "duration": 18,
    "start_time": "2022-04-04T14:09:56.307Z"
   },
   {
    "duration": 25,
    "start_time": "2022-04-04T14:09:56.327Z"
   },
   {
    "duration": 44,
    "start_time": "2022-04-04T14:09:56.355Z"
   },
   {
    "duration": 84,
    "start_time": "2022-04-04T14:09:56.402Z"
   },
   {
    "duration": 24,
    "start_time": "2022-04-04T14:09:56.489Z"
   },
   {
    "duration": 17,
    "start_time": "2022-04-04T14:09:56.515Z"
   },
   {
    "duration": 70,
    "start_time": "2022-04-04T14:09:56.534Z"
   },
   {
    "duration": 25,
    "start_time": "2022-04-04T14:09:56.606Z"
   },
   {
    "duration": 9,
    "start_time": "2022-04-04T14:09:56.634Z"
   },
   {
    "duration": 158,
    "start_time": "2022-04-04T14:09:56.645Z"
   },
   {
    "duration": 9,
    "start_time": "2022-04-04T14:09:56.806Z"
   },
   {
    "duration": 11,
    "start_time": "2022-04-04T14:09:56.818Z"
   },
   {
    "duration": 145,
    "start_time": "2022-04-04T14:09:56.831Z"
   },
   {
    "duration": 0,
    "start_time": "2022-04-04T14:09:56.978Z"
   },
   {
    "duration": 0,
    "start_time": "2022-04-04T14:09:56.979Z"
   },
   {
    "duration": 1,
    "start_time": "2022-04-04T14:09:56.980Z"
   },
   {
    "duration": 0,
    "start_time": "2022-04-04T14:09:56.982Z"
   },
   {
    "duration": 0,
    "start_time": "2022-04-04T14:09:56.984Z"
   },
   {
    "duration": 0,
    "start_time": "2022-04-04T14:09:56.988Z"
   },
   {
    "duration": 18,
    "start_time": "2022-04-04T14:10:16.075Z"
   },
   {
    "duration": 10,
    "start_time": "2022-04-04T14:10:24.508Z"
   },
   {
    "duration": 16,
    "start_time": "2022-04-04T14:10:29.483Z"
   },
   {
    "duration": 14,
    "start_time": "2022-04-04T15:10:06.226Z"
   },
   {
    "duration": 4,
    "start_time": "2022-04-04T15:10:09.263Z"
   },
   {
    "duration": 71,
    "start_time": "2022-04-04T15:10:09.269Z"
   },
   {
    "duration": 18,
    "start_time": "2022-04-04T15:10:09.343Z"
   },
   {
    "duration": 20,
    "start_time": "2022-04-04T15:10:09.382Z"
   },
   {
    "duration": 22,
    "start_time": "2022-04-04T15:10:09.405Z"
   },
   {
    "duration": 99,
    "start_time": "2022-04-04T15:10:09.429Z"
   },
   {
    "duration": 18,
    "start_time": "2022-04-04T15:10:09.531Z"
   },
   {
    "duration": 39,
    "start_time": "2022-04-04T15:10:09.551Z"
   },
   {
    "duration": 40,
    "start_time": "2022-04-04T15:10:09.592Z"
   },
   {
    "duration": 48,
    "start_time": "2022-04-04T15:10:09.635Z"
   },
   {
    "duration": 10,
    "start_time": "2022-04-04T15:10:09.686Z"
   },
   {
    "duration": 131,
    "start_time": "2022-04-04T15:10:09.698Z"
   },
   {
    "duration": 13,
    "start_time": "2022-04-04T15:10:09.831Z"
   },
   {
    "duration": 11,
    "start_time": "2022-04-04T15:10:09.846Z"
   },
   {
    "duration": 187,
    "start_time": "2022-04-04T15:10:09.881Z"
   },
   {
    "duration": 0,
    "start_time": "2022-04-04T15:10:10.070Z"
   },
   {
    "duration": 0,
    "start_time": "2022-04-04T15:10:10.072Z"
   },
   {
    "duration": 0,
    "start_time": "2022-04-04T15:10:10.073Z"
   },
   {
    "duration": 0,
    "start_time": "2022-04-04T15:10:10.075Z"
   },
   {
    "duration": 0,
    "start_time": "2022-04-04T15:10:10.076Z"
   },
   {
    "duration": 0,
    "start_time": "2022-04-04T15:10:10.078Z"
   },
   {
    "duration": 17,
    "start_time": "2022-04-04T15:13:53.092Z"
   },
   {
    "duration": 5,
    "start_time": "2022-04-04T15:14:01.590Z"
   },
   {
    "duration": 114,
    "start_time": "2022-04-04T15:14:01.598Z"
   },
   {
    "duration": 29,
    "start_time": "2022-04-04T15:14:01.715Z"
   },
   {
    "duration": 53,
    "start_time": "2022-04-04T15:14:01.748Z"
   },
   {
    "duration": 24,
    "start_time": "2022-04-04T15:14:01.804Z"
   },
   {
    "duration": 91,
    "start_time": "2022-04-04T15:14:01.830Z"
   },
   {
    "duration": 20,
    "start_time": "2022-04-04T15:14:01.924Z"
   },
   {
    "duration": 64,
    "start_time": "2022-04-04T15:14:01.946Z"
   },
   {
    "duration": 43,
    "start_time": "2022-04-04T15:14:02.012Z"
   },
   {
    "duration": 34,
    "start_time": "2022-04-04T15:14:02.059Z"
   },
   {
    "duration": 11,
    "start_time": "2022-04-04T15:14:02.095Z"
   },
   {
    "duration": 128,
    "start_time": "2022-04-04T15:14:02.108Z"
   },
   {
    "duration": 21,
    "start_time": "2022-04-04T15:14:02.238Z"
   },
   {
    "duration": 26,
    "start_time": "2022-04-04T15:14:02.261Z"
   },
   {
    "duration": 141,
    "start_time": "2022-04-04T15:14:02.289Z"
   },
   {
    "duration": 0,
    "start_time": "2022-04-04T15:14:02.432Z"
   },
   {
    "duration": 0,
    "start_time": "2022-04-04T15:14:02.434Z"
   },
   {
    "duration": 0,
    "start_time": "2022-04-04T15:14:02.436Z"
   },
   {
    "duration": 0,
    "start_time": "2022-04-04T15:14:02.437Z"
   },
   {
    "duration": 0,
    "start_time": "2022-04-04T15:14:02.438Z"
   },
   {
    "duration": 0,
    "start_time": "2022-04-04T15:14:02.439Z"
   },
   {
    "duration": 140,
    "start_time": "2022-04-04T15:17:13.219Z"
   },
   {
    "duration": 15,
    "start_time": "2022-04-04T15:17:50.020Z"
   },
   {
    "duration": 4,
    "start_time": "2022-04-04T15:17:52.830Z"
   },
   {
    "duration": 74,
    "start_time": "2022-04-04T15:17:52.837Z"
   },
   {
    "duration": 19,
    "start_time": "2022-04-04T15:17:52.913Z"
   },
   {
    "duration": 20,
    "start_time": "2022-04-04T15:17:52.935Z"
   },
   {
    "duration": 43,
    "start_time": "2022-04-04T15:17:52.957Z"
   },
   {
    "duration": 82,
    "start_time": "2022-04-04T15:17:53.003Z"
   },
   {
    "duration": 20,
    "start_time": "2022-04-04T15:17:53.088Z"
   },
   {
    "duration": 17,
    "start_time": "2022-04-04T15:17:53.111Z"
   },
   {
    "duration": 75,
    "start_time": "2022-04-04T15:17:53.132Z"
   },
   {
    "duration": 26,
    "start_time": "2022-04-04T15:17:53.209Z"
   },
   {
    "duration": 10,
    "start_time": "2022-04-04T15:17:53.238Z"
   },
   {
    "duration": 137,
    "start_time": "2022-04-04T15:17:53.250Z"
   },
   {
    "duration": 31,
    "start_time": "2022-04-04T15:17:53.389Z"
   },
   {
    "duration": 10,
    "start_time": "2022-04-04T15:17:53.422Z"
   },
   {
    "duration": 138,
    "start_time": "2022-04-04T15:17:53.434Z"
   },
   {
    "duration": 0,
    "start_time": "2022-04-04T15:17:53.574Z"
   },
   {
    "duration": 0,
    "start_time": "2022-04-04T15:17:53.575Z"
   },
   {
    "duration": 0,
    "start_time": "2022-04-04T15:17:53.577Z"
   },
   {
    "duration": 0,
    "start_time": "2022-04-04T15:17:53.579Z"
   },
   {
    "duration": 0,
    "start_time": "2022-04-04T15:17:53.581Z"
   },
   {
    "duration": 1,
    "start_time": "2022-04-04T15:17:53.582Z"
   },
   {
    "duration": 5,
    "start_time": "2022-04-04T15:18:19.813Z"
   },
   {
    "duration": 71,
    "start_time": "2022-04-04T15:18:19.821Z"
   },
   {
    "duration": 21,
    "start_time": "2022-04-04T15:18:19.894Z"
   },
   {
    "duration": 28,
    "start_time": "2022-04-04T15:18:19.918Z"
   },
   {
    "duration": 46,
    "start_time": "2022-04-04T15:18:19.948Z"
   },
   {
    "duration": 91,
    "start_time": "2022-04-04T15:18:19.997Z"
   },
   {
    "duration": 25,
    "start_time": "2022-04-04T15:18:20.091Z"
   },
   {
    "duration": 17,
    "start_time": "2022-04-04T15:18:20.119Z"
   },
   {
    "duration": 81,
    "start_time": "2022-04-04T15:18:20.139Z"
   },
   {
    "duration": 32,
    "start_time": "2022-04-04T15:18:20.223Z"
   },
   {
    "duration": 26,
    "start_time": "2022-04-04T15:18:20.258Z"
   },
   {
    "duration": 145,
    "start_time": "2022-04-04T15:18:20.287Z"
   },
   {
    "duration": 71,
    "start_time": "2022-04-04T15:18:20.434Z"
   },
   {
    "duration": 9,
    "start_time": "2022-04-04T15:18:20.508Z"
   },
   {
    "duration": 207,
    "start_time": "2022-04-04T15:18:20.519Z"
   },
   {
    "duration": 0,
    "start_time": "2022-04-04T15:18:20.728Z"
   },
   {
    "duration": 0,
    "start_time": "2022-04-04T15:18:20.729Z"
   },
   {
    "duration": 0,
    "start_time": "2022-04-04T15:18:20.731Z"
   },
   {
    "duration": 0,
    "start_time": "2022-04-04T15:18:20.732Z"
   },
   {
    "duration": 0,
    "start_time": "2022-04-04T15:18:20.734Z"
   },
   {
    "duration": 0,
    "start_time": "2022-04-04T15:18:20.736Z"
   },
   {
    "duration": 2281,
    "start_time": "2022-04-04T15:23:08.129Z"
   },
   {
    "duration": 5,
    "start_time": "2022-04-04T15:23:15.035Z"
   },
   {
    "duration": 74,
    "start_time": "2022-04-04T15:23:15.042Z"
   },
   {
    "duration": 19,
    "start_time": "2022-04-04T15:23:15.118Z"
   },
   {
    "duration": 42,
    "start_time": "2022-04-04T15:23:15.140Z"
   },
   {
    "duration": 22,
    "start_time": "2022-04-04T15:23:15.184Z"
   },
   {
    "duration": 85,
    "start_time": "2022-04-04T15:23:15.208Z"
   },
   {
    "duration": 19,
    "start_time": "2022-04-04T15:23:15.296Z"
   },
   {
    "duration": 16,
    "start_time": "2022-04-04T15:23:15.317Z"
   },
   {
    "duration": 74,
    "start_time": "2022-04-04T15:23:15.336Z"
   },
   {
    "duration": 25,
    "start_time": "2022-04-04T15:23:15.412Z"
   },
   {
    "duration": 9,
    "start_time": "2022-04-04T15:23:15.439Z"
   },
   {
    "duration": 171,
    "start_time": "2022-04-04T15:23:15.451Z"
   },
   {
    "duration": 58,
    "start_time": "2022-04-04T15:23:15.625Z"
   },
   {
    "duration": 23,
    "start_time": "2022-04-04T15:23:15.686Z"
   },
   {
    "duration": 13176,
    "start_time": "2022-04-04T15:23:15.712Z"
   },
   {
    "duration": 0,
    "start_time": "2022-04-04T15:23:28.890Z"
   },
   {
    "duration": 0,
    "start_time": "2022-04-04T15:23:28.892Z"
   },
   {
    "duration": 0,
    "start_time": "2022-04-04T15:23:28.894Z"
   },
   {
    "duration": 0,
    "start_time": "2022-04-04T15:23:28.895Z"
   },
   {
    "duration": 20,
    "start_time": "2022-04-04T15:23:46.658Z"
   },
   {
    "duration": 2458,
    "start_time": "2022-04-04T15:26:05.552Z"
   },
   {
    "duration": 3,
    "start_time": "2022-04-04T15:26:11.356Z"
   },
   {
    "duration": 65,
    "start_time": "2022-04-04T15:26:11.362Z"
   },
   {
    "duration": 17,
    "start_time": "2022-04-04T15:26:11.429Z"
   },
   {
    "duration": 42,
    "start_time": "2022-04-04T15:26:11.449Z"
   },
   {
    "duration": 22,
    "start_time": "2022-04-04T15:26:11.493Z"
   },
   {
    "duration": 83,
    "start_time": "2022-04-04T15:26:11.517Z"
   },
   {
    "duration": 19,
    "start_time": "2022-04-04T15:26:11.603Z"
   },
   {
    "duration": 18,
    "start_time": "2022-04-04T15:26:11.624Z"
   },
   {
    "duration": 73,
    "start_time": "2022-04-04T15:26:11.647Z"
   },
   {
    "duration": 25,
    "start_time": "2022-04-04T15:26:11.723Z"
   },
   {
    "duration": 33,
    "start_time": "2022-04-04T15:26:11.750Z"
   },
   {
    "duration": 117,
    "start_time": "2022-04-04T15:26:11.785Z"
   },
   {
    "duration": 41,
    "start_time": "2022-04-04T15:26:11.904Z"
   },
   {
    "duration": 45,
    "start_time": "2022-04-04T15:26:11.947Z"
   },
   {
    "duration": 2327,
    "start_time": "2022-04-04T15:26:11.994Z"
   },
   {
    "duration": 0,
    "start_time": "2022-04-04T15:26:14.323Z"
   },
   {
    "duration": 0,
    "start_time": "2022-04-04T15:26:14.325Z"
   },
   {
    "duration": 3,
    "start_time": "2022-04-04T15:28:50.515Z"
   },
   {
    "duration": 72,
    "start_time": "2022-04-04T15:28:50.521Z"
   },
   {
    "duration": 18,
    "start_time": "2022-04-04T15:28:50.595Z"
   },
   {
    "duration": 22,
    "start_time": "2022-04-04T15:28:50.615Z"
   },
   {
    "duration": 51,
    "start_time": "2022-04-04T15:28:50.641Z"
   },
   {
    "duration": 64,
    "start_time": "2022-04-04T15:28:50.694Z"
   },
   {
    "duration": 31,
    "start_time": "2022-04-04T15:28:50.760Z"
   },
   {
    "duration": 17,
    "start_time": "2022-04-04T15:28:50.793Z"
   },
   {
    "duration": 70,
    "start_time": "2022-04-04T15:28:50.812Z"
   },
   {
    "duration": 24,
    "start_time": "2022-04-04T15:28:50.885Z"
   },
   {
    "duration": 11,
    "start_time": "2022-04-04T15:28:50.912Z"
   },
   {
    "duration": 136,
    "start_time": "2022-04-04T15:28:50.925Z"
   },
   {
    "duration": 49,
    "start_time": "2022-04-04T15:28:51.064Z"
   },
   {
    "duration": 21,
    "start_time": "2022-04-04T15:28:51.115Z"
   },
   {
    "duration": 45,
    "start_time": "2022-04-04T15:28:51.138Z"
   },
   {
    "duration": 159,
    "start_time": "2022-04-04T15:28:51.186Z"
   },
   {
    "duration": 0,
    "start_time": "2022-04-04T15:28:51.347Z"
   },
   {
    "duration": 141,
    "start_time": "2022-04-04T15:39:51.709Z"
   },
   {
    "duration": 0,
    "start_time": "2022-04-04T15:40:23.412Z"
   },
   {
    "duration": 0,
    "start_time": "2022-04-04T15:40:23.413Z"
   },
   {
    "duration": 0,
    "start_time": "2022-04-04T15:40:23.415Z"
   },
   {
    "duration": 0,
    "start_time": "2022-04-04T15:40:23.417Z"
   },
   {
    "duration": 0,
    "start_time": "2022-04-04T15:40:23.419Z"
   },
   {
    "duration": 0,
    "start_time": "2022-04-04T15:40:23.421Z"
   },
   {
    "duration": 1,
    "start_time": "2022-04-04T15:40:23.422Z"
   },
   {
    "duration": 0,
    "start_time": "2022-04-04T15:40:23.424Z"
   },
   {
    "duration": 0,
    "start_time": "2022-04-04T15:40:23.426Z"
   },
   {
    "duration": 0,
    "start_time": "2022-04-04T15:40:23.427Z"
   },
   {
    "duration": 0,
    "start_time": "2022-04-04T15:40:23.429Z"
   },
   {
    "duration": 0,
    "start_time": "2022-04-04T15:40:23.431Z"
   },
   {
    "duration": 0,
    "start_time": "2022-04-04T15:40:23.433Z"
   },
   {
    "duration": 0,
    "start_time": "2022-04-04T15:40:23.517Z"
   },
   {
    "duration": 0,
    "start_time": "2022-04-04T15:40:23.518Z"
   },
   {
    "duration": 0,
    "start_time": "2022-04-04T15:40:23.520Z"
   },
   {
    "duration": 0,
    "start_time": "2022-04-04T15:40:23.521Z"
   },
   {
    "duration": 2488,
    "start_time": "2022-04-04T15:45:04.131Z"
   },
   {
    "duration": 2692,
    "start_time": "2022-04-04T15:45:06.868Z"
   },
   {
    "duration": 5,
    "start_time": "2022-04-04T15:45:18.525Z"
   },
   {
    "duration": 66,
    "start_time": "2022-04-04T15:45:18.532Z"
   },
   {
    "duration": 17,
    "start_time": "2022-04-04T15:45:18.601Z"
   },
   {
    "duration": 20,
    "start_time": "2022-04-04T15:45:18.621Z"
   },
   {
    "duration": 41,
    "start_time": "2022-04-04T15:45:18.644Z"
   },
   {
    "duration": 64,
    "start_time": "2022-04-04T15:45:18.688Z"
   },
   {
    "duration": 39,
    "start_time": "2022-04-04T15:45:18.754Z"
   },
   {
    "duration": 15,
    "start_time": "2022-04-04T15:45:18.796Z"
   },
   {
    "duration": 68,
    "start_time": "2022-04-04T15:45:18.814Z"
   },
   {
    "duration": 26,
    "start_time": "2022-04-04T15:45:18.884Z"
   },
   {
    "duration": 11,
    "start_time": "2022-04-04T15:45:18.912Z"
   },
   {
    "duration": 137,
    "start_time": "2022-04-04T15:45:18.925Z"
   },
   {
    "duration": 49,
    "start_time": "2022-04-04T15:45:19.064Z"
   },
   {
    "duration": 20,
    "start_time": "2022-04-04T15:45:19.115Z"
   },
   {
    "duration": 49,
    "start_time": "2022-04-04T15:45:19.137Z"
   },
   {
    "duration": 146,
    "start_time": "2022-04-04T15:45:19.188Z"
   },
   {
    "duration": 0,
    "start_time": "2022-04-04T15:45:19.336Z"
   },
   {
    "duration": 8,
    "start_time": "2022-04-04T15:47:09.107Z"
   },
   {
    "duration": 10,
    "start_time": "2022-04-04T15:52:10.499Z"
   },
   {
    "duration": 11,
    "start_time": "2022-04-04T15:52:14.218Z"
   },
   {
    "duration": 6,
    "start_time": "2022-04-04T15:52:22.385Z"
   },
   {
    "duration": 612,
    "start_time": "2022-04-04T16:01:31.128Z"
   },
   {
    "duration": 574,
    "start_time": "2022-04-04T16:01:52.888Z"
   },
   {
    "duration": 4,
    "start_time": "2022-04-04T16:01:57.202Z"
   },
   {
    "duration": 79,
    "start_time": "2022-04-04T16:01:57.209Z"
   },
   {
    "duration": 19,
    "start_time": "2022-04-04T16:01:57.291Z"
   },
   {
    "duration": 25,
    "start_time": "2022-04-04T16:01:57.314Z"
   },
   {
    "duration": 51,
    "start_time": "2022-04-04T16:01:57.341Z"
   },
   {
    "duration": 87,
    "start_time": "2022-04-04T16:01:57.395Z"
   },
   {
    "duration": 21,
    "start_time": "2022-04-04T16:01:57.484Z"
   },
   {
    "duration": 19,
    "start_time": "2022-04-04T16:01:57.507Z"
   },
   {
    "duration": 73,
    "start_time": "2022-04-04T16:01:57.530Z"
   },
   {
    "duration": 25,
    "start_time": "2022-04-04T16:01:57.605Z"
   },
   {
    "duration": 10,
    "start_time": "2022-04-04T16:01:57.632Z"
   },
   {
    "duration": 127,
    "start_time": "2022-04-04T16:01:57.645Z"
   },
   {
    "duration": 44,
    "start_time": "2022-04-04T16:01:57.774Z"
   },
   {
    "duration": 20,
    "start_time": "2022-04-04T16:01:57.820Z"
   },
   {
    "duration": 55,
    "start_time": "2022-04-04T16:01:57.842Z"
   },
   {
    "duration": 139,
    "start_time": "2022-04-04T16:01:57.899Z"
   },
   {
    "duration": 0,
    "start_time": "2022-04-04T16:01:58.040Z"
   },
   {
    "duration": 0,
    "start_time": "2022-04-04T16:01:58.042Z"
   },
   {
    "duration": 20,
    "start_time": "2022-04-04T16:02:34.566Z"
   },
   {
    "duration": 19,
    "start_time": "2022-04-04T16:02:42.478Z"
   },
   {
    "duration": 2826,
    "start_time": "2022-04-04T16:04:04.733Z"
   },
   {
    "duration": 4,
    "start_time": "2022-04-04T16:04:43.536Z"
   },
   {
    "duration": 83,
    "start_time": "2022-04-04T16:04:43.543Z"
   },
   {
    "duration": 19,
    "start_time": "2022-04-04T16:04:43.628Z"
   },
   {
    "duration": 35,
    "start_time": "2022-04-04T16:04:43.650Z"
   },
   {
    "duration": 22,
    "start_time": "2022-04-04T16:04:43.687Z"
   },
   {
    "duration": 91,
    "start_time": "2022-04-04T16:04:43.711Z"
   },
   {
    "duration": 19,
    "start_time": "2022-04-04T16:04:43.804Z"
   },
   {
    "duration": 19,
    "start_time": "2022-04-04T16:04:43.825Z"
   },
   {
    "duration": 69,
    "start_time": "2022-04-04T16:04:43.847Z"
   },
   {
    "duration": 25,
    "start_time": "2022-04-04T16:04:43.919Z"
   },
   {
    "duration": 11,
    "start_time": "2022-04-04T16:04:43.946Z"
   },
   {
    "duration": 131,
    "start_time": "2022-04-04T16:04:43.959Z"
   },
   {
    "duration": 40,
    "start_time": "2022-04-04T16:04:44.093Z"
   },
   {
    "duration": 48,
    "start_time": "2022-04-04T16:04:44.136Z"
   },
   {
    "duration": 20,
    "start_time": "2022-04-04T16:04:44.186Z"
   },
   {
    "duration": 144,
    "start_time": "2022-04-04T16:04:44.208Z"
   },
   {
    "duration": 0,
    "start_time": "2022-04-04T16:04:44.355Z"
   },
   {
    "duration": 0,
    "start_time": "2022-04-04T16:04:44.356Z"
   },
   {
    "duration": 19,
    "start_time": "2022-04-04T16:05:21.981Z"
   },
   {
    "duration": 21,
    "start_time": "2022-04-04T16:05:51.319Z"
   },
   {
    "duration": 152,
    "start_time": "2022-04-04T16:06:17.406Z"
   },
   {
    "duration": 21,
    "start_time": "2022-04-04T16:06:23.253Z"
   },
   {
    "duration": 22,
    "start_time": "2022-04-04T16:06:37.364Z"
   },
   {
    "duration": 21,
    "start_time": "2022-04-04T16:12:05.404Z"
   },
   {
    "duration": 22,
    "start_time": "2022-04-04T16:12:20.188Z"
   },
   {
    "duration": 773,
    "start_time": "2022-04-04T16:14:34.325Z"
   },
   {
    "duration": 4,
    "start_time": "2022-04-04T16:14:39.629Z"
   },
   {
    "duration": 73,
    "start_time": "2022-04-04T16:14:39.636Z"
   },
   {
    "duration": 19,
    "start_time": "2022-04-04T16:14:39.712Z"
   },
   {
    "duration": 26,
    "start_time": "2022-04-04T16:14:39.734Z"
   },
   {
    "duration": 38,
    "start_time": "2022-04-04T16:14:39.763Z"
   },
   {
    "duration": 84,
    "start_time": "2022-04-04T16:14:39.804Z"
   },
   {
    "duration": 19,
    "start_time": "2022-04-04T16:14:39.890Z"
   },
   {
    "duration": 17,
    "start_time": "2022-04-04T16:14:39.912Z"
   },
   {
    "duration": 74,
    "start_time": "2022-04-04T16:14:39.933Z"
   },
   {
    "duration": 26,
    "start_time": "2022-04-04T16:14:40.009Z"
   },
   {
    "duration": 11,
    "start_time": "2022-04-04T16:14:40.038Z"
   },
   {
    "duration": 134,
    "start_time": "2022-04-04T16:14:40.051Z"
   },
   {
    "duration": 44,
    "start_time": "2022-04-04T16:14:40.187Z"
   },
   {
    "duration": 52,
    "start_time": "2022-04-04T16:14:40.233Z"
   },
   {
    "duration": 25,
    "start_time": "2022-04-04T16:14:40.287Z"
   },
   {
    "duration": 158,
    "start_time": "2022-04-04T16:14:40.314Z"
   },
   {
    "duration": 0,
    "start_time": "2022-04-04T16:14:40.474Z"
   },
   {
    "duration": 0,
    "start_time": "2022-04-04T16:14:40.476Z"
   },
   {
    "duration": 974,
    "start_time": "2022-04-04T16:14:45.395Z"
   },
   {
    "duration": 667,
    "start_time": "2022-04-04T16:16:14.836Z"
   },
   {
    "duration": 20,
    "start_time": "2022-04-04T16:18:37.985Z"
   },
   {
    "duration": 20,
    "start_time": "2022-04-04T16:20:28.257Z"
   },
   {
    "duration": 21,
    "start_time": "2022-04-04T16:20:49.105Z"
   },
   {
    "duration": 131,
    "start_time": "2022-04-04T18:09:36.929Z"
   },
   {
    "duration": 65,
    "start_time": "2022-04-04T18:09:47.829Z"
   },
   {
    "duration": 12,
    "start_time": "2022-04-04T18:10:12.502Z"
   },
   {
    "duration": 500,
    "start_time": "2022-04-04T18:10:31.137Z"
   },
   {
    "duration": 80,
    "start_time": "2022-04-04T18:10:31.640Z"
   },
   {
    "duration": 32,
    "start_time": "2022-04-04T18:10:31.722Z"
   },
   {
    "duration": 38,
    "start_time": "2022-04-04T18:10:31.756Z"
   },
   {
    "duration": 53,
    "start_time": "2022-04-04T18:10:31.797Z"
   },
   {
    "duration": 77,
    "start_time": "2022-04-04T18:10:31.853Z"
   },
   {
    "duration": 23,
    "start_time": "2022-04-04T18:10:31.933Z"
   },
   {
    "duration": 42,
    "start_time": "2022-04-04T18:10:31.959Z"
   },
   {
    "duration": 45,
    "start_time": "2022-04-04T18:10:32.004Z"
   },
   {
    "duration": 59,
    "start_time": "2022-04-04T18:10:32.052Z"
   },
   {
    "duration": 22,
    "start_time": "2022-04-04T18:10:32.113Z"
   },
   {
    "duration": 136,
    "start_time": "2022-04-04T18:10:32.138Z"
   },
   {
    "duration": 48,
    "start_time": "2022-04-04T18:10:32.284Z"
   },
   {
    "duration": 51,
    "start_time": "2022-04-04T18:10:32.338Z"
   },
   {
    "duration": 91,
    "start_time": "2022-04-04T18:10:32.392Z"
   },
   {
    "duration": 36,
    "start_time": "2022-04-04T18:10:32.486Z"
   },
   {
    "duration": 14994,
    "start_time": "2022-04-04T18:10:32.524Z"
   },
   {
    "duration": 26,
    "start_time": "2022-04-04T18:12:49.550Z"
   },
   {
    "duration": 48,
    "start_time": "2022-04-05T11:26:43.957Z"
   },
   {
    "duration": 7,
    "start_time": "2022-04-05T11:26:55.394Z"
   },
   {
    "duration": 413,
    "start_time": "2022-04-05T11:26:57.108Z"
   },
   {
    "duration": 58,
    "start_time": "2022-04-05T11:26:57.523Z"
   },
   {
    "duration": 19,
    "start_time": "2022-04-05T11:26:57.583Z"
   },
   {
    "duration": 15,
    "start_time": "2022-04-05T11:26:57.604Z"
   },
   {
    "duration": 16,
    "start_time": "2022-04-05T11:26:57.620Z"
   },
   {
    "duration": 65,
    "start_time": "2022-04-05T11:26:57.637Z"
   },
   {
    "duration": 15,
    "start_time": "2022-04-05T11:26:57.703Z"
   },
   {
    "duration": 15,
    "start_time": "2022-04-05T11:26:57.719Z"
   },
   {
    "duration": 26,
    "start_time": "2022-04-05T11:26:57.736Z"
   },
   {
    "duration": 40,
    "start_time": "2022-04-05T11:26:57.764Z"
   },
   {
    "duration": 7,
    "start_time": "2022-04-05T11:26:57.805Z"
   },
   {
    "duration": 91,
    "start_time": "2022-04-05T11:26:57.813Z"
   },
   {
    "duration": 25,
    "start_time": "2022-04-05T11:26:57.905Z"
   },
   {
    "duration": 13,
    "start_time": "2022-04-05T11:26:57.931Z"
   },
   {
    "duration": 21,
    "start_time": "2022-04-05T11:26:57.946Z"
   },
   {
    "duration": 32,
    "start_time": "2022-04-05T11:26:57.969Z"
   },
   {
    "duration": 17,
    "start_time": "2022-04-05T11:26:58.003Z"
   },
   {
    "duration": 41,
    "start_time": "2022-04-05T11:57:15.532Z"
   },
   {
    "duration": 4,
    "start_time": "2022-04-05T11:57:18.667Z"
   },
   {
    "duration": 78,
    "start_time": "2022-04-05T11:57:18.673Z"
   },
   {
    "duration": 16,
    "start_time": "2022-04-05T11:57:18.753Z"
   },
   {
    "duration": 32,
    "start_time": "2022-04-05T11:57:18.771Z"
   },
   {
    "duration": 21,
    "start_time": "2022-04-05T11:57:18.806Z"
   },
   {
    "duration": 99,
    "start_time": "2022-04-05T11:57:18.829Z"
   },
   {
    "duration": 26,
    "start_time": "2022-04-05T11:57:18.930Z"
   },
   {
    "duration": 20,
    "start_time": "2022-04-05T11:57:18.959Z"
   },
   {
    "duration": 46,
    "start_time": "2022-04-05T11:57:19.001Z"
   },
   {
    "duration": 30,
    "start_time": "2022-04-05T11:57:19.049Z"
   },
   {
    "duration": 11,
    "start_time": "2022-04-05T11:57:19.100Z"
   },
   {
    "duration": 157,
    "start_time": "2022-04-05T11:57:19.114Z"
   },
   {
    "duration": 57,
    "start_time": "2022-04-05T11:57:19.273Z"
   },
   {
    "duration": 25,
    "start_time": "2022-04-05T11:57:19.332Z"
   },
   {
    "duration": 29,
    "start_time": "2022-04-05T11:57:19.359Z"
   },
   {
    "duration": 22,
    "start_time": "2022-04-05T11:57:19.390Z"
   },
   {
    "duration": 37,
    "start_time": "2022-04-05T11:57:19.414Z"
   },
   {
    "duration": 472,
    "start_time": "2022-04-05T11:57:19.452Z"
   },
   {
    "duration": 0,
    "start_time": "2022-04-05T11:57:19.926Z"
   },
   {
    "duration": 0,
    "start_time": "2022-04-05T11:57:19.928Z"
   },
   {
    "duration": 17,
    "start_time": "2022-04-05T11:57:24.279Z"
   },
   {
    "duration": 13,
    "start_time": "2022-04-05T11:57:36.055Z"
   },
   {
    "duration": 457,
    "start_time": "2022-04-05T11:58:06.942Z"
   },
   {
    "duration": 1107,
    "start_time": "2022-04-05T11:58:13.191Z"
   },
   {
    "duration": 18,
    "start_time": "2022-04-05T12:00:37.975Z"
   },
   {
    "duration": 20,
    "start_time": "2022-04-05T12:05:49.230Z"
   },
   {
    "duration": 21,
    "start_time": "2022-04-05T12:10:51.647Z"
   },
   {
    "duration": 22,
    "start_time": "2022-04-05T12:11:01.542Z"
   },
   {
    "duration": 25,
    "start_time": "2022-04-05T12:11:15.515Z"
   },
   {
    "duration": 509,
    "start_time": "2022-04-05T12:11:38.667Z"
   },
   {
    "duration": 25,
    "start_time": "2022-04-05T12:11:44.620Z"
   },
   {
    "duration": 22,
    "start_time": "2022-04-05T12:15:27.213Z"
   },
   {
    "duration": 25,
    "start_time": "2022-04-05T12:16:35.649Z"
   },
   {
    "duration": 26,
    "start_time": "2022-04-05T12:17:05.203Z"
   },
   {
    "duration": 23,
    "start_time": "2022-04-05T12:23:48.823Z"
   },
   {
    "duration": 21,
    "start_time": "2022-04-05T12:24:21.173Z"
   },
   {
    "duration": 31,
    "start_time": "2022-04-05T12:35:32.135Z"
   },
   {
    "duration": 21,
    "start_time": "2022-04-05T12:36:07.168Z"
   },
   {
    "duration": 26,
    "start_time": "2022-04-05T12:37:05.554Z"
   },
   {
    "duration": 26,
    "start_time": "2022-04-05T12:37:10.889Z"
   },
   {
    "duration": 25,
    "start_time": "2022-04-05T12:48:00.321Z"
   },
   {
    "duration": 2,
    "start_time": "2022-04-05T13:05:10.703Z"
   },
   {
    "duration": 80,
    "start_time": "2022-04-05T13:05:10.707Z"
   },
   {
    "duration": 14,
    "start_time": "2022-04-05T13:05:10.790Z"
   },
   {
    "duration": 26,
    "start_time": "2022-04-05T13:05:10.806Z"
   },
   {
    "duration": 34,
    "start_time": "2022-04-05T13:05:10.835Z"
   },
   {
    "duration": 56,
    "start_time": "2022-04-05T13:05:10.872Z"
   },
   {
    "duration": 16,
    "start_time": "2022-04-05T13:05:10.930Z"
   },
   {
    "duration": 26,
    "start_time": "2022-04-05T13:05:10.948Z"
   },
   {
    "duration": 47,
    "start_time": "2022-04-05T13:05:10.975Z"
   },
   {
    "duration": 19,
    "start_time": "2022-04-05T13:05:11.024Z"
   },
   {
    "duration": 8,
    "start_time": "2022-04-05T13:05:11.046Z"
   },
   {
    "duration": 112,
    "start_time": "2022-04-05T13:05:11.055Z"
   },
   {
    "duration": 43,
    "start_time": "2022-04-05T13:05:11.169Z"
   },
   {
    "duration": 15,
    "start_time": "2022-04-05T13:05:11.213Z"
   },
   {
    "duration": 15,
    "start_time": "2022-04-05T13:05:11.229Z"
   },
   {
    "duration": 13,
    "start_time": "2022-04-05T13:05:11.245Z"
   },
   {
    "duration": 47,
    "start_time": "2022-04-05T13:05:11.260Z"
   },
   {
    "duration": 31,
    "start_time": "2022-04-05T13:05:11.309Z"
   },
   {
    "duration": 21,
    "start_time": "2022-04-05T13:05:11.342Z"
   },
   {
    "duration": 52,
    "start_time": "2022-04-05T13:05:11.365Z"
   },
   {
    "duration": 27,
    "start_time": "2022-04-05T13:05:11.419Z"
   },
   {
    "duration": 3,
    "start_time": "2022-04-05T13:05:21.046Z"
   },
   {
    "duration": 62,
    "start_time": "2022-04-05T13:05:21.051Z"
   },
   {
    "duration": 14,
    "start_time": "2022-04-05T13:05:21.115Z"
   },
   {
    "duration": 15,
    "start_time": "2022-04-05T13:05:21.131Z"
   },
   {
    "duration": 19,
    "start_time": "2022-04-05T13:05:21.148Z"
   },
   {
    "duration": 77,
    "start_time": "2022-04-05T13:05:21.169Z"
   },
   {
    "duration": 17,
    "start_time": "2022-04-05T13:05:21.248Z"
   },
   {
    "duration": 42,
    "start_time": "2022-04-05T13:05:21.267Z"
   },
   {
    "duration": 29,
    "start_time": "2022-04-05T13:05:21.311Z"
   },
   {
    "duration": 18,
    "start_time": "2022-04-05T13:05:21.342Z"
   },
   {
    "duration": 8,
    "start_time": "2022-04-05T13:05:21.363Z"
   },
   {
    "duration": 88,
    "start_time": "2022-04-05T13:05:21.401Z"
   },
   {
    "duration": 31,
    "start_time": "2022-04-05T13:05:21.501Z"
   },
   {
    "duration": 14,
    "start_time": "2022-04-05T13:05:21.534Z"
   },
   {
    "duration": 51,
    "start_time": "2022-04-05T13:05:21.550Z"
   },
   {
    "duration": 14,
    "start_time": "2022-04-05T13:05:21.603Z"
   },
   {
    "duration": 16,
    "start_time": "2022-04-05T13:05:21.619Z"
   },
   {
    "duration": 29,
    "start_time": "2022-04-05T13:05:21.637Z"
   },
   {
    "duration": 46,
    "start_time": "2022-04-05T13:05:21.668Z"
   },
   {
    "duration": 24,
    "start_time": "2022-04-05T13:05:21.716Z"
   },
   {
    "duration": 27,
    "start_time": "2022-04-05T13:05:21.741Z"
   },
   {
    "duration": 2,
    "start_time": "2022-04-05T13:11:53.570Z"
   },
   {
    "duration": 64,
    "start_time": "2022-04-05T13:11:53.575Z"
   },
   {
    "duration": 12,
    "start_time": "2022-04-05T13:11:53.642Z"
   },
   {
    "duration": 16,
    "start_time": "2022-04-05T13:11:53.656Z"
   },
   {
    "duration": 20,
    "start_time": "2022-04-05T13:11:53.700Z"
   },
   {
    "duration": 44,
    "start_time": "2022-04-05T13:11:53.722Z"
   },
   {
    "duration": 41,
    "start_time": "2022-04-05T13:11:53.768Z"
   },
   {
    "duration": 14,
    "start_time": "2022-04-05T13:11:53.811Z"
   },
   {
    "duration": 25,
    "start_time": "2022-04-05T13:11:53.827Z"
   },
   {
    "duration": 16,
    "start_time": "2022-04-05T13:11:53.854Z"
   },
   {
    "duration": 32,
    "start_time": "2022-04-05T13:11:53.873Z"
   },
   {
    "duration": 80,
    "start_time": "2022-04-05T13:11:53.906Z"
   },
   {
    "duration": 27,
    "start_time": "2022-04-05T13:11:54.000Z"
   },
   {
    "duration": 13,
    "start_time": "2022-04-05T13:11:54.028Z"
   },
   {
    "duration": 13,
    "start_time": "2022-04-05T13:11:54.043Z"
   },
   {
    "duration": 11,
    "start_time": "2022-04-05T13:11:54.058Z"
   },
   {
    "duration": 36,
    "start_time": "2022-04-05T13:11:54.071Z"
   },
   {
    "duration": 27,
    "start_time": "2022-04-05T13:11:54.109Z"
   },
   {
    "duration": 20,
    "start_time": "2022-04-05T13:11:54.138Z"
   },
   {
    "duration": 47,
    "start_time": "2022-04-05T13:11:54.159Z"
   },
   {
    "duration": 24,
    "start_time": "2022-04-05T13:11:54.208Z"
   },
   {
    "duration": 394,
    "start_time": "2022-04-05T13:36:22.324Z"
   },
   {
    "duration": 59,
    "start_time": "2022-04-05T13:36:22.720Z"
   },
   {
    "duration": 18,
    "start_time": "2022-04-05T13:36:22.781Z"
   },
   {
    "duration": 14,
    "start_time": "2022-04-05T13:36:22.801Z"
   },
   {
    "duration": 16,
    "start_time": "2022-04-05T13:36:22.816Z"
   },
   {
    "duration": 41,
    "start_time": "2022-04-05T13:36:22.834Z"
   },
   {
    "duration": 15,
    "start_time": "2022-04-05T13:36:22.900Z"
   },
   {
    "duration": 13,
    "start_time": "2022-04-05T13:36:22.917Z"
   },
   {
    "duration": 25,
    "start_time": "2022-04-05T13:36:22.932Z"
   },
   {
    "duration": 18,
    "start_time": "2022-04-05T13:36:22.959Z"
   },
   {
    "duration": 8,
    "start_time": "2022-04-05T13:36:23.002Z"
   },
   {
    "duration": 104,
    "start_time": "2022-04-05T13:36:23.011Z"
   },
   {
    "duration": 28,
    "start_time": "2022-04-05T13:36:23.117Z"
   },
   {
    "duration": 15,
    "start_time": "2022-04-05T13:36:23.146Z"
   },
   {
    "duration": 40,
    "start_time": "2022-04-05T13:36:23.162Z"
   },
   {
    "duration": 13,
    "start_time": "2022-04-05T13:36:23.204Z"
   },
   {
    "duration": 13,
    "start_time": "2022-04-05T13:36:23.219Z"
   },
   {
    "duration": 27,
    "start_time": "2022-04-05T13:36:23.234Z"
   },
   {
    "duration": 51,
    "start_time": "2022-04-05T13:36:23.263Z"
   },
   {
    "duration": 23,
    "start_time": "2022-04-05T13:36:23.316Z"
   },
   {
    "duration": 26,
    "start_time": "2022-04-05T13:36:23.341Z"
   },
   {
    "duration": 433,
    "start_time": "2022-04-05T13:44:23.029Z"
   },
   {
    "duration": 64,
    "start_time": "2022-04-05T13:44:23.465Z"
   },
   {
    "duration": 20,
    "start_time": "2022-04-05T13:44:23.530Z"
   },
   {
    "duration": 16,
    "start_time": "2022-04-05T13:44:23.552Z"
   },
   {
    "duration": 36,
    "start_time": "2022-04-05T13:44:23.570Z"
   },
   {
    "duration": 43,
    "start_time": "2022-04-05T13:44:23.607Z"
   },
   {
    "duration": 14,
    "start_time": "2022-04-05T13:44:23.652Z"
   },
   {
    "duration": 34,
    "start_time": "2022-04-05T13:44:23.668Z"
   },
   {
    "duration": 34,
    "start_time": "2022-04-05T13:44:23.703Z"
   },
   {
    "duration": 19,
    "start_time": "2022-04-05T13:44:23.739Z"
   },
   {
    "duration": 13,
    "start_time": "2022-04-05T13:44:23.760Z"
   },
   {
    "duration": 88,
    "start_time": "2022-04-05T13:44:23.774Z"
   },
   {
    "duration": 39,
    "start_time": "2022-04-05T13:44:23.864Z"
   },
   {
    "duration": 15,
    "start_time": "2022-04-05T13:44:23.904Z"
   },
   {
    "duration": 29,
    "start_time": "2022-04-05T13:44:23.920Z"
   },
   {
    "duration": 17,
    "start_time": "2022-04-05T13:44:23.951Z"
   },
   {
    "duration": 14,
    "start_time": "2022-04-05T13:44:23.969Z"
   },
   {
    "duration": 40,
    "start_time": "2022-04-05T13:44:23.985Z"
   },
   {
    "duration": 20,
    "start_time": "2022-04-05T13:44:24.026Z"
   },
   {
    "duration": 22,
    "start_time": "2022-04-05T13:44:24.048Z"
   },
   {
    "duration": 44,
    "start_time": "2022-04-05T13:44:24.071Z"
   },
   {
    "duration": 393,
    "start_time": "2022-04-05T14:11:52.327Z"
   },
   {
    "duration": 72,
    "start_time": "2022-04-05T14:11:52.722Z"
   },
   {
    "duration": 20,
    "start_time": "2022-04-05T14:11:52.795Z"
   },
   {
    "duration": 16,
    "start_time": "2022-04-05T14:11:52.817Z"
   },
   {
    "duration": 18,
    "start_time": "2022-04-05T14:11:52.835Z"
   },
   {
    "duration": 66,
    "start_time": "2022-04-05T14:11:52.855Z"
   },
   {
    "duration": 16,
    "start_time": "2022-04-05T14:11:52.923Z"
   },
   {
    "duration": 12,
    "start_time": "2022-04-05T14:11:52.941Z"
   },
   {
    "duration": 52,
    "start_time": "2022-04-05T14:11:52.955Z"
   },
   {
    "duration": 19,
    "start_time": "2022-04-05T14:11:53.010Z"
   },
   {
    "duration": 7,
    "start_time": "2022-04-05T14:11:53.030Z"
   },
   {
    "duration": 114,
    "start_time": "2022-04-05T14:11:53.039Z"
   },
   {
    "duration": 31,
    "start_time": "2022-04-05T14:11:53.155Z"
   },
   {
    "duration": 16,
    "start_time": "2022-04-05T14:11:53.202Z"
   },
   {
    "duration": 19,
    "start_time": "2022-04-05T14:11:53.220Z"
   },
   {
    "duration": 13,
    "start_time": "2022-04-05T14:11:53.241Z"
   },
   {
    "duration": 13,
    "start_time": "2022-04-05T14:11:53.256Z"
   },
   {
    "duration": 59,
    "start_time": "2022-04-05T14:11:53.270Z"
   },
   {
    "duration": 21,
    "start_time": "2022-04-05T14:11:53.331Z"
   },
   {
    "duration": 21,
    "start_time": "2022-04-05T14:11:53.354Z"
   },
   {
    "duration": 49,
    "start_time": "2022-04-05T14:11:53.377Z"
   }
  ],
  "kernelspec": {
   "display_name": "Python 3 (ipykernel)",
   "language": "python",
   "name": "python3"
  },
  "language_info": {
   "codemirror_mode": {
    "name": "ipython",
    "version": 3
   },
   "file_extension": ".py",
   "mimetype": "text/x-python",
   "name": "python",
   "nbconvert_exporter": "python",
   "pygments_lexer": "ipython3",
   "version": "3.9.12"
  },
  "toc": {
   "base_numbering": 1,
   "nav_menu": {},
   "number_sections": true,
   "sideBar": true,
   "skip_h1_title": true,
   "title_cell": "Table of Contents",
   "title_sidebar": "Contents",
   "toc_cell": false,
   "toc_position": {},
   "toc_section_display": true,
   "toc_window_display": false
  }
 },
 "nbformat": 4,
 "nbformat_minor": 5
}

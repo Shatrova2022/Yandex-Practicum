{
 "cells": [
  {
   "cell_type": "markdown",
   "metadata": {},
   "source": [
    "# Определение перспективного тарифа для телеком-компании.\n",
    "\n",
    "Компания «Мегалайн» — федерального оператора сотовой связи предлагают клиентам два тарифных плана: «Смарт» и «Ультра». Чтобы скорректировать рекламный бюджет, коммерческий департамент хочет понять, какой тариф приносит больше денег.\n",
    "Нужно сделать предварительный анализ тарифов на небольшой выборке (500 пользователей за 2018 год) клиентов. \n",
    "\n",
    "Описание тарифов\n",
    "Тариф «Смарт»\n",
    "1.\tЕжемесячная плата: 550 рублей\n",
    "2.\tВключено 500 минут разговора, 50 сообщений и 15 Гб интернет-трафика\n",
    "3.\tСтоимость услуг сверх тарифного пакета:\n",
    "o\tминута разговора: 3 рубля\n",
    "o\tсообщение: 3 рубля\n",
    "o\t1 Гб интернет-трафика: 200 рублей\n",
    "Тариф «Ультра»\n",
    "1.\tЕжемесячная плата: 1950 рублей\n",
    "2.\tВключено 3000 минут разговора, 1000 сообщений и 30 Гб интернет-трафика\n",
    "3.\tСтоимость услуг сверх тарифного пакета:\n",
    "o\tминута разговора: 1 рубль\n",
    "o\tсообщение: 1 рубль\n",
    "o\t1 Гб интернет-трафика: 150 рублей\n",
    "Примечание\n",
    "«Мегалайн» всегда округляет секунды до минут, а мегабайты — до гигабайт. \n",
    "Для веб-трафика отдельные сессии не считаются. Вместо этого общая сумма за месяц округляется в бо́льшую сторону. Неиспользованные за предыдущий месяц звонки, смс, интернет на следующий месяц не переносятся.\n",
    "\n",
    "**Цель исследования** — проверим гипотезы:\n",
    "* средняя выручка пользователей тарифов «Ультра» и «Смарт» различаются;\n",
    "* средняя выручка пользователей из Москвы отличается от выручки пользователей из других регионов.\n",
    "\n",
    "Определим поведение клиентов оператора, длительность разговоров, сколько сообщений и какой объём интернет-трафика требуется пользователям каждого тарифа в месяц. А также проанализируем поведение клиентов с целью: определить какой тариф лучше.\n",
    "Исследование пройдёт в пять этапов:\n",
    " 1. Обзор данных.\n",
    " 2. Предобработка данных.\n",
    " 3. Дополнительные расчеты и внесение результатов в таблицу.\n",
    " 4. Исследовательский анализ данных.\n",
    " 5. Проверка гипотез.\n"
   ]
  },
  {
   "cell_type": "markdown",
   "metadata": {},
   "source": [
    "## Изучение данных из файла"
   ]
  },
  {
   "cell_type": "code",
   "execution_count": 1,
   "metadata": {},
   "outputs": [],
   "source": [
    "#загрузка библиотек\n",
    "import pandas as pd\n",
    "import math\n",
    "import numpy as np\n",
    "import matplotlib.pyplot as plt\n",
    "from scipy import stats as st\n",
    "import seaborn as sns"
   ]
  },
  {
   "cell_type": "code",
   "execution_count": 2,
   "metadata": {
    "scrolled": false
   },
   "outputs": [],
   "source": [
    "#чтение данных\n",
    "users = pd.read_csv(r'C:\\Users\\Olga\\Desktop\\prog\\users.csv')\n",
    "calls = pd.read_csv(r'C:\\Users\\Olga\\Desktop\\prog\\calls.csv')\n",
    "messages = pd.read_csv(r'C:\\Users\\Olga\\Desktop\\prog\\messages.csv')\n",
    "internet = pd.read_csv(r'C:\\Users\\Olga\\Desktop\\prog\\internet.csv',index_col=0)\n",
    "tariffs = pd.read_csv(r'C:\\Users\\Olga\\Desktop\\prog\\tariffs.csv')"
   ]
  },
  {
   "cell_type": "code",
   "execution_count": 3,
   "metadata": {
    "scrolled": false
   },
   "outputs": [
    {
     "name": "stdout",
     "output_type": "stream",
     "text": [
      "<class 'pandas.core.frame.DataFrame'>\n",
      "RangeIndex: 500 entries, 0 to 499\n",
      "Data columns (total 8 columns):\n",
      " #   Column      Non-Null Count  Dtype \n",
      "---  ------      --------------  ----- \n",
      " 0   user_id     500 non-null    int64 \n",
      " 1   age         500 non-null    int64 \n",
      " 2   churn_date  38 non-null     object\n",
      " 3   city        500 non-null    object\n",
      " 4   first_name  500 non-null    object\n",
      " 5   last_name   500 non-null    object\n",
      " 6   reg_date    500 non-null    object\n",
      " 7   tariff      500 non-null    object\n",
      "dtypes: int64(2), object(6)\n",
      "memory usage: 31.4+ KB\n"
     ]
    },
    {
     "data": {
      "text/plain": [
       "None"
      ]
     },
     "metadata": {},
     "output_type": "display_data"
    },
    {
     "data": {
      "text/html": [
       "<div>\n",
       "<style scoped>\n",
       "    .dataframe tbody tr th:only-of-type {\n",
       "        vertical-align: middle;\n",
       "    }\n",
       "\n",
       "    .dataframe tbody tr th {\n",
       "        vertical-align: top;\n",
       "    }\n",
       "\n",
       "    .dataframe thead th {\n",
       "        text-align: right;\n",
       "    }\n",
       "</style>\n",
       "<table border=\"1\" class=\"dataframe\">\n",
       "  <thead>\n",
       "    <tr style=\"text-align: right;\">\n",
       "      <th></th>\n",
       "      <th>user_id</th>\n",
       "      <th>age</th>\n",
       "      <th>churn_date</th>\n",
       "      <th>city</th>\n",
       "      <th>first_name</th>\n",
       "      <th>last_name</th>\n",
       "      <th>reg_date</th>\n",
       "      <th>tariff</th>\n",
       "    </tr>\n",
       "  </thead>\n",
       "  <tbody>\n",
       "    <tr>\n",
       "      <th>0</th>\n",
       "      <td>1000</td>\n",
       "      <td>52</td>\n",
       "      <td>NaN</td>\n",
       "      <td>Краснодар</td>\n",
       "      <td>Рафаил</td>\n",
       "      <td>Верещагин</td>\n",
       "      <td>2018-05-25</td>\n",
       "      <td>ultra</td>\n",
       "    </tr>\n",
       "    <tr>\n",
       "      <th>1</th>\n",
       "      <td>1001</td>\n",
       "      <td>41</td>\n",
       "      <td>NaN</td>\n",
       "      <td>Москва</td>\n",
       "      <td>Иван</td>\n",
       "      <td>Ежов</td>\n",
       "      <td>2018-11-01</td>\n",
       "      <td>smart</td>\n",
       "    </tr>\n",
       "    <tr>\n",
       "      <th>2</th>\n",
       "      <td>1002</td>\n",
       "      <td>59</td>\n",
       "      <td>NaN</td>\n",
       "      <td>Стерлитамак</td>\n",
       "      <td>Евгений</td>\n",
       "      <td>Абрамович</td>\n",
       "      <td>2018-06-17</td>\n",
       "      <td>smart</td>\n",
       "    </tr>\n",
       "    <tr>\n",
       "      <th>3</th>\n",
       "      <td>1003</td>\n",
       "      <td>23</td>\n",
       "      <td>NaN</td>\n",
       "      <td>Москва</td>\n",
       "      <td>Белла</td>\n",
       "      <td>Белякова</td>\n",
       "      <td>2018-08-17</td>\n",
       "      <td>ultra</td>\n",
       "    </tr>\n",
       "    <tr>\n",
       "      <th>4</th>\n",
       "      <td>1004</td>\n",
       "      <td>68</td>\n",
       "      <td>NaN</td>\n",
       "      <td>Новокузнецк</td>\n",
       "      <td>Татьяна</td>\n",
       "      <td>Авдеенко</td>\n",
       "      <td>2018-05-14</td>\n",
       "      <td>ultra</td>\n",
       "    </tr>\n",
       "    <tr>\n",
       "      <th>5</th>\n",
       "      <td>1005</td>\n",
       "      <td>67</td>\n",
       "      <td>NaN</td>\n",
       "      <td>Набережные Челны</td>\n",
       "      <td>Афанасий</td>\n",
       "      <td>Горлов</td>\n",
       "      <td>2018-01-25</td>\n",
       "      <td>smart</td>\n",
       "    </tr>\n",
       "    <tr>\n",
       "      <th>6</th>\n",
       "      <td>1006</td>\n",
       "      <td>21</td>\n",
       "      <td>NaN</td>\n",
       "      <td>Ульяновск</td>\n",
       "      <td>Леонид</td>\n",
       "      <td>Ермолаев</td>\n",
       "      <td>2018-02-26</td>\n",
       "      <td>smart</td>\n",
       "    </tr>\n",
       "    <tr>\n",
       "      <th>7</th>\n",
       "      <td>1007</td>\n",
       "      <td>65</td>\n",
       "      <td>NaN</td>\n",
       "      <td>Москва</td>\n",
       "      <td>Юна</td>\n",
       "      <td>Березина</td>\n",
       "      <td>2018-04-19</td>\n",
       "      <td>smart</td>\n",
       "    </tr>\n",
       "    <tr>\n",
       "      <th>8</th>\n",
       "      <td>1008</td>\n",
       "      <td>63</td>\n",
       "      <td>NaN</td>\n",
       "      <td>Челябинск</td>\n",
       "      <td>Рустэм</td>\n",
       "      <td>Пономарёв</td>\n",
       "      <td>2018-12-19</td>\n",
       "      <td>smart</td>\n",
       "    </tr>\n",
       "    <tr>\n",
       "      <th>9</th>\n",
       "      <td>1009</td>\n",
       "      <td>24</td>\n",
       "      <td>NaN</td>\n",
       "      <td>Пермь</td>\n",
       "      <td>Василиса</td>\n",
       "      <td>Блинова</td>\n",
       "      <td>2018-03-22</td>\n",
       "      <td>smart</td>\n",
       "    </tr>\n",
       "  </tbody>\n",
       "</table>\n",
       "</div>"
      ],
      "text/plain": [
       "   user_id  age churn_date              city first_name  last_name  \\\n",
       "0     1000   52        NaN         Краснодар     Рафаил  Верещагин   \n",
       "1     1001   41        NaN            Москва       Иван       Ежов   \n",
       "2     1002   59        NaN       Стерлитамак    Евгений  Абрамович   \n",
       "3     1003   23        NaN            Москва      Белла   Белякова   \n",
       "4     1004   68        NaN       Новокузнецк    Татьяна   Авдеенко   \n",
       "5     1005   67        NaN  Набережные Челны   Афанасий     Горлов   \n",
       "6     1006   21        NaN         Ульяновск     Леонид   Ермолаев   \n",
       "7     1007   65        NaN            Москва        Юна   Березина   \n",
       "8     1008   63        NaN         Челябинск     Рустэм  Пономарёв   \n",
       "9     1009   24        NaN             Пермь   Василиса    Блинова   \n",
       "\n",
       "     reg_date tariff  \n",
       "0  2018-05-25  ultra  \n",
       "1  2018-11-01  smart  \n",
       "2  2018-06-17  smart  \n",
       "3  2018-08-17  ultra  \n",
       "4  2018-05-14  ultra  \n",
       "5  2018-01-25  smart  \n",
       "6  2018-02-26  smart  \n",
       "7  2018-04-19  smart  \n",
       "8  2018-12-19  smart  \n",
       "9  2018-03-22  smart  "
      ]
     },
     "metadata": {},
     "output_type": "display_data"
    },
    {
     "data": {
      "text/html": [
       "<div>\n",
       "<style scoped>\n",
       "    .dataframe tbody tr th:only-of-type {\n",
       "        vertical-align: middle;\n",
       "    }\n",
       "\n",
       "    .dataframe tbody tr th {\n",
       "        vertical-align: top;\n",
       "    }\n",
       "\n",
       "    .dataframe thead th {\n",
       "        text-align: right;\n",
       "    }\n",
       "</style>\n",
       "<table border=\"1\" class=\"dataframe\">\n",
       "  <thead>\n",
       "    <tr style=\"text-align: right;\">\n",
       "      <th></th>\n",
       "      <th>count</th>\n",
       "      <th>mean</th>\n",
       "      <th>std</th>\n",
       "      <th>min</th>\n",
       "      <th>25%</th>\n",
       "      <th>50%</th>\n",
       "      <th>75%</th>\n",
       "      <th>max</th>\n",
       "    </tr>\n",
       "  </thead>\n",
       "  <tbody>\n",
       "    <tr>\n",
       "      <th>user_id</th>\n",
       "      <td>500.0</td>\n",
       "      <td>1249.500</td>\n",
       "      <td>144.481833</td>\n",
       "      <td>1000.0</td>\n",
       "      <td>1124.75</td>\n",
       "      <td>1249.5</td>\n",
       "      <td>1374.25</td>\n",
       "      <td>1499.0</td>\n",
       "    </tr>\n",
       "    <tr>\n",
       "      <th>age</th>\n",
       "      <td>500.0</td>\n",
       "      <td>46.588</td>\n",
       "      <td>16.667630</td>\n",
       "      <td>18.0</td>\n",
       "      <td>32.00</td>\n",
       "      <td>46.0</td>\n",
       "      <td>62.00</td>\n",
       "      <td>75.0</td>\n",
       "    </tr>\n",
       "  </tbody>\n",
       "</table>\n",
       "</div>"
      ],
      "text/plain": [
       "         count      mean         std     min      25%     50%      75%     max\n",
       "user_id  500.0  1249.500  144.481833  1000.0  1124.75  1249.5  1374.25  1499.0\n",
       "age      500.0    46.588   16.667630    18.0    32.00    46.0    62.00    75.0"
      ]
     },
     "metadata": {},
     "output_type": "display_data"
    },
    {
     "name": "stdout",
     "output_type": "stream",
     "text": [
      "<class 'pandas.core.frame.DataFrame'>\n",
      "RangeIndex: 202607 entries, 0 to 202606\n",
      "Data columns (total 4 columns):\n",
      " #   Column     Non-Null Count   Dtype  \n",
      "---  ------     --------------   -----  \n",
      " 0   id         202607 non-null  object \n",
      " 1   call_date  202607 non-null  object \n",
      " 2   duration   202607 non-null  float64\n",
      " 3   user_id    202607 non-null  int64  \n",
      "dtypes: float64(1), int64(1), object(2)\n",
      "memory usage: 6.2+ MB\n"
     ]
    },
    {
     "data": {
      "text/plain": [
       "None"
      ]
     },
     "metadata": {},
     "output_type": "display_data"
    },
    {
     "data": {
      "text/html": [
       "<div>\n",
       "<style scoped>\n",
       "    .dataframe tbody tr th:only-of-type {\n",
       "        vertical-align: middle;\n",
       "    }\n",
       "\n",
       "    .dataframe tbody tr th {\n",
       "        vertical-align: top;\n",
       "    }\n",
       "\n",
       "    .dataframe thead th {\n",
       "        text-align: right;\n",
       "    }\n",
       "</style>\n",
       "<table border=\"1\" class=\"dataframe\">\n",
       "  <thead>\n",
       "    <tr style=\"text-align: right;\">\n",
       "      <th></th>\n",
       "      <th>id</th>\n",
       "      <th>call_date</th>\n",
       "      <th>duration</th>\n",
       "      <th>user_id</th>\n",
       "    </tr>\n",
       "  </thead>\n",
       "  <tbody>\n",
       "    <tr>\n",
       "      <th>0</th>\n",
       "      <td>1000_0</td>\n",
       "      <td>2018-07-25</td>\n",
       "      <td>0.00</td>\n",
       "      <td>1000</td>\n",
       "    </tr>\n",
       "    <tr>\n",
       "      <th>1</th>\n",
       "      <td>1000_1</td>\n",
       "      <td>2018-08-17</td>\n",
       "      <td>0.00</td>\n",
       "      <td>1000</td>\n",
       "    </tr>\n",
       "    <tr>\n",
       "      <th>2</th>\n",
       "      <td>1000_2</td>\n",
       "      <td>2018-06-11</td>\n",
       "      <td>2.85</td>\n",
       "      <td>1000</td>\n",
       "    </tr>\n",
       "    <tr>\n",
       "      <th>3</th>\n",
       "      <td>1000_3</td>\n",
       "      <td>2018-09-21</td>\n",
       "      <td>13.80</td>\n",
       "      <td>1000</td>\n",
       "    </tr>\n",
       "    <tr>\n",
       "      <th>4</th>\n",
       "      <td>1000_4</td>\n",
       "      <td>2018-12-15</td>\n",
       "      <td>5.18</td>\n",
       "      <td>1000</td>\n",
       "    </tr>\n",
       "    <tr>\n",
       "      <th>5</th>\n",
       "      <td>1000_5</td>\n",
       "      <td>2018-11-02</td>\n",
       "      <td>0.00</td>\n",
       "      <td>1000</td>\n",
       "    </tr>\n",
       "    <tr>\n",
       "      <th>6</th>\n",
       "      <td>1000_6</td>\n",
       "      <td>2018-10-18</td>\n",
       "      <td>0.00</td>\n",
       "      <td>1000</td>\n",
       "    </tr>\n",
       "    <tr>\n",
       "      <th>7</th>\n",
       "      <td>1000_7</td>\n",
       "      <td>2018-08-22</td>\n",
       "      <td>18.31</td>\n",
       "      <td>1000</td>\n",
       "    </tr>\n",
       "    <tr>\n",
       "      <th>8</th>\n",
       "      <td>1000_8</td>\n",
       "      <td>2018-09-15</td>\n",
       "      <td>18.44</td>\n",
       "      <td>1000</td>\n",
       "    </tr>\n",
       "    <tr>\n",
       "      <th>9</th>\n",
       "      <td>1000_9</td>\n",
       "      <td>2018-08-15</td>\n",
       "      <td>0.00</td>\n",
       "      <td>1000</td>\n",
       "    </tr>\n",
       "  </tbody>\n",
       "</table>\n",
       "</div>"
      ],
      "text/plain": [
       "       id   call_date  duration  user_id\n",
       "0  1000_0  2018-07-25      0.00     1000\n",
       "1  1000_1  2018-08-17      0.00     1000\n",
       "2  1000_2  2018-06-11      2.85     1000\n",
       "3  1000_3  2018-09-21     13.80     1000\n",
       "4  1000_4  2018-12-15      5.18     1000\n",
       "5  1000_5  2018-11-02      0.00     1000\n",
       "6  1000_6  2018-10-18      0.00     1000\n",
       "7  1000_7  2018-08-22     18.31     1000\n",
       "8  1000_8  2018-09-15     18.44     1000\n",
       "9  1000_9  2018-08-15      0.00     1000"
      ]
     },
     "metadata": {},
     "output_type": "display_data"
    },
    {
     "data": {
      "text/html": [
       "<div>\n",
       "<style scoped>\n",
       "    .dataframe tbody tr th:only-of-type {\n",
       "        vertical-align: middle;\n",
       "    }\n",
       "\n",
       "    .dataframe tbody tr th {\n",
       "        vertical-align: top;\n",
       "    }\n",
       "\n",
       "    .dataframe thead th {\n",
       "        text-align: right;\n",
       "    }\n",
       "</style>\n",
       "<table border=\"1\" class=\"dataframe\">\n",
       "  <thead>\n",
       "    <tr style=\"text-align: right;\">\n",
       "      <th></th>\n",
       "      <th>count</th>\n",
       "      <th>mean</th>\n",
       "      <th>std</th>\n",
       "      <th>min</th>\n",
       "      <th>25%</th>\n",
       "      <th>50%</th>\n",
       "      <th>75%</th>\n",
       "      <th>max</th>\n",
       "    </tr>\n",
       "  </thead>\n",
       "  <tbody>\n",
       "    <tr>\n",
       "      <th>duration</th>\n",
       "      <td>202607.0</td>\n",
       "      <td>6.755887</td>\n",
       "      <td>5.843365</td>\n",
       "      <td>0.0</td>\n",
       "      <td>1.3</td>\n",
       "      <td>6.0</td>\n",
       "      <td>10.7</td>\n",
       "      <td>38.0</td>\n",
       "    </tr>\n",
       "    <tr>\n",
       "      <th>user_id</th>\n",
       "      <td>202607.0</td>\n",
       "      <td>1253.940619</td>\n",
       "      <td>144.722751</td>\n",
       "      <td>1000.0</td>\n",
       "      <td>1126.0</td>\n",
       "      <td>1260.0</td>\n",
       "      <td>1379.0</td>\n",
       "      <td>1499.0</td>\n",
       "    </tr>\n",
       "  </tbody>\n",
       "</table>\n",
       "</div>"
      ],
      "text/plain": [
       "             count         mean         std     min     25%     50%     75%  \\\n",
       "duration  202607.0     6.755887    5.843365     0.0     1.3     6.0    10.7   \n",
       "user_id   202607.0  1253.940619  144.722751  1000.0  1126.0  1260.0  1379.0   \n",
       "\n",
       "             max  \n",
       "duration    38.0  \n",
       "user_id   1499.0  "
      ]
     },
     "metadata": {},
     "output_type": "display_data"
    },
    {
     "name": "stdout",
     "output_type": "stream",
     "text": [
      "<class 'pandas.core.frame.DataFrame'>\n",
      "RangeIndex: 123036 entries, 0 to 123035\n",
      "Data columns (total 3 columns):\n",
      " #   Column        Non-Null Count   Dtype \n",
      "---  ------        --------------   ----- \n",
      " 0   id            123036 non-null  object\n",
      " 1   message_date  123036 non-null  object\n",
      " 2   user_id       123036 non-null  int64 \n",
      "dtypes: int64(1), object(2)\n",
      "memory usage: 2.8+ MB\n"
     ]
    },
    {
     "data": {
      "text/plain": [
       "None"
      ]
     },
     "metadata": {},
     "output_type": "display_data"
    },
    {
     "data": {
      "text/html": [
       "<div>\n",
       "<style scoped>\n",
       "    .dataframe tbody tr th:only-of-type {\n",
       "        vertical-align: middle;\n",
       "    }\n",
       "\n",
       "    .dataframe tbody tr th {\n",
       "        vertical-align: top;\n",
       "    }\n",
       "\n",
       "    .dataframe thead th {\n",
       "        text-align: right;\n",
       "    }\n",
       "</style>\n",
       "<table border=\"1\" class=\"dataframe\">\n",
       "  <thead>\n",
       "    <tr style=\"text-align: right;\">\n",
       "      <th></th>\n",
       "      <th>id</th>\n",
       "      <th>message_date</th>\n",
       "      <th>user_id</th>\n",
       "    </tr>\n",
       "  </thead>\n",
       "  <tbody>\n",
       "    <tr>\n",
       "      <th>0</th>\n",
       "      <td>1000_0</td>\n",
       "      <td>2018-06-27</td>\n",
       "      <td>1000</td>\n",
       "    </tr>\n",
       "    <tr>\n",
       "      <th>1</th>\n",
       "      <td>1000_1</td>\n",
       "      <td>2018-10-08</td>\n",
       "      <td>1000</td>\n",
       "    </tr>\n",
       "    <tr>\n",
       "      <th>2</th>\n",
       "      <td>1000_2</td>\n",
       "      <td>2018-08-04</td>\n",
       "      <td>1000</td>\n",
       "    </tr>\n",
       "    <tr>\n",
       "      <th>3</th>\n",
       "      <td>1000_3</td>\n",
       "      <td>2018-06-16</td>\n",
       "      <td>1000</td>\n",
       "    </tr>\n",
       "    <tr>\n",
       "      <th>4</th>\n",
       "      <td>1000_4</td>\n",
       "      <td>2018-12-05</td>\n",
       "      <td>1000</td>\n",
       "    </tr>\n",
       "    <tr>\n",
       "      <th>5</th>\n",
       "      <td>1000_5</td>\n",
       "      <td>2018-06-20</td>\n",
       "      <td>1000</td>\n",
       "    </tr>\n",
       "    <tr>\n",
       "      <th>6</th>\n",
       "      <td>1000_6</td>\n",
       "      <td>2018-11-19</td>\n",
       "      <td>1000</td>\n",
       "    </tr>\n",
       "    <tr>\n",
       "      <th>7</th>\n",
       "      <td>1000_7</td>\n",
       "      <td>2018-10-29</td>\n",
       "      <td>1000</td>\n",
       "    </tr>\n",
       "    <tr>\n",
       "      <th>8</th>\n",
       "      <td>1000_8</td>\n",
       "      <td>2018-06-25</td>\n",
       "      <td>1000</td>\n",
       "    </tr>\n",
       "    <tr>\n",
       "      <th>9</th>\n",
       "      <td>1000_9</td>\n",
       "      <td>2018-12-18</td>\n",
       "      <td>1000</td>\n",
       "    </tr>\n",
       "  </tbody>\n",
       "</table>\n",
       "</div>"
      ],
      "text/plain": [
       "       id message_date  user_id\n",
       "0  1000_0   2018-06-27     1000\n",
       "1  1000_1   2018-10-08     1000\n",
       "2  1000_2   2018-08-04     1000\n",
       "3  1000_3   2018-06-16     1000\n",
       "4  1000_4   2018-12-05     1000\n",
       "5  1000_5   2018-06-20     1000\n",
       "6  1000_6   2018-11-19     1000\n",
       "7  1000_7   2018-10-29     1000\n",
       "8  1000_8   2018-06-25     1000\n",
       "9  1000_9   2018-12-18     1000"
      ]
     },
     "metadata": {},
     "output_type": "display_data"
    },
    {
     "data": {
      "text/html": [
       "<div>\n",
       "<style scoped>\n",
       "    .dataframe tbody tr th:only-of-type {\n",
       "        vertical-align: middle;\n",
       "    }\n",
       "\n",
       "    .dataframe tbody tr th {\n",
       "        vertical-align: top;\n",
       "    }\n",
       "\n",
       "    .dataframe thead th {\n",
       "        text-align: right;\n",
       "    }\n",
       "</style>\n",
       "<table border=\"1\" class=\"dataframe\">\n",
       "  <thead>\n",
       "    <tr style=\"text-align: right;\">\n",
       "      <th></th>\n",
       "      <th>count</th>\n",
       "      <th>mean</th>\n",
       "      <th>std</th>\n",
       "      <th>min</th>\n",
       "      <th>25%</th>\n",
       "      <th>50%</th>\n",
       "      <th>75%</th>\n",
       "      <th>max</th>\n",
       "    </tr>\n",
       "  </thead>\n",
       "  <tbody>\n",
       "    <tr>\n",
       "      <th>user_id</th>\n",
       "      <td>123036.0</td>\n",
       "      <td>1256.98941</td>\n",
       "      <td>143.523967</td>\n",
       "      <td>1000.0</td>\n",
       "      <td>1134.0</td>\n",
       "      <td>1271.0</td>\n",
       "      <td>1381.0</td>\n",
       "      <td>1499.0</td>\n",
       "    </tr>\n",
       "  </tbody>\n",
       "</table>\n",
       "</div>"
      ],
      "text/plain": [
       "            count        mean         std     min     25%     50%     75%  \\\n",
       "user_id  123036.0  1256.98941  143.523967  1000.0  1134.0  1271.0  1381.0   \n",
       "\n",
       "            max  \n",
       "user_id  1499.0  "
      ]
     },
     "metadata": {},
     "output_type": "display_data"
    },
    {
     "name": "stdout",
     "output_type": "stream",
     "text": [
      "<class 'pandas.core.frame.DataFrame'>\n",
      "Int64Index: 149396 entries, 0 to 149395\n",
      "Data columns (total 4 columns):\n",
      " #   Column        Non-Null Count   Dtype  \n",
      "---  ------        --------------   -----  \n",
      " 0   id            149396 non-null  object \n",
      " 1   mb_used       149396 non-null  float64\n",
      " 2   session_date  149396 non-null  object \n",
      " 3   user_id       149396 non-null  int64  \n",
      "dtypes: float64(1), int64(1), object(2)\n",
      "memory usage: 5.7+ MB\n"
     ]
    },
    {
     "data": {
      "text/plain": [
       "None"
      ]
     },
     "metadata": {},
     "output_type": "display_data"
    },
    {
     "data": {
      "text/html": [
       "<div>\n",
       "<style scoped>\n",
       "    .dataframe tbody tr th:only-of-type {\n",
       "        vertical-align: middle;\n",
       "    }\n",
       "\n",
       "    .dataframe tbody tr th {\n",
       "        vertical-align: top;\n",
       "    }\n",
       "\n",
       "    .dataframe thead th {\n",
       "        text-align: right;\n",
       "    }\n",
       "</style>\n",
       "<table border=\"1\" class=\"dataframe\">\n",
       "  <thead>\n",
       "    <tr style=\"text-align: right;\">\n",
       "      <th></th>\n",
       "      <th>id</th>\n",
       "      <th>mb_used</th>\n",
       "      <th>session_date</th>\n",
       "      <th>user_id</th>\n",
       "    </tr>\n",
       "  </thead>\n",
       "  <tbody>\n",
       "    <tr>\n",
       "      <th>0</th>\n",
       "      <td>1000_0</td>\n",
       "      <td>112.95</td>\n",
       "      <td>2018-11-25</td>\n",
       "      <td>1000</td>\n",
       "    </tr>\n",
       "    <tr>\n",
       "      <th>1</th>\n",
       "      <td>1000_1</td>\n",
       "      <td>1052.81</td>\n",
       "      <td>2018-09-07</td>\n",
       "      <td>1000</td>\n",
       "    </tr>\n",
       "    <tr>\n",
       "      <th>2</th>\n",
       "      <td>1000_2</td>\n",
       "      <td>1197.26</td>\n",
       "      <td>2018-06-25</td>\n",
       "      <td>1000</td>\n",
       "    </tr>\n",
       "    <tr>\n",
       "      <th>3</th>\n",
       "      <td>1000_3</td>\n",
       "      <td>550.27</td>\n",
       "      <td>2018-08-22</td>\n",
       "      <td>1000</td>\n",
       "    </tr>\n",
       "    <tr>\n",
       "      <th>4</th>\n",
       "      <td>1000_4</td>\n",
       "      <td>302.56</td>\n",
       "      <td>2018-09-24</td>\n",
       "      <td>1000</td>\n",
       "    </tr>\n",
       "    <tr>\n",
       "      <th>5</th>\n",
       "      <td>1000_5</td>\n",
       "      <td>399.97</td>\n",
       "      <td>2018-10-02</td>\n",
       "      <td>1000</td>\n",
       "    </tr>\n",
       "    <tr>\n",
       "      <th>6</th>\n",
       "      <td>1000_6</td>\n",
       "      <td>540.08</td>\n",
       "      <td>2018-09-07</td>\n",
       "      <td>1000</td>\n",
       "    </tr>\n",
       "    <tr>\n",
       "      <th>7</th>\n",
       "      <td>1000_7</td>\n",
       "      <td>415.70</td>\n",
       "      <td>2018-07-11</td>\n",
       "      <td>1000</td>\n",
       "    </tr>\n",
       "    <tr>\n",
       "      <th>8</th>\n",
       "      <td>1000_8</td>\n",
       "      <td>505.40</td>\n",
       "      <td>2018-10-08</td>\n",
       "      <td>1000</td>\n",
       "    </tr>\n",
       "    <tr>\n",
       "      <th>9</th>\n",
       "      <td>1000_9</td>\n",
       "      <td>345.54</td>\n",
       "      <td>2018-09-03</td>\n",
       "      <td>1000</td>\n",
       "    </tr>\n",
       "  </tbody>\n",
       "</table>\n",
       "</div>"
      ],
      "text/plain": [
       "       id  mb_used session_date  user_id\n",
       "0  1000_0   112.95   2018-11-25     1000\n",
       "1  1000_1  1052.81   2018-09-07     1000\n",
       "2  1000_2  1197.26   2018-06-25     1000\n",
       "3  1000_3   550.27   2018-08-22     1000\n",
       "4  1000_4   302.56   2018-09-24     1000\n",
       "5  1000_5   399.97   2018-10-02     1000\n",
       "6  1000_6   540.08   2018-09-07     1000\n",
       "7  1000_7   415.70   2018-07-11     1000\n",
       "8  1000_8   505.40   2018-10-08     1000\n",
       "9  1000_9   345.54   2018-09-03     1000"
      ]
     },
     "metadata": {},
     "output_type": "display_data"
    },
    {
     "data": {
      "text/html": [
       "<div>\n",
       "<style scoped>\n",
       "    .dataframe tbody tr th:only-of-type {\n",
       "        vertical-align: middle;\n",
       "    }\n",
       "\n",
       "    .dataframe tbody tr th {\n",
       "        vertical-align: top;\n",
       "    }\n",
       "\n",
       "    .dataframe thead th {\n",
       "        text-align: right;\n",
       "    }\n",
       "</style>\n",
       "<table border=\"1\" class=\"dataframe\">\n",
       "  <thead>\n",
       "    <tr style=\"text-align: right;\">\n",
       "      <th></th>\n",
       "      <th>count</th>\n",
       "      <th>mean</th>\n",
       "      <th>std</th>\n",
       "      <th>min</th>\n",
       "      <th>25%</th>\n",
       "      <th>50%</th>\n",
       "      <th>75%</th>\n",
       "      <th>max</th>\n",
       "    </tr>\n",
       "  </thead>\n",
       "  <tbody>\n",
       "    <tr>\n",
       "      <th>mb_used</th>\n",
       "      <td>149396.0</td>\n",
       "      <td>370.192426</td>\n",
       "      <td>278.300951</td>\n",
       "      <td>0.0</td>\n",
       "      <td>138.1875</td>\n",
       "      <td>348.015</td>\n",
       "      <td>559.5525</td>\n",
       "      <td>1724.83</td>\n",
       "    </tr>\n",
       "    <tr>\n",
       "      <th>user_id</th>\n",
       "      <td>149396.0</td>\n",
       "      <td>1252.099842</td>\n",
       "      <td>144.050823</td>\n",
       "      <td>1000.0</td>\n",
       "      <td>1130.0000</td>\n",
       "      <td>1251.000</td>\n",
       "      <td>1380.0000</td>\n",
       "      <td>1499.00</td>\n",
       "    </tr>\n",
       "  </tbody>\n",
       "</table>\n",
       "</div>"
      ],
      "text/plain": [
       "            count         mean         std     min        25%       50%  \\\n",
       "mb_used  149396.0   370.192426  278.300951     0.0   138.1875   348.015   \n",
       "user_id  149396.0  1252.099842  144.050823  1000.0  1130.0000  1251.000   \n",
       "\n",
       "               75%      max  \n",
       "mb_used   559.5525  1724.83  \n",
       "user_id  1380.0000  1499.00  "
      ]
     },
     "metadata": {},
     "output_type": "display_data"
    },
    {
     "name": "stdout",
     "output_type": "stream",
     "text": [
      "<class 'pandas.core.frame.DataFrame'>\n",
      "RangeIndex: 2 entries, 0 to 1\n",
      "Data columns (total 8 columns):\n",
      " #   Column                 Non-Null Count  Dtype \n",
      "---  ------                 --------------  ----- \n",
      " 0   messages_included      2 non-null      int64 \n",
      " 1   mb_per_month_included  2 non-null      int64 \n",
      " 2   minutes_included       2 non-null      int64 \n",
      " 3   rub_monthly_fee        2 non-null      int64 \n",
      " 4   rub_per_gb             2 non-null      int64 \n",
      " 5   rub_per_message        2 non-null      int64 \n",
      " 6   rub_per_minute         2 non-null      int64 \n",
      " 7   tariff_name            2 non-null      object\n",
      "dtypes: int64(7), object(1)\n",
      "memory usage: 256.0+ bytes\n"
     ]
    },
    {
     "data": {
      "text/plain": [
       "None"
      ]
     },
     "metadata": {},
     "output_type": "display_data"
    },
    {
     "data": {
      "text/html": [
       "<div>\n",
       "<style scoped>\n",
       "    .dataframe tbody tr th:only-of-type {\n",
       "        vertical-align: middle;\n",
       "    }\n",
       "\n",
       "    .dataframe tbody tr th {\n",
       "        vertical-align: top;\n",
       "    }\n",
       "\n",
       "    .dataframe thead th {\n",
       "        text-align: right;\n",
       "    }\n",
       "</style>\n",
       "<table border=\"1\" class=\"dataframe\">\n",
       "  <thead>\n",
       "    <tr style=\"text-align: right;\">\n",
       "      <th></th>\n",
       "      <th>messages_included</th>\n",
       "      <th>mb_per_month_included</th>\n",
       "      <th>minutes_included</th>\n",
       "      <th>rub_monthly_fee</th>\n",
       "      <th>rub_per_gb</th>\n",
       "      <th>rub_per_message</th>\n",
       "      <th>rub_per_minute</th>\n",
       "      <th>tariff_name</th>\n",
       "    </tr>\n",
       "  </thead>\n",
       "  <tbody>\n",
       "    <tr>\n",
       "      <th>0</th>\n",
       "      <td>50</td>\n",
       "      <td>15360</td>\n",
       "      <td>500</td>\n",
       "      <td>550</td>\n",
       "      <td>200</td>\n",
       "      <td>3</td>\n",
       "      <td>3</td>\n",
       "      <td>smart</td>\n",
       "    </tr>\n",
       "    <tr>\n",
       "      <th>1</th>\n",
       "      <td>1000</td>\n",
       "      <td>30720</td>\n",
       "      <td>3000</td>\n",
       "      <td>1950</td>\n",
       "      <td>150</td>\n",
       "      <td>1</td>\n",
       "      <td>1</td>\n",
       "      <td>ultra</td>\n",
       "    </tr>\n",
       "  </tbody>\n",
       "</table>\n",
       "</div>"
      ],
      "text/plain": [
       "   messages_included  mb_per_month_included  minutes_included  \\\n",
       "0                 50                  15360               500   \n",
       "1               1000                  30720              3000   \n",
       "\n",
       "   rub_monthly_fee  rub_per_gb  rub_per_message  rub_per_minute tariff_name  \n",
       "0              550         200                3               3       smart  \n",
       "1             1950         150                1               1       ultra  "
      ]
     },
     "metadata": {},
     "output_type": "display_data"
    },
    {
     "data": {
      "text/html": [
       "<div>\n",
       "<style scoped>\n",
       "    .dataframe tbody tr th:only-of-type {\n",
       "        vertical-align: middle;\n",
       "    }\n",
       "\n",
       "    .dataframe tbody tr th {\n",
       "        vertical-align: top;\n",
       "    }\n",
       "\n",
       "    .dataframe thead th {\n",
       "        text-align: right;\n",
       "    }\n",
       "</style>\n",
       "<table border=\"1\" class=\"dataframe\">\n",
       "  <thead>\n",
       "    <tr style=\"text-align: right;\">\n",
       "      <th></th>\n",
       "      <th>count</th>\n",
       "      <th>mean</th>\n",
       "      <th>std</th>\n",
       "      <th>min</th>\n",
       "      <th>25%</th>\n",
       "      <th>50%</th>\n",
       "      <th>75%</th>\n",
       "      <th>max</th>\n",
       "    </tr>\n",
       "  </thead>\n",
       "  <tbody>\n",
       "    <tr>\n",
       "      <th>messages_included</th>\n",
       "      <td>2.0</td>\n",
       "      <td>525.0</td>\n",
       "      <td>671.751442</td>\n",
       "      <td>50.0</td>\n",
       "      <td>287.5</td>\n",
       "      <td>525.0</td>\n",
       "      <td>762.5</td>\n",
       "      <td>1000.0</td>\n",
       "    </tr>\n",
       "    <tr>\n",
       "      <th>mb_per_month_included</th>\n",
       "      <td>2.0</td>\n",
       "      <td>23040.0</td>\n",
       "      <td>10861.160159</td>\n",
       "      <td>15360.0</td>\n",
       "      <td>19200.0</td>\n",
       "      <td>23040.0</td>\n",
       "      <td>26880.0</td>\n",
       "      <td>30720.0</td>\n",
       "    </tr>\n",
       "    <tr>\n",
       "      <th>minutes_included</th>\n",
       "      <td>2.0</td>\n",
       "      <td>1750.0</td>\n",
       "      <td>1767.766953</td>\n",
       "      <td>500.0</td>\n",
       "      <td>1125.0</td>\n",
       "      <td>1750.0</td>\n",
       "      <td>2375.0</td>\n",
       "      <td>3000.0</td>\n",
       "    </tr>\n",
       "    <tr>\n",
       "      <th>rub_monthly_fee</th>\n",
       "      <td>2.0</td>\n",
       "      <td>1250.0</td>\n",
       "      <td>989.949494</td>\n",
       "      <td>550.0</td>\n",
       "      <td>900.0</td>\n",
       "      <td>1250.0</td>\n",
       "      <td>1600.0</td>\n",
       "      <td>1950.0</td>\n",
       "    </tr>\n",
       "    <tr>\n",
       "      <th>rub_per_gb</th>\n",
       "      <td>2.0</td>\n",
       "      <td>175.0</td>\n",
       "      <td>35.355339</td>\n",
       "      <td>150.0</td>\n",
       "      <td>162.5</td>\n",
       "      <td>175.0</td>\n",
       "      <td>187.5</td>\n",
       "      <td>200.0</td>\n",
       "    </tr>\n",
       "    <tr>\n",
       "      <th>rub_per_message</th>\n",
       "      <td>2.0</td>\n",
       "      <td>2.0</td>\n",
       "      <td>1.414214</td>\n",
       "      <td>1.0</td>\n",
       "      <td>1.5</td>\n",
       "      <td>2.0</td>\n",
       "      <td>2.5</td>\n",
       "      <td>3.0</td>\n",
       "    </tr>\n",
       "    <tr>\n",
       "      <th>rub_per_minute</th>\n",
       "      <td>2.0</td>\n",
       "      <td>2.0</td>\n",
       "      <td>1.414214</td>\n",
       "      <td>1.0</td>\n",
       "      <td>1.5</td>\n",
       "      <td>2.0</td>\n",
       "      <td>2.5</td>\n",
       "      <td>3.0</td>\n",
       "    </tr>\n",
       "  </tbody>\n",
       "</table>\n",
       "</div>"
      ],
      "text/plain": [
       "                       count     mean           std      min      25%  \\\n",
       "messages_included        2.0    525.0    671.751442     50.0    287.5   \n",
       "mb_per_month_included    2.0  23040.0  10861.160159  15360.0  19200.0   \n",
       "minutes_included         2.0   1750.0   1767.766953    500.0   1125.0   \n",
       "rub_monthly_fee          2.0   1250.0    989.949494    550.0    900.0   \n",
       "rub_per_gb               2.0    175.0     35.355339    150.0    162.5   \n",
       "rub_per_message          2.0      2.0      1.414214      1.0      1.5   \n",
       "rub_per_minute           2.0      2.0      1.414214      1.0      1.5   \n",
       "\n",
       "                           50%      75%      max  \n",
       "messages_included        525.0    762.5   1000.0  \n",
       "mb_per_month_included  23040.0  26880.0  30720.0  \n",
       "minutes_included        1750.0   2375.0   3000.0  \n",
       "rub_monthly_fee         1250.0   1600.0   1950.0  \n",
       "rub_per_gb               175.0    187.5    200.0  \n",
       "rub_per_message            2.0      2.5      3.0  \n",
       "rub_per_minute             2.0      2.5      3.0  "
      ]
     },
     "metadata": {},
     "output_type": "display_data"
    }
   ],
   "source": [
    "#просмотр данных и основных коэффициентов\n",
    "df_list = [users,calls,messages,internet,tariffs]\n",
    "for df in df_list:\n",
    "    display(df.info())\n",
    "    display(df.head(10))\n",
    "    display(df.describe().T)"
   ]
  },
  {
   "cell_type": "code",
   "execution_count": 4,
   "metadata": {},
   "outputs": [
    {
     "name": "stdout",
     "output_type": "stream",
     "text": [
      "0\n",
      "0\n",
      "0\n",
      "0\n",
      "0\n"
     ]
    }
   ],
   "source": [
    "#проверим на дубликаты\n",
    "for df in df_list:\n",
    "    print(df.duplicated().sum())"
   ]
  },
  {
   "cell_type": "markdown",
   "metadata": {},
   "source": [
    "### Вывод\n",
    "Описание данных\n",
    "\n",
    "Таблица users (информация о пользователях):\n",
    "* user_id — уникальный идентификатор пользователя\n",
    "* first_name — имя пользователя\n",
    "* last_name — фамилия пользователя\n",
    "* age — возраст пользователя (годы)\n",
    "* reg_date — дата подключения тарифа (день, месяц, год)\n",
    "* churn_date — дата прекращения пользования тарифом (если значение пропущено, то тариф ещё действовал на момент выгрузки данных)\n",
    "* city — город проживания пользователя\n",
    "* tariff — название тарифного плана\n",
    "\n",
    "Таблица calls (информация о звонках):\n",
    "* id — уникальный номер звонка\n",
    "* call_date — дата звонка\n",
    "* duration — длительность звонка в минутах\n",
    "* user_id — идентификатор пользователя, сделавшего звонок\n",
    "\n",
    "Таблица messages (информация о сообщениях):\n",
    "* id — уникальный номер сообщения\n",
    "* message_date — дата сообщения\n",
    "* user_id — идентификатор пользователя, отправившего сообщение\n",
    "\n",
    "Таблица internet (информация об интернет-сессиях):\n",
    "* id — уникальный номер сессии\n",
    "* mb_used — объём потраченного за сессию интернет-трафика (в мегабайтах)\n",
    "* session_date — дата интернет-сессии\n",
    "* user_id — идентификатор пользователя\n",
    "\n",
    "Таблица tariffs (информация о тарифах):\n",
    "* tariff_name — название тарифа\n",
    "* rub_monthly_fee — ежемесячная абонентская плата в рублях\n",
    "* minutes_included — количество минут разговора в месяц, включённых в абонентскую плату\n",
    "* messages_included — количество сообщений в месяц, включённых в абонентскую плату\n",
    "* mb_per_month_included — объём интернет-трафика, включённого в абонентскую плату (в мегабайтах)\n",
    "* rub_per_minute — стоимость минуты разговора сверх тарифного пакета (например, если в тарифе 100 минут разговора в месяц, то со 101 минуты будет взиматься плата)\n",
    "* rub_per_message — стоимость отправки сообщения сверх тарифного пакета\n",
    "* rub_per_gb — стоимость дополнительного гигабайта интернет-трафика сверх тарифного пакета (1 гигабайт = 1024 мегабайта)\n",
    "\n",
    "Таблицы разного размера. Во всех столбцах с датами нужно изменить тип данных. Пропусков в данных нет, кроме столбца \"churn_date\", но это указано в документации, оставляем столбец как есть.Нужно округлить время звонков и трафика в большую сторону,по условиям тарифов."
   ]
  },
  {
   "cell_type": "markdown",
   "metadata": {},
   "source": [
    "## Предобработка данных"
   ]
  },
  {
   "cell_type": "code",
   "execution_count": 5,
   "metadata": {},
   "outputs": [
    {
     "name": "stdout",
     "output_type": "stream",
     "text": [
      "<class 'pandas.core.frame.DataFrame'>\n",
      "RangeIndex: 500 entries, 0 to 499\n",
      "Data columns (total 8 columns):\n",
      " #   Column      Non-Null Count  Dtype         \n",
      "---  ------      --------------  -----         \n",
      " 0   user_id     500 non-null    int64         \n",
      " 1   age         500 non-null    int64         \n",
      " 2   churn_date  38 non-null     datetime64[ns]\n",
      " 3   city        500 non-null    object        \n",
      " 4   first_name  500 non-null    object        \n",
      " 5   last_name   500 non-null    object        \n",
      " 6   reg_date    500 non-null    datetime64[ns]\n",
      " 7   tariff      500 non-null    object        \n",
      "dtypes: datetime64[ns](2), int64(2), object(4)\n",
      "memory usage: 31.4+ KB\n"
     ]
    }
   ],
   "source": [
    "# изменим тип данных на дату\n",
    "def type_datetime(df, columns):\n",
    "    for column in columns:\n",
    "        df[column] = pd.to_datetime(df[column], format='%Y-%m-%d')\n",
    "        \n",
    "type_datetime(calls, ['call_date'])\n",
    "type_datetime(users, ['reg_date', 'churn_date'])\n",
    "type_datetime(messages, ['message_date'])\n",
    "type_datetime(internet, ['session_date'])\n",
    "users.info()"
   ]
  },
  {
   "cell_type": "code",
   "execution_count": 6,
   "metadata": {},
   "outputs": [
    {
     "name": "stdout",
     "output_type": "stream",
     "text": [
      "<class 'pandas.core.frame.DataFrame'>\n",
      "RangeIndex: 202607 entries, 0 to 202606\n",
      "Data columns (total 4 columns):\n",
      " #   Column     Non-Null Count   Dtype         \n",
      "---  ------     --------------   -----         \n",
      " 0   id         202607 non-null  object        \n",
      " 1   call_date  202607 non-null  datetime64[ns]\n",
      " 2   duration   202607 non-null  int64         \n",
      " 3   user_id    202607 non-null  int64         \n",
      "dtypes: datetime64[ns](1), int64(2), object(1)\n",
      "memory usage: 6.2+ MB\n"
     ]
    }
   ],
   "source": [
    "#округлим числа и заполним пропуски\n",
    "calls['duration'] = np.ceil(calls['duration'])  \n",
    "internet['mb_used'] = np.ceil(internet['mb_used'])\n",
    "internet['mb_used'] = internet['mb_used'].astype('int64')\n",
    "calls['duration'] = calls['duration'].astype('int64')\n",
    "calls.info()"
   ]
  },
  {
   "cell_type": "code",
   "execution_count": 7,
   "metadata": {},
   "outputs": [
    {
     "name": "stdout",
     "output_type": "stream",
     "text": [
      "<class 'pandas.core.frame.DataFrame'>\n",
      "Int64Index: 149396 entries, 0 to 149395\n",
      "Data columns (total 5 columns):\n",
      " #   Column        Non-Null Count   Dtype         \n",
      "---  ------        --------------   -----         \n",
      " 0   id            149396 non-null  object        \n",
      " 1   mb_used       149396 non-null  int64         \n",
      " 2   session_date  149396 non-null  datetime64[ns]\n",
      " 3   user_id       149396 non-null  int64         \n",
      " 4   gb_used       149396 non-null  float64       \n",
      "dtypes: datetime64[ns](1), float64(1), int64(2), object(1)\n",
      "memory usage: 6.8+ MB\n"
     ]
    }
   ],
   "source": [
    "#в таблице с интернет-трафиком переведем мб в гб\n",
    "internet['gb_used'] = (internet['mb_used'] / 1024)\n",
    "internet.info()"
   ]
  },
  {
   "cell_type": "markdown",
   "metadata": {},
   "source": [
    "### Вывод\n",
    "Изменили тип данных в столбцах с датами. Столбец 'Unnamed: 0' удалили, т.к. он дублировал индексы. Округлили израсходаванные смс,звонки и трафик, также перевели значение в гигабайты, согласно документации. "
   ]
  },
  {
   "cell_type": "markdown",
   "metadata": {},
   "source": [
    "## Расчёты и добавление результатов в таблицу"
   ]
  },
  {
   "cell_type": "markdown",
   "metadata": {},
   "source": [
    "Рассмотрим данные по каждому пользователю, рассчитав:\n",
    "* количество сделанных звонков и израсходованных минут разговора по месяцам;\n",
    "* количество отправленных сообщений по месяцам;\n",
    "* объем израсходованного интернет-трафика по месяцам;\n",
    "* помесячную выручку с каждого пользователя.\n",
    "\n",
    "Для этого создадим столбец month в каждой таблице."
   ]
  },
  {
   "cell_type": "code",
   "execution_count": 8,
   "metadata": {},
   "outputs": [
    {
     "data": {
      "text/html": [
       "<div>\n",
       "<style scoped>\n",
       "    .dataframe tbody tr th:only-of-type {\n",
       "        vertical-align: middle;\n",
       "    }\n",
       "\n",
       "    .dataframe tbody tr th {\n",
       "        vertical-align: top;\n",
       "    }\n",
       "\n",
       "    .dataframe thead th {\n",
       "        text-align: right;\n",
       "    }\n",
       "</style>\n",
       "<table border=\"1\" class=\"dataframe\">\n",
       "  <thead>\n",
       "    <tr style=\"text-align: right;\">\n",
       "      <th></th>\n",
       "      <th>id</th>\n",
       "      <th>call_date</th>\n",
       "      <th>duration</th>\n",
       "      <th>user_id</th>\n",
       "      <th>month</th>\n",
       "    </tr>\n",
       "  </thead>\n",
       "  <tbody>\n",
       "    <tr>\n",
       "      <th>11738</th>\n",
       "      <td>1030_271</td>\n",
       "      <td>2018-11-02</td>\n",
       "      <td>0</td>\n",
       "      <td>1030</td>\n",
       "      <td>11</td>\n",
       "    </tr>\n",
       "    <tr>\n",
       "      <th>71671</th>\n",
       "      <td>1178_431</td>\n",
       "      <td>2018-09-22</td>\n",
       "      <td>2</td>\n",
       "      <td>1178</td>\n",
       "      <td>9</td>\n",
       "    </tr>\n",
       "    <tr>\n",
       "      <th>200474</th>\n",
       "      <td>1494_136</td>\n",
       "      <td>2018-08-17</td>\n",
       "      <td>15</td>\n",
       "      <td>1494</td>\n",
       "      <td>8</td>\n",
       "    </tr>\n",
       "    <tr>\n",
       "      <th>130249</th>\n",
       "      <td>1333_96</td>\n",
       "      <td>2018-12-01</td>\n",
       "      <td>5</td>\n",
       "      <td>1333</td>\n",
       "      <td>12</td>\n",
       "    </tr>\n",
       "    <tr>\n",
       "      <th>87820</th>\n",
       "      <td>1219_589</td>\n",
       "      <td>2018-03-25</td>\n",
       "      <td>16</td>\n",
       "      <td>1219</td>\n",
       "      <td>3</td>\n",
       "    </tr>\n",
       "  </tbody>\n",
       "</table>\n",
       "</div>"
      ],
      "text/plain": [
       "              id  call_date  duration  user_id  month\n",
       "11738   1030_271 2018-11-02         0     1030     11\n",
       "71671   1178_431 2018-09-22         2     1178      9\n",
       "200474  1494_136 2018-08-17        15     1494      8\n",
       "130249   1333_96 2018-12-01         5     1333     12\n",
       "87820   1219_589 2018-03-25        16     1219      3"
      ]
     },
     "execution_count": 8,
     "metadata": {},
     "output_type": "execute_result"
    }
   ],
   "source": [
    "calls['month'] = pd.to_datetime(calls['call_date']).dt.month\n",
    "messages['month'] = pd.to_datetime(messages['message_date']).dt.month\n",
    "internet['month'] = pd.to_datetime(internet['session_date']).dt.month\n",
    "calls.sample(5)"
   ]
  },
  {
   "cell_type": "code",
   "execution_count": 9,
   "metadata": {},
   "outputs": [],
   "source": [
    "#fереименуем столбец tariff_name,для дальнейшего объединения таблиц\n",
    "tariffs = tariffs.rename(columns={'tariff_name': 'tariff'})"
   ]
  },
  {
   "cell_type": "code",
   "execution_count": 10,
   "metadata": {},
   "outputs": [
    {
     "data": {
      "text/html": [
       "<div>\n",
       "<style scoped>\n",
       "    .dataframe tbody tr th:only-of-type {\n",
       "        vertical-align: middle;\n",
       "    }\n",
       "\n",
       "    .dataframe tbody tr th {\n",
       "        vertical-align: top;\n",
       "    }\n",
       "\n",
       "    .dataframe thead th {\n",
       "        text-align: right;\n",
       "    }\n",
       "</style>\n",
       "<table border=\"1\" class=\"dataframe\">\n",
       "  <thead>\n",
       "    <tr style=\"text-align: right;\">\n",
       "      <th></th>\n",
       "      <th></th>\n",
       "      <th>traffic_volume_gb</th>\n",
       "    </tr>\n",
       "    <tr>\n",
       "      <th>user_id</th>\n",
       "      <th>month</th>\n",
       "      <th></th>\n",
       "    </tr>\n",
       "  </thead>\n",
       "  <tbody>\n",
       "    <tr>\n",
       "      <th rowspan=\"5\" valign=\"top\">1000</th>\n",
       "      <th>5</th>\n",
       "      <td>3.0</td>\n",
       "    </tr>\n",
       "    <tr>\n",
       "      <th>6</th>\n",
       "      <td>23.0</td>\n",
       "    </tr>\n",
       "    <tr>\n",
       "      <th>7</th>\n",
       "      <td>14.0</td>\n",
       "    </tr>\n",
       "    <tr>\n",
       "      <th>8</th>\n",
       "      <td>14.0</td>\n",
       "    </tr>\n",
       "    <tr>\n",
       "      <th>9</th>\n",
       "      <td>15.0</td>\n",
       "    </tr>\n",
       "  </tbody>\n",
       "</table>\n",
       "</div>"
      ],
      "text/plain": [
       "               traffic_volume_gb\n",
       "user_id month                   \n",
       "1000    5                    3.0\n",
       "        6                   23.0\n",
       "        7                   14.0\n",
       "        8                   14.0\n",
       "        9                   15.0"
      ]
     },
     "execution_count": 10,
     "metadata": {},
     "output_type": "execute_result"
    }
   ],
   "source": [
    "#сделаем pivot для трех таблиц. сгруппируем по user_id и month:\n",
    "calls_group = calls.pivot_table(index=['user_id', 'month'], aggfunc={'call_date':'count', 'duration':sum}) \n",
    "calls_group.columns = ['calls_count', 'calls_duration']\n",
    "\n",
    "messages_group = messages.pivot_table(index=['user_id', 'month'], aggfunc={'id':'count'})\n",
    "messages_group.columns = ['messages_count']\n",
    "\n",
    "internet_group = internet.pivot_table(index=['user_id', 'month'], aggfunc={'gb_used':sum})\n",
    "internet_group.columns = ['traffic_volume_gb']\n",
    "#округлим объём потраченного за сессию интернет-трафика (в гигабайтах)\n",
    "internet_group['traffic_volume_gb']= internet_group['traffic_volume_gb'].apply(np.ceil)\n",
    "internet_group.head()"
   ]
  },
  {
   "cell_type": "markdown",
   "metadata": {},
   "source": [
    "Чтобы рассчитать помесячную выручку объеденим таблицы."
   ]
  },
  {
   "cell_type": "code",
   "execution_count": 11,
   "metadata": {},
   "outputs": [
    {
     "data": {
      "text/html": [
       "<div>\n",
       "<style scoped>\n",
       "    .dataframe tbody tr th:only-of-type {\n",
       "        vertical-align: middle;\n",
       "    }\n",
       "\n",
       "    .dataframe tbody tr th {\n",
       "        vertical-align: top;\n",
       "    }\n",
       "\n",
       "    .dataframe thead th {\n",
       "        text-align: right;\n",
       "    }\n",
       "</style>\n",
       "<table border=\"1\" class=\"dataframe\">\n",
       "  <thead>\n",
       "    <tr style=\"text-align: right;\">\n",
       "      <th></th>\n",
       "      <th>month</th>\n",
       "      <th>traffic_volume_gb</th>\n",
       "      <th>calls_count</th>\n",
       "      <th>calls_duration</th>\n",
       "      <th>messages_count</th>\n",
       "    </tr>\n",
       "    <tr>\n",
       "      <th>user_id</th>\n",
       "      <th></th>\n",
       "      <th></th>\n",
       "      <th></th>\n",
       "      <th></th>\n",
       "      <th></th>\n",
       "    </tr>\n",
       "  </thead>\n",
       "  <tbody>\n",
       "    <tr>\n",
       "      <th>1000</th>\n",
       "      <td>5</td>\n",
       "      <td>3.0</td>\n",
       "      <td>22.0</td>\n",
       "      <td>159.0</td>\n",
       "      <td>22.0</td>\n",
       "    </tr>\n",
       "    <tr>\n",
       "      <th>1000</th>\n",
       "      <td>6</td>\n",
       "      <td>23.0</td>\n",
       "      <td>43.0</td>\n",
       "      <td>172.0</td>\n",
       "      <td>60.0</td>\n",
       "    </tr>\n",
       "    <tr>\n",
       "      <th>1000</th>\n",
       "      <td>7</td>\n",
       "      <td>14.0</td>\n",
       "      <td>47.0</td>\n",
       "      <td>340.0</td>\n",
       "      <td>75.0</td>\n",
       "    </tr>\n",
       "    <tr>\n",
       "      <th>1000</th>\n",
       "      <td>8</td>\n",
       "      <td>14.0</td>\n",
       "      <td>52.0</td>\n",
       "      <td>408.0</td>\n",
       "      <td>81.0</td>\n",
       "    </tr>\n",
       "    <tr>\n",
       "      <th>1000</th>\n",
       "      <td>9</td>\n",
       "      <td>15.0</td>\n",
       "      <td>58.0</td>\n",
       "      <td>466.0</td>\n",
       "      <td>57.0</td>\n",
       "    </tr>\n",
       "    <tr>\n",
       "      <th>1000</th>\n",
       "      <td>10</td>\n",
       "      <td>15.0</td>\n",
       "      <td>57.0</td>\n",
       "      <td>350.0</td>\n",
       "      <td>73.0</td>\n",
       "    </tr>\n",
       "    <tr>\n",
       "      <th>1000</th>\n",
       "      <td>11</td>\n",
       "      <td>15.0</td>\n",
       "      <td>43.0</td>\n",
       "      <td>338.0</td>\n",
       "      <td>58.0</td>\n",
       "    </tr>\n",
       "    <tr>\n",
       "      <th>1000</th>\n",
       "      <td>12</td>\n",
       "      <td>10.0</td>\n",
       "      <td>46.0</td>\n",
       "      <td>333.0</td>\n",
       "      <td>70.0</td>\n",
       "    </tr>\n",
       "    <tr>\n",
       "      <th>1001</th>\n",
       "      <td>11</td>\n",
       "      <td>19.0</td>\n",
       "      <td>59.0</td>\n",
       "      <td>430.0</td>\n",
       "      <td>NaN</td>\n",
       "    </tr>\n",
       "    <tr>\n",
       "      <th>1001</th>\n",
       "      <td>12</td>\n",
       "      <td>14.0</td>\n",
       "      <td>63.0</td>\n",
       "      <td>414.0</td>\n",
       "      <td>NaN</td>\n",
       "    </tr>\n",
       "    <tr>\n",
       "      <th>1002</th>\n",
       "      <td>6</td>\n",
       "      <td>11.0</td>\n",
       "      <td>15.0</td>\n",
       "      <td>117.0</td>\n",
       "      <td>4.0</td>\n",
       "    </tr>\n",
       "    <tr>\n",
       "      <th>1002</th>\n",
       "      <td>7</td>\n",
       "      <td>18.0</td>\n",
       "      <td>26.0</td>\n",
       "      <td>214.0</td>\n",
       "      <td>11.0</td>\n",
       "    </tr>\n",
       "    <tr>\n",
       "      <th>1002</th>\n",
       "      <td>8</td>\n",
       "      <td>20.0</td>\n",
       "      <td>42.0</td>\n",
       "      <td>289.0</td>\n",
       "      <td>13.0</td>\n",
       "    </tr>\n",
       "    <tr>\n",
       "      <th>1002</th>\n",
       "      <td>9</td>\n",
       "      <td>17.0</td>\n",
       "      <td>36.0</td>\n",
       "      <td>206.0</td>\n",
       "      <td>4.0</td>\n",
       "    </tr>\n",
       "    <tr>\n",
       "      <th>1002</th>\n",
       "      <td>10</td>\n",
       "      <td>14.0</td>\n",
       "      <td>33.0</td>\n",
       "      <td>212.0</td>\n",
       "      <td>10.0</td>\n",
       "    </tr>\n",
       "  </tbody>\n",
       "</table>\n",
       "</div>"
      ],
      "text/plain": [
       "         month  traffic_volume_gb  calls_count  calls_duration  messages_count\n",
       "user_id                                                                       \n",
       "1000         5                3.0         22.0           159.0            22.0\n",
       "1000         6               23.0         43.0           172.0            60.0\n",
       "1000         7               14.0         47.0           340.0            75.0\n",
       "1000         8               14.0         52.0           408.0            81.0\n",
       "1000         9               15.0         58.0           466.0            57.0\n",
       "1000        10               15.0         57.0           350.0            73.0\n",
       "1000        11               15.0         43.0           338.0            58.0\n",
       "1000        12               10.0         46.0           333.0            70.0\n",
       "1001        11               19.0         59.0           430.0             NaN\n",
       "1001        12               14.0         63.0           414.0             NaN\n",
       "1002         6               11.0         15.0           117.0             4.0\n",
       "1002         7               18.0         26.0           214.0            11.0\n",
       "1002         8               20.0         42.0           289.0            13.0\n",
       "1002         9               17.0         36.0           206.0             4.0\n",
       "1002        10               14.0         33.0           212.0            10.0"
      ]
     },
     "execution_count": 11,
     "metadata": {},
     "output_type": "execute_result"
    }
   ],
   "source": [
    "data = internet_group.join([calls_group, messages_group], how='outer').reset_index(level='month')\n",
    "data.head(15)"
   ]
  },
  {
   "cell_type": "code",
   "execution_count": 12,
   "metadata": {},
   "outputs": [
    {
     "data": {
      "text/html": [
       "<div>\n",
       "<style scoped>\n",
       "    .dataframe tbody tr th:only-of-type {\n",
       "        vertical-align: middle;\n",
       "    }\n",
       "\n",
       "    .dataframe tbody tr th {\n",
       "        vertical-align: top;\n",
       "    }\n",
       "\n",
       "    .dataframe thead th {\n",
       "        text-align: right;\n",
       "    }\n",
       "</style>\n",
       "<table border=\"1\" class=\"dataframe\">\n",
       "  <thead>\n",
       "    <tr style=\"text-align: right;\">\n",
       "      <th></th>\n",
       "      <th>user_id</th>\n",
       "      <th>age</th>\n",
       "      <th>churn_date</th>\n",
       "      <th>city</th>\n",
       "      <th>first_name</th>\n",
       "      <th>last_name</th>\n",
       "      <th>reg_date</th>\n",
       "      <th>tariff</th>\n",
       "      <th>month</th>\n",
       "      <th>traffic_volume_gb</th>\n",
       "      <th>calls_count</th>\n",
       "      <th>calls_duration</th>\n",
       "      <th>messages_count</th>\n",
       "    </tr>\n",
       "  </thead>\n",
       "  <tbody>\n",
       "    <tr>\n",
       "      <th>76</th>\n",
       "      <td>1076</td>\n",
       "      <td>40</td>\n",
       "      <td>NaT</td>\n",
       "      <td>Уфа</td>\n",
       "      <td>Фёдор</td>\n",
       "      <td>Шарапов</td>\n",
       "      <td>2018-03-10</td>\n",
       "      <td>smart</td>\n",
       "      <td>5.0</td>\n",
       "      <td>22.0</td>\n",
       "      <td>72.0</td>\n",
       "      <td>490.0</td>\n",
       "      <td>102.0</td>\n",
       "    </tr>\n",
       "    <tr>\n",
       "      <th>253</th>\n",
       "      <td>1253</td>\n",
       "      <td>29</td>\n",
       "      <td>NaT</td>\n",
       "      <td>Астрахань</td>\n",
       "      <td>Алла</td>\n",
       "      <td>Масленникова</td>\n",
       "      <td>2018-08-06</td>\n",
       "      <td>ultra</td>\n",
       "      <td>12.0</td>\n",
       "      <td>22.0</td>\n",
       "      <td>41.0</td>\n",
       "      <td>241.0</td>\n",
       "      <td>87.0</td>\n",
       "    </tr>\n",
       "    <tr>\n",
       "      <th>238</th>\n",
       "      <td>1238</td>\n",
       "      <td>57</td>\n",
       "      <td>NaT</td>\n",
       "      <td>Ростов-на-Дону</td>\n",
       "      <td>Радислав</td>\n",
       "      <td>Наумов</td>\n",
       "      <td>2018-01-08</td>\n",
       "      <td>smart</td>\n",
       "      <td>8.0</td>\n",
       "      <td>13.0</td>\n",
       "      <td>11.0</td>\n",
       "      <td>68.0</td>\n",
       "      <td>25.0</td>\n",
       "    </tr>\n",
       "    <tr>\n",
       "      <th>159</th>\n",
       "      <td>1159</td>\n",
       "      <td>64</td>\n",
       "      <td>NaT</td>\n",
       "      <td>Красноярск</td>\n",
       "      <td>Эльга</td>\n",
       "      <td>Аничкина</td>\n",
       "      <td>2018-11-28</td>\n",
       "      <td>smart</td>\n",
       "      <td>11.0</td>\n",
       "      <td>3.0</td>\n",
       "      <td>10.0</td>\n",
       "      <td>85.0</td>\n",
       "      <td>NaN</td>\n",
       "    </tr>\n",
       "    <tr>\n",
       "      <th>26</th>\n",
       "      <td>1026</td>\n",
       "      <td>32</td>\n",
       "      <td>NaT</td>\n",
       "      <td>Мурманск</td>\n",
       "      <td>Евгений</td>\n",
       "      <td>Бородин</td>\n",
       "      <td>2018-10-06</td>\n",
       "      <td>smart</td>\n",
       "      <td>10.0</td>\n",
       "      <td>14.0</td>\n",
       "      <td>72.0</td>\n",
       "      <td>535.0</td>\n",
       "      <td>39.0</td>\n",
       "    </tr>\n",
       "    <tr>\n",
       "      <th>230</th>\n",
       "      <td>1230</td>\n",
       "      <td>44</td>\n",
       "      <td>NaT</td>\n",
       "      <td>Томск</td>\n",
       "      <td>Ренальд</td>\n",
       "      <td>Капустин</td>\n",
       "      <td>2018-09-15</td>\n",
       "      <td>smart</td>\n",
       "      <td>11.0</td>\n",
       "      <td>20.0</td>\n",
       "      <td>45.0</td>\n",
       "      <td>356.0</td>\n",
       "      <td>13.0</td>\n",
       "    </tr>\n",
       "    <tr>\n",
       "      <th>30</th>\n",
       "      <td>1030</td>\n",
       "      <td>28</td>\n",
       "      <td>NaT</td>\n",
       "      <td>Махачкала</td>\n",
       "      <td>Мариетта</td>\n",
       "      <td>Русанова</td>\n",
       "      <td>2018-05-23</td>\n",
       "      <td>smart</td>\n",
       "      <td>12.0</td>\n",
       "      <td>13.0</td>\n",
       "      <td>48.0</td>\n",
       "      <td>393.0</td>\n",
       "      <td>92.0</td>\n",
       "    </tr>\n",
       "    <tr>\n",
       "      <th>138</th>\n",
       "      <td>1138</td>\n",
       "      <td>23</td>\n",
       "      <td>NaT</td>\n",
       "      <td>Екатеринбург</td>\n",
       "      <td>Леся</td>\n",
       "      <td>Ерофеева</td>\n",
       "      <td>2018-07-13</td>\n",
       "      <td>smart</td>\n",
       "      <td>12.0</td>\n",
       "      <td>26.0</td>\n",
       "      <td>100.0</td>\n",
       "      <td>527.0</td>\n",
       "      <td>8.0</td>\n",
       "    </tr>\n",
       "    <tr>\n",
       "      <th>424</th>\n",
       "      <td>1424</td>\n",
       "      <td>27</td>\n",
       "      <td>NaT</td>\n",
       "      <td>Москва</td>\n",
       "      <td>Розалия</td>\n",
       "      <td>Ёрохова</td>\n",
       "      <td>2018-06-20</td>\n",
       "      <td>ultra</td>\n",
       "      <td>11.0</td>\n",
       "      <td>17.0</td>\n",
       "      <td>6.0</td>\n",
       "      <td>16.0</td>\n",
       "      <td>83.0</td>\n",
       "    </tr>\n",
       "    <tr>\n",
       "      <th>123</th>\n",
       "      <td>1123</td>\n",
       "      <td>74</td>\n",
       "      <td>NaT</td>\n",
       "      <td>Краснодар</td>\n",
       "      <td>Вениамин</td>\n",
       "      <td>Устинов</td>\n",
       "      <td>2018-03-18</td>\n",
       "      <td>smart</td>\n",
       "      <td>9.0</td>\n",
       "      <td>20.0</td>\n",
       "      <td>87.0</td>\n",
       "      <td>673.0</td>\n",
       "      <td>10.0</td>\n",
       "    </tr>\n",
       "    <tr>\n",
       "      <th>173</th>\n",
       "      <td>1173</td>\n",
       "      <td>46</td>\n",
       "      <td>NaT</td>\n",
       "      <td>Красноярск</td>\n",
       "      <td>Агафья</td>\n",
       "      <td>Григорьева</td>\n",
       "      <td>2018-06-21</td>\n",
       "      <td>smart</td>\n",
       "      <td>9.0</td>\n",
       "      <td>16.0</td>\n",
       "      <td>74.0</td>\n",
       "      <td>484.0</td>\n",
       "      <td>18.0</td>\n",
       "    </tr>\n",
       "    <tr>\n",
       "      <th>370</th>\n",
       "      <td>1370</td>\n",
       "      <td>48</td>\n",
       "      <td>2018-10-27</td>\n",
       "      <td>Новороссийск</td>\n",
       "      <td>Гектор</td>\n",
       "      <td>Сысоев</td>\n",
       "      <td>2018-02-06</td>\n",
       "      <td>smart</td>\n",
       "      <td>3.0</td>\n",
       "      <td>23.0</td>\n",
       "      <td>14.0</td>\n",
       "      <td>90.0</td>\n",
       "      <td>NaN</td>\n",
       "    </tr>\n",
       "    <tr>\n",
       "      <th>294</th>\n",
       "      <td>1294</td>\n",
       "      <td>66</td>\n",
       "      <td>NaT</td>\n",
       "      <td>Владивосток</td>\n",
       "      <td>Дебора</td>\n",
       "      <td>Асафьева</td>\n",
       "      <td>2018-02-20</td>\n",
       "      <td>ultra</td>\n",
       "      <td>9.0</td>\n",
       "      <td>23.0</td>\n",
       "      <td>49.0</td>\n",
       "      <td>376.0</td>\n",
       "      <td>26.0</td>\n",
       "    </tr>\n",
       "    <tr>\n",
       "      <th>348</th>\n",
       "      <td>1348</td>\n",
       "      <td>55</td>\n",
       "      <td>NaT</td>\n",
       "      <td>Москва</td>\n",
       "      <td>Вероника</td>\n",
       "      <td>Громова</td>\n",
       "      <td>2018-10-07</td>\n",
       "      <td>ultra</td>\n",
       "      <td>11.0</td>\n",
       "      <td>27.0</td>\n",
       "      <td>81.0</td>\n",
       "      <td>515.0</td>\n",
       "      <td>40.0</td>\n",
       "    </tr>\n",
       "    <tr>\n",
       "      <th>322</th>\n",
       "      <td>1322</td>\n",
       "      <td>45</td>\n",
       "      <td>NaT</td>\n",
       "      <td>Балашиха</td>\n",
       "      <td>Александр</td>\n",
       "      <td>Сальников</td>\n",
       "      <td>2018-09-09</td>\n",
       "      <td>smart</td>\n",
       "      <td>10.0</td>\n",
       "      <td>14.0</td>\n",
       "      <td>88.0</td>\n",
       "      <td>583.0</td>\n",
       "      <td>NaN</td>\n",
       "    </tr>\n",
       "  </tbody>\n",
       "</table>\n",
       "</div>"
      ],
      "text/plain": [
       "     user_id  age churn_date            city first_name     last_name  \\\n",
       "76      1076   40        NaT             Уфа      Фёдор       Шарапов   \n",
       "253     1253   29        NaT       Астрахань       Алла  Масленникова   \n",
       "238     1238   57        NaT  Ростов-на-Дону   Радислав        Наумов   \n",
       "159     1159   64        NaT      Красноярск      Эльга      Аничкина   \n",
       "26      1026   32        NaT        Мурманск    Евгений       Бородин   \n",
       "230     1230   44        NaT           Томск    Ренальд      Капустин   \n",
       "30      1030   28        NaT       Махачкала   Мариетта      Русанова   \n",
       "138     1138   23        NaT    Екатеринбург       Леся      Ерофеева   \n",
       "424     1424   27        NaT          Москва    Розалия       Ёрохова   \n",
       "123     1123   74        NaT       Краснодар   Вениамин       Устинов   \n",
       "173     1173   46        NaT      Красноярск     Агафья    Григорьева   \n",
       "370     1370   48 2018-10-27    Новороссийск     Гектор        Сысоев   \n",
       "294     1294   66        NaT     Владивосток     Дебора      Асафьева   \n",
       "348     1348   55        NaT          Москва   Вероника       Громова   \n",
       "322     1322   45        NaT        Балашиха  Александр     Сальников   \n",
       "\n",
       "      reg_date tariff  month  traffic_volume_gb  calls_count  calls_duration  \\\n",
       "76  2018-03-10  smart    5.0               22.0         72.0           490.0   \n",
       "253 2018-08-06  ultra   12.0               22.0         41.0           241.0   \n",
       "238 2018-01-08  smart    8.0               13.0         11.0            68.0   \n",
       "159 2018-11-28  smart   11.0                3.0         10.0            85.0   \n",
       "26  2018-10-06  smart   10.0               14.0         72.0           535.0   \n",
       "230 2018-09-15  smart   11.0               20.0         45.0           356.0   \n",
       "30  2018-05-23  smart   12.0               13.0         48.0           393.0   \n",
       "138 2018-07-13  smart   12.0               26.0        100.0           527.0   \n",
       "424 2018-06-20  ultra   11.0               17.0          6.0            16.0   \n",
       "123 2018-03-18  smart    9.0               20.0         87.0           673.0   \n",
       "173 2018-06-21  smart    9.0               16.0         74.0           484.0   \n",
       "370 2018-02-06  smart    3.0               23.0         14.0            90.0   \n",
       "294 2018-02-20  ultra    9.0               23.0         49.0           376.0   \n",
       "348 2018-10-07  ultra   11.0               27.0         81.0           515.0   \n",
       "322 2018-09-09  smart   10.0               14.0         88.0           583.0   \n",
       "\n",
       "     messages_count  \n",
       "76            102.0  \n",
       "253            87.0  \n",
       "238            25.0  \n",
       "159             NaN  \n",
       "26             39.0  \n",
       "230            13.0  \n",
       "30             92.0  \n",
       "138             8.0  \n",
       "424            83.0  \n",
       "123            10.0  \n",
       "173            18.0  \n",
       "370             NaN  \n",
       "294            26.0  \n",
       "348            40.0  \n",
       "322             NaN  "
      ]
     },
     "execution_count": 12,
     "metadata": {},
     "output_type": "execute_result"
    }
   ],
   "source": [
    "# объединим таблицу users и data\n",
    "user_consumption = users.join(data, on='user_id')\n",
    "user_consumption.sample(15)"
   ]
  },
  {
   "cell_type": "code",
   "execution_count": 13,
   "metadata": {},
   "outputs": [],
   "source": [
    "# удаляем лишние столбцы\n",
    "user_consumption= user_consumption.drop(['churn_date', 'first_name', 'last_name', 'reg_date','age'], axis='columns')"
   ]
  },
  {
   "cell_type": "code",
   "execution_count": 14,
   "metadata": {},
   "outputs": [
    {
     "data": {
      "text/html": [
       "<div>\n",
       "<style scoped>\n",
       "    .dataframe tbody tr th:only-of-type {\n",
       "        vertical-align: middle;\n",
       "    }\n",
       "\n",
       "    .dataframe tbody tr th {\n",
       "        vertical-align: top;\n",
       "    }\n",
       "\n",
       "    .dataframe thead th {\n",
       "        text-align: right;\n",
       "    }\n",
       "</style>\n",
       "<table border=\"1\" class=\"dataframe\">\n",
       "  <thead>\n",
       "    <tr style=\"text-align: right;\">\n",
       "      <th></th>\n",
       "      <th>user_id</th>\n",
       "      <th>city</th>\n",
       "      <th>tariff</th>\n",
       "      <th>month</th>\n",
       "      <th>traffic_volume_gb</th>\n",
       "      <th>calls_count</th>\n",
       "      <th>calls_duration</th>\n",
       "      <th>messages_count</th>\n",
       "      <th>messages_included</th>\n",
       "      <th>mb_per_month_included</th>\n",
       "      <th>minutes_included</th>\n",
       "      <th>rub_monthly_fee</th>\n",
       "      <th>rub_per_gb</th>\n",
       "      <th>rub_per_message</th>\n",
       "      <th>rub_per_minute</th>\n",
       "    </tr>\n",
       "  </thead>\n",
       "  <tbody>\n",
       "    <tr>\n",
       "      <th>0</th>\n",
       "      <td>1000</td>\n",
       "      <td>Краснодар</td>\n",
       "      <td>ultra</td>\n",
       "      <td>5.0</td>\n",
       "      <td>3.0</td>\n",
       "      <td>22.0</td>\n",
       "      <td>159.0</td>\n",
       "      <td>22.0</td>\n",
       "      <td>1000</td>\n",
       "      <td>30720</td>\n",
       "      <td>3000</td>\n",
       "      <td>1950</td>\n",
       "      <td>150</td>\n",
       "      <td>1</td>\n",
       "      <td>1</td>\n",
       "    </tr>\n",
       "    <tr>\n",
       "      <th>1</th>\n",
       "      <td>1000</td>\n",
       "      <td>Краснодар</td>\n",
       "      <td>ultra</td>\n",
       "      <td>6.0</td>\n",
       "      <td>23.0</td>\n",
       "      <td>43.0</td>\n",
       "      <td>172.0</td>\n",
       "      <td>60.0</td>\n",
       "      <td>1000</td>\n",
       "      <td>30720</td>\n",
       "      <td>3000</td>\n",
       "      <td>1950</td>\n",
       "      <td>150</td>\n",
       "      <td>1</td>\n",
       "      <td>1</td>\n",
       "    </tr>\n",
       "    <tr>\n",
       "      <th>2</th>\n",
       "      <td>1000</td>\n",
       "      <td>Краснодар</td>\n",
       "      <td>ultra</td>\n",
       "      <td>7.0</td>\n",
       "      <td>14.0</td>\n",
       "      <td>47.0</td>\n",
       "      <td>340.0</td>\n",
       "      <td>75.0</td>\n",
       "      <td>1000</td>\n",
       "      <td>30720</td>\n",
       "      <td>3000</td>\n",
       "      <td>1950</td>\n",
       "      <td>150</td>\n",
       "      <td>1</td>\n",
       "      <td>1</td>\n",
       "    </tr>\n",
       "    <tr>\n",
       "      <th>3</th>\n",
       "      <td>1000</td>\n",
       "      <td>Краснодар</td>\n",
       "      <td>ultra</td>\n",
       "      <td>8.0</td>\n",
       "      <td>14.0</td>\n",
       "      <td>52.0</td>\n",
       "      <td>408.0</td>\n",
       "      <td>81.0</td>\n",
       "      <td>1000</td>\n",
       "      <td>30720</td>\n",
       "      <td>3000</td>\n",
       "      <td>1950</td>\n",
       "      <td>150</td>\n",
       "      <td>1</td>\n",
       "      <td>1</td>\n",
       "    </tr>\n",
       "    <tr>\n",
       "      <th>4</th>\n",
       "      <td>1000</td>\n",
       "      <td>Краснодар</td>\n",
       "      <td>ultra</td>\n",
       "      <td>9.0</td>\n",
       "      <td>15.0</td>\n",
       "      <td>58.0</td>\n",
       "      <td>466.0</td>\n",
       "      <td>57.0</td>\n",
       "      <td>1000</td>\n",
       "      <td>30720</td>\n",
       "      <td>3000</td>\n",
       "      <td>1950</td>\n",
       "      <td>150</td>\n",
       "      <td>1</td>\n",
       "      <td>1</td>\n",
       "    </tr>\n",
       "    <tr>\n",
       "      <th>5</th>\n",
       "      <td>1000</td>\n",
       "      <td>Краснодар</td>\n",
       "      <td>ultra</td>\n",
       "      <td>10.0</td>\n",
       "      <td>15.0</td>\n",
       "      <td>57.0</td>\n",
       "      <td>350.0</td>\n",
       "      <td>73.0</td>\n",
       "      <td>1000</td>\n",
       "      <td>30720</td>\n",
       "      <td>3000</td>\n",
       "      <td>1950</td>\n",
       "      <td>150</td>\n",
       "      <td>1</td>\n",
       "      <td>1</td>\n",
       "    </tr>\n",
       "    <tr>\n",
       "      <th>6</th>\n",
       "      <td>1000</td>\n",
       "      <td>Краснодар</td>\n",
       "      <td>ultra</td>\n",
       "      <td>11.0</td>\n",
       "      <td>15.0</td>\n",
       "      <td>43.0</td>\n",
       "      <td>338.0</td>\n",
       "      <td>58.0</td>\n",
       "      <td>1000</td>\n",
       "      <td>30720</td>\n",
       "      <td>3000</td>\n",
       "      <td>1950</td>\n",
       "      <td>150</td>\n",
       "      <td>1</td>\n",
       "      <td>1</td>\n",
       "    </tr>\n",
       "    <tr>\n",
       "      <th>7</th>\n",
       "      <td>1000</td>\n",
       "      <td>Краснодар</td>\n",
       "      <td>ultra</td>\n",
       "      <td>12.0</td>\n",
       "      <td>10.0</td>\n",
       "      <td>46.0</td>\n",
       "      <td>333.0</td>\n",
       "      <td>70.0</td>\n",
       "      <td>1000</td>\n",
       "      <td>30720</td>\n",
       "      <td>3000</td>\n",
       "      <td>1950</td>\n",
       "      <td>150</td>\n",
       "      <td>1</td>\n",
       "      <td>1</td>\n",
       "    </tr>\n",
       "    <tr>\n",
       "      <th>8</th>\n",
       "      <td>1003</td>\n",
       "      <td>Москва</td>\n",
       "      <td>ultra</td>\n",
       "      <td>8.0</td>\n",
       "      <td>9.0</td>\n",
       "      <td>55.0</td>\n",
       "      <td>380.0</td>\n",
       "      <td>37.0</td>\n",
       "      <td>1000</td>\n",
       "      <td>30720</td>\n",
       "      <td>3000</td>\n",
       "      <td>1950</td>\n",
       "      <td>150</td>\n",
       "      <td>1</td>\n",
       "      <td>1</td>\n",
       "    </tr>\n",
       "    <tr>\n",
       "      <th>9</th>\n",
       "      <td>1003</td>\n",
       "      <td>Москва</td>\n",
       "      <td>ultra</td>\n",
       "      <td>9.0</td>\n",
       "      <td>13.0</td>\n",
       "      <td>134.0</td>\n",
       "      <td>961.0</td>\n",
       "      <td>91.0</td>\n",
       "      <td>1000</td>\n",
       "      <td>30720</td>\n",
       "      <td>3000</td>\n",
       "      <td>1950</td>\n",
       "      <td>150</td>\n",
       "      <td>1</td>\n",
       "      <td>1</td>\n",
       "    </tr>\n",
       "  </tbody>\n",
       "</table>\n",
       "</div>"
      ],
      "text/plain": [
       "   user_id       city tariff  month  traffic_volume_gb  calls_count  \\\n",
       "0     1000  Краснодар  ultra    5.0                3.0         22.0   \n",
       "1     1000  Краснодар  ultra    6.0               23.0         43.0   \n",
       "2     1000  Краснодар  ultra    7.0               14.0         47.0   \n",
       "3     1000  Краснодар  ultra    8.0               14.0         52.0   \n",
       "4     1000  Краснодар  ultra    9.0               15.0         58.0   \n",
       "5     1000  Краснодар  ultra   10.0               15.0         57.0   \n",
       "6     1000  Краснодар  ultra   11.0               15.0         43.0   \n",
       "7     1000  Краснодар  ultra   12.0               10.0         46.0   \n",
       "8     1003     Москва  ultra    8.0                9.0         55.0   \n",
       "9     1003     Москва  ultra    9.0               13.0        134.0   \n",
       "\n",
       "   calls_duration  messages_count  messages_included  mb_per_month_included  \\\n",
       "0           159.0            22.0               1000                  30720   \n",
       "1           172.0            60.0               1000                  30720   \n",
       "2           340.0            75.0               1000                  30720   \n",
       "3           408.0            81.0               1000                  30720   \n",
       "4           466.0            57.0               1000                  30720   \n",
       "5           350.0            73.0               1000                  30720   \n",
       "6           338.0            58.0               1000                  30720   \n",
       "7           333.0            70.0               1000                  30720   \n",
       "8           380.0            37.0               1000                  30720   \n",
       "9           961.0            91.0               1000                  30720   \n",
       "\n",
       "   minutes_included  rub_monthly_fee  rub_per_gb  rub_per_message  \\\n",
       "0              3000             1950         150                1   \n",
       "1              3000             1950         150                1   \n",
       "2              3000             1950         150                1   \n",
       "3              3000             1950         150                1   \n",
       "4              3000             1950         150                1   \n",
       "5              3000             1950         150                1   \n",
       "6              3000             1950         150                1   \n",
       "7              3000             1950         150                1   \n",
       "8              3000             1950         150                1   \n",
       "9              3000             1950         150                1   \n",
       "\n",
       "   rub_per_minute  \n",
       "0               1  \n",
       "1               1  \n",
       "2               1  \n",
       "3               1  \n",
       "4               1  \n",
       "5               1  \n",
       "6               1  \n",
       "7               1  \n",
       "8               1  \n",
       "9               1  "
      ]
     },
     "metadata": {},
     "output_type": "display_data"
    },
    {
     "name": "stdout",
     "output_type": "stream",
     "text": [
      "<class 'pandas.core.frame.DataFrame'>\n",
      "Int64Index: 3216 entries, 0 to 3215\n",
      "Data columns (total 15 columns):\n",
      " #   Column                 Non-Null Count  Dtype  \n",
      "---  ------                 --------------  -----  \n",
      " 0   user_id                3216 non-null   int64  \n",
      " 1   city                   3216 non-null   object \n",
      " 2   tariff                 3216 non-null   object \n",
      " 3   month                  3214 non-null   float64\n",
      " 4   traffic_volume_gb      3203 non-null   float64\n",
      " 5   calls_count            3174 non-null   float64\n",
      " 6   calls_duration         3174 non-null   float64\n",
      " 7   messages_count         2717 non-null   float64\n",
      " 8   messages_included      3216 non-null   int64  \n",
      " 9   mb_per_month_included  3216 non-null   int64  \n",
      " 10  minutes_included       3216 non-null   int64  \n",
      " 11  rub_monthly_fee        3216 non-null   int64  \n",
      " 12  rub_per_gb             3216 non-null   int64  \n",
      " 13  rub_per_message        3216 non-null   int64  \n",
      " 14  rub_per_minute         3216 non-null   int64  \n",
      "dtypes: float64(5), int64(8), object(2)\n",
      "memory usage: 402.0+ KB\n"
     ]
    }
   ],
   "source": [
    "# добавим к user_consumption информацию о тарифах из таблицы tariffs\n",
    "user_consumption = user_consumption.merge(tariffs, on='tariff')\n",
    "display(user_consumption.head(10))\n",
    "user_consumption.info()"
   ]
  },
  {
   "cell_type": "code",
   "execution_count": 15,
   "metadata": {},
   "outputs": [
    {
     "name": "stdout",
     "output_type": "stream",
     "text": [
      "user_id                    0\n",
      "city                       0\n",
      "tariff                     0\n",
      "month                      2\n",
      "traffic_volume_gb         13\n",
      "calls_count               42\n",
      "calls_duration            42\n",
      "messages_count           499\n",
      "messages_included          0\n",
      "mb_per_month_included      0\n",
      "minutes_included           0\n",
      "rub_monthly_fee            0\n",
      "rub_per_gb                 0\n",
      "rub_per_message            0\n",
      "rub_per_minute             0\n",
      "dtype: int64\n"
     ]
    },
    {
     "data": {
      "text/plain": [
       "user_id                  0.000000\n",
       "city                     0.000000\n",
       "tariff                   0.000000\n",
       "month                    0.000622\n",
       "traffic_volume_gb        0.004042\n",
       "calls_count              0.013060\n",
       "calls_duration           0.013060\n",
       "messages_count           0.155162\n",
       "messages_included        0.000000\n",
       "mb_per_month_included    0.000000\n",
       "minutes_included         0.000000\n",
       "rub_monthly_fee          0.000000\n",
       "rub_per_gb               0.000000\n",
       "rub_per_message          0.000000\n",
       "rub_per_minute           0.000000\n",
       "dtype: float64"
      ]
     },
     "execution_count": 15,
     "metadata": {},
     "output_type": "execute_result"
    }
   ],
   "source": [
    "# проверим на пропуски и их процент\n",
    "print(user_consumption.isnull().sum())\n",
    "user_consumption.isna().mean()"
   ]
  },
  {
   "cell_type": "markdown",
   "metadata": {},
   "source": [
    "После слияния таблиц появились пропуски из-за разницы в первоначальных данных.Возможно это объясняется тем, что абонент не пользовался услугами в определенный месяц. Чтобы не потерять данные заменим все пропуски на ноль, кроме столбца с месяцем. Также изменим тип данных на целочисленный."
   ]
  },
  {
   "cell_type": "code",
   "execution_count": 16,
   "metadata": {},
   "outputs": [],
   "source": [
    "#всего три строки с пропущенным значением в столбце месяц, удалим их\n",
    "user_consumption = user_consumption.dropna(subset=['month'])"
   ]
  },
  {
   "cell_type": "code",
   "execution_count": 17,
   "metadata": {},
   "outputs": [
    {
     "data": {
      "text/html": [
       "<div>\n",
       "<style scoped>\n",
       "    .dataframe tbody tr th:only-of-type {\n",
       "        vertical-align: middle;\n",
       "    }\n",
       "\n",
       "    .dataframe tbody tr th {\n",
       "        vertical-align: top;\n",
       "    }\n",
       "\n",
       "    .dataframe thead th {\n",
       "        text-align: right;\n",
       "    }\n",
       "</style>\n",
       "<table border=\"1\" class=\"dataframe\">\n",
       "  <thead>\n",
       "    <tr style=\"text-align: right;\">\n",
       "      <th></th>\n",
       "      <th>user_id</th>\n",
       "      <th>city</th>\n",
       "      <th>tariff</th>\n",
       "      <th>month</th>\n",
       "      <th>traffic_volume_gb</th>\n",
       "      <th>calls_count</th>\n",
       "      <th>calls_duration</th>\n",
       "      <th>messages_count</th>\n",
       "      <th>messages_included</th>\n",
       "      <th>mb_per_month_included</th>\n",
       "      <th>minutes_included</th>\n",
       "      <th>rub_monthly_fee</th>\n",
       "      <th>rub_per_gb</th>\n",
       "      <th>rub_per_message</th>\n",
       "      <th>rub_per_minute</th>\n",
       "      <th>minutes_over_the_limit</th>\n",
       "      <th>messages_over_the_limit</th>\n",
       "      <th>gb_used_over_the_limit</th>\n",
       "    </tr>\n",
       "  </thead>\n",
       "  <tbody>\n",
       "    <tr>\n",
       "      <th>813</th>\n",
       "      <td>1403</td>\n",
       "      <td>Брянск</td>\n",
       "      <td>ultra</td>\n",
       "      <td>5.0</td>\n",
       "      <td>8.0</td>\n",
       "      <td>3.0</td>\n",
       "      <td>15.0</td>\n",
       "      <td>18.0</td>\n",
       "      <td>1000</td>\n",
       "      <td>30720</td>\n",
       "      <td>3000</td>\n",
       "      <td>1950</td>\n",
       "      <td>150</td>\n",
       "      <td>1</td>\n",
       "      <td>1</td>\n",
       "      <td>-2985.0</td>\n",
       "      <td>-982.0</td>\n",
       "      <td>-22.0</td>\n",
       "    </tr>\n",
       "  </tbody>\n",
       "</table>\n",
       "</div>"
      ],
      "text/plain": [
       "     user_id    city tariff  month  traffic_volume_gb  calls_count  \\\n",
       "813     1403  Брянск  ultra    5.0                8.0          3.0   \n",
       "\n",
       "     calls_duration  messages_count  messages_included  mb_per_month_included  \\\n",
       "813            15.0            18.0               1000                  30720   \n",
       "\n",
       "     minutes_included  rub_monthly_fee  rub_per_gb  rub_per_message  \\\n",
       "813              3000             1950         150                1   \n",
       "\n",
       "     rub_per_minute  minutes_over_the_limit  messages_over_the_limit  \\\n",
       "813               1                 -2985.0                   -982.0   \n",
       "\n",
       "     gb_used_over_the_limit  \n",
       "813                   -22.0  "
      ]
     },
     "execution_count": 17,
     "metadata": {},
     "output_type": "execute_result"
    }
   ],
   "source": [
    "#вычтим оплаченный пакет из суммарного количества звонков, сообщений и интернет-трафика\n",
    "user_consumption['minutes_over_the_limit']  = user_consumption['calls_duration'] - user_consumption['minutes_included']\n",
    "user_consumption['messages_over_the_limit'] = user_consumption['messages_count'] - user_consumption['messages_included']\n",
    "user_consumption['gb_used_over_the_limit']  = user_consumption['traffic_volume_gb'] - user_consumption['mb_per_month_included']/1024\n",
    "user_consumption.sample()"
   ]
  },
  {
   "cell_type": "markdown",
   "metadata": {},
   "source": [
    "Полученные положительные значения - превышение лимита, а отрицательные - не израсходованный пакет, предусмотренный тарифом. Тогда разница меньше нуля-возвращаем ноль - клиент не израсходовал бесплатный лимит,а если больше - то разницу умножаем на стоимость сверх тарифного плана."
   ]
  },
  {
   "cell_type": "code",
   "execution_count": 18,
   "metadata": {},
   "outputs": [],
   "source": [
    "#Функция для подсчета выручки\n",
    "def cost_overspending(row):\n",
    "    price_minutes= 0\n",
    "    price_messages = 0\n",
    "    price_mb = 0\n",
    "    if row['minutes_over_the_limit'] > 0:\n",
    "        minutes_price = row['minutes_over_the_limit'] * row['rub_per_minute']\n",
    "        \n",
    "    if row['messages_over_the_limit'] > 0:\n",
    "        messages_price = row['messages_over_the_limit'] * row['rub_per_message']\n",
    "        \n",
    "    if row['gb_used_over_the_limit'] > 0:\n",
    "        price_mb = (row['gb_used_over_the_limit']) * row['rub_per_gb']\n",
    "        \n",
    "    return price_minutes + price_messages + price_mb\n"
   ]
  },
  {
   "cell_type": "code",
   "execution_count": 19,
   "metadata": {},
   "outputs": [],
   "source": [
    "#создадим столбцы с суммой выше тарифного плана и общей суммой выручки\n",
    "user_consumption['revenue_over_the_limit'] = user_consumption.apply(cost_overspending, axis=1)\n",
    "user_consumption['total_revenue'] = user_consumption['rub_monthly_fee'] + user_consumption['revenue_over_the_limit']"
   ]
  },
  {
   "cell_type": "code",
   "execution_count": 20,
   "metadata": {},
   "outputs": [
    {
     "name": "stdout",
     "output_type": "stream",
     "text": [
      "<class 'pandas.core.frame.DataFrame'>\n",
      "Int64Index: 3214 entries, 0 to 3215\n",
      "Data columns (total 20 columns):\n",
      " #   Column                   Non-Null Count  Dtype  \n",
      "---  ------                   --------------  -----  \n",
      " 0   user_id                  3214 non-null   int64  \n",
      " 1   city                     3214 non-null   object \n",
      " 2   tariff                   3214 non-null   object \n",
      " 3   month                    3214 non-null   float64\n",
      " 4   traffic_volume_gb        3214 non-null   float64\n",
      " 5   calls_count              3214 non-null   float64\n",
      " 6   calls_duration           3214 non-null   float64\n",
      " 7   messages_count           3214 non-null   float64\n",
      " 8   messages_included        3214 non-null   int64  \n",
      " 9   mb_per_month_included    3214 non-null   int64  \n",
      " 10  minutes_included         3214 non-null   int64  \n",
      " 11  rub_monthly_fee          3214 non-null   int64  \n",
      " 12  rub_per_gb               3214 non-null   int64  \n",
      " 13  rub_per_message          3214 non-null   int64  \n",
      " 14  rub_per_minute           3214 non-null   int64  \n",
      " 15  minutes_over_the_limit   3214 non-null   float64\n",
      " 16  messages_over_the_limit  3214 non-null   float64\n",
      " 17  gb_used_over_the_limit   3214 non-null   float64\n",
      " 18  revenue_over_the_limit   3214 non-null   float64\n",
      " 19  total_revenue            3214 non-null   float64\n",
      "dtypes: float64(10), int64(8), object(2)\n",
      "memory usage: 527.3+ KB\n"
     ]
    }
   ],
   "source": [
    "#заменим пропуски и изменит тип данных\n",
    "user_consumption = user_consumption.fillna(0)\n",
    "user_consumption[['month', 'traffic_volume_gb','calls_count','calls_duration','messages_count']].astype('int')\n",
    "user_consumption.info()"
   ]
  },
  {
   "cell_type": "code",
   "execution_count": 21,
   "metadata": {},
   "outputs": [
    {
     "data": {
      "text/html": [
       "<div>\n",
       "<style scoped>\n",
       "    .dataframe tbody tr th:only-of-type {\n",
       "        vertical-align: middle;\n",
       "    }\n",
       "\n",
       "    .dataframe tbody tr th {\n",
       "        vertical-align: top;\n",
       "    }\n",
       "\n",
       "    .dataframe thead th {\n",
       "        text-align: right;\n",
       "    }\n",
       "</style>\n",
       "<table border=\"1\" class=\"dataframe\">\n",
       "  <thead>\n",
       "    <tr style=\"text-align: right;\">\n",
       "      <th></th>\n",
       "      <th>user_id</th>\n",
       "      <th>city</th>\n",
       "      <th>tariff</th>\n",
       "      <th>month</th>\n",
       "      <th>traffic_volume_gb</th>\n",
       "      <th>calls_count</th>\n",
       "      <th>calls_duration</th>\n",
       "      <th>messages_count</th>\n",
       "      <th>messages_included</th>\n",
       "      <th>mb_per_month_included</th>\n",
       "      <th>minutes_included</th>\n",
       "      <th>rub_monthly_fee</th>\n",
       "      <th>rub_per_gb</th>\n",
       "      <th>rub_per_message</th>\n",
       "      <th>rub_per_minute</th>\n",
       "      <th>minutes_over_the_limit</th>\n",
       "      <th>messages_over_the_limit</th>\n",
       "      <th>gb_used_over_the_limit</th>\n",
       "      <th>revenue_over_the_limit</th>\n",
       "      <th>total_revenue</th>\n",
       "    </tr>\n",
       "  </thead>\n",
       "  <tbody>\n",
       "    <tr>\n",
       "      <th>1534</th>\n",
       "      <td>1119</td>\n",
       "      <td>Петрозаводск</td>\n",
       "      <td>smart</td>\n",
       "      <td>8.0</td>\n",
       "      <td>17.0</td>\n",
       "      <td>39.0</td>\n",
       "      <td>272.0</td>\n",
       "      <td>51.0</td>\n",
       "      <td>50</td>\n",
       "      <td>15360</td>\n",
       "      <td>500</td>\n",
       "      <td>550</td>\n",
       "      <td>200</td>\n",
       "      <td>3</td>\n",
       "      <td>3</td>\n",
       "      <td>-228.0</td>\n",
       "      <td>1.0</td>\n",
       "      <td>2.0</td>\n",
       "      <td>400.0</td>\n",
       "      <td>950.0</td>\n",
       "    </tr>\n",
       "    <tr>\n",
       "      <th>1588</th>\n",
       "      <td>1134</td>\n",
       "      <td>Красноярск</td>\n",
       "      <td>smart</td>\n",
       "      <td>1.0</td>\n",
       "      <td>10.0</td>\n",
       "      <td>42.0</td>\n",
       "      <td>332.0</td>\n",
       "      <td>32.0</td>\n",
       "      <td>50</td>\n",
       "      <td>15360</td>\n",
       "      <td>500</td>\n",
       "      <td>550</td>\n",
       "      <td>200</td>\n",
       "      <td>3</td>\n",
       "      <td>3</td>\n",
       "      <td>-168.0</td>\n",
       "      <td>-18.0</td>\n",
       "      <td>-5.0</td>\n",
       "      <td>0.0</td>\n",
       "      <td>550.0</td>\n",
       "    </tr>\n",
       "    <tr>\n",
       "      <th>895</th>\n",
       "      <td>1453</td>\n",
       "      <td>Москва</td>\n",
       "      <td>ultra</td>\n",
       "      <td>10.0</td>\n",
       "      <td>29.0</td>\n",
       "      <td>132.0</td>\n",
       "      <td>953.0</td>\n",
       "      <td>65.0</td>\n",
       "      <td>1000</td>\n",
       "      <td>30720</td>\n",
       "      <td>3000</td>\n",
       "      <td>1950</td>\n",
       "      <td>150</td>\n",
       "      <td>1</td>\n",
       "      <td>1</td>\n",
       "      <td>-2047.0</td>\n",
       "      <td>-935.0</td>\n",
       "      <td>-1.0</td>\n",
       "      <td>0.0</td>\n",
       "      <td>1950.0</td>\n",
       "    </tr>\n",
       "    <tr>\n",
       "      <th>866</th>\n",
       "      <td>1436</td>\n",
       "      <td>Москва</td>\n",
       "      <td>ultra</td>\n",
       "      <td>10.0</td>\n",
       "      <td>31.0</td>\n",
       "      <td>67.0</td>\n",
       "      <td>439.0</td>\n",
       "      <td>37.0</td>\n",
       "      <td>1000</td>\n",
       "      <td>30720</td>\n",
       "      <td>3000</td>\n",
       "      <td>1950</td>\n",
       "      <td>150</td>\n",
       "      <td>1</td>\n",
       "      <td>1</td>\n",
       "      <td>-2561.0</td>\n",
       "      <td>-963.0</td>\n",
       "      <td>1.0</td>\n",
       "      <td>150.0</td>\n",
       "      <td>2100.0</td>\n",
       "    </tr>\n",
       "    <tr>\n",
       "      <th>474</th>\n",
       "      <td>1272</td>\n",
       "      <td>Пенза</td>\n",
       "      <td>ultra</td>\n",
       "      <td>10.0</td>\n",
       "      <td>16.0</td>\n",
       "      <td>43.0</td>\n",
       "      <td>305.0</td>\n",
       "      <td>76.0</td>\n",
       "      <td>1000</td>\n",
       "      <td>30720</td>\n",
       "      <td>3000</td>\n",
       "      <td>1950</td>\n",
       "      <td>150</td>\n",
       "      <td>1</td>\n",
       "      <td>1</td>\n",
       "      <td>-2695.0</td>\n",
       "      <td>-924.0</td>\n",
       "      <td>-14.0</td>\n",
       "      <td>0.0</td>\n",
       "      <td>1950.0</td>\n",
       "    </tr>\n",
       "    <tr>\n",
       "      <th>352</th>\n",
       "      <td>1201</td>\n",
       "      <td>Москва</td>\n",
       "      <td>ultra</td>\n",
       "      <td>11.0</td>\n",
       "      <td>8.0</td>\n",
       "      <td>117.0</td>\n",
       "      <td>886.0</td>\n",
       "      <td>0.0</td>\n",
       "      <td>1000</td>\n",
       "      <td>30720</td>\n",
       "      <td>3000</td>\n",
       "      <td>1950</td>\n",
       "      <td>150</td>\n",
       "      <td>1</td>\n",
       "      <td>1</td>\n",
       "      <td>-2114.0</td>\n",
       "      <td>0.0</td>\n",
       "      <td>-22.0</td>\n",
       "      <td>0.0</td>\n",
       "      <td>1950.0</td>\n",
       "    </tr>\n",
       "    <tr>\n",
       "      <th>2284</th>\n",
       "      <td>1284</td>\n",
       "      <td>Волгоград</td>\n",
       "      <td>smart</td>\n",
       "      <td>10.0</td>\n",
       "      <td>22.0</td>\n",
       "      <td>68.0</td>\n",
       "      <td>533.0</td>\n",
       "      <td>39.0</td>\n",
       "      <td>50</td>\n",
       "      <td>15360</td>\n",
       "      <td>500</td>\n",
       "      <td>550</td>\n",
       "      <td>200</td>\n",
       "      <td>3</td>\n",
       "      <td>3</td>\n",
       "      <td>33.0</td>\n",
       "      <td>-11.0</td>\n",
       "      <td>7.0</td>\n",
       "      <td>1400.0</td>\n",
       "      <td>1950.0</td>\n",
       "    </tr>\n",
       "    <tr>\n",
       "      <th>2739</th>\n",
       "      <td>1395</td>\n",
       "      <td>Москва</td>\n",
       "      <td>smart</td>\n",
       "      <td>9.0</td>\n",
       "      <td>15.0</td>\n",
       "      <td>70.0</td>\n",
       "      <td>503.0</td>\n",
       "      <td>30.0</td>\n",
       "      <td>50</td>\n",
       "      <td>15360</td>\n",
       "      <td>500</td>\n",
       "      <td>550</td>\n",
       "      <td>200</td>\n",
       "      <td>3</td>\n",
       "      <td>3</td>\n",
       "      <td>3.0</td>\n",
       "      <td>-20.0</td>\n",
       "      <td>0.0</td>\n",
       "      <td>0.0</td>\n",
       "      <td>550.0</td>\n",
       "    </tr>\n",
       "    <tr>\n",
       "      <th>3095</th>\n",
       "      <td>1477</td>\n",
       "      <td>Набережные Челны</td>\n",
       "      <td>smart</td>\n",
       "      <td>7.0</td>\n",
       "      <td>23.0</td>\n",
       "      <td>93.0</td>\n",
       "      <td>695.0</td>\n",
       "      <td>61.0</td>\n",
       "      <td>50</td>\n",
       "      <td>15360</td>\n",
       "      <td>500</td>\n",
       "      <td>550</td>\n",
       "      <td>200</td>\n",
       "      <td>3</td>\n",
       "      <td>3</td>\n",
       "      <td>195.0</td>\n",
       "      <td>11.0</td>\n",
       "      <td>8.0</td>\n",
       "      <td>1600.0</td>\n",
       "      <td>2150.0</td>\n",
       "    </tr>\n",
       "    <tr>\n",
       "      <th>319</th>\n",
       "      <td>1182</td>\n",
       "      <td>Уфа</td>\n",
       "      <td>ultra</td>\n",
       "      <td>10.0</td>\n",
       "      <td>27.0</td>\n",
       "      <td>27.0</td>\n",
       "      <td>215.0</td>\n",
       "      <td>30.0</td>\n",
       "      <td>1000</td>\n",
       "      <td>30720</td>\n",
       "      <td>3000</td>\n",
       "      <td>1950</td>\n",
       "      <td>150</td>\n",
       "      <td>1</td>\n",
       "      <td>1</td>\n",
       "      <td>-2785.0</td>\n",
       "      <td>-970.0</td>\n",
       "      <td>-3.0</td>\n",
       "      <td>0.0</td>\n",
       "      <td>1950.0</td>\n",
       "    </tr>\n",
       "  </tbody>\n",
       "</table>\n",
       "</div>"
      ],
      "text/plain": [
       "      user_id              city tariff  month  traffic_volume_gb  calls_count  \\\n",
       "1534     1119      Петрозаводск  smart    8.0               17.0         39.0   \n",
       "1588     1134        Красноярск  smart    1.0               10.0         42.0   \n",
       "895      1453            Москва  ultra   10.0               29.0        132.0   \n",
       "866      1436            Москва  ultra   10.0               31.0         67.0   \n",
       "474      1272             Пенза  ultra   10.0               16.0         43.0   \n",
       "352      1201            Москва  ultra   11.0                8.0        117.0   \n",
       "2284     1284         Волгоград  smart   10.0               22.0         68.0   \n",
       "2739     1395            Москва  smart    9.0               15.0         70.0   \n",
       "3095     1477  Набережные Челны  smart    7.0               23.0         93.0   \n",
       "319      1182               Уфа  ultra   10.0               27.0         27.0   \n",
       "\n",
       "      calls_duration  messages_count  messages_included  \\\n",
       "1534           272.0            51.0                 50   \n",
       "1588           332.0            32.0                 50   \n",
       "895            953.0            65.0               1000   \n",
       "866            439.0            37.0               1000   \n",
       "474            305.0            76.0               1000   \n",
       "352            886.0             0.0               1000   \n",
       "2284           533.0            39.0                 50   \n",
       "2739           503.0            30.0                 50   \n",
       "3095           695.0            61.0                 50   \n",
       "319            215.0            30.0               1000   \n",
       "\n",
       "      mb_per_month_included  minutes_included  rub_monthly_fee  rub_per_gb  \\\n",
       "1534                  15360               500              550         200   \n",
       "1588                  15360               500              550         200   \n",
       "895                   30720              3000             1950         150   \n",
       "866                   30720              3000             1950         150   \n",
       "474                   30720              3000             1950         150   \n",
       "352                   30720              3000             1950         150   \n",
       "2284                  15360               500              550         200   \n",
       "2739                  15360               500              550         200   \n",
       "3095                  15360               500              550         200   \n",
       "319                   30720              3000             1950         150   \n",
       "\n",
       "      rub_per_message  rub_per_minute  minutes_over_the_limit  \\\n",
       "1534                3               3                  -228.0   \n",
       "1588                3               3                  -168.0   \n",
       "895                 1               1                 -2047.0   \n",
       "866                 1               1                 -2561.0   \n",
       "474                 1               1                 -2695.0   \n",
       "352                 1               1                 -2114.0   \n",
       "2284                3               3                    33.0   \n",
       "2739                3               3                     3.0   \n",
       "3095                3               3                   195.0   \n",
       "319                 1               1                 -2785.0   \n",
       "\n",
       "      messages_over_the_limit  gb_used_over_the_limit  revenue_over_the_limit  \\\n",
       "1534                      1.0                     2.0                   400.0   \n",
       "1588                    -18.0                    -5.0                     0.0   \n",
       "895                    -935.0                    -1.0                     0.0   \n",
       "866                    -963.0                     1.0                   150.0   \n",
       "474                    -924.0                   -14.0                     0.0   \n",
       "352                       0.0                   -22.0                     0.0   \n",
       "2284                    -11.0                     7.0                  1400.0   \n",
       "2739                    -20.0                     0.0                     0.0   \n",
       "3095                     11.0                     8.0                  1600.0   \n",
       "319                    -970.0                    -3.0                     0.0   \n",
       "\n",
       "      total_revenue  \n",
       "1534          950.0  \n",
       "1588          550.0  \n",
       "895          1950.0  \n",
       "866          2100.0  \n",
       "474          1950.0  \n",
       "352          1950.0  \n",
       "2284         1950.0  \n",
       "2739          550.0  \n",
       "3095         2150.0  \n",
       "319          1950.0  "
      ]
     },
     "execution_count": 21,
     "metadata": {},
     "output_type": "execute_result"
    }
   ],
   "source": [
    "user_consumption.sample(10)"
   ]
  },
  {
   "cell_type": "markdown",
   "metadata": {},
   "source": [
    "### Вывод.\n",
    "В таблицу были добавлены новые столбцы с выручкой, категоризацией месяцем.Строки с отсутствующими месяцами были удалены, поскольку их доля минимальна. "
   ]
  },
  {
   "cell_type": "markdown",
   "metadata": {},
   "source": [
    "## Исследовательский анализ данных"
   ]
  },
  {
   "cell_type": "markdown",
   "metadata": {},
   "source": [
    "Рассмотрим выручку исследуемых параметров для всех пользователей.Посчитаем количество минут, сообщений и интернет-трафика затраченные пользователями каждого тарифа в месяц."
   ]
  },
  {
   "cell_type": "code",
   "execution_count": 22,
   "metadata": {},
   "outputs": [
    {
     "data": {
      "text/html": [
       "<div>\n",
       "<style scoped>\n",
       "    .dataframe tbody tr th:only-of-type {\n",
       "        vertical-align: middle;\n",
       "    }\n",
       "\n",
       "    .dataframe tbody tr th {\n",
       "        vertical-align: top;\n",
       "    }\n",
       "\n",
       "    .dataframe thead th {\n",
       "        text-align: right;\n",
       "    }\n",
       "</style>\n",
       "<table border=\"1\" class=\"dataframe\">\n",
       "  <thead>\n",
       "    <tr style=\"text-align: right;\">\n",
       "      <th></th>\n",
       "      <th>month</th>\n",
       "      <th>calls_duration</th>\n",
       "      <th>messages_count</th>\n",
       "      <th>revenue_over_the_limit</th>\n",
       "      <th>total_revenue</th>\n",
       "      <th>traffic_volume_gb</th>\n",
       "    </tr>\n",
       "    <tr>\n",
       "      <th>tariff</th>\n",
       "      <th></th>\n",
       "      <th></th>\n",
       "      <th></th>\n",
       "      <th></th>\n",
       "      <th></th>\n",
       "      <th></th>\n",
       "    </tr>\n",
       "  </thead>\n",
       "  <tbody>\n",
       "    <tr>\n",
       "      <th>smart</th>\n",
       "      <td>1.0</td>\n",
       "      <td>6931.0</td>\n",
       "      <td>620.0</td>\n",
       "      <td>5600.0</td>\n",
       "      <td>24300.0</td>\n",
       "      <td>297.0</td>\n",
       "    </tr>\n",
       "    <tr>\n",
       "      <th>smart</th>\n",
       "      <td>2.0</td>\n",
       "      <td>17324.0</td>\n",
       "      <td>1397.0</td>\n",
       "      <td>13200.0</td>\n",
       "      <td>45100.0</td>\n",
       "      <td>687.0</td>\n",
       "    </tr>\n",
       "    <tr>\n",
       "      <th>smart</th>\n",
       "      <td>3.0</td>\n",
       "      <td>30034.0</td>\n",
       "      <td>2453.0</td>\n",
       "      <td>38200.0</td>\n",
       "      <td>80550.0</td>\n",
       "      <td>1174.0</td>\n",
       "    </tr>\n",
       "    <tr>\n",
       "      <th>smart</th>\n",
       "      <td>4.0</td>\n",
       "      <td>41119.0</td>\n",
       "      <td>3443.0</td>\n",
       "      <td>36000.0</td>\n",
       "      <td>97600.0</td>\n",
       "      <td>1528.0</td>\n",
       "    </tr>\n",
       "    <tr>\n",
       "      <th>smart</th>\n",
       "      <td>5.0</td>\n",
       "      <td>54618.0</td>\n",
       "      <td>4762.0</td>\n",
       "      <td>78400.0</td>\n",
       "      <td>155950.0</td>\n",
       "      <td>2248.0</td>\n",
       "    </tr>\n",
       "    <tr>\n",
       "      <th>smart</th>\n",
       "      <td>6.0</td>\n",
       "      <td>64885.0</td>\n",
       "      <td>5478.0</td>\n",
       "      <td>90800.0</td>\n",
       "      <td>181000.0</td>\n",
       "      <td>2621.0</td>\n",
       "    </tr>\n",
       "    <tr>\n",
       "      <th>smart</th>\n",
       "      <td>7.0</td>\n",
       "      <td>82079.0</td>\n",
       "      <td>6784.0</td>\n",
       "      <td>112200.0</td>\n",
       "      <td>222750.0</td>\n",
       "      <td>3198.0</td>\n",
       "    </tr>\n",
       "    <tr>\n",
       "      <th>smart</th>\n",
       "      <td>8.0</td>\n",
       "      <td>99045.0</td>\n",
       "      <td>7905.0</td>\n",
       "      <td>150000.0</td>\n",
       "      <td>279250.0</td>\n",
       "      <td>3944.0</td>\n",
       "    </tr>\n",
       "    <tr>\n",
       "      <th>smart</th>\n",
       "      <td>9.0</td>\n",
       "      <td>111439.0</td>\n",
       "      <td>8746.0</td>\n",
       "      <td>145400.0</td>\n",
       "      <td>288400.0</td>\n",
       "      <td>4270.0</td>\n",
       "    </tr>\n",
       "    <tr>\n",
       "      <th>smart</th>\n",
       "      <td>10.0</td>\n",
       "      <td>125284.0</td>\n",
       "      <td>9927.0</td>\n",
       "      <td>196600.0</td>\n",
       "      <td>358300.0</td>\n",
       "      <td>4972.0</td>\n",
       "    </tr>\n",
       "    <tr>\n",
       "      <th>smart</th>\n",
       "      <td>11.0</td>\n",
       "      <td>137544.0</td>\n",
       "      <td>10768.0</td>\n",
       "      <td>204600.0</td>\n",
       "      <td>378400.0</td>\n",
       "      <td>5381.0</td>\n",
       "    </tr>\n",
       "    <tr>\n",
       "      <th>smart</th>\n",
       "      <td>12.0</td>\n",
       "      <td>161275.0</td>\n",
       "      <td>12130.0</td>\n",
       "      <td>271800.0</td>\n",
       "      <td>457150.0</td>\n",
       "      <td>6145.0</td>\n",
       "    </tr>\n",
       "    <tr>\n",
       "      <th>ultra</th>\n",
       "      <td>1.0</td>\n",
       "      <td>3853.0</td>\n",
       "      <td>304.0</td>\n",
       "      <td>0.0</td>\n",
       "      <td>17550.0</td>\n",
       "      <td>120.0</td>\n",
       "    </tr>\n",
       "    <tr>\n",
       "      <th>ultra</th>\n",
       "      <td>2.0</td>\n",
       "      <td>7131.0</td>\n",
       "      <td>527.0</td>\n",
       "      <td>600.0</td>\n",
       "      <td>47400.0</td>\n",
       "      <td>288.0</td>\n",
       "    </tr>\n",
       "    <tr>\n",
       "      <th>ultra</th>\n",
       "      <td>3.0</td>\n",
       "      <td>18117.0</td>\n",
       "      <td>1195.0</td>\n",
       "      <td>2400.0</td>\n",
       "      <td>74550.0</td>\n",
       "      <td>655.0</td>\n",
       "    </tr>\n",
       "    <tr>\n",
       "      <th>ultra</th>\n",
       "      <td>4.0</td>\n",
       "      <td>25191.0</td>\n",
       "      <td>1736.0</td>\n",
       "      <td>2850.0</td>\n",
       "      <td>110100.0</td>\n",
       "      <td>935.0</td>\n",
       "    </tr>\n",
       "    <tr>\n",
       "      <th>ultra</th>\n",
       "      <td>5.0</td>\n",
       "      <td>34192.0</td>\n",
       "      <td>2536.0</td>\n",
       "      <td>7500.0</td>\n",
       "      <td>138150.0</td>\n",
       "      <td>1302.0</td>\n",
       "    </tr>\n",
       "    <tr>\n",
       "      <th>ultra</th>\n",
       "      <td>6.0</td>\n",
       "      <td>40295.0</td>\n",
       "      <td>3505.0</td>\n",
       "      <td>7650.0</td>\n",
       "      <td>171450.0</td>\n",
       "      <td>1593.0</td>\n",
       "    </tr>\n",
       "    <tr>\n",
       "      <th>ultra</th>\n",
       "      <td>7.0</td>\n",
       "      <td>49667.0</td>\n",
       "      <td>4536.0</td>\n",
       "      <td>15600.0</td>\n",
       "      <td>193050.0</td>\n",
       "      <td>1869.0</td>\n",
       "    </tr>\n",
       "    <tr>\n",
       "      <th>ultra</th>\n",
       "      <td>8.0</td>\n",
       "      <td>54653.0</td>\n",
       "      <td>5183.0</td>\n",
       "      <td>14250.0</td>\n",
       "      <td>222900.0</td>\n",
       "      <td>2101.0</td>\n",
       "    </tr>\n",
       "    <tr>\n",
       "      <th>ultra</th>\n",
       "      <td>9.0</td>\n",
       "      <td>62036.0</td>\n",
       "      <td>6013.0</td>\n",
       "      <td>8550.0</td>\n",
       "      <td>232800.0</td>\n",
       "      <td>2214.0</td>\n",
       "    </tr>\n",
       "    <tr>\n",
       "      <th>ultra</th>\n",
       "      <td>10.0</td>\n",
       "      <td>68644.0</td>\n",
       "      <td>7187.0</td>\n",
       "      <td>14400.0</td>\n",
       "      <td>254250.0</td>\n",
       "      <td>2471.0</td>\n",
       "    </tr>\n",
       "    <tr>\n",
       "      <th>ultra</th>\n",
       "      <td>11.0</td>\n",
       "      <td>72545.0</td>\n",
       "      <td>7476.0</td>\n",
       "      <td>19200.0</td>\n",
       "      <td>280500.0</td>\n",
       "      <td>2657.0</td>\n",
       "    </tr>\n",
       "    <tr>\n",
       "      <th>ultra</th>\n",
       "      <td>12.0</td>\n",
       "      <td>82400.0</td>\n",
       "      <td>8425.0</td>\n",
       "      <td>26250.0</td>\n",
       "      <td>297300.0</td>\n",
       "      <td>3028.0</td>\n",
       "    </tr>\n",
       "  </tbody>\n",
       "</table>\n",
       "</div>"
      ],
      "text/plain": [
       "        month  calls_duration  messages_count  revenue_over_the_limit  \\\n",
       "tariff                                                                  \n",
       "smart     1.0          6931.0           620.0                  5600.0   \n",
       "smart     2.0         17324.0          1397.0                 13200.0   \n",
       "smart     3.0         30034.0          2453.0                 38200.0   \n",
       "smart     4.0         41119.0          3443.0                 36000.0   \n",
       "smart     5.0         54618.0          4762.0                 78400.0   \n",
       "smart     6.0         64885.0          5478.0                 90800.0   \n",
       "smart     7.0         82079.0          6784.0                112200.0   \n",
       "smart     8.0         99045.0          7905.0                150000.0   \n",
       "smart     9.0        111439.0          8746.0                145400.0   \n",
       "smart    10.0        125284.0          9927.0                196600.0   \n",
       "smart    11.0        137544.0         10768.0                204600.0   \n",
       "smart    12.0        161275.0         12130.0                271800.0   \n",
       "ultra     1.0          3853.0           304.0                     0.0   \n",
       "ultra     2.0          7131.0           527.0                   600.0   \n",
       "ultra     3.0         18117.0          1195.0                  2400.0   \n",
       "ultra     4.0         25191.0          1736.0                  2850.0   \n",
       "ultra     5.0         34192.0          2536.0                  7500.0   \n",
       "ultra     6.0         40295.0          3505.0                  7650.0   \n",
       "ultra     7.0         49667.0          4536.0                 15600.0   \n",
       "ultra     8.0         54653.0          5183.0                 14250.0   \n",
       "ultra     9.0         62036.0          6013.0                  8550.0   \n",
       "ultra    10.0         68644.0          7187.0                 14400.0   \n",
       "ultra    11.0         72545.0          7476.0                 19200.0   \n",
       "ultra    12.0         82400.0          8425.0                 26250.0   \n",
       "\n",
       "        total_revenue  traffic_volume_gb  \n",
       "tariff                                    \n",
       "smart         24300.0              297.0  \n",
       "smart         45100.0              687.0  \n",
       "smart         80550.0             1174.0  \n",
       "smart         97600.0             1528.0  \n",
       "smart        155950.0             2248.0  \n",
       "smart        181000.0             2621.0  \n",
       "smart        222750.0             3198.0  \n",
       "smart        279250.0             3944.0  \n",
       "smart        288400.0             4270.0  \n",
       "smart        358300.0             4972.0  \n",
       "smart        378400.0             5381.0  \n",
       "smart        457150.0             6145.0  \n",
       "ultra         17550.0              120.0  \n",
       "ultra         47400.0              288.0  \n",
       "ultra         74550.0              655.0  \n",
       "ultra        110100.0              935.0  \n",
       "ultra        138150.0             1302.0  \n",
       "ultra        171450.0             1593.0  \n",
       "ultra        193050.0             1869.0  \n",
       "ultra        222900.0             2101.0  \n",
       "ultra        232800.0             2214.0  \n",
       "ultra        254250.0             2471.0  \n",
       "ultra        280500.0             2657.0  \n",
       "ultra        297300.0             3028.0  "
      ]
     },
     "execution_count": 22,
     "metadata": {},
     "output_type": "execute_result"
    }
   ],
   "source": [
    "month_sum = (user_consumption.pivot_table(\n",
    "    index=['tariff', 'month'],\n",
    "    values=['calls_duration', 'messages_count', 'traffic_volume_gb', 'revenue_over_the_limit','total_revenue'],\n",
    "    aggfunc=sum)\n",
    "             \n",
    ")\n",
    "month_sum = month_sum.reset_index(level='month')\n",
    "month_sum"
   ]
  },
  {
   "cell_type": "code",
   "execution_count": 23,
   "metadata": {
    "scrolled": false
   },
   "outputs": [
    {
     "data": {
      "text/html": [
       "<div>\n",
       "<style scoped>\n",
       "    .dataframe tbody tr th:only-of-type {\n",
       "        vertical-align: middle;\n",
       "    }\n",
       "\n",
       "    .dataframe tbody tr th {\n",
       "        vertical-align: top;\n",
       "    }\n",
       "\n",
       "    .dataframe thead th {\n",
       "        text-align: right;\n",
       "    }\n",
       "</style>\n",
       "<table border=\"1\" class=\"dataframe\">\n",
       "  <thead>\n",
       "    <tr style=\"text-align: right;\">\n",
       "      <th></th>\n",
       "      <th>calls_duration</th>\n",
       "      <th>messages_count</th>\n",
       "      <th>revenue_over_the_limit</th>\n",
       "      <th>total_revenue</th>\n",
       "      <th>traffic_volume_gb</th>\n",
       "    </tr>\n",
       "    <tr>\n",
       "      <th>tariff</th>\n",
       "      <th></th>\n",
       "      <th></th>\n",
       "      <th></th>\n",
       "      <th></th>\n",
       "      <th></th>\n",
       "    </tr>\n",
       "  </thead>\n",
       "  <tbody>\n",
       "    <tr>\n",
       "      <th>smart</th>\n",
       "      <td>77631.416667</td>\n",
       "      <td>6201.083333</td>\n",
       "      <td>111900.0</td>\n",
       "      <td>214062.5</td>\n",
       "      <td>3038.75</td>\n",
       "    </tr>\n",
       "    <tr>\n",
       "      <th>ultra</th>\n",
       "      <td>43227.000000</td>\n",
       "      <td>4051.916667</td>\n",
       "      <td>9937.5</td>\n",
       "      <td>170000.0</td>\n",
       "      <td>1602.75</td>\n",
       "    </tr>\n",
       "  </tbody>\n",
       "</table>\n",
       "</div>"
      ],
      "text/plain": [
       "        calls_duration  messages_count  revenue_over_the_limit  total_revenue  \\\n",
       "tariff                                                                          \n",
       "smart     77631.416667     6201.083333                111900.0       214062.5   \n",
       "ultra     43227.000000     4051.916667                  9937.5       170000.0   \n",
       "\n",
       "        traffic_volume_gb  \n",
       "tariff                     \n",
       "smart             3038.75  \n",
       "ultra             1602.75  "
      ]
     },
     "metadata": {},
     "output_type": "display_data"
    },
    {
     "name": "stdout",
     "output_type": "stream",
     "text": [
      "Всего клиентов на тарифе \"smart\": 2229\n",
      "Всего клиентов на тарифе \"ultra\": 985\n"
     ]
    }
   ],
   "source": [
    "general = month_sum.pivot_table(\n",
    "    index='tariff', \n",
    "    values=['calls_duration', 'messages_count', 'traffic_volume_gb', 'total_revenue','revenue_over_the_limit']\n",
    "    )\n",
    "display(general)\n",
    "print('Всего клиентов на тарифе \"smart\":',user_consumption[user_consumption['tariff']=='smart']['tariff'].count())\n",
    "print('Всего клиентов на тарифе \"ultra\":',user_consumption[user_consumption['tariff']=='ultra']['tariff'].count())"
   ]
  },
  {
   "cell_type": "markdown",
   "metadata": {},
   "source": [
    "Посчитаем среднее количество, дисперсию и стандартное отклонение для показателей. "
   ]
  },
  {
   "cell_type": "code",
   "execution_count": 24,
   "metadata": {
    "scrolled": true
   },
   "outputs": [],
   "source": [
    "# разделим таблицу по тарифам\n",
    "smart_tariff = user_consumption.query(\"tariff == 'smart'\")\n",
    "ultra_tariff = user_consumption.query(\"tariff == 'ultra'\")"
   ]
  },
  {
   "cell_type": "code",
   "execution_count": 25,
   "metadata": {
    "scrolled": true
   },
   "outputs": [
    {
     "name": "stdout",
     "output_type": "stream",
     "text": [
      "Стандартное отклонение calls_duration 190.27103471651867\n",
      "Дисперсия calls_duration 36203.066652094654\n",
      "Среднее calls_duration 417.9349484073576\n",
      "Стандартное отклонение messages_count 28.221542886898938\n",
      "Дисперсия messages_count 796.455482917076\n",
      "Среднее messages_count 33.384028712427096\n",
      "Стандартное отклонение traffic_volume_gb 5.7572065542312405\n",
      "Дисперсия traffic_volume_gb 33.14542730808315\n",
      "Среднее traffic_volume_gb 16.35935397039031\n",
      "Стандартное отклонение total_revenue 739.2680403527252\n",
      "Дисперсия total_revenue 546517.2354869585\n",
      "Среднее total_revenue 1152.4226110363393\n",
      "Стандартное отклонение revenue_over_the_limit 739.2680403527252\n",
      "Дисперсия revenue_over_the_limit 546517.2354869585\n",
      "Среднее revenue_over_the_limit 602.4226110363392\n"
     ]
    }
   ],
   "source": [
    "# создадим функцию для посчета требуемых коэффицентов\n",
    "def funk (df):\n",
    "    for columns in ['calls_duration', 'messages_count', 'traffic_volume_gb', 'total_revenue','revenue_over_the_limit']:\n",
    "        print(\"Стандартное отклонение\",columns,np.std(df[columns]))\n",
    "        print(\"Дисперсия\",columns,np.var(df[columns]))\n",
    "        print(\"Среднее\",columns,df[columns].mean())\n",
    "funk(smart_tariff)"
   ]
  },
  {
   "cell_type": "code",
   "execution_count": 26,
   "metadata": {},
   "outputs": [
    {
     "data": {
      "text/html": [
       "<style type=\"text/css\">\n",
       "</style>\n",
       "<table id=\"T_4f47e\">\n",
       "  <thead>\n",
       "    <tr>\n",
       "      <th class=\"blank level0\" >&nbsp;</th>\n",
       "      <th id=\"T_4f47e_level0_col0\" class=\"col_heading level0 col0\" colspan=\"3\">calls_duration</th>\n",
       "      <th id=\"T_4f47e_level0_col3\" class=\"col_heading level0 col3\" colspan=\"3\">messages_count</th>\n",
       "      <th id=\"T_4f47e_level0_col6\" class=\"col_heading level0 col6\" colspan=\"3\">traffic_volume_gb</th>\n",
       "      <th id=\"T_4f47e_level0_col9\" class=\"col_heading level0 col9\" colspan=\"3\">total_revenue</th>\n",
       "      <th id=\"T_4f47e_level0_col12\" class=\"col_heading level0 col12\" colspan=\"3\">revenue_over_the_limit</th>\n",
       "    </tr>\n",
       "    <tr>\n",
       "      <th class=\"blank level1\" >&nbsp;</th>\n",
       "      <th id=\"T_4f47e_level1_col0\" class=\"col_heading level1 col0\" >mean</th>\n",
       "      <th id=\"T_4f47e_level1_col1\" class=\"col_heading level1 col1\" >var</th>\n",
       "      <th id=\"T_4f47e_level1_col2\" class=\"col_heading level1 col2\" >std</th>\n",
       "      <th id=\"T_4f47e_level1_col3\" class=\"col_heading level1 col3\" >mean</th>\n",
       "      <th id=\"T_4f47e_level1_col4\" class=\"col_heading level1 col4\" >var</th>\n",
       "      <th id=\"T_4f47e_level1_col5\" class=\"col_heading level1 col5\" >std</th>\n",
       "      <th id=\"T_4f47e_level1_col6\" class=\"col_heading level1 col6\" >mean</th>\n",
       "      <th id=\"T_4f47e_level1_col7\" class=\"col_heading level1 col7\" >var</th>\n",
       "      <th id=\"T_4f47e_level1_col8\" class=\"col_heading level1 col8\" >std</th>\n",
       "      <th id=\"T_4f47e_level1_col9\" class=\"col_heading level1 col9\" >mean</th>\n",
       "      <th id=\"T_4f47e_level1_col10\" class=\"col_heading level1 col10\" >var</th>\n",
       "      <th id=\"T_4f47e_level1_col11\" class=\"col_heading level1 col11\" >std</th>\n",
       "      <th id=\"T_4f47e_level1_col12\" class=\"col_heading level1 col12\" >mean</th>\n",
       "      <th id=\"T_4f47e_level1_col13\" class=\"col_heading level1 col13\" >var</th>\n",
       "      <th id=\"T_4f47e_level1_col14\" class=\"col_heading level1 col14\" >std</th>\n",
       "    </tr>\n",
       "    <tr>\n",
       "      <th class=\"index_name level0\" >tariff</th>\n",
       "      <th class=\"blank col0\" >&nbsp;</th>\n",
       "      <th class=\"blank col1\" >&nbsp;</th>\n",
       "      <th class=\"blank col2\" >&nbsp;</th>\n",
       "      <th class=\"blank col3\" >&nbsp;</th>\n",
       "      <th class=\"blank col4\" >&nbsp;</th>\n",
       "      <th class=\"blank col5\" >&nbsp;</th>\n",
       "      <th class=\"blank col6\" >&nbsp;</th>\n",
       "      <th class=\"blank col7\" >&nbsp;</th>\n",
       "      <th class=\"blank col8\" >&nbsp;</th>\n",
       "      <th class=\"blank col9\" >&nbsp;</th>\n",
       "      <th class=\"blank col10\" >&nbsp;</th>\n",
       "      <th class=\"blank col11\" >&nbsp;</th>\n",
       "      <th class=\"blank col12\" >&nbsp;</th>\n",
       "      <th class=\"blank col13\" >&nbsp;</th>\n",
       "      <th class=\"blank col14\" >&nbsp;</th>\n",
       "    </tr>\n",
       "  </thead>\n",
       "  <tbody>\n",
       "    <tr>\n",
       "      <th id=\"T_4f47e_level0_row0\" class=\"row_heading level0 row0\" >smart</th>\n",
       "      <td id=\"T_4f47e_row0_col0\" class=\"data row0 col0\" >417.93</td>\n",
       "      <td id=\"T_4f47e_row0_col1\" class=\"data row0 col1\" >36219.32</td>\n",
       "      <td id=\"T_4f47e_row0_col2\" class=\"data row0 col2\" >190.31</td>\n",
       "      <td id=\"T_4f47e_row0_col3\" class=\"data row0 col3\" >33.38</td>\n",
       "      <td id=\"T_4f47e_row0_col4\" class=\"data row0 col4\" >796.81</td>\n",
       "      <td id=\"T_4f47e_row0_col5\" class=\"data row0 col5\" >28.23</td>\n",
       "      <td id=\"T_4f47e_row0_col6\" class=\"data row0 col6\" >16.36</td>\n",
       "      <td id=\"T_4f47e_row0_col7\" class=\"data row0 col7\" >33.16</td>\n",
       "      <td id=\"T_4f47e_row0_col8\" class=\"data row0 col8\" >5.76</td>\n",
       "      <td id=\"T_4f47e_row0_col9\" class=\"data row0 col9\" >1152.42</td>\n",
       "      <td id=\"T_4f47e_row0_col10\" class=\"data row0 col10\" >546762.53</td>\n",
       "      <td id=\"T_4f47e_row0_col11\" class=\"data row0 col11\" >739.43</td>\n",
       "      <td id=\"T_4f47e_row0_col12\" class=\"data row0 col12\" >602.42</td>\n",
       "      <td id=\"T_4f47e_row0_col13\" class=\"data row0 col13\" >546762.53</td>\n",
       "      <td id=\"T_4f47e_row0_col14\" class=\"data row0 col14\" >739.43</td>\n",
       "    </tr>\n",
       "    <tr>\n",
       "      <th id=\"T_4f47e_level0_row1\" class=\"row_heading level0 row1\" >ultra</th>\n",
       "      <td id=\"T_4f47e_row1_col0\" class=\"data row1 col0\" >526.62</td>\n",
       "      <td id=\"T_4f47e_row1_col1\" class=\"data row1 col1\" >100873.63</td>\n",
       "      <td id=\"T_4f47e_row1_col2\" class=\"data row1 col2\" >317.61</td>\n",
       "      <td id=\"T_4f47e_row1_col3\" class=\"data row1 col3\" >49.36</td>\n",
       "      <td id=\"T_4f47e_row1_col4\" class=\"data row1 col4\" >2285.27</td>\n",
       "      <td id=\"T_4f47e_row1_col5\" class=\"data row1 col5\" >47.80</td>\n",
       "      <td id=\"T_4f47e_row1_col6\" class=\"data row1 col6\" >19.53</td>\n",
       "      <td id=\"T_4f47e_row1_col7\" class=\"data row1 col7\" >97.33</td>\n",
       "      <td id=\"T_4f47e_row1_col8\" class=\"data row1 col8\" >9.87</td>\n",
       "      <td id=\"T_4f47e_row1_col9\" class=\"data row1 col9\" >2071.07</td>\n",
       "      <td id=\"T_4f47e_row1_col10\" class=\"data row1 col10\" >143491.24</td>\n",
       "      <td id=\"T_4f47e_row1_col11\" class=\"data row1 col11\" >378.80</td>\n",
       "      <td id=\"T_4f47e_row1_col12\" class=\"data row1 col12\" >121.07</td>\n",
       "      <td id=\"T_4f47e_row1_col13\" class=\"data row1 col13\" >143491.24</td>\n",
       "      <td id=\"T_4f47e_row1_col14\" class=\"data row1 col14\" >378.80</td>\n",
       "    </tr>\n",
       "  </tbody>\n",
       "</table>\n"
      ],
      "text/plain": [
       "<pandas.io.formats.style.Styler at 0x205876f0490>"
      ]
     },
     "execution_count": 26,
     "metadata": {},
     "output_type": "execute_result"
    }
   ],
   "source": [
    "user_consumption.groupby('tariff')\\\n",
    "[['calls_duration', 'messages_count', 'traffic_volume_gb', 'total_revenue','revenue_over_the_limit']]\\\n",
    ".agg(['mean', 'var','std']).style.format('{:.2f}')\n"
   ]
  },
  {
   "cell_type": "code",
   "execution_count": 27,
   "metadata": {
    "scrolled": true
   },
   "outputs": [
    {
     "name": "stdout",
     "output_type": "stream",
     "text": [
      "Стандартное отклонение calls_duration 317.4448355497411\n",
      "Дисперсия calls_duration 100771.22361720214\n",
      "Среднее calls_duration 526.6233502538071\n",
      "Стандартное отклонение messages_count 47.780184966101714\n",
      "Дисперсия messages_count 2282.946075394892\n",
      "Среднее messages_count 49.36345177664975\n",
      "Стандартное отклонение traffic_volume_gb 9.860838292208843\n",
      "Дисперсия traffic_volume_gb 97.23613182509222\n",
      "Среднее traffic_volume_gb 19.525888324873097\n",
      "Стандартное отклонение total_revenue 378.6100423565858\n",
      "Дисперсия total_revenue 143345.5641732557\n",
      "Среднее total_revenue 2071.0659898477156\n",
      "Стандартное отклонение revenue_over_the_limit 378.6100423565858\n",
      "Дисперсия revenue_over_the_limit 143345.5641732557\n",
      "Среднее revenue_over_the_limit 121.06598984771574\n"
     ]
    }
   ],
   "source": [
    "funk(ultra_tariff)"
   ]
  },
  {
   "cell_type": "markdown",
   "metadata": {},
   "source": [
    "Построим гистограммы для сравнения трат пакета, по тарифам."
   ]
  },
  {
   "cell_type": "code",
   "execution_count": 28,
   "metadata": {},
   "outputs": [
    {
     "data": {
      "image/png": "[encoded data removed]",
      "text/plain": [
       "<Figure size 1440x360 with 1 Axes>"
      ]
     },
     "metadata": {
      "needs_background": "light"
     },
     "output_type": "display_data"
    },
    {
     "data": {
      "image/png": "[encoded data removed]",
      "text/plain": [
       "<Figure size 1440x360 with 1 Axes>"
      ]
     },
     "metadata": {
      "needs_background": "light"
     },
     "output_type": "display_data"
    },
    {
     "data": {
      "image/png": "[encoded data removed]",
      "text/plain": [
       "<Figure size 1440x360 with 1 Axes>"
      ]
     },
     "metadata": {
      "needs_background": "light"
     },
     "output_type": "display_data"
    },
    {
     "data": {
      "image/png": "[encoded data removed]",
      "text/plain": [
       "<Figure size 1440x360 with 1 Axes>"
      ]
     },
     "metadata": {
      "needs_background": "light"
     },
     "output_type": "display_data"
    },
    {
     "data": {
      "image/png": "[encoded data removed]",
      "text/plain": [
       "<Figure size 1440x360 with 1 Axes>"
      ]
     },
     "metadata": {
      "needs_background": "light"
     },
     "output_type": "display_data"
    }
   ],
   "source": [
    "#создадим функцию для построения графиков\n",
    "for col in ['calls_duration', 'messages_count', 'traffic_volume_gb', 'total_revenue','revenue_over_the_limit']:\n",
    "    smart_tariff[col].plot.hist(alpha = 0.6 , color = 'green', title = col, grid = True, bins = 50,label='smart')\n",
    "    ultra_tariff[col].plot.hist(alpha = 0.6, color = 'red', figsize = (20,5), grid = True, bins = 50,label='ultra')\n",
    "    plt.legend()\n",
    "    plt.xlabel(\"Количество/Объем\")\n",
    "    plt.ylabel(\"Частота\")\n",
    "    plt.show()"
   ]
  },
  {
   "cell_type": "markdown",
   "metadata": {},
   "source": [
    "### Вывод.\n",
    "Продолжительность звонков. По тарифу smart количество использованных минут, в основном варьируется от 300 до 600, пик приходится на 450/500 минут , в ultra - около 800 минут. Также в ultra есть небольшой пик на значениях от 0 до 50 минут.\n",
    "\n",
    "Количество сообщений. По двум тарифам пик количества сообщений возле нуля, думаю это связано с тем, что люди пользуются в основном различными месенджерами.\n",
    "\n",
    "Интернет.По двум тарифам пик пригодится на 20 ГБ.Большая дисперсия ultra объясняется меньшим объемом выборки, чем по тарифу smart.\n",
    "Дисперсия по интернет трафику в тарифе ultra меньше, возможно клиенты выбирают этот тариф из-за большого пакета интернет-трафика. В современном мире большая часть звонков и сообщений осуществляются по интернету. Клиенты на тарифе ultra не экономят трафик,поэтому среднее с меньшим разбросом. Клиенты на тарифе smart к концу месяца получают неиспользованный трафик, который сгорает, а некоторые наоборот - перерасход.\n",
    "\n",
    "Общая выручка. У smart пик приходится в районе 500,а у ultra около 2000. \n",
    "\n",
    "Выручка сверх лимита. Большое количество клиентов хоть немного, но перерасходует тарифные лимиты. По тарифу ultra большинство пользователей тратит до 2000, после чего есть еще одна граница в районе 4000, т.е. пользователя тарифа ультра в основном укладываются в лимиты тарифного плана и не перерасходуют его. Абонентам smart напротив не хватает пакета, предусмотренного тарифом. Они чаще переплачивают за дополнительные минуты и интернет-трафик."
   ]
  },
  {
   "cell_type": "markdown",
   "metadata": {},
   "source": [
    "## Проверка гипотез."
   ]
  },
  {
   "cell_type": "markdown",
   "metadata": {},
   "source": [
    "### Первая гипотеза:средняя выручка пользователей тарифов «Ультра» и «Смарт» различается,тогда.\n",
    "\n",
    "H0-нулевая гипотеза - средняя выручка пользователей тарифов «Ультра» и «Смарт» равны, а\n",
    "H1 - альтернативная гипотеза- средние выручки пользователей тарифов «Ультра» и «Смарт» различаются.\n",
    "Пороговое значение 5%."
   ]
  },
  {
   "cell_type": "code",
   "execution_count": 29,
   "metadata": {},
   "outputs": [
    {
     "name": "stdout",
     "output_type": "stream",
     "text": [
      "p-значение: 6.80239123989675e-249\n",
      "Отвергаем нулевую гипотезу\n"
     ]
    }
   ],
   "source": [
    "alpha = 0.05\n",
    "\n",
    "results = st.ttest_ind(smart_tariff['total_revenue'], ultra_tariff['total_revenue'])\n",
    "\n",
    "print('p-значение:', results.pvalue)\n",
    "\n",
    "if (results.pvalue < alpha):\n",
    "    print(\"Отвергаем нулевую гипотезу\")\n",
    "else:\n",
    "    print(\"Не получилось отвергнуть нулевую гипотезу\")"
   ]
  },
  {
   "cell_type": "markdown",
   "metadata": {},
   "source": [
    "### Вывод.\n",
    "p-уровень ниже порогового значения. Значит средняя выручка от тарифов различается."
   ]
  },
  {
   "cell_type": "markdown",
   "metadata": {},
   "source": [
    "### Вторая гипотеза-средняя выручка пользователей из Москвы отличается от выручки пользователей из других регионов.\n",
    "\n",
    "Н0 - средняя выручка пользователей из Москвы равна средней выручке пользователей из других регионов.\n",
    "\n",
    "Н1 - средняя выручка пользователей из Москвы отличается от выручки пользователей из других регионов."
   ]
  },
  {
   "cell_type": "code",
   "execution_count": 30,
   "metadata": {},
   "outputs": [
    {
     "name": "stdout",
     "output_type": "stream",
     "text": [
      "p-значение: 0.21050070696644343\n",
      "Не получилось отвергнуть нулевую гипотезу\n"
     ]
    }
   ],
   "source": [
    "moscow_revenue = user_consumption.query(\"city == 'Москва'\")['total_revenue']\n",
    "area_revenue = user_consumption.query(\"city != 'Москва'\")['total_revenue']\n",
    "\n",
    "alpha = 0.05\n",
    "\n",
    "results = st.ttest_ind(moscow_revenue, area_revenue,equal_var=False)\n",
    "\n",
    "print('p-значение:', results.pvalue)\n",
    "\n",
    "if (results.pvalue < alpha):\n",
    "    print(\"Отвергаем нулевую гипотезу\")\n",
    "else:\n",
    "    print(\"Не получилось отвергнуть нулевую гипотезу\")"
   ]
  },
  {
   "cell_type": "markdown",
   "metadata": {},
   "source": [
    "### Вывод.\n",
    "Cредняя выручка по Москве статистически значимо не отличается от средней выручки по другим регионам."
   ]
  },
  {
   "cell_type": "markdown",
   "metadata": {},
   "source": [
    "## Вывод.\n",
    "\n",
    "Для проведения исследования в некоторых столбцах изменили тип данных и округлили израсходаванные смс,звонки и трафик, также перевели значение в гигабайты, согласно документации. Рассмотрели данные по каждому пользователю и рассчитали:\n",
    "* количество сделанных звонков и израсходованных минут разговора по месяцам;\n",
    "* количество отправленных сообщений по месяцам;\n",
    "* объем израсходованного интернет-трафика по месяцам;\n",
    "* помесячную выручку с каждого пользователя.\n",
    "\n",
    "Также рассчитали среднее количество, дисперсию и стандартное отклонение исследуемых показателей.\n",
    "\n",
    "Клиенты с тарифом smart тратят больше на дополнительные минуты,сообщения и интернет-трафик, но абоненты тарифа ultra более выгодны, так как их выручка больше, при этом клиенты не выходят за рамки пакета.\n",
    "\n",
    "Коммерческому департаменту можно передать следующую информацию:\n",
    "рекламный бюджет лучше перераспределить в пользу тарифа ultra, т.к. средняя выручка тарифов значимо различается. Абоненты тарифа ultra платят больше.\n",
    "\n",
    "Проверка гипотез показала, что средняя выручка пользователей разных тарифов разная, а так же средняя выручка абонентов по Москве равна выручке пользователей из других регионов. "
   ]
  }
 ],
 "metadata": {
  "ExecuteTimeLog": [
   {
    "duration": 119,
    "start_time": "2022-05-04T15:29:54.464Z"
   },
   {
    "duration": 45,
    "start_time": "2022-05-04T15:55:48.678Z"
   },
   {
    "duration": 1353,
    "start_time": "2022-05-04T15:55:52.420Z"
   },
   {
    "duration": 364,
    "start_time": "2022-05-04T15:55:53.775Z"
   },
   {
    "duration": 112,
    "start_time": "2022-05-04T15:59:52.254Z"
   },
   {
    "duration": 700,
    "start_time": "2022-05-04T16:00:05.256Z"
   },
   {
    "duration": 129,
    "start_time": "2022-05-04T16:01:52.968Z"
   },
   {
    "duration": 341,
    "start_time": "2022-05-04T16:01:58.610Z"
   },
   {
    "duration": 154,
    "start_time": "2022-05-04T16:01:59.195Z"
   },
   {
    "duration": 81,
    "start_time": "2022-05-04T16:03:56.506Z"
   },
   {
    "duration": 139,
    "start_time": "2022-05-04T16:04:17.856Z"
   },
   {
    "duration": 223,
    "start_time": "2022-05-04T16:04:29.825Z"
   },
   {
    "duration": 253,
    "start_time": "2022-05-04T16:05:29.180Z"
   },
   {
    "duration": 231,
    "start_time": "2022-05-04T16:11:48.812Z"
   },
   {
    "duration": 66,
    "start_time": "2022-05-04T16:36:05.817Z"
   },
   {
    "duration": 171,
    "start_time": "2022-05-04T16:39:04.550Z"
   },
   {
    "duration": 158,
    "start_time": "2022-05-04T16:39:22.639Z"
   },
   {
    "duration": 1267,
    "start_time": "2022-05-05T10:44:18.257Z"
   },
   {
    "duration": 375,
    "start_time": "2022-05-05T10:44:19.526Z"
   },
   {
    "duration": 259,
    "start_time": "2022-05-05T10:44:19.903Z"
   },
   {
    "duration": 231,
    "start_time": "2022-05-05T10:44:20.208Z"
   },
   {
    "duration": 84,
    "start_time": "2022-05-05T10:44:22.080Z"
   },
   {
    "duration": 53,
    "start_time": "2022-05-05T10:44:36.568Z"
   },
   {
    "duration": 44,
    "start_time": "2022-05-05T10:45:25.453Z"
   },
   {
    "duration": 19,
    "start_time": "2022-05-05T10:47:55.624Z"
   },
   {
    "duration": 25,
    "start_time": "2022-05-05T10:48:14.775Z"
   },
   {
    "duration": 4,
    "start_time": "2022-05-05T10:50:51.740Z"
   },
   {
    "duration": 96,
    "start_time": "2022-05-05T10:57:02.737Z"
   },
   {
    "duration": 213,
    "start_time": "2022-05-05T10:58:23.134Z"
   },
   {
    "duration": 8,
    "start_time": "2022-05-05T10:59:54.936Z"
   },
   {
    "duration": 9,
    "start_time": "2022-05-05T11:00:00.150Z"
   },
   {
    "duration": 295,
    "start_time": "2022-05-05T11:00:06.505Z"
   },
   {
    "duration": 7,
    "start_time": "2022-05-05T11:00:24.803Z"
   },
   {
    "duration": 8,
    "start_time": "2022-05-05T11:07:46.045Z"
   },
   {
    "duration": 16,
    "start_time": "2022-05-05T11:07:55.387Z"
   },
   {
    "duration": 121,
    "start_time": "2022-05-05T11:13:27.475Z"
   },
   {
    "duration": 90,
    "start_time": "2022-05-05T11:13:54.674Z"
   },
   {
    "duration": 91,
    "start_time": "2022-05-05T11:14:02.218Z"
   },
   {
    "duration": 89,
    "start_time": "2022-05-05T11:14:10.283Z"
   },
   {
    "duration": 758,
    "start_time": "2022-05-05T11:16:50.977Z"
   },
   {
    "duration": 37,
    "start_time": "2022-05-05T11:20:34.631Z"
   },
   {
    "duration": 84,
    "start_time": "2022-05-05T11:34:15.200Z"
   },
   {
    "duration": 55,
    "start_time": "2022-05-05T11:34:27.823Z"
   },
   {
    "duration": 87,
    "start_time": "2022-05-05T11:34:38.875Z"
   },
   {
    "duration": 90,
    "start_time": "2022-05-05T11:35:03.390Z"
   },
   {
    "duration": 22,
    "start_time": "2022-05-05T11:39:14.469Z"
   },
   {
    "duration": 22,
    "start_time": "2022-05-05T11:39:19.979Z"
   },
   {
    "duration": 45,
    "start_time": "2022-05-05T11:40:36.068Z"
   },
   {
    "duration": 45,
    "start_time": "2022-05-05T11:41:23.314Z"
   },
   {
    "duration": 28,
    "start_time": "2022-05-05T11:44:34.923Z"
   },
   {
    "duration": 29,
    "start_time": "2022-05-05T11:44:47.404Z"
   },
   {
    "duration": 28,
    "start_time": "2022-05-05T11:45:09.380Z"
   },
   {
    "duration": 29,
    "start_time": "2022-05-05T11:45:19.119Z"
   },
   {
    "duration": 20,
    "start_time": "2022-05-05T11:48:41.732Z"
   },
   {
    "duration": 5,
    "start_time": "2022-05-05T11:49:58.402Z"
   },
   {
    "duration": 24,
    "start_time": "2022-05-05T11:52:07.658Z"
   },
   {
    "duration": 11,
    "start_time": "2022-05-05T11:52:42.770Z"
   },
   {
    "duration": 159,
    "start_time": "2022-05-05T11:55:10.956Z"
   },
   {
    "duration": 144,
    "start_time": "2022-05-05T11:56:39.477Z"
   },
   {
    "duration": 128,
    "start_time": "2022-05-05T11:56:49.232Z"
   },
   {
    "duration": 229,
    "start_time": "2022-05-05T11:58:50.744Z"
   },
   {
    "duration": 9,
    "start_time": "2022-05-05T11:58:57.420Z"
   },
   {
    "duration": 10,
    "start_time": "2022-05-05T11:59:06.080Z"
   },
   {
    "duration": 3,
    "start_time": "2022-05-05T11:59:12.040Z"
   },
   {
    "duration": 15,
    "start_time": "2022-05-05T11:59:21.777Z"
   },
   {
    "duration": 3,
    "start_time": "2022-05-05T11:59:32.639Z"
   },
   {
    "duration": 3,
    "start_time": "2022-05-05T11:59:38.668Z"
   },
   {
    "duration": 12,
    "start_time": "2022-05-05T11:59:39.776Z"
   },
   {
    "duration": 16,
    "start_time": "2022-05-05T12:02:58.624Z"
   },
   {
    "duration": 15,
    "start_time": "2022-05-05T12:03:35.722Z"
   },
   {
    "duration": 3,
    "start_time": "2022-05-05T12:06:40.466Z"
   },
   {
    "duration": 17,
    "start_time": "2022-05-05T12:08:24.408Z"
   },
   {
    "duration": 15,
    "start_time": "2022-05-05T12:09:25.760Z"
   },
   {
    "duration": 8,
    "start_time": "2022-05-05T12:13:23.598Z"
   },
   {
    "duration": 12,
    "start_time": "2022-05-05T12:13:38.061Z"
   },
   {
    "duration": 6,
    "start_time": "2022-05-05T12:18:14.348Z"
   },
   {
    "duration": 15,
    "start_time": "2022-05-05T12:19:24.005Z"
   },
   {
    "duration": 1182,
    "start_time": "2022-05-05T12:19:36.076Z"
   },
   {
    "duration": 331,
    "start_time": "2022-05-05T12:19:37.260Z"
   },
   {
    "duration": 240,
    "start_time": "2022-05-05T12:19:37.593Z"
   },
   {
    "duration": 212,
    "start_time": "2022-05-05T12:19:37.836Z"
   },
   {
    "duration": 76,
    "start_time": "2022-05-05T12:19:38.050Z"
   },
   {
    "duration": 29,
    "start_time": "2022-05-05T12:19:38.128Z"
   },
   {
    "duration": 4,
    "start_time": "2022-05-05T12:19:38.158Z"
   },
   {
    "duration": 25,
    "start_time": "2022-05-05T12:19:38.164Z"
   },
   {
    "duration": 115,
    "start_time": "2022-05-05T12:19:38.191Z"
   },
   {
    "duration": 4,
    "start_time": "2022-05-05T12:19:38.308Z"
   },
   {
    "duration": 62,
    "start_time": "2022-05-05T12:19:38.313Z"
   },
   {
    "duration": 48,
    "start_time": "2022-05-05T12:19:38.377Z"
   },
   {
    "duration": 23,
    "start_time": "2022-05-05T12:19:38.426Z"
   },
   {
    "duration": 12,
    "start_time": "2022-05-05T12:19:38.451Z"
   },
   {
    "duration": 15,
    "start_time": "2022-05-05T12:19:38.464Z"
   },
   {
    "duration": 8,
    "start_time": "2022-05-05T12:19:38.481Z"
   },
   {
    "duration": 33,
    "start_time": "2022-05-05T12:19:38.491Z"
   },
   {
    "duration": 2,
    "start_time": "2022-05-05T12:19:51.868Z"
   },
   {
    "duration": 357,
    "start_time": "2022-05-05T12:19:52.307Z"
   },
   {
    "duration": 212,
    "start_time": "2022-05-05T12:19:52.771Z"
   },
   {
    "duration": 175,
    "start_time": "2022-05-05T12:19:53.297Z"
   },
   {
    "duration": 72,
    "start_time": "2022-05-05T12:19:54.703Z"
   },
   {
    "duration": 25,
    "start_time": "2022-05-05T12:19:55.715Z"
   },
   {
    "duration": 4,
    "start_time": "2022-05-05T12:19:56.632Z"
   },
   {
    "duration": 22,
    "start_time": "2022-05-05T12:19:57.217Z"
   },
   {
    "duration": 147,
    "start_time": "2022-05-05T12:19:58.449Z"
   },
   {
    "duration": 3,
    "start_time": "2022-05-05T12:19:59.640Z"
   },
   {
    "duration": 47,
    "start_time": "2022-05-05T12:20:00.130Z"
   },
   {
    "duration": 31,
    "start_time": "2022-05-05T12:20:01.265Z"
   },
   {
    "duration": 20,
    "start_time": "2022-05-05T12:20:01.768Z"
   },
   {
    "duration": 12,
    "start_time": "2022-05-05T12:20:02.361Z"
   },
   {
    "duration": 14,
    "start_time": "2022-05-05T12:20:03.472Z"
   },
   {
    "duration": 10,
    "start_time": "2022-05-05T12:20:04.155Z"
   },
   {
    "duration": 14,
    "start_time": "2022-05-05T12:21:41.572Z"
   },
   {
    "duration": 6,
    "start_time": "2022-05-05T12:23:08.600Z"
   },
   {
    "duration": 5,
    "start_time": "2022-05-05T12:24:41.511Z"
   },
   {
    "duration": 4,
    "start_time": "2022-05-05T12:24:41.999Z"
   },
   {
    "duration": 10,
    "start_time": "2022-05-05T12:26:20.815Z"
   },
   {
    "duration": 20,
    "start_time": "2022-05-05T12:28:20.807Z"
   },
   {
    "duration": 29,
    "start_time": "2022-05-05T12:28:49.382Z"
   },
   {
    "duration": 97,
    "start_time": "2022-05-05T12:34:07.093Z"
   },
   {
    "duration": 132,
    "start_time": "2022-05-05T12:34:32.744Z"
   },
   {
    "duration": 143,
    "start_time": "2022-05-05T12:35:37.397Z"
   },
   {
    "duration": 30,
    "start_time": "2022-05-05T12:35:50.574Z"
   },
   {
    "duration": 33,
    "start_time": "2022-05-05T12:36:27.574Z"
   },
   {
    "duration": 31,
    "start_time": "2022-05-05T12:41:08.502Z"
   },
   {
    "duration": 38,
    "start_time": "2022-05-05T12:52:25.752Z"
   },
   {
    "duration": 14,
    "start_time": "2022-05-05T12:54:00.281Z"
   },
   {
    "duration": 42,
    "start_time": "2022-05-05T12:54:15.729Z"
   },
   {
    "duration": 47,
    "start_time": "2022-05-05T12:54:43.475Z"
   },
   {
    "duration": 8,
    "start_time": "2022-05-05T12:57:01.160Z"
   },
   {
    "duration": 41,
    "start_time": "2022-05-05T12:57:08.909Z"
   },
   {
    "duration": 1121,
    "start_time": "2022-05-05T12:57:23.308Z"
   },
   {
    "duration": 354,
    "start_time": "2022-05-05T12:57:24.431Z"
   },
   {
    "duration": 248,
    "start_time": "2022-05-05T12:57:24.786Z"
   },
   {
    "duration": 225,
    "start_time": "2022-05-05T12:57:25.037Z"
   },
   {
    "duration": 92,
    "start_time": "2022-05-05T12:57:25.265Z"
   },
   {
    "duration": 29,
    "start_time": "2022-05-05T12:57:25.359Z"
   },
   {
    "duration": 4,
    "start_time": "2022-05-05T12:57:25.390Z"
   },
   {
    "duration": 41,
    "start_time": "2022-05-05T12:57:25.396Z"
   },
   {
    "duration": 115,
    "start_time": "2022-05-05T12:57:25.439Z"
   },
   {
    "duration": 4,
    "start_time": "2022-05-05T12:57:25.556Z"
   },
   {
    "duration": 72,
    "start_time": "2022-05-05T12:57:25.561Z"
   },
   {
    "duration": 33,
    "start_time": "2022-05-05T12:57:25.634Z"
   },
   {
    "duration": 22,
    "start_time": "2022-05-05T12:57:25.669Z"
   },
   {
    "duration": 3,
    "start_time": "2022-05-05T12:57:25.693Z"
   },
   {
    "duration": 68,
    "start_time": "2022-05-05T12:57:25.698Z"
   },
   {
    "duration": 176,
    "start_time": "2022-05-05T12:57:25.768Z"
   },
   {
    "duration": 0,
    "start_time": "2022-05-05T12:57:25.945Z"
   },
   {
    "duration": 0,
    "start_time": "2022-05-05T12:57:25.946Z"
   },
   {
    "duration": 0,
    "start_time": "2022-05-05T12:57:25.947Z"
   },
   {
    "duration": 3,
    "start_time": "2022-05-05T12:57:30.608Z"
   },
   {
    "duration": 352,
    "start_time": "2022-05-05T12:57:31.058Z"
   },
   {
    "duration": 243,
    "start_time": "2022-05-05T12:57:31.618Z"
   },
   {
    "duration": 185,
    "start_time": "2022-05-05T12:57:32.088Z"
   },
   {
    "duration": 75,
    "start_time": "2022-05-05T12:57:33.628Z"
   },
   {
    "duration": 25,
    "start_time": "2022-05-05T12:57:34.109Z"
   },
   {
    "duration": 5,
    "start_time": "2022-05-05T12:57:34.758Z"
   },
   {
    "duration": 21,
    "start_time": "2022-05-05T12:57:35.249Z"
   },
   {
    "duration": 142,
    "start_time": "2022-05-05T12:57:36.358Z"
   },
   {
    "duration": 3,
    "start_time": "2022-05-05T12:57:37.579Z"
   },
   {
    "duration": 51,
    "start_time": "2022-05-05T12:57:38.228Z"
   },
   {
    "duration": 29,
    "start_time": "2022-05-05T12:57:39.718Z"
   },
   {
    "duration": 23,
    "start_time": "2022-05-05T12:57:40.448Z"
   },
   {
    "duration": 4,
    "start_time": "2022-05-05T12:57:41.338Z"
   },
   {
    "duration": 44,
    "start_time": "2022-05-05T12:57:42.138Z"
   },
   {
    "duration": 129,
    "start_time": "2022-05-05T12:57:42.888Z"
   },
   {
    "duration": 32,
    "start_time": "2022-05-05T12:58:00.648Z"
   },
   {
    "duration": 1167,
    "start_time": "2022-05-05T12:58:14.351Z"
   },
   {
    "duration": 356,
    "start_time": "2022-05-05T12:58:15.523Z"
   },
   {
    "duration": 243,
    "start_time": "2022-05-05T12:58:15.881Z"
   },
   {
    "duration": 217,
    "start_time": "2022-05-05T12:58:16.127Z"
   },
   {
    "duration": 90,
    "start_time": "2022-05-05T12:58:16.346Z"
   },
   {
    "duration": 29,
    "start_time": "2022-05-05T12:58:16.438Z"
   },
   {
    "duration": 3,
    "start_time": "2022-05-05T12:58:16.469Z"
   },
   {
    "duration": 25,
    "start_time": "2022-05-05T12:58:16.474Z"
   },
   {
    "duration": 112,
    "start_time": "2022-05-05T12:58:16.501Z"
   },
   {
    "duration": 4,
    "start_time": "2022-05-05T12:58:16.623Z"
   },
   {
    "duration": 52,
    "start_time": "2022-05-05T12:58:16.628Z"
   },
   {
    "duration": 47,
    "start_time": "2022-05-05T12:58:16.682Z"
   },
   {
    "duration": 22,
    "start_time": "2022-05-05T12:58:16.730Z"
   },
   {
    "duration": 3,
    "start_time": "2022-05-05T12:58:16.754Z"
   },
   {
    "duration": 29,
    "start_time": "2022-05-05T12:58:16.759Z"
   },
   {
    "duration": 36,
    "start_time": "2022-05-05T12:58:16.789Z"
   },
   {
    "duration": 5,
    "start_time": "2022-05-05T12:58:16.827Z"
   },
   {
    "duration": 7,
    "start_time": "2022-05-05T12:58:16.834Z"
   },
   {
    "duration": 2,
    "start_time": "2022-05-05T12:58:20.192Z"
   },
   {
    "duration": 338,
    "start_time": "2022-05-05T12:58:20.551Z"
   },
   {
    "duration": 228,
    "start_time": "2022-05-05T12:58:20.921Z"
   },
   {
    "duration": 269,
    "start_time": "2022-05-05T12:58:21.302Z"
   },
   {
    "duration": 75,
    "start_time": "2022-05-05T12:58:22.581Z"
   },
   {
    "duration": 26,
    "start_time": "2022-05-05T12:58:23.061Z"
   },
   {
    "duration": 4,
    "start_time": "2022-05-05T12:58:23.621Z"
   },
   {
    "duration": 21,
    "start_time": "2022-05-05T12:58:24.221Z"
   },
   {
    "duration": 156,
    "start_time": "2022-05-05T12:58:25.204Z"
   },
   {
    "duration": 3,
    "start_time": "2022-05-05T12:58:25.641Z"
   },
   {
    "duration": 52,
    "start_time": "2022-05-05T12:58:26.141Z"
   },
   {
    "duration": 33,
    "start_time": "2022-05-05T12:58:27.103Z"
   },
   {
    "duration": 22,
    "start_time": "2022-05-05T12:58:27.561Z"
   },
   {
    "duration": 4,
    "start_time": "2022-05-05T12:58:28.031Z"
   },
   {
    "duration": 29,
    "start_time": "2022-05-05T12:58:28.602Z"
   },
   {
    "duration": 10,
    "start_time": "2022-05-05T12:58:29.592Z"
   },
   {
    "duration": 8,
    "start_time": "2022-05-05T12:59:00.931Z"
   },
   {
    "duration": 8,
    "start_time": "2022-05-05T12:59:01.771Z"
   },
   {
    "duration": 12,
    "start_time": "2022-05-05T12:59:29.391Z"
   },
   {
    "duration": 11,
    "start_time": "2022-05-05T12:59:57.743Z"
   },
   {
    "duration": 12,
    "start_time": "2022-05-05T13:00:24.373Z"
   },
   {
    "duration": 99,
    "start_time": "2022-05-05T13:03:18.741Z"
   },
   {
    "duration": 29,
    "start_time": "2022-05-05T13:03:19.452Z"
   },
   {
    "duration": 18,
    "start_time": "2022-05-05T13:03:47.711Z"
   },
   {
    "duration": 2412,
    "start_time": "2022-05-05T13:06:35.162Z"
   },
   {
    "duration": 2581,
    "start_time": "2022-05-05T13:08:46.292Z"
   },
   {
    "duration": 2180,
    "start_time": "2022-05-05T13:09:23.042Z"
   },
   {
    "duration": 1200,
    "start_time": "2022-05-05T13:12:25.650Z"
   },
   {
    "duration": 357,
    "start_time": "2022-05-05T13:12:26.852Z"
   },
   {
    "duration": 242,
    "start_time": "2022-05-05T13:12:27.211Z"
   },
   {
    "duration": 240,
    "start_time": "2022-05-05T13:12:27.455Z"
   },
   {
    "duration": 90,
    "start_time": "2022-05-05T13:12:27.697Z"
   },
   {
    "duration": 45,
    "start_time": "2022-05-05T13:12:27.789Z"
   },
   {
    "duration": 5,
    "start_time": "2022-05-05T13:12:27.836Z"
   },
   {
    "duration": 34,
    "start_time": "2022-05-05T13:12:27.842Z"
   },
   {
    "duration": 115,
    "start_time": "2022-05-05T13:12:27.877Z"
   },
   {
    "duration": 3,
    "start_time": "2022-05-05T13:12:27.995Z"
   },
   {
    "duration": 68,
    "start_time": "2022-05-05T13:12:28.000Z"
   },
   {
    "duration": 32,
    "start_time": "2022-05-05T13:12:28.070Z"
   },
   {
    "duration": 37,
    "start_time": "2022-05-05T13:12:28.104Z"
   },
   {
    "duration": 4,
    "start_time": "2022-05-05T13:12:28.143Z"
   },
   {
    "duration": 31,
    "start_time": "2022-05-05T13:12:28.149Z"
   },
   {
    "duration": 9,
    "start_time": "2022-05-05T13:12:28.182Z"
   },
   {
    "duration": 35,
    "start_time": "2022-05-05T13:12:28.192Z"
   },
   {
    "duration": 14,
    "start_time": "2022-05-05T13:12:28.230Z"
   },
   {
    "duration": 2158,
    "start_time": "2022-05-05T13:12:28.246Z"
   },
   {
    "duration": 4,
    "start_time": "2022-05-05T13:12:42.508Z"
   },
   {
    "duration": 491,
    "start_time": "2022-05-05T13:12:42.989Z"
   },
   {
    "duration": 281,
    "start_time": "2022-05-05T13:12:43.569Z"
   },
   {
    "duration": 183,
    "start_time": "2022-05-05T13:12:44.618Z"
   },
   {
    "duration": 75,
    "start_time": "2022-05-05T13:12:46.719Z"
   },
   {
    "duration": 25,
    "start_time": "2022-05-05T13:12:47.689Z"
   },
   {
    "duration": 1139,
    "start_time": "2022-05-05T13:12:56.892Z"
   },
   {
    "duration": 367,
    "start_time": "2022-05-05T13:12:58.033Z"
   },
   {
    "duration": 291,
    "start_time": "2022-05-05T13:12:58.402Z"
   },
   {
    "duration": 247,
    "start_time": "2022-05-05T13:12:58.695Z"
   },
   {
    "duration": 91,
    "start_time": "2022-05-05T13:12:58.944Z"
   },
   {
    "duration": 29,
    "start_time": "2022-05-05T13:12:59.037Z"
   },
   {
    "duration": 4,
    "start_time": "2022-05-05T13:12:59.068Z"
   },
   {
    "duration": 53,
    "start_time": "2022-05-05T13:12:59.073Z"
   },
   {
    "duration": 107,
    "start_time": "2022-05-05T13:12:59.128Z"
   },
   {
    "duration": 3,
    "start_time": "2022-05-05T13:12:59.237Z"
   },
   {
    "duration": 55,
    "start_time": "2022-05-05T13:12:59.242Z"
   },
   {
    "duration": 48,
    "start_time": "2022-05-05T13:12:59.299Z"
   },
   {
    "duration": 22,
    "start_time": "2022-05-05T13:12:59.349Z"
   },
   {
    "duration": 4,
    "start_time": "2022-05-05T13:12:59.373Z"
   },
   {
    "duration": 57,
    "start_time": "2022-05-05T13:12:59.378Z"
   },
   {
    "duration": 9,
    "start_time": "2022-05-05T13:12:59.437Z"
   },
   {
    "duration": 6,
    "start_time": "2022-05-05T13:12:59.447Z"
   },
   {
    "duration": 13,
    "start_time": "2022-05-05T13:12:59.455Z"
   },
   {
    "duration": 2479,
    "start_time": "2022-05-05T13:12:59.470Z"
   },
   {
    "duration": 3,
    "start_time": "2022-05-05T13:13:07.463Z"
   },
   {
    "duration": 343,
    "start_time": "2022-05-05T13:13:07.902Z"
   },
   {
    "duration": 252,
    "start_time": "2022-05-05T13:13:08.493Z"
   },
   {
    "duration": 190,
    "start_time": "2022-05-05T13:13:09.132Z"
   },
   {
    "duration": 81,
    "start_time": "2022-05-05T13:13:10.922Z"
   },
   {
    "duration": 25,
    "start_time": "2022-05-05T13:13:11.973Z"
   },
   {
    "duration": 5,
    "start_time": "2022-05-05T13:13:12.702Z"
   },
   {
    "duration": 21,
    "start_time": "2022-05-05T13:13:13.372Z"
   },
   {
    "duration": 149,
    "start_time": "2022-05-05T13:13:14.743Z"
   },
   {
    "duration": 4,
    "start_time": "2022-05-05T13:13:15.902Z"
   },
   {
    "duration": 53,
    "start_time": "2022-05-05T13:13:16.663Z"
   },
   {
    "duration": 30,
    "start_time": "2022-05-05T13:13:18.112Z"
   },
   {
    "duration": 23,
    "start_time": "2022-05-05T13:13:18.713Z"
   },
   {
    "duration": 5,
    "start_time": "2022-05-05T13:13:19.512Z"
   },
   {
    "duration": 28,
    "start_time": "2022-05-05T13:13:20.193Z"
   },
   {
    "duration": 10,
    "start_time": "2022-05-05T13:13:22.253Z"
   },
   {
    "duration": 6,
    "start_time": "2022-05-05T13:14:05.462Z"
   },
   {
    "duration": 14,
    "start_time": "2022-05-05T13:14:06.762Z"
   },
   {
    "duration": 2858,
    "start_time": "2022-05-05T13:14:07.983Z"
   },
   {
    "duration": 6,
    "start_time": "2022-05-05T13:16:24.472Z"
   },
   {
    "duration": 59,
    "start_time": "2022-05-05T13:19:28.592Z"
   },
   {
    "duration": 49,
    "start_time": "2022-05-05T13:20:13.292Z"
   },
   {
    "duration": 50,
    "start_time": "2022-05-05T13:22:51.062Z"
   },
   {
    "duration": 31,
    "start_time": "2022-05-05T13:25:47.512Z"
   },
   {
    "duration": 21,
    "start_time": "2022-05-05T13:25:48.332Z"
   },
   {
    "duration": 4,
    "start_time": "2022-05-05T13:25:50.772Z"
   },
   {
    "duration": 31,
    "start_time": "2022-05-05T13:26:04.422Z"
   },
   {
    "duration": 23,
    "start_time": "2022-05-05T13:26:04.992Z"
   },
   {
    "duration": 4,
    "start_time": "2022-05-05T13:26:05.865Z"
   },
   {
    "duration": 28,
    "start_time": "2022-05-05T13:26:07.462Z"
   },
   {
    "duration": 10,
    "start_time": "2022-05-05T13:26:12.312Z"
   },
   {
    "duration": 6,
    "start_time": "2022-05-05T13:26:14.532Z"
   },
   {
    "duration": 13,
    "start_time": "2022-05-05T13:26:15.232Z"
   },
   {
    "duration": 13,
    "start_time": "2022-05-05T13:27:01.272Z"
   },
   {
    "duration": 6,
    "start_time": "2022-05-05T13:27:02.312Z"
   },
   {
    "duration": 16,
    "start_time": "2022-05-05T13:27:27.652Z"
   },
   {
    "duration": 1349,
    "start_time": "2022-05-06T12:11:58.135Z"
   },
   {
    "duration": 471,
    "start_time": "2022-05-06T12:11:59.487Z"
   },
   {
    "duration": 310,
    "start_time": "2022-05-06T12:11:59.959Z"
   },
   {
    "duration": 274,
    "start_time": "2022-05-06T12:12:00.271Z"
   },
   {
    "duration": 110,
    "start_time": "2022-05-06T12:12:00.547Z"
   },
   {
    "duration": 34,
    "start_time": "2022-05-06T12:12:00.659Z"
   },
   {
    "duration": 23,
    "start_time": "2022-05-06T12:12:00.696Z"
   },
   {
    "duration": 47,
    "start_time": "2022-05-06T12:12:00.721Z"
   },
   {
    "duration": 112,
    "start_time": "2022-05-06T12:12:00.770Z"
   },
   {
    "duration": 3,
    "start_time": "2022-05-06T12:12:00.884Z"
   },
   {
    "duration": 79,
    "start_time": "2022-05-06T12:12:00.889Z"
   },
   {
    "duration": 56,
    "start_time": "2022-05-06T12:12:00.970Z"
   },
   {
    "duration": 29,
    "start_time": "2022-05-06T12:12:01.028Z"
   },
   {
    "duration": 4,
    "start_time": "2022-05-06T12:12:01.060Z"
   },
   {
    "duration": 50,
    "start_time": "2022-05-06T12:12:01.066Z"
   },
   {
    "duration": 22,
    "start_time": "2022-05-06T12:12:01.118Z"
   },
   {
    "duration": 7,
    "start_time": "2022-05-06T12:12:01.142Z"
   },
   {
    "duration": 21,
    "start_time": "2022-05-06T12:12:01.151Z"
   },
   {
    "duration": 53,
    "start_time": "2022-05-06T12:12:01.175Z"
   },
   {
    "duration": 81,
    "start_time": "2022-05-06T12:12:01.230Z"
   },
   {
    "duration": 5,
    "start_time": "2022-05-06T12:12:06.324Z"
   },
   {
    "duration": 442,
    "start_time": "2022-05-06T12:12:06.557Z"
   },
   {
    "duration": 317,
    "start_time": "2022-05-06T12:12:07.001Z"
   },
   {
    "duration": 233,
    "start_time": "2022-05-06T12:12:07.320Z"
   },
   {
    "duration": 95,
    "start_time": "2022-05-06T12:12:07.616Z"
   },
   {
    "duration": 37,
    "start_time": "2022-05-06T12:12:07.820Z"
   },
   {
    "duration": 5,
    "start_time": "2022-05-06T12:12:08.109Z"
   },
   {
    "duration": 23,
    "start_time": "2022-05-06T12:12:08.340Z"
   },
   {
    "duration": 172,
    "start_time": "2022-05-06T12:12:08.772Z"
   },
   {
    "duration": 4,
    "start_time": "2022-05-06T12:12:08.983Z"
   },
   {
    "duration": 63,
    "start_time": "2022-05-06T12:12:09.172Z"
   },
   {
    "duration": 35,
    "start_time": "2022-05-06T12:12:09.568Z"
   },
   {
    "duration": 35,
    "start_time": "2022-05-06T12:12:09.797Z"
   },
   {
    "duration": 8,
    "start_time": "2022-05-06T12:12:10.127Z"
   },
   {
    "duration": 30,
    "start_time": "2022-05-06T12:12:10.368Z"
   },
   {
    "duration": 15,
    "start_time": "2022-05-06T12:12:10.818Z"
   },
   {
    "duration": 6,
    "start_time": "2022-05-06T12:12:11.341Z"
   },
   {
    "duration": 16,
    "start_time": "2022-05-06T12:12:11.582Z"
   },
   {
    "duration": 20,
    "start_time": "2022-05-06T12:12:11.765Z"
   },
   {
    "duration": 75,
    "start_time": "2022-05-06T12:12:12.149Z"
   },
   {
    "duration": 29,
    "start_time": "2022-05-06T12:12:37.349Z"
   },
   {
    "duration": 4,
    "start_time": "2022-05-06T12:13:05.301Z"
   },
   {
    "duration": 124,
    "start_time": "2022-05-06T12:17:57.771Z"
   },
   {
    "duration": 94,
    "start_time": "2022-05-06T12:18:14.665Z"
   },
   {
    "duration": 31,
    "start_time": "2022-05-06T12:18:30.347Z"
   },
   {
    "duration": 71,
    "start_time": "2022-05-06T16:37:24.231Z"
   },
   {
    "duration": 1878,
    "start_time": "2022-05-06T16:37:33.871Z"
   },
   {
    "duration": 524,
    "start_time": "2022-05-06T16:37:35.752Z"
   },
   {
    "duration": 365,
    "start_time": "2022-05-06T16:37:36.279Z"
   },
   {
    "duration": 347,
    "start_time": "2022-05-06T16:37:36.647Z"
   },
   {
    "duration": 134,
    "start_time": "2022-05-06T16:37:36.996Z"
   },
   {
    "duration": 52,
    "start_time": "2022-05-06T16:37:37.132Z"
   },
   {
    "duration": 5,
    "start_time": "2022-05-06T16:37:37.186Z"
   },
   {
    "duration": 49,
    "start_time": "2022-05-06T16:37:37.193Z"
   },
   {
    "duration": 162,
    "start_time": "2022-05-06T16:37:37.244Z"
   },
   {
    "duration": 4,
    "start_time": "2022-05-06T16:37:37.410Z"
   },
   {
    "duration": 99,
    "start_time": "2022-05-06T16:37:37.416Z"
   },
   {
    "duration": 48,
    "start_time": "2022-05-06T16:37:37.517Z"
   },
   {
    "duration": 35,
    "start_time": "2022-05-06T16:37:37.582Z"
   },
   {
    "duration": 5,
    "start_time": "2022-05-06T16:37:37.619Z"
   },
   {
    "duration": 68,
    "start_time": "2022-05-06T16:37:37.626Z"
   },
   {
    "duration": 14,
    "start_time": "2022-05-06T16:37:37.697Z"
   },
   {
    "duration": 8,
    "start_time": "2022-05-06T16:37:37.713Z"
   },
   {
    "duration": 24,
    "start_time": "2022-05-06T16:37:37.723Z"
   },
   {
    "duration": 57,
    "start_time": "2022-05-06T16:37:37.749Z"
   },
   {
    "duration": 5,
    "start_time": "2022-05-06T16:37:37.808Z"
   },
   {
    "duration": 125,
    "start_time": "2022-05-06T16:37:37.815Z"
   },
   {
    "duration": 48,
    "start_time": "2022-05-06T16:37:37.942Z"
   },
   {
    "duration": 156,
    "start_time": "2022-05-06T16:37:37.992Z"
   },
   {
    "duration": 5,
    "start_time": "2022-05-06T16:37:38.558Z"
   },
   {
    "duration": 501,
    "start_time": "2022-05-06T16:37:38.574Z"
   },
   {
    "duration": 365,
    "start_time": "2022-05-06T16:37:39.077Z"
   },
   {
    "duration": 329,
    "start_time": "2022-05-06T16:37:39.444Z"
   },
   {
    "duration": 132,
    "start_time": "2022-05-06T16:37:39.775Z"
   },
   {
    "duration": 37,
    "start_time": "2022-05-06T16:37:39.910Z"
   },
   {
    "duration": 5,
    "start_time": "2022-05-06T16:37:39.949Z"
   },
   {
    "duration": 58,
    "start_time": "2022-05-06T16:37:39.956Z"
   },
   {
    "duration": 207,
    "start_time": "2022-05-06T16:37:40.016Z"
   },
   {
    "duration": 4,
    "start_time": "2022-05-06T16:37:40.225Z"
   },
   {
    "duration": 92,
    "start_time": "2022-05-06T16:37:40.231Z"
   },
   {
    "duration": 58,
    "start_time": "2022-05-06T16:37:40.325Z"
   },
   {
    "duration": 35,
    "start_time": "2022-05-06T16:37:40.385Z"
   },
   {
    "duration": 5,
    "start_time": "2022-05-06T16:37:40.422Z"
   },
   {
    "duration": 66,
    "start_time": "2022-05-06T16:37:40.431Z"
   },
   {
    "duration": 13,
    "start_time": "2022-05-06T16:37:40.499Z"
   },
   {
    "duration": 7,
    "start_time": "2022-05-06T16:37:40.515Z"
   },
   {
    "duration": 19,
    "start_time": "2022-05-06T16:37:40.524Z"
   },
   {
    "duration": 60,
    "start_time": "2022-05-06T16:37:40.545Z"
   },
   {
    "duration": 7,
    "start_time": "2022-05-06T16:37:40.607Z"
   },
   {
    "duration": 127,
    "start_time": "2022-05-06T16:37:40.616Z"
   },
   {
    "duration": 48,
    "start_time": "2022-05-06T16:37:40.746Z"
   },
   {
    "duration": 14,
    "start_time": "2022-05-06T16:37:40.796Z"
   },
   {
    "duration": 15,
    "start_time": "2022-05-06T16:37:44.760Z"
   },
   {
    "duration": 14,
    "start_time": "2022-05-06T16:38:19.441Z"
   },
   {
    "duration": 16,
    "start_time": "2022-05-06T16:38:35.745Z"
   },
   {
    "duration": 15,
    "start_time": "2022-05-06T16:39:18.377Z"
   },
   {
    "duration": 17,
    "start_time": "2022-05-06T16:39:30.104Z"
   },
   {
    "duration": 24,
    "start_time": "2022-05-06T16:39:44.375Z"
   },
   {
    "duration": 36,
    "start_time": "2022-05-06T16:39:54.146Z"
   },
   {
    "duration": 15,
    "start_time": "2022-05-06T16:42:31.417Z"
   },
   {
    "duration": 42,
    "start_time": "2022-05-06T16:42:49.700Z"
   },
   {
    "duration": 41,
    "start_time": "2022-05-06T16:42:59.904Z"
   },
   {
    "duration": 41,
    "start_time": "2022-05-06T16:43:18.546Z"
   },
   {
    "duration": 40,
    "start_time": "2022-05-06T16:44:21.223Z"
   },
   {
    "duration": 14,
    "start_time": "2022-05-06T16:44:56.343Z"
   },
   {
    "duration": 39,
    "start_time": "2022-05-06T16:45:16.535Z"
   },
   {
    "duration": 11,
    "start_time": "2022-05-06T16:47:05.459Z"
   },
   {
    "duration": 19,
    "start_time": "2022-05-06T16:47:19.885Z"
   },
   {
    "duration": 43,
    "start_time": "2022-05-06T16:48:10.214Z"
   },
   {
    "duration": 22,
    "start_time": "2022-05-06T16:48:32.350Z"
   },
   {
    "duration": 20,
    "start_time": "2022-05-06T16:48:50.298Z"
   },
   {
    "duration": 20,
    "start_time": "2022-05-06T16:49:01.734Z"
   },
   {
    "duration": 2190,
    "start_time": "2022-05-06T16:50:58.365Z"
   },
   {
    "duration": 86,
    "start_time": "2022-05-06T16:52:42.939Z"
   },
   {
    "duration": 1600,
    "start_time": "2022-05-06T16:56:30.571Z"
   },
   {
    "duration": 1811,
    "start_time": "2022-05-06T16:58:06.963Z"
   },
   {
    "duration": 1795,
    "start_time": "2022-05-06T16:58:31.667Z"
   },
   {
    "duration": 96,
    "start_time": "2022-05-06T16:59:13.513Z"
   },
   {
    "duration": 22,
    "start_time": "2022-05-06T16:59:21.794Z"
   },
   {
    "duration": 1834,
    "start_time": "2022-05-06T16:59:52.696Z"
   },
   {
    "duration": 41,
    "start_time": "2022-05-06T17:00:31.889Z"
   },
   {
    "duration": 2655,
    "start_time": "2022-05-06T17:00:36.186Z"
   },
   {
    "duration": 4497,
    "start_time": "2022-05-06T17:00:56.721Z"
   },
   {
    "duration": 20,
    "start_time": "2022-05-06T17:06:52.898Z"
   },
   {
    "duration": 19,
    "start_time": "2022-05-06T17:07:29.584Z"
   },
   {
    "duration": 22,
    "start_time": "2022-05-06T17:08:32.656Z"
   },
   {
    "duration": 21,
    "start_time": "2022-05-06T17:08:36.783Z"
   },
   {
    "duration": 4968,
    "start_time": "2022-05-06T17:11:58.577Z"
   },
   {
    "duration": 4171,
    "start_time": "2022-05-06T17:12:43.635Z"
   },
   {
    "duration": 3486,
    "start_time": "2022-05-06T17:13:40.198Z"
   },
   {
    "duration": 3377,
    "start_time": "2022-05-06T17:14:18.015Z"
   },
   {
    "duration": 2890,
    "start_time": "2022-05-06T17:14:37.399Z"
   },
   {
    "duration": 2672,
    "start_time": "2022-05-06T17:15:25.750Z"
   },
   {
    "duration": 94,
    "start_time": "2022-05-06T17:26:11.853Z"
   },
   {
    "duration": 117,
    "start_time": "2022-05-06T17:26:31.397Z"
   },
   {
    "duration": 1900,
    "start_time": "2022-05-06T17:27:01.724Z"
   },
   {
    "duration": 22,
    "start_time": "2022-05-06T17:28:04.530Z"
   },
   {
    "duration": 1596,
    "start_time": "2022-05-06T17:28:49.967Z"
   },
   {
    "duration": 95,
    "start_time": "2022-05-06T17:29:33.194Z"
   },
   {
    "duration": 42,
    "start_time": "2022-05-06T17:29:42.121Z"
   },
   {
    "duration": 1517,
    "start_time": "2022-05-06T17:30:13.492Z"
   },
   {
    "duration": 514,
    "start_time": "2022-05-06T17:30:15.012Z"
   },
   {
    "duration": 338,
    "start_time": "2022-05-06T17:30:15.528Z"
   },
   {
    "duration": 348,
    "start_time": "2022-05-06T17:30:15.881Z"
   },
   {
    "duration": 134,
    "start_time": "2022-05-06T17:30:16.232Z"
   },
   {
    "duration": 48,
    "start_time": "2022-05-06T17:30:16.368Z"
   },
   {
    "duration": 5,
    "start_time": "2022-05-06T17:30:16.419Z"
   },
   {
    "duration": 59,
    "start_time": "2022-05-06T17:30:16.426Z"
   },
   {
    "duration": 148,
    "start_time": "2022-05-06T17:30:16.487Z"
   },
   {
    "duration": 5,
    "start_time": "2022-05-06T17:30:16.637Z"
   },
   {
    "duration": 94,
    "start_time": "2022-05-06T17:30:16.644Z"
   },
   {
    "duration": 58,
    "start_time": "2022-05-06T17:30:16.741Z"
   },
   {
    "duration": 33,
    "start_time": "2022-05-06T17:30:16.802Z"
   },
   {
    "duration": 6,
    "start_time": "2022-05-06T17:30:16.839Z"
   },
   {
    "duration": 70,
    "start_time": "2022-05-06T17:30:16.847Z"
   },
   {
    "duration": 16,
    "start_time": "2022-05-06T17:30:16.919Z"
   },
   {
    "duration": 8,
    "start_time": "2022-05-06T17:30:16.937Z"
   },
   {
    "duration": 48,
    "start_time": "2022-05-06T17:30:16.947Z"
   },
   {
    "duration": 27,
    "start_time": "2022-05-06T17:30:16.997Z"
   },
   {
    "duration": 6,
    "start_time": "2022-05-06T17:30:17.026Z"
   },
   {
    "duration": 138,
    "start_time": "2022-05-06T17:30:17.034Z"
   },
   {
    "duration": 37,
    "start_time": "2022-05-06T17:30:17.175Z"
   },
   {
    "duration": 73,
    "start_time": "2022-05-06T17:30:17.215Z"
   },
   {
    "duration": 23,
    "start_time": "2022-05-06T17:30:17.290Z"
   },
   {
    "duration": 199,
    "start_time": "2022-05-06T17:30:17.315Z"
   },
   {
    "duration": 0,
    "start_time": "2022-05-06T17:30:17.516Z"
   },
   {
    "duration": 0,
    "start_time": "2022-05-06T17:30:17.518Z"
   },
   {
    "duration": 4,
    "start_time": "2022-05-06T17:30:23.066Z"
   },
   {
    "duration": 493,
    "start_time": "2022-05-06T17:30:23.310Z"
   },
   {
    "duration": 351,
    "start_time": "2022-05-06T17:30:23.805Z"
   },
   {
    "duration": 356,
    "start_time": "2022-05-06T17:30:24.158Z"
   },
   {
    "duration": 141,
    "start_time": "2022-05-06T17:30:24.517Z"
   },
   {
    "duration": 45,
    "start_time": "2022-05-06T17:30:24.663Z"
   },
   {
    "duration": 5,
    "start_time": "2022-05-06T17:30:24.898Z"
   },
   {
    "duration": 30,
    "start_time": "2022-05-06T17:30:25.133Z"
   },
   {
    "duration": 263,
    "start_time": "2022-05-06T17:30:26.202Z"
   },
   {
    "duration": 14,
    "start_time": "2022-05-06T17:30:26.469Z"
   },
   {
    "duration": 117,
    "start_time": "2022-05-06T17:30:26.681Z"
   },
   {
    "duration": 79,
    "start_time": "2022-05-06T17:30:27.163Z"
   },
   {
    "duration": 38,
    "start_time": "2022-05-06T17:30:27.399Z"
   },
   {
    "duration": 6,
    "start_time": "2022-05-06T17:30:27.682Z"
   },
   {
    "duration": 63,
    "start_time": "2022-05-06T17:30:27.930Z"
   },
   {
    "duration": 17,
    "start_time": "2022-05-06T17:30:28.217Z"
   },
   {
    "duration": 11,
    "start_time": "2022-05-06T17:30:28.756Z"
   },
   {
    "duration": 28,
    "start_time": "2022-05-06T17:30:28.992Z"
   },
   {
    "duration": 27,
    "start_time": "2022-05-06T17:30:29.231Z"
   },
   {
    "duration": 6,
    "start_time": "2022-05-06T17:30:29.767Z"
   },
   {
    "duration": 99,
    "start_time": "2022-05-06T17:30:30.018Z"
   },
   {
    "duration": 35,
    "start_time": "2022-05-06T17:30:30.271Z"
   },
   {
    "duration": 42,
    "start_time": "2022-05-06T17:30:31.464Z"
   },
   {
    "duration": 21,
    "start_time": "2022-05-06T17:30:31.722Z"
   },
   {
    "duration": 43,
    "start_time": "2022-05-06T17:30:32.008Z"
   },
   {
    "duration": 23,
    "start_time": "2022-05-06T17:31:04.937Z"
   },
   {
    "duration": 11,
    "start_time": "2022-05-06T17:31:16.682Z"
   },
   {
    "duration": 16,
    "start_time": "2022-05-06T17:32:34.898Z"
   },
   {
    "duration": 31,
    "start_time": "2022-05-06T17:34:07.455Z"
   },
   {
    "duration": 35,
    "start_time": "2022-05-06T17:35:13.271Z"
   },
   {
    "duration": 30,
    "start_time": "2022-05-06T17:35:24.023Z"
   },
   {
    "duration": 26,
    "start_time": "2022-05-06T17:36:43.671Z"
   },
   {
    "duration": 26,
    "start_time": "2022-05-06T17:36:59.958Z"
   },
   {
    "duration": 2698,
    "start_time": "2022-05-06T17:37:54.374Z"
   },
   {
    "duration": 2933,
    "start_time": "2022-05-06T17:39:33.494Z"
   },
   {
    "duration": 2729,
    "start_time": "2022-05-07T13:14:31.702Z"
   },
   {
    "duration": 784,
    "start_time": "2022-05-07T13:14:34.435Z"
   },
   {
    "duration": 563,
    "start_time": "2022-05-07T13:14:35.223Z"
   },
   {
    "duration": 566,
    "start_time": "2022-05-07T13:14:35.790Z"
   },
   {
    "duration": 229,
    "start_time": "2022-05-07T13:14:36.360Z"
   },
   {
    "duration": 75,
    "start_time": "2022-05-07T13:14:36.592Z"
   },
   {
    "duration": 7,
    "start_time": "2022-05-07T13:14:36.682Z"
   },
   {
    "duration": 59,
    "start_time": "2022-05-07T13:14:36.692Z"
   },
   {
    "duration": 229,
    "start_time": "2022-05-07T13:14:36.754Z"
   },
   {
    "duration": 5,
    "start_time": "2022-05-07T13:14:36.990Z"
   },
   {
    "duration": 170,
    "start_time": "2022-05-07T13:14:36.998Z"
   },
   {
    "duration": 58,
    "start_time": "2022-05-07T13:14:37.171Z"
   },
   {
    "duration": 73,
    "start_time": "2022-05-07T13:14:37.231Z"
   },
   {
    "duration": 6,
    "start_time": "2022-05-07T13:14:37.306Z"
   },
   {
    "duration": 66,
    "start_time": "2022-05-07T13:14:37.315Z"
   },
   {
    "duration": 16,
    "start_time": "2022-05-07T13:14:37.383Z"
   },
   {
    "duration": 8,
    "start_time": "2022-05-07T13:14:37.402Z"
   },
   {
    "duration": 25,
    "start_time": "2022-05-07T13:14:37.413Z"
   },
   {
    "duration": 62,
    "start_time": "2022-05-07T13:14:37.441Z"
   },
   {
    "duration": 6,
    "start_time": "2022-05-07T13:14:37.506Z"
   },
   {
    "duration": 122,
    "start_time": "2022-05-07T13:14:37.515Z"
   },
   {
    "duration": 47,
    "start_time": "2022-05-07T13:14:37.640Z"
   },
   {
    "duration": 63,
    "start_time": "2022-05-07T13:14:37.690Z"
   },
   {
    "duration": 59,
    "start_time": "2022-05-07T13:14:37.756Z"
   },
   {
    "duration": 110,
    "start_time": "2022-05-07T13:14:37.818Z"
   },
   {
    "duration": 0,
    "start_time": "2022-05-07T13:14:37.930Z"
   },
   {
    "duration": 0,
    "start_time": "2022-05-07T13:14:37.932Z"
   },
   {
    "duration": 4,
    "start_time": "2022-05-07T13:14:52.085Z"
   },
   {
    "duration": 816,
    "start_time": "2022-05-07T13:14:52.508Z"
   },
   {
    "duration": 569,
    "start_time": "2022-05-07T13:14:53.328Z"
   },
   {
    "duration": 448,
    "start_time": "2022-05-07T13:14:53.900Z"
   },
   {
    "duration": 196,
    "start_time": "2022-05-07T13:14:55.077Z"
   },
   {
    "duration": 36,
    "start_time": "2022-05-07T13:14:56.116Z"
   },
   {
    "duration": 13,
    "start_time": "2022-05-07T13:14:56.872Z"
   },
   {
    "duration": 31,
    "start_time": "2022-05-07T13:14:57.452Z"
   },
   {
    "duration": 202,
    "start_time": "2022-05-07T13:14:59.868Z"
   },
   {
    "duration": 5,
    "start_time": "2022-05-07T13:15:00.444Z"
   },
   {
    "duration": 78,
    "start_time": "2022-05-07T13:15:01.100Z"
   },
   {
    "duration": 48,
    "start_time": "2022-05-07T13:15:02.388Z"
   },
   {
    "duration": 35,
    "start_time": "2022-05-07T13:15:08.021Z"
   },
   {
    "duration": 5,
    "start_time": "2022-05-07T13:15:08.588Z"
   },
   {
    "duration": 41,
    "start_time": "2022-05-07T13:15:09.108Z"
   },
   {
    "duration": 14,
    "start_time": "2022-05-07T13:15:09.620Z"
   },
   {
    "duration": 8,
    "start_time": "2022-05-07T13:15:10.636Z"
   },
   {
    "duration": 21,
    "start_time": "2022-05-07T13:15:11.108Z"
   },
   {
    "duration": 29,
    "start_time": "2022-05-07T13:15:11.580Z"
   },
   {
    "duration": 5,
    "start_time": "2022-05-07T13:15:12.620Z"
   },
   {
    "duration": 165,
    "start_time": "2022-05-07T13:15:13.163Z"
   },
   {
    "duration": 84,
    "start_time": "2022-05-07T13:15:13.777Z"
   },
   {
    "duration": 40,
    "start_time": "2022-05-07T13:15:16.886Z"
   },
   {
    "duration": 30,
    "start_time": "2022-05-07T13:15:17.460Z"
   },
   {
    "duration": 100,
    "start_time": "2022-05-07T13:15:18.019Z"
   },
   {
    "duration": 151,
    "start_time": "2022-05-07T13:15:23.924Z"
   },
   {
    "duration": 33,
    "start_time": "2022-05-07T13:16:38.508Z"
   },
   {
    "duration": 14,
    "start_time": "2022-05-07T13:18:25.936Z"
   },
   {
    "duration": 28,
    "start_time": "2022-05-07T13:21:45.780Z"
   },
   {
    "duration": 123,
    "start_time": "2022-05-07T13:25:34.303Z"
   },
   {
    "duration": 104,
    "start_time": "2022-05-07T13:26:02.913Z"
   },
   {
    "duration": 5,
    "start_time": "2022-05-07T13:26:08.808Z"
   },
   {
    "duration": 13,
    "start_time": "2022-05-07T13:26:42.761Z"
   },
   {
    "duration": 1273,
    "start_time": "2022-05-07T13:26:47.855Z"
   },
   {
    "duration": 11,
    "start_time": "2022-05-07T13:27:40.991Z"
   },
   {
    "duration": 6,
    "start_time": "2022-05-07T13:28:07.362Z"
   },
   {
    "duration": 1678,
    "start_time": "2022-05-07T13:28:08.040Z"
   },
   {
    "duration": 6,
    "start_time": "2022-05-07T13:28:56.768Z"
   },
   {
    "duration": 4,
    "start_time": "2022-05-07T13:29:14.676Z"
   },
   {
    "duration": 1498,
    "start_time": "2022-05-07T13:29:24.572Z"
   },
   {
    "duration": 16,
    "start_time": "2022-05-07T13:29:36.640Z"
   },
   {
    "duration": 12,
    "start_time": "2022-05-07T13:32:30.008Z"
   },
   {
    "duration": 17,
    "start_time": "2022-05-07T13:32:45.089Z"
   },
   {
    "duration": 5,
    "start_time": "2022-05-07T13:33:58.208Z"
   },
   {
    "duration": 1487,
    "start_time": "2022-05-07T13:33:59.077Z"
   },
   {
    "duration": 1218,
    "start_time": "2022-05-07T13:34:29.473Z"
   },
   {
    "duration": 128,
    "start_time": "2022-05-07T13:34:41.614Z"
   },
   {
    "duration": 1227,
    "start_time": "2022-05-07T13:34:43.263Z"
   },
   {
    "duration": 17,
    "start_time": "2022-05-07T13:35:49.127Z"
   },
   {
    "duration": 31,
    "start_time": "2022-05-07T13:36:02.038Z"
   },
   {
    "duration": 13,
    "start_time": "2022-05-07T13:36:28.791Z"
   },
   {
    "duration": 2500,
    "start_time": "2022-05-07T13:36:40.038Z"
   },
   {
    "duration": 1104,
    "start_time": "2022-05-07T13:37:06.632Z"
   },
   {
    "duration": 4,
    "start_time": "2022-05-07T13:39:25.328Z"
   },
   {
    "duration": 30,
    "start_time": "2022-05-07T13:39:30.183Z"
   },
   {
    "duration": 4,
    "start_time": "2022-05-07T13:39:33.447Z"
   },
   {
    "duration": 47,
    "start_time": "2022-05-07T13:39:47.455Z"
   },
   {
    "duration": 29,
    "start_time": "2022-05-07T13:39:58.374Z"
   },
   {
    "duration": 3,
    "start_time": "2022-05-07T13:40:09.519Z"
   },
   {
    "duration": 22,
    "start_time": "2022-05-07T13:41:42.225Z"
   },
   {
    "duration": 24,
    "start_time": "2022-05-07T13:41:49.854Z"
   },
   {
    "duration": 32,
    "start_time": "2022-05-07T13:42:11.461Z"
   },
   {
    "duration": 66,
    "start_time": "2022-05-07T13:43:20.959Z"
   },
   {
    "duration": 11,
    "start_time": "2022-05-07T13:43:28.189Z"
   },
   {
    "duration": 56,
    "start_time": "2022-05-07T13:43:54.182Z"
   },
   {
    "duration": 42,
    "start_time": "2022-05-07T13:44:11.069Z"
   },
   {
    "duration": 102,
    "start_time": "2022-05-07T13:44:51.999Z"
   },
   {
    "duration": 58,
    "start_time": "2022-05-07T13:45:18.636Z"
   },
   {
    "duration": 56,
    "start_time": "2022-05-07T13:46:24.613Z"
   },
   {
    "duration": 94,
    "start_time": "2022-05-07T13:52:26.960Z"
   },
   {
    "duration": 65,
    "start_time": "2022-05-07T13:52:33.775Z"
   },
   {
    "duration": 37,
    "start_time": "2022-05-07T13:52:41.173Z"
   },
   {
    "duration": 8,
    "start_time": "2022-05-07T13:53:30.835Z"
   },
   {
    "duration": 98,
    "start_time": "2022-05-07T13:55:35.084Z"
   },
   {
    "duration": 102,
    "start_time": "2022-05-07T13:56:00.219Z"
   },
   {
    "duration": 94,
    "start_time": "2022-05-07T13:56:06.915Z"
   },
   {
    "duration": 229,
    "start_time": "2022-05-07T13:58:24.357Z"
   },
   {
    "duration": 1890,
    "start_time": "2022-05-07T13:58:32.953Z"
   },
   {
    "duration": 8,
    "start_time": "2022-05-07T13:59:13.827Z"
   },
   {
    "duration": 13,
    "start_time": "2022-05-07T14:00:20.321Z"
   },
   {
    "duration": 16,
    "start_time": "2022-05-07T14:01:02.729Z"
   },
   {
    "duration": 21,
    "start_time": "2022-05-07T14:02:24.193Z"
   },
   {
    "duration": 18,
    "start_time": "2022-05-07T14:02:39.329Z"
   },
   {
    "duration": 1519,
    "start_time": "2022-05-07T14:03:19.765Z"
   },
   {
    "duration": 19,
    "start_time": "2022-05-07T14:03:39.754Z"
   },
   {
    "duration": 18,
    "start_time": "2022-05-07T14:03:56.409Z"
   },
   {
    "duration": 23,
    "start_time": "2022-05-07T14:09:47.678Z"
   },
   {
    "duration": 13,
    "start_time": "2022-05-07T14:09:59.365Z"
   },
   {
    "duration": 1903,
    "start_time": "2022-05-07T14:10:21.320Z"
   },
   {
    "duration": 4,
    "start_time": "2022-05-07T14:12:37.077Z"
   },
   {
    "duration": 4,
    "start_time": "2022-05-07T14:12:47.334Z"
   },
   {
    "duration": 140,
    "start_time": "2022-05-07T14:15:02.950Z"
   },
   {
    "duration": 13,
    "start_time": "2022-05-07T14:15:12.155Z"
   },
   {
    "duration": 433,
    "start_time": "2022-05-07T14:15:37.774Z"
   },
   {
    "duration": 26,
    "start_time": "2022-05-07T14:18:14.035Z"
   },
   {
    "duration": 36,
    "start_time": "2022-05-07T14:18:24.049Z"
   },
   {
    "duration": 43,
    "start_time": "2022-05-07T14:18:28.834Z"
   },
   {
    "duration": 40,
    "start_time": "2022-05-07T14:19:22.712Z"
   },
   {
    "duration": 15,
    "start_time": "2022-05-07T14:21:43.752Z"
   },
   {
    "duration": 19,
    "start_time": "2022-05-07T14:23:01.553Z"
   },
   {
    "duration": 10,
    "start_time": "2022-05-07T14:23:29.728Z"
   },
   {
    "duration": 15,
    "start_time": "2022-05-07T14:23:34.648Z"
   },
   {
    "duration": 13,
    "start_time": "2022-05-07T14:24:02.454Z"
   },
   {
    "duration": 22,
    "start_time": "2022-05-07T14:24:08.603Z"
   },
   {
    "duration": 10,
    "start_time": "2022-05-07T14:25:36.185Z"
   },
   {
    "duration": 9,
    "start_time": "2022-05-07T14:26:14.830Z"
   },
   {
    "duration": 9,
    "start_time": "2022-05-07T14:26:33.786Z"
   },
   {
    "duration": 10,
    "start_time": "2022-05-07T14:26:47.391Z"
   },
   {
    "duration": 13,
    "start_time": "2022-05-07T14:28:24.715Z"
   },
   {
    "duration": 17,
    "start_time": "2022-05-07T14:30:43.839Z"
   },
   {
    "duration": 24,
    "start_time": "2022-05-07T14:31:26.379Z"
   },
   {
    "duration": 17,
    "start_time": "2022-05-07T14:33:06.132Z"
   },
   {
    "duration": 79,
    "start_time": "2022-05-07T14:33:14.274Z"
   },
   {
    "duration": 9,
    "start_time": "2022-05-07T14:36:00.410Z"
   },
   {
    "duration": 9,
    "start_time": "2022-05-07T14:37:22.934Z"
   },
   {
    "duration": 12,
    "start_time": "2022-05-07T14:38:31.237Z"
   },
   {
    "duration": 11,
    "start_time": "2022-05-07T14:39:03.951Z"
   },
   {
    "duration": 23,
    "start_time": "2022-05-07T14:40:15.933Z"
   },
   {
    "duration": 29,
    "start_time": "2022-05-07T14:40:53.228Z"
   },
   {
    "duration": 24,
    "start_time": "2022-05-07T14:40:54.533Z"
   },
   {
    "duration": 18,
    "start_time": "2022-05-07T14:42:58.042Z"
   },
   {
    "duration": 9,
    "start_time": "2022-05-07T14:44:28.114Z"
   },
   {
    "duration": 15,
    "start_time": "2022-05-07T14:44:40.599Z"
   },
   {
    "duration": 11,
    "start_time": "2022-05-07T14:44:45.946Z"
   },
   {
    "duration": 18,
    "start_time": "2022-05-07T14:45:36.419Z"
   },
   {
    "duration": 26,
    "start_time": "2022-05-07T14:45:43.307Z"
   },
   {
    "duration": 13,
    "start_time": "2022-05-07T14:46:12.261Z"
   },
   {
    "duration": 11,
    "start_time": "2022-05-07T14:46:16.810Z"
   },
   {
    "duration": 19,
    "start_time": "2022-05-07T14:46:19.274Z"
   },
   {
    "duration": 21,
    "start_time": "2022-05-07T14:46:19.938Z"
   },
   {
    "duration": 23,
    "start_time": "2022-05-07T14:46:20.609Z"
   },
   {
    "duration": 2287,
    "start_time": "2022-05-07T14:55:43.058Z"
   },
   {
    "duration": 2291,
    "start_time": "2022-05-07T14:56:27.896Z"
   },
   {
    "duration": 2396,
    "start_time": "2022-05-07T14:56:49.416Z"
   },
   {
    "duration": 3809,
    "start_time": "2022-05-07T14:57:52.808Z"
   },
   {
    "duration": 2810,
    "start_time": "2022-05-07T14:58:40.028Z"
   },
   {
    "duration": 2657,
    "start_time": "2022-05-07T14:58:52.416Z"
   },
   {
    "duration": 2608,
    "start_time": "2022-05-07T15:01:00.951Z"
   },
   {
    "duration": 2886,
    "start_time": "2022-05-07T15:01:14.072Z"
   },
   {
    "duration": 1287,
    "start_time": "2022-05-08T11:50:45.558Z"
   },
   {
    "duration": 374,
    "start_time": "2022-05-08T11:50:46.847Z"
   },
   {
    "duration": 245,
    "start_time": "2022-05-08T11:50:47.223Z"
   },
   {
    "duration": 227,
    "start_time": "2022-05-08T11:50:47.470Z"
   },
   {
    "duration": 96,
    "start_time": "2022-05-08T11:50:47.699Z"
   },
   {
    "duration": 27,
    "start_time": "2022-05-08T11:50:47.797Z"
   },
   {
    "duration": 21,
    "start_time": "2022-05-08T11:50:47.826Z"
   },
   {
    "duration": 28,
    "start_time": "2022-05-08T11:50:47.849Z"
   },
   {
    "duration": 107,
    "start_time": "2022-05-08T11:50:47.879Z"
   },
   {
    "duration": 3,
    "start_time": "2022-05-08T11:50:47.988Z"
   },
   {
    "duration": 70,
    "start_time": "2022-05-08T11:50:47.993Z"
   },
   {
    "duration": 30,
    "start_time": "2022-05-08T11:50:48.067Z"
   },
   {
    "duration": 20,
    "start_time": "2022-05-08T11:50:48.099Z"
   },
   {
    "duration": 4,
    "start_time": "2022-05-08T11:50:48.122Z"
   },
   {
    "duration": 46,
    "start_time": "2022-05-08T11:50:48.127Z"
   },
   {
    "duration": 10,
    "start_time": "2022-05-08T11:50:48.176Z"
   },
   {
    "duration": 6,
    "start_time": "2022-05-08T11:50:48.188Z"
   },
   {
    "duration": 15,
    "start_time": "2022-05-08T11:50:48.196Z"
   },
   {
    "duration": 58,
    "start_time": "2022-05-08T11:50:48.212Z"
   },
   {
    "duration": 3,
    "start_time": "2022-05-08T11:50:48.272Z"
   },
   {
    "duration": 55,
    "start_time": "2022-05-08T11:50:48.277Z"
   },
   {
    "duration": 38,
    "start_time": "2022-05-08T11:50:48.333Z"
   },
   {
    "duration": 25,
    "start_time": "2022-05-08T11:50:48.373Z"
   },
   {
    "duration": 18,
    "start_time": "2022-05-08T11:50:48.399Z"
   },
   {
    "duration": 123,
    "start_time": "2022-05-08T11:50:48.418Z"
   },
   {
    "duration": 0,
    "start_time": "2022-05-08T11:50:48.548Z"
   },
   {
    "duration": 0,
    "start_time": "2022-05-08T11:50:48.549Z"
   },
   {
    "duration": 0,
    "start_time": "2022-05-08T11:50:48.550Z"
   },
   {
    "duration": 0,
    "start_time": "2022-05-08T11:50:48.550Z"
   },
   {
    "duration": 0,
    "start_time": "2022-05-08T11:50:48.551Z"
   },
   {
    "duration": 0,
    "start_time": "2022-05-08T11:50:48.552Z"
   },
   {
    "duration": 0,
    "start_time": "2022-05-08T11:50:48.553Z"
   },
   {
    "duration": 0,
    "start_time": "2022-05-08T11:50:48.554Z"
   },
   {
    "duration": 3,
    "start_time": "2022-05-08T11:50:51.781Z"
   },
   {
    "duration": 370,
    "start_time": "2022-05-08T11:50:51.786Z"
   },
   {
    "duration": 231,
    "start_time": "2022-05-08T11:50:52.158Z"
   },
   {
    "duration": 201,
    "start_time": "2022-05-08T11:50:52.391Z"
   },
   {
    "duration": 91,
    "start_time": "2022-05-08T11:50:52.595Z"
   },
   {
    "duration": 25,
    "start_time": "2022-05-08T11:50:52.688Z"
   },
   {
    "duration": 4,
    "start_time": "2022-05-08T11:50:52.714Z"
   },
   {
    "duration": 43,
    "start_time": "2022-05-08T11:50:52.719Z"
   },
   {
    "duration": 149,
    "start_time": "2022-05-08T11:50:52.764Z"
   },
   {
    "duration": 4,
    "start_time": "2022-05-08T11:50:52.914Z"
   },
   {
    "duration": 64,
    "start_time": "2022-05-08T11:50:52.920Z"
   },
   {
    "duration": 28,
    "start_time": "2022-05-08T11:50:52.986Z"
   },
   {
    "duration": 46,
    "start_time": "2022-05-08T11:50:53.016Z"
   },
   {
    "duration": 4,
    "start_time": "2022-05-08T11:50:53.065Z"
   },
   {
    "duration": 27,
    "start_time": "2022-05-08T11:50:53.070Z"
   },
   {
    "duration": 10,
    "start_time": "2022-05-08T11:50:53.098Z"
   },
   {
    "duration": 13,
    "start_time": "2022-05-08T11:50:53.110Z"
   },
   {
    "duration": 38,
    "start_time": "2022-05-08T11:50:53.124Z"
   },
   {
    "duration": 23,
    "start_time": "2022-05-08T11:50:53.163Z"
   },
   {
    "duration": 4,
    "start_time": "2022-05-08T11:50:53.188Z"
   },
   {
    "duration": 70,
    "start_time": "2022-05-08T11:50:53.193Z"
   },
   {
    "duration": 19,
    "start_time": "2022-05-08T11:50:53.265Z"
   },
   {
    "duration": 24,
    "start_time": "2022-05-08T11:50:53.286Z"
   },
   {
    "duration": 42,
    "start_time": "2022-05-08T11:50:53.311Z"
   },
   {
    "duration": 10,
    "start_time": "2022-05-08T11:50:53.354Z"
   },
   {
    "duration": 0,
    "start_time": "2022-05-08T11:50:53.365Z"
   },
   {
    "duration": 0,
    "start_time": "2022-05-08T11:50:53.367Z"
   },
   {
    "duration": 0,
    "start_time": "2022-05-08T11:50:53.368Z"
   },
   {
    "duration": 0,
    "start_time": "2022-05-08T11:50:53.369Z"
   },
   {
    "duration": 0,
    "start_time": "2022-05-08T11:50:53.370Z"
   },
   {
    "duration": 0,
    "start_time": "2022-05-08T11:50:53.372Z"
   },
   {
    "duration": 0,
    "start_time": "2022-05-08T11:50:53.373Z"
   },
   {
    "duration": 0,
    "start_time": "2022-05-08T11:50:53.374Z"
   },
   {
    "duration": 10,
    "start_time": "2022-05-08T11:51:44.830Z"
   },
   {
    "duration": 3,
    "start_time": "2022-05-08T11:52:07.388Z"
   },
   {
    "duration": 356,
    "start_time": "2022-05-08T11:52:07.959Z"
   },
   {
    "duration": 249,
    "start_time": "2022-05-08T11:52:08.512Z"
   },
   {
    "duration": 183,
    "start_time": "2022-05-08T11:52:09.076Z"
   },
   {
    "duration": 84,
    "start_time": "2022-05-08T11:52:10.614Z"
   },
   {
    "duration": 28,
    "start_time": "2022-05-08T11:52:11.102Z"
   },
   {
    "duration": 5,
    "start_time": "2022-05-08T11:52:11.596Z"
   },
   {
    "duration": 21,
    "start_time": "2022-05-08T11:52:12.063Z"
   },
   {
    "duration": 91,
    "start_time": "2022-05-08T11:52:13.996Z"
   },
   {
    "duration": 4,
    "start_time": "2022-05-08T11:52:14.655Z"
   },
   {
    "duration": 49,
    "start_time": "2022-05-08T11:52:15.157Z"
   },
   {
    "duration": 91,
    "start_time": "2022-05-08T11:52:16.198Z"
   },
   {
    "duration": 26,
    "start_time": "2022-05-08T11:52:16.753Z"
   },
   {
    "duration": 4,
    "start_time": "2022-05-08T11:52:17.285Z"
   },
   {
    "duration": 27,
    "start_time": "2022-05-08T11:52:17.861Z"
   },
   {
    "duration": 9,
    "start_time": "2022-05-08T11:52:18.411Z"
   },
   {
    "duration": 6,
    "start_time": "2022-05-08T11:52:19.514Z"
   },
   {
    "duration": 12,
    "start_time": "2022-05-08T11:52:20.025Z"
   },
   {
    "duration": 17,
    "start_time": "2022-05-08T11:52:20.553Z"
   },
   {
    "duration": 5,
    "start_time": "2022-05-08T11:52:21.594Z"
   },
   {
    "duration": 57,
    "start_time": "2022-05-08T11:52:22.155Z"
   },
   {
    "duration": 25,
    "start_time": "2022-05-08T11:52:22.740Z"
   },
   {
    "duration": 28,
    "start_time": "2022-05-08T11:52:25.156Z"
   },
   {
    "duration": 18,
    "start_time": "2022-05-08T11:52:25.722Z"
   },
   {
    "duration": 8,
    "start_time": "2022-05-08T11:52:26.779Z"
   },
   {
    "duration": 14,
    "start_time": "2022-05-08T11:52:27.338Z"
   },
   {
    "duration": 14,
    "start_time": "2022-05-08T11:52:27.853Z"
   },
   {
    "duration": 1679,
    "start_time": "2022-05-08T11:52:28.987Z"
   },
   {
    "duration": 6,
    "start_time": "2022-05-08T12:23:07.730Z"
   },
   {
    "duration": 3,
    "start_time": "2022-05-08T12:24:36.575Z"
   },
   {
    "duration": 14,
    "start_time": "2022-05-08T12:29:42.176Z"
   },
   {
    "duration": 10,
    "start_time": "2022-05-08T12:29:53.977Z"
   },
   {
    "duration": 7,
    "start_time": "2022-05-08T12:31:04.665Z"
   },
   {
    "duration": 15,
    "start_time": "2022-05-08T12:31:09.615Z"
   },
   {
    "duration": 12,
    "start_time": "2022-05-08T12:31:13.167Z"
   },
   {
    "duration": 1420,
    "start_time": "2022-05-08T12:31:21.464Z"
   },
   {
    "duration": 4,
    "start_time": "2022-05-08T12:31:28.672Z"
   },
   {
    "duration": 10,
    "start_time": "2022-05-08T12:46:08.473Z"
   },
   {
    "duration": 5,
    "start_time": "2022-05-08T12:48:33.748Z"
   },
   {
    "duration": 6,
    "start_time": "2022-05-08T12:48:40.813Z"
   },
   {
    "duration": 12,
    "start_time": "2022-05-08T12:48:45.023Z"
   },
   {
    "duration": 6,
    "start_time": "2022-05-08T12:50:36.149Z"
   },
   {
    "duration": 1097,
    "start_time": "2022-05-08T13:03:48.635Z"
   },
   {
    "duration": 373,
    "start_time": "2022-05-08T13:03:49.734Z"
   },
   {
    "duration": 257,
    "start_time": "2022-05-08T13:03:50.109Z"
   },
   {
    "duration": 221,
    "start_time": "2022-05-08T13:03:50.368Z"
   },
   {
    "duration": 95,
    "start_time": "2022-05-08T13:03:50.590Z"
   },
   {
    "duration": 27,
    "start_time": "2022-05-08T13:03:50.686Z"
   },
   {
    "duration": 3,
    "start_time": "2022-05-08T13:03:50.715Z"
   },
   {
    "duration": 48,
    "start_time": "2022-05-08T13:03:50.720Z"
   },
   {
    "duration": 104,
    "start_time": "2022-05-08T13:03:50.770Z"
   },
   {
    "duration": 3,
    "start_time": "2022-05-08T13:03:50.876Z"
   },
   {
    "duration": 53,
    "start_time": "2022-05-08T13:03:50.880Z"
   },
   {
    "duration": 48,
    "start_time": "2022-05-08T13:03:50.934Z"
   },
   {
    "duration": 20,
    "start_time": "2022-05-08T13:03:50.984Z"
   },
   {
    "duration": 3,
    "start_time": "2022-05-08T13:03:51.006Z"
   },
   {
    "duration": 60,
    "start_time": "2022-05-08T13:03:51.011Z"
   },
   {
    "duration": 11,
    "start_time": "2022-05-08T13:03:51.073Z"
   },
   {
    "duration": 6,
    "start_time": "2022-05-08T13:03:51.085Z"
   },
   {
    "duration": 16,
    "start_time": "2022-05-08T13:03:51.093Z"
   },
   {
    "duration": 4,
    "start_time": "2022-05-08T13:03:51.111Z"
   },
   {
    "duration": 81,
    "start_time": "2022-05-08T13:03:51.117Z"
   },
   {
    "duration": 12,
    "start_time": "2022-05-08T13:03:51.200Z"
   },
   {
    "duration": 50,
    "start_time": "2022-05-08T13:03:51.214Z"
   },
   {
    "duration": 34,
    "start_time": "2022-05-08T13:03:51.266Z"
   },
   {
    "duration": 47,
    "start_time": "2022-05-08T13:03:51.302Z"
   },
   {
    "duration": 8,
    "start_time": "2022-05-08T13:03:51.353Z"
   },
   {
    "duration": 15,
    "start_time": "2022-05-08T13:03:51.363Z"
   },
   {
    "duration": 12,
    "start_time": "2022-05-08T13:03:51.380Z"
   },
   {
    "duration": 1512,
    "start_time": "2022-05-08T13:03:51.396Z"
   },
   {
    "duration": 6,
    "start_time": "2022-05-08T13:03:52.910Z"
   },
   {
    "duration": 12,
    "start_time": "2022-05-08T13:03:52.918Z"
   },
   {
    "duration": 3,
    "start_time": "2022-05-08T13:04:01.059Z"
   },
   {
    "duration": 366,
    "start_time": "2022-05-08T13:04:01.561Z"
   },
   {
    "duration": 225,
    "start_time": "2022-05-08T13:04:02.186Z"
   },
   {
    "duration": 272,
    "start_time": "2022-05-08T13:04:02.649Z"
   },
   {
    "duration": 82,
    "start_time": "2022-05-08T13:04:04.040Z"
   },
   {
    "duration": 27,
    "start_time": "2022-05-08T13:04:04.568Z"
   },
   {
    "duration": 4,
    "start_time": "2022-05-08T13:04:05.081Z"
   },
   {
    "duration": 22,
    "start_time": "2022-05-08T13:04:05.601Z"
   },
   {
    "duration": 182,
    "start_time": "2022-05-08T13:04:07.976Z"
   },
   {
    "duration": 3,
    "start_time": "2022-05-08T13:04:08.561Z"
   },
   {
    "duration": 49,
    "start_time": "2022-05-08T13:04:09.393Z"
   },
   {
    "duration": 32,
    "start_time": "2022-05-08T13:04:11.201Z"
   },
   {
    "duration": 21,
    "start_time": "2022-05-08T13:04:11.801Z"
   },
   {
    "duration": 4,
    "start_time": "2022-05-08T13:04:12.392Z"
   },
   {
    "duration": 25,
    "start_time": "2022-05-08T13:04:12.993Z"
   },
   {
    "duration": 9,
    "start_time": "2022-05-08T13:04:13.532Z"
   },
   {
    "duration": 6,
    "start_time": "2022-05-08T13:04:15.537Z"
   },
   {
    "duration": 16,
    "start_time": "2022-05-08T13:04:16.120Z"
   },
   {
    "duration": 3,
    "start_time": "2022-05-08T13:04:17.832Z"
   },
   {
    "duration": 60,
    "start_time": "2022-05-08T13:04:19.016Z"
   },
   {
    "duration": 14,
    "start_time": "2022-05-08T13:04:19.874Z"
   },
   {
    "duration": 20,
    "start_time": "2022-05-08T13:04:20.693Z"
   },
   {
    "duration": 25,
    "start_time": "2022-05-08T13:04:23.201Z"
   },
   {
    "duration": 19,
    "start_time": "2022-05-08T13:04:23.866Z"
   },
   {
    "duration": 10,
    "start_time": "2022-05-08T13:04:25.096Z"
   },
   {
    "duration": 15,
    "start_time": "2022-05-08T13:04:25.965Z"
   },
   {
    "duration": 13,
    "start_time": "2022-05-08T13:04:26.600Z"
   },
   {
    "duration": 1812,
    "start_time": "2022-05-08T13:04:28.344Z"
   },
   {
    "duration": 5,
    "start_time": "2022-05-08T13:04:31.696Z"
   },
   {
    "duration": 11,
    "start_time": "2022-05-08T13:04:35.072Z"
   },
   {
    "duration": 1176,
    "start_time": "2022-05-08T13:05:30.155Z"
   },
   {
    "duration": 373,
    "start_time": "2022-05-08T13:05:31.334Z"
   },
   {
    "duration": 263,
    "start_time": "2022-05-08T13:05:31.711Z"
   },
   {
    "duration": 299,
    "start_time": "2022-05-08T13:05:31.976Z"
   },
   {
    "duration": 89,
    "start_time": "2022-05-08T13:05:32.277Z"
   },
   {
    "duration": 42,
    "start_time": "2022-05-08T13:05:32.368Z"
   },
   {
    "duration": 4,
    "start_time": "2022-05-08T13:05:32.413Z"
   },
   {
    "duration": 50,
    "start_time": "2022-05-08T13:05:32.418Z"
   },
   {
    "duration": 136,
    "start_time": "2022-05-08T13:05:32.472Z"
   },
   {
    "duration": 4,
    "start_time": "2022-05-08T13:05:32.609Z"
   },
   {
    "duration": 79,
    "start_time": "2022-05-08T13:05:32.615Z"
   },
   {
    "duration": 29,
    "start_time": "2022-05-08T13:05:32.696Z"
   },
   {
    "duration": 37,
    "start_time": "2022-05-08T13:05:32.728Z"
   },
   {
    "duration": 5,
    "start_time": "2022-05-08T13:05:32.768Z"
   },
   {
    "duration": 27,
    "start_time": "2022-05-08T13:05:32.774Z"
   },
   {
    "duration": 8,
    "start_time": "2022-05-08T13:05:32.803Z"
   },
   {
    "duration": 39,
    "start_time": "2022-05-08T13:05:32.813Z"
   },
   {
    "duration": 21,
    "start_time": "2022-05-08T13:05:32.858Z"
   },
   {
    "duration": 5,
    "start_time": "2022-05-08T13:05:32.881Z"
   },
   {
    "duration": 74,
    "start_time": "2022-05-08T13:05:32.888Z"
   },
   {
    "duration": 13,
    "start_time": "2022-05-08T13:05:32.964Z"
   },
   {
    "duration": 20,
    "start_time": "2022-05-08T13:05:32.979Z"
   },
   {
    "duration": 25,
    "start_time": "2022-05-08T13:05:33.000Z"
   },
   {
    "duration": 42,
    "start_time": "2022-05-08T13:05:33.027Z"
   },
   {
    "duration": 7,
    "start_time": "2022-05-08T13:05:33.071Z"
   },
   {
    "duration": 16,
    "start_time": "2022-05-08T13:05:33.080Z"
   },
   {
    "duration": 12,
    "start_time": "2022-05-08T13:05:33.098Z"
   },
   {
    "duration": 1698,
    "start_time": "2022-05-08T13:05:33.112Z"
   },
   {
    "duration": 5,
    "start_time": "2022-05-08T13:05:34.812Z"
   },
   {
    "duration": 12,
    "start_time": "2022-05-08T13:05:34.819Z"
   },
   {
    "duration": 1383,
    "start_time": "2022-05-09T13:36:58.690Z"
   },
   {
    "duration": 727,
    "start_time": "2022-05-09T13:37:00.075Z"
   },
   {
    "duration": 328,
    "start_time": "2022-05-09T13:37:00.804Z"
   },
   {
    "duration": 243,
    "start_time": "2022-05-09T13:37:01.134Z"
   },
   {
    "duration": 76,
    "start_time": "2022-05-09T13:37:01.378Z"
   },
   {
    "duration": 40,
    "start_time": "2022-05-09T13:37:01.456Z"
   },
   {
    "duration": 5,
    "start_time": "2022-05-09T13:37:01.498Z"
   },
   {
    "duration": 33,
    "start_time": "2022-05-09T13:37:01.504Z"
   },
   {
    "duration": 114,
    "start_time": "2022-05-09T13:37:01.539Z"
   },
   {
    "duration": 3,
    "start_time": "2022-05-09T13:37:01.657Z"
   },
   {
    "duration": 98,
    "start_time": "2022-05-09T13:37:01.662Z"
   },
   {
    "duration": 36,
    "start_time": "2022-05-09T13:37:01.762Z"
   },
   {
    "duration": 22,
    "start_time": "2022-05-09T13:37:01.800Z"
   },
   {
    "duration": 4,
    "start_time": "2022-05-09T13:37:01.824Z"
   },
   {
    "duration": 52,
    "start_time": "2022-05-09T13:37:01.829Z"
   },
   {
    "duration": 10,
    "start_time": "2022-05-09T13:37:01.882Z"
   },
   {
    "duration": 8,
    "start_time": "2022-05-09T13:37:01.893Z"
   },
   {
    "duration": 20,
    "start_time": "2022-05-09T13:37:01.903Z"
   },
   {
    "duration": 11,
    "start_time": "2022-05-09T13:37:01.924Z"
   },
   {
    "duration": 76,
    "start_time": "2022-05-09T13:37:01.937Z"
   },
   {
    "duration": 13,
    "start_time": "2022-05-09T13:37:02.015Z"
   },
   {
    "duration": 27,
    "start_time": "2022-05-09T13:37:02.030Z"
   },
   {
    "duration": 39,
    "start_time": "2022-05-09T13:37:02.058Z"
   },
   {
    "duration": 18,
    "start_time": "2022-05-09T13:37:02.098Z"
   },
   {
    "duration": 16,
    "start_time": "2022-05-09T13:37:02.118Z"
   },
   {
    "duration": 19,
    "start_time": "2022-05-09T13:37:02.135Z"
   },
   {
    "duration": 29,
    "start_time": "2022-05-09T13:37:02.155Z"
   },
   {
    "duration": 1549,
    "start_time": "2022-05-09T13:37:02.187Z"
   },
   {
    "duration": 6,
    "start_time": "2022-05-09T13:37:03.737Z"
   },
   {
    "duration": 13,
    "start_time": "2022-05-09T13:37:03.744Z"
   },
   {
    "duration": 1112,
    "start_time": "2022-05-09T13:37:38.139Z"
   },
   {
    "duration": 352,
    "start_time": "2022-05-09T13:37:39.253Z"
   },
   {
    "duration": 227,
    "start_time": "2022-05-09T13:37:39.607Z"
   },
   {
    "duration": 379,
    "start_time": "2022-05-09T13:37:39.836Z"
   },
   {
    "duration": 185,
    "start_time": "2022-05-09T13:37:40.217Z"
   },
   {
    "duration": 82,
    "start_time": "2022-05-09T13:37:40.403Z"
   },
   {
    "duration": 4,
    "start_time": "2022-05-09T13:37:40.487Z"
   },
   {
    "duration": 84,
    "start_time": "2022-05-09T13:37:40.492Z"
   },
   {
    "duration": 142,
    "start_time": "2022-05-09T13:37:40.578Z"
   },
   {
    "duration": 4,
    "start_time": "2022-05-09T13:37:40.774Z"
   },
   {
    "duration": 108,
    "start_time": "2022-05-09T13:37:40.779Z"
   },
   {
    "duration": 85,
    "start_time": "2022-05-09T13:37:40.889Z"
   },
   {
    "duration": 22,
    "start_time": "2022-05-09T13:37:40.976Z"
   },
   {
    "duration": 4,
    "start_time": "2022-05-09T13:37:41.000Z"
   },
   {
    "duration": 80,
    "start_time": "2022-05-09T13:37:41.006Z"
   },
   {
    "duration": 8,
    "start_time": "2022-05-09T13:37:41.088Z"
   },
   {
    "duration": 5,
    "start_time": "2022-05-09T13:37:41.098Z"
   },
   {
    "duration": 70,
    "start_time": "2022-05-09T13:37:41.104Z"
   },
   {
    "duration": 4,
    "start_time": "2022-05-09T13:37:41.176Z"
   },
   {
    "duration": 106,
    "start_time": "2022-05-09T13:37:41.181Z"
   },
   {
    "duration": 13,
    "start_time": "2022-05-09T13:37:41.289Z"
   },
   {
    "duration": 73,
    "start_time": "2022-05-09T13:37:41.304Z"
   },
   {
    "duration": 26,
    "start_time": "2022-05-09T13:37:41.379Z"
   },
   {
    "duration": 72,
    "start_time": "2022-05-09T13:37:41.407Z"
   },
   {
    "duration": 7,
    "start_time": "2022-05-09T13:37:41.480Z"
   },
   {
    "duration": 15,
    "start_time": "2022-05-09T13:37:41.489Z"
   },
   {
    "duration": 11,
    "start_time": "2022-05-09T13:37:41.505Z"
   },
   {
    "duration": 1531,
    "start_time": "2022-05-09T13:37:41.517Z"
   },
   {
    "duration": 5,
    "start_time": "2022-05-09T13:37:43.050Z"
   },
   {
    "duration": 23,
    "start_time": "2022-05-09T13:37:43.056Z"
   },
   {
    "duration": 1107,
    "start_time": "2022-05-09T14:03:28.761Z"
   },
   {
    "duration": 370,
    "start_time": "2022-05-09T14:03:29.870Z"
   },
   {
    "duration": 248,
    "start_time": "2022-05-09T14:03:30.242Z"
   },
   {
    "duration": 225,
    "start_time": "2022-05-09T14:03:30.492Z"
   },
   {
    "duration": 86,
    "start_time": "2022-05-09T14:03:30.719Z"
   },
   {
    "duration": 29,
    "start_time": "2022-05-09T14:03:30.806Z"
   },
   {
    "duration": 4,
    "start_time": "2022-05-09T14:03:30.837Z"
   },
   {
    "duration": 46,
    "start_time": "2022-05-09T14:03:30.843Z"
   },
   {
    "duration": 101,
    "start_time": "2022-05-09T14:03:30.891Z"
   },
   {
    "duration": 3,
    "start_time": "2022-05-09T14:03:30.995Z"
   },
   {
    "duration": 82,
    "start_time": "2022-05-09T14:03:31.000Z"
   },
   {
    "duration": 32,
    "start_time": "2022-05-09T14:03:31.085Z"
   },
   {
    "duration": 22,
    "start_time": "2022-05-09T14:03:31.119Z"
   },
   {
    "duration": 5,
    "start_time": "2022-05-09T14:03:31.143Z"
   },
   {
    "duration": 28,
    "start_time": "2022-05-09T14:03:31.174Z"
   },
   {
    "duration": 10,
    "start_time": "2022-05-09T14:03:31.204Z"
   },
   {
    "duration": 7,
    "start_time": "2022-05-09T14:03:31.216Z"
   },
   {
    "duration": 53,
    "start_time": "2022-05-09T14:03:31.225Z"
   },
   {
    "duration": 4,
    "start_time": "2022-05-09T14:03:31.281Z"
   },
   {
    "duration": 62,
    "start_time": "2022-05-09T14:03:31.287Z"
   },
   {
    "duration": 27,
    "start_time": "2022-05-09T14:03:31.350Z"
   },
   {
    "duration": 21,
    "start_time": "2022-05-09T14:03:31.379Z"
   },
   {
    "duration": 27,
    "start_time": "2022-05-09T14:03:31.402Z"
   },
   {
    "duration": 49,
    "start_time": "2022-05-09T14:03:31.431Z"
   },
   {
    "duration": 8,
    "start_time": "2022-05-09T14:03:31.482Z"
   },
   {
    "duration": 17,
    "start_time": "2022-05-09T14:03:31.492Z"
   },
   {
    "duration": 26,
    "start_time": "2022-05-09T14:03:31.511Z"
   },
   {
    "duration": 13,
    "start_time": "2022-05-09T14:03:31.573Z"
   },
   {
    "duration": 1575,
    "start_time": "2022-05-09T14:03:31.588Z"
   },
   {
    "duration": 5,
    "start_time": "2022-05-09T14:03:33.172Z"
   },
   {
    "duration": 10,
    "start_time": "2022-05-09T14:03:33.180Z"
   },
   {
    "duration": 106,
    "start_time": "2022-05-09T14:03:41.117Z"
   },
   {
    "duration": 92,
    "start_time": "2022-05-09T14:03:52.066Z"
   },
   {
    "duration": 15,
    "start_time": "2022-05-09T14:04:03.874Z"
   },
   {
    "duration": 1096,
    "start_time": "2022-05-09T15:07:35.077Z"
   },
   {
    "duration": 368,
    "start_time": "2022-05-09T15:07:36.175Z"
   },
   {
    "duration": 229,
    "start_time": "2022-05-09T15:07:36.545Z"
   },
   {
    "duration": 215,
    "start_time": "2022-05-09T15:07:36.776Z"
   },
   {
    "duration": 87,
    "start_time": "2022-05-09T15:07:36.992Z"
   },
   {
    "duration": 29,
    "start_time": "2022-05-09T15:07:37.080Z"
   },
   {
    "duration": 4,
    "start_time": "2022-05-09T15:07:37.111Z"
   },
   {
    "duration": 30,
    "start_time": "2022-05-09T15:07:37.116Z"
   },
   {
    "duration": 112,
    "start_time": "2022-05-09T15:07:37.148Z"
   },
   {
    "duration": 11,
    "start_time": "2022-05-09T15:07:37.263Z"
   },
   {
    "duration": 56,
    "start_time": "2022-05-09T15:07:37.276Z"
   },
   {
    "duration": 43,
    "start_time": "2022-05-09T15:07:37.334Z"
   },
   {
    "duration": 21,
    "start_time": "2022-05-09T15:07:37.379Z"
   },
   {
    "duration": 5,
    "start_time": "2022-05-09T15:07:37.401Z"
   },
   {
    "duration": 37,
    "start_time": "2022-05-09T15:07:37.407Z"
   },
   {
    "duration": 31,
    "start_time": "2022-05-09T15:07:37.446Z"
   },
   {
    "duration": 6,
    "start_time": "2022-05-09T15:07:37.478Z"
   },
   {
    "duration": 21,
    "start_time": "2022-05-09T15:07:37.486Z"
   },
   {
    "duration": 4,
    "start_time": "2022-05-09T15:07:37.508Z"
   },
   {
    "duration": 74,
    "start_time": "2022-05-09T15:07:37.513Z"
   },
   {
    "duration": 14,
    "start_time": "2022-05-09T15:07:37.589Z"
   },
   {
    "duration": 21,
    "start_time": "2022-05-09T15:07:37.604Z"
   },
   {
    "duration": 48,
    "start_time": "2022-05-09T15:07:37.627Z"
   },
   {
    "duration": 19,
    "start_time": "2022-05-09T15:07:37.676Z"
   },
   {
    "duration": 9,
    "start_time": "2022-05-09T15:07:37.697Z"
   },
   {
    "duration": 17,
    "start_time": "2022-05-09T15:07:37.708Z"
   },
   {
    "duration": 10,
    "start_time": "2022-05-09T15:07:37.727Z"
   },
   {
    "duration": 2033,
    "start_time": "2022-05-09T15:07:37.740Z"
   },
   {
    "duration": 5,
    "start_time": "2022-05-09T15:07:39.775Z"
   },
   {
    "duration": 14,
    "start_time": "2022-05-09T15:07:39.781Z"
   },
   {
    "duration": 53,
    "start_time": "2022-05-11T11:22:37.761Z"
   },
   {
    "duration": 1448,
    "start_time": "2022-05-11T11:22:46.725Z"
   },
   {
    "duration": 418,
    "start_time": "2022-05-11T11:22:48.175Z"
   },
   {
    "duration": 260,
    "start_time": "2022-05-11T11:22:48.595Z"
   },
   {
    "duration": 235,
    "start_time": "2022-05-11T11:22:48.858Z"
   },
   {
    "duration": 101,
    "start_time": "2022-05-11T11:22:49.095Z"
   },
   {
    "duration": 26,
    "start_time": "2022-05-11T11:22:49.198Z"
   },
   {
    "duration": 6,
    "start_time": "2022-05-11T11:22:49.233Z"
   },
   {
    "duration": 26,
    "start_time": "2022-05-11T11:22:49.241Z"
   },
   {
    "duration": 122,
    "start_time": "2022-05-11T11:22:49.269Z"
   },
   {
    "duration": 3,
    "start_time": "2022-05-11T11:22:49.394Z"
   },
   {
    "duration": 67,
    "start_time": "2022-05-11T11:22:49.399Z"
   },
   {
    "duration": 35,
    "start_time": "2022-05-11T11:22:49.468Z"
   },
   {
    "duration": 42,
    "start_time": "2022-05-11T11:22:49.504Z"
   },
   {
    "duration": 4,
    "start_time": "2022-05-11T11:22:49.548Z"
   },
   {
    "duration": 32,
    "start_time": "2022-05-11T11:22:49.553Z"
   },
   {
    "duration": 11,
    "start_time": "2022-05-11T11:22:49.587Z"
   },
   {
    "duration": 35,
    "start_time": "2022-05-11T11:22:49.600Z"
   },
   {
    "duration": 21,
    "start_time": "2022-05-11T11:22:49.637Z"
   },
   {
    "duration": 3,
    "start_time": "2022-05-11T11:22:49.660Z"
   },
   {
    "duration": 84,
    "start_time": "2022-05-11T11:22:49.665Z"
   },
   {
    "duration": 15,
    "start_time": "2022-05-11T11:22:49.751Z"
   },
   {
    "duration": 24,
    "start_time": "2022-05-11T11:22:49.767Z"
   },
   {
    "duration": 47,
    "start_time": "2022-05-11T11:22:49.792Z"
   },
   {
    "duration": 19,
    "start_time": "2022-05-11T11:22:49.841Z"
   },
   {
    "duration": 8,
    "start_time": "2022-05-11T11:22:49.862Z"
   },
   {
    "duration": 22,
    "start_time": "2022-05-11T11:22:49.872Z"
   },
   {
    "duration": 39,
    "start_time": "2022-05-11T11:22:49.896Z"
   },
   {
    "duration": 1806,
    "start_time": "2022-05-11T11:22:49.938Z"
   },
   {
    "duration": 5,
    "start_time": "2022-05-11T11:22:51.745Z"
   },
   {
    "duration": 12,
    "start_time": "2022-05-11T11:22:51.752Z"
   },
   {
    "duration": 3,
    "start_time": "2022-05-11T11:22:59.017Z"
   },
   {
    "duration": 441,
    "start_time": "2022-05-11T11:22:59.663Z"
   },
   {
    "duration": 284,
    "start_time": "2022-05-11T11:23:00.220Z"
   },
   {
    "duration": 211,
    "start_time": "2022-05-11T11:23:00.874Z"
   },
   {
    "duration": 112,
    "start_time": "2022-05-11T11:23:02.944Z"
   },
   {
    "duration": 26,
    "start_time": "2022-05-11T11:23:04.040Z"
   },
   {
    "duration": 5,
    "start_time": "2022-05-11T11:23:12.924Z"
   },
   {
    "duration": 23,
    "start_time": "2022-05-11T11:23:13.969Z"
   },
   {
    "duration": 183,
    "start_time": "2022-05-11T11:23:43.066Z"
   },
   {
    "duration": 3,
    "start_time": "2022-05-11T11:23:43.853Z"
   },
   {
    "duration": 74,
    "start_time": "2022-05-11T11:23:44.428Z"
   },
   {
    "duration": 40,
    "start_time": "2022-05-11T11:23:46.271Z"
   },
   {
    "duration": 25,
    "start_time": "2022-05-11T11:23:48.010Z"
   },
   {
    "duration": 4,
    "start_time": "2022-05-11T11:23:48.641Z"
   },
   {
    "duration": 30,
    "start_time": "2022-05-11T11:23:49.243Z"
   },
   {
    "duration": 10,
    "start_time": "2022-05-11T11:23:49.888Z"
   },
   {
    "duration": 6,
    "start_time": "2022-05-11T11:23:51.457Z"
   },
   {
    "duration": 21,
    "start_time": "2022-05-11T11:23:52.033Z"
   },
   {
    "duration": 4,
    "start_time": "2022-05-11T11:23:53.697Z"
   },
   {
    "duration": 66,
    "start_time": "2022-05-11T11:23:54.823Z"
   },
   {
    "duration": 15,
    "start_time": "2022-05-11T11:23:55.408Z"
   },
   {
    "duration": 23,
    "start_time": "2022-05-11T11:23:56.665Z"
   },
   {
    "duration": 31,
    "start_time": "2022-05-11T11:23:59.919Z"
   },
   {
    "duration": 21,
    "start_time": "2022-05-11T11:24:00.601Z"
   },
   {
    "duration": 8,
    "start_time": "2022-05-11T11:24:02.001Z"
   },
   {
    "duration": 14,
    "start_time": "2022-05-11T11:24:02.608Z"
   },
   {
    "duration": 13,
    "start_time": "2022-05-11T11:24:06.130Z"
   },
   {
    "duration": 1785,
    "start_time": "2022-05-11T11:24:07.384Z"
   },
   {
    "duration": 5,
    "start_time": "2022-05-11T11:24:12.451Z"
   },
   {
    "duration": 11,
    "start_time": "2022-05-11T11:24:15.666Z"
   },
   {
    "duration": 173,
    "start_time": "2022-05-11T11:29:14.343Z"
   },
   {
    "duration": 33,
    "start_time": "2022-05-11T11:29:19.132Z"
   },
   {
    "duration": 37,
    "start_time": "2022-05-11T11:29:46.501Z"
   },
   {
    "duration": 37,
    "start_time": "2022-05-11T11:29:55.430Z"
   },
   {
    "duration": 103,
    "start_time": "2022-05-11T11:30:04.468Z"
   },
   {
    "duration": 31,
    "start_time": "2022-05-11T11:30:10.418Z"
   },
   {
    "duration": 175,
    "start_time": "2022-05-11T11:32:18.244Z"
   },
   {
    "duration": 167,
    "start_time": "2022-05-11T11:32:30.420Z"
   },
   {
    "duration": 184,
    "start_time": "2022-05-11T11:32:38.550Z"
   },
   {
    "duration": 160,
    "start_time": "2022-05-11T11:32:49.716Z"
   },
   {
    "duration": 26,
    "start_time": "2022-05-11T11:33:07.396Z"
   },
   {
    "duration": 5,
    "start_time": "2022-05-11T11:33:11.684Z"
   },
   {
    "duration": 30,
    "start_time": "2022-05-11T11:33:14.499Z"
   },
   {
    "duration": 13,
    "start_time": "2022-05-11T11:33:16.171Z"
   },
   {
    "duration": 7,
    "start_time": "2022-05-11T11:33:22.652Z"
   },
   {
    "duration": 20,
    "start_time": "2022-05-11T11:33:23.414Z"
   },
   {
    "duration": 4,
    "start_time": "2022-05-11T11:33:25.738Z"
   },
   {
    "duration": 64,
    "start_time": "2022-05-11T11:33:28.691Z"
   },
   {
    "duration": 14,
    "start_time": "2022-05-11T11:33:29.379Z"
   },
   {
    "duration": 24,
    "start_time": "2022-05-11T11:33:32.771Z"
   },
   {
    "duration": 29,
    "start_time": "2022-05-11T11:33:38.235Z"
   },
   {
    "duration": 32,
    "start_time": "2022-05-11T11:33:40.532Z"
   },
   {
    "duration": 8,
    "start_time": "2022-05-11T11:33:43.757Z"
   },
   {
    "duration": 202,
    "start_time": "2022-05-11T11:37:16.851Z"
   },
   {
    "duration": 39,
    "start_time": "2022-05-11T11:37:28.371Z"
   },
   {
    "duration": 26,
    "start_time": "2022-05-11T11:43:47.708Z"
   },
   {
    "duration": 25,
    "start_time": "2022-05-11T11:44:05.946Z"
   },
   {
    "duration": 33,
    "start_time": "2022-05-11T11:44:25.123Z"
   },
   {
    "duration": 24,
    "start_time": "2022-05-11T11:46:24.002Z"
   },
   {
    "duration": 4,
    "start_time": "2022-05-11T11:46:37.678Z"
   },
   {
    "duration": 29,
    "start_time": "2022-05-11T11:46:38.376Z"
   },
   {
    "duration": 13,
    "start_time": "2022-05-11T11:46:41.186Z"
   },
   {
    "duration": 8,
    "start_time": "2022-05-11T11:46:54.759Z"
   },
   {
    "duration": 28,
    "start_time": "2022-05-11T11:46:55.017Z"
   },
   {
    "duration": 4,
    "start_time": "2022-05-11T11:46:55.560Z"
   },
   {
    "duration": 65,
    "start_time": "2022-05-11T11:46:56.456Z"
   },
   {
    "duration": 15,
    "start_time": "2022-05-11T11:46:56.838Z"
   },
   {
    "duration": 23,
    "start_time": "2022-05-11T11:46:57.817Z"
   },
   {
    "duration": 30,
    "start_time": "2022-05-11T11:47:06.705Z"
   },
   {
    "duration": 21,
    "start_time": "2022-05-11T11:47:07.529Z"
   },
   {
    "duration": 9,
    "start_time": "2022-05-11T11:47:09.384Z"
   },
   {
    "duration": 15,
    "start_time": "2022-05-11T11:47:09.912Z"
   },
   {
    "duration": 38,
    "start_time": "2022-05-11T11:47:10.457Z"
   },
   {
    "duration": 12,
    "start_time": "2022-05-11T11:47:14.969Z"
   },
   {
    "duration": 1751,
    "start_time": "2022-05-11T11:47:16.089Z"
   },
   {
    "duration": 1207,
    "start_time": "2022-05-11T11:57:40.246Z"
   },
   {
    "duration": 692,
    "start_time": "2022-05-11T11:57:41.455Z"
   },
   {
    "duration": 261,
    "start_time": "2022-05-11T11:57:42.149Z"
   },
   {
    "duration": 260,
    "start_time": "2022-05-11T11:57:42.412Z"
   },
   {
    "duration": 104,
    "start_time": "2022-05-11T11:57:42.674Z"
   },
   {
    "duration": 30,
    "start_time": "2022-05-11T11:57:42.780Z"
   },
   {
    "duration": 22,
    "start_time": "2022-05-11T11:57:42.811Z"
   },
   {
    "duration": 29,
    "start_time": "2022-05-11T11:57:42.835Z"
   },
   {
    "duration": 118,
    "start_time": "2022-05-11T11:57:42.866Z"
   },
   {
    "duration": 3,
    "start_time": "2022-05-11T11:57:42.986Z"
   },
   {
    "duration": 72,
    "start_time": "2022-05-11T11:57:42.991Z"
   },
   {
    "duration": 33,
    "start_time": "2022-05-11T11:57:43.065Z"
   },
   {
    "duration": 38,
    "start_time": "2022-05-11T11:57:43.100Z"
   },
   {
    "duration": 4,
    "start_time": "2022-05-11T11:57:43.139Z"
   },
   {
    "duration": 34,
    "start_time": "2022-05-11T11:57:43.144Z"
   },
   {
    "duration": 10,
    "start_time": "2022-05-11T11:57:43.180Z"
   },
   {
    "duration": 5,
    "start_time": "2022-05-11T11:57:43.192Z"
   },
   {
    "duration": 45,
    "start_time": "2022-05-11T11:57:43.199Z"
   },
   {
    "duration": 4,
    "start_time": "2022-05-11T11:57:43.245Z"
   },
   {
    "duration": 76,
    "start_time": "2022-05-11T11:57:43.250Z"
   },
   {
    "duration": 18,
    "start_time": "2022-05-11T11:57:43.327Z"
   },
   {
    "duration": 23,
    "start_time": "2022-05-11T11:57:43.347Z"
   },
   {
    "duration": 40,
    "start_time": "2022-05-11T11:57:43.372Z"
   },
   {
    "duration": 37,
    "start_time": "2022-05-11T11:57:43.414Z"
   },
   {
    "duration": 9,
    "start_time": "2022-05-11T11:57:43.453Z"
   },
   {
    "duration": 17,
    "start_time": "2022-05-11T11:57:43.464Z"
   },
   {
    "duration": 74,
    "start_time": "2022-05-11T11:57:43.483Z"
   },
   {
    "duration": 13,
    "start_time": "2022-05-11T11:57:43.561Z"
   },
   {
    "duration": 1798,
    "start_time": "2022-05-11T11:57:43.576Z"
   },
   {
    "duration": 6,
    "start_time": "2022-05-11T11:57:45.375Z"
   },
   {
    "duration": 27,
    "start_time": "2022-05-11T11:57:45.383Z"
   },
   {
    "duration": 1535,
    "start_time": "2022-05-11T21:42:27.346Z"
   },
   {
    "duration": 518,
    "start_time": "2022-05-11T21:42:28.884Z"
   },
   {
    "duration": 363,
    "start_time": "2022-05-11T21:42:29.404Z"
   },
   {
    "duration": 385,
    "start_time": "2022-05-11T21:42:29.771Z"
   },
   {
    "duration": 142,
    "start_time": "2022-05-11T21:42:30.158Z"
   },
   {
    "duration": 41,
    "start_time": "2022-05-11T21:42:30.303Z"
   },
   {
    "duration": 9,
    "start_time": "2022-05-11T21:42:30.347Z"
   },
   {
    "duration": 38,
    "start_time": "2022-05-11T21:42:30.358Z"
   },
   {
    "duration": 179,
    "start_time": "2022-05-11T21:42:30.399Z"
   },
   {
    "duration": 5,
    "start_time": "2022-05-11T21:42:30.582Z"
   },
   {
    "duration": 96,
    "start_time": "2022-05-11T21:42:30.589Z"
   },
   {
    "duration": 59,
    "start_time": "2022-05-11T21:42:30.687Z"
   },
   {
    "duration": 36,
    "start_time": "2022-05-11T21:42:30.748Z"
   },
   {
    "duration": 5,
    "start_time": "2022-05-11T21:42:30.786Z"
   },
   {
    "duration": 70,
    "start_time": "2022-05-11T21:42:30.793Z"
   },
   {
    "duration": 14,
    "start_time": "2022-05-11T21:42:30.865Z"
   },
   {
    "duration": 13,
    "start_time": "2022-05-11T21:42:30.881Z"
   },
   {
    "duration": 53,
    "start_time": "2022-05-11T21:42:30.896Z"
   },
   {
    "duration": 6,
    "start_time": "2022-05-11T21:42:30.951Z"
   },
   {
    "duration": 122,
    "start_time": "2022-05-11T21:42:30.959Z"
   },
   {
    "duration": 21,
    "start_time": "2022-05-11T21:42:31.083Z"
   },
   {
    "duration": 47,
    "start_time": "2022-05-11T21:42:31.106Z"
   },
   {
    "duration": 48,
    "start_time": "2022-05-11T21:42:31.156Z"
   },
   {
    "duration": 45,
    "start_time": "2022-05-11T21:42:31.206Z"
   },
   {
    "duration": 12,
    "start_time": "2022-05-11T21:42:31.253Z"
   },
   {
    "duration": 19,
    "start_time": "2022-05-11T21:42:31.268Z"
   },
   {
    "duration": 55,
    "start_time": "2022-05-11T21:42:31.325Z"
   },
   {
    "duration": 45,
    "start_time": "2022-05-11T21:42:31.384Z"
   },
   {
    "duration": 2921,
    "start_time": "2022-05-11T21:42:31.431Z"
   },
   {
    "duration": 8,
    "start_time": "2022-05-11T21:42:34.355Z"
   },
   {
    "duration": 17,
    "start_time": "2022-05-11T21:42:34.365Z"
   }
  ],
  "kernelspec": {
   "display_name": "Python 3 (ipykernel)",
   "language": "python",
   "name": "python3"
  },
  "language_info": {
   "codemirror_mode": {
    "name": "ipython",
    "version": 3
   },
   "file_extension": ".py",
   "mimetype": "text/x-python",
   "name": "python",
   "nbconvert_exporter": "python",
   "pygments_lexer": "ipython3",
   "version": "3.9.12"
  },
  "toc": {
   "base_numbering": 1,
   "nav_menu": {},
   "number_sections": true,
   "sideBar": true,
   "skip_h1_title": true,
   "title_cell": "Table of Contents",
   "title_sidebar": "Contents",
   "toc_cell": false,
   "toc_position": {
    "height": "calc(100% - 180px)",
    "left": "10px",
    "top": "150px",
    "width": "255.195px"
   },
   "toc_section_display": true,
   "toc_window_display": true
  }
 },
 "nbformat": 4,
 "nbformat_minor": 2
}
